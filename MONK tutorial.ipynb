{
 "metadata": {
  "name": ""
 },
 "nbformat": 3,
 "nbformat_minor": 0,
 "worksheets": [
  {
   "cells": [
    {
     "cell_type": "markdown",
     "metadata": {
      "slideshow": {
       "slide_type": "-"
      }
     },
     "source": [
      "#Initialization# "
     ]
    },
    {
     "cell_type": "code",
     "collapsed": false,
     "input": [
      "import monk.roles.scientist as ms"
     ],
     "language": "python",
     "metadata": {},
     "outputs": [],
<<<<<<< HEAD
     "prompt_number": 6
=======
     "prompt_number": 26
>>>>>>> 04ea55677f1dc9398c1dcfc14518c8ed662ae533
    },
    {
     "cell_type": "code",
     "collapsed": false,
     "input": [
      "ms.starts()"
     ],
     "language": "python",
     "metadata": {},
     "outputs": [
      {
       "output_type": "stream",
       "stream": "stdout",
       "text": [
        "[monk.api    ][INFO    ][11792] : ------start up------\n"
       ]
      },
      {
       "output_type": "stream",
       "stream": "stdout",
       "text": [
        "[monk.uid    ][INFO    ][11792] : initializing uid store\n"
       ]
      },
      {
       "output_type": "stream",
       "stream": "stdout",
       "text": [
        "[monk.crane  ][INFO    ][11792] : initializing EntityStore \n"
       ]
      },
      {
       "output_type": "stream",
       "stream": "stdout",
       "text": [
        "[monk.crane  ][INFO    ][11792] : initializing PandaStore \n"
       ]
      },
      {
       "output_type": "stream",
       "stream": "stdout",
       "text": [
        "[monk.crane  ][INFO    ][11792] : initializing MantisStore \n"
       ]
      },
      {
       "output_type": "stream",
       "stream": "stdout",
       "text": [
        "[monk.crane  ][INFO    ][11792] : initializing TurtleStore \n"
       ]
      },
      {
       "output_type": "stream",
       "stream": "stdout",
       "text": [
        "[monk.crane  ][INFO    ][11792] : initializing TigressStore \n"
       ]
      }
     ],
     "prompt_number": 27
    },
    {
     "cell_type": "markdown",
     "metadata": {},
<<<<<<< HEAD
     "source": [
      "#Reload#"
     ]
=======
     "outputs": [
      {
       "metadata": {},
       "output_type": "pyout",
       "prompt_number": 31,
       "text": [
        "<module 'monk.roles.scientist' from 'monk\\roles\\scientist.py'>"
       ]
      }
     ],
     "prompt_number": 31
>>>>>>> 04ea55677f1dc9398c1dcfc14518c8ed662ae533
    },
    {
     "cell_type": "code",
     "collapsed": false,
     "input": [
      "reload(ms)\n",
      "ms.reloads()"
     ],
     "language": "python",
     "metadata": {},
     "outputs": [
      {
       "output_type": "stream",
       "stream": "stdout",
       "text": [
        "[monk.api    ][INFO    ][36470] : ------end-----------\n"
       ]
      },
      {
       "output_type": "stream",
       "stream": "stdout",
       "text": [
        "[monk.api    ][INFO    ][36470] : ------start up------\n"
       ]
      },
      {
       "output_type": "stream",
       "stream": "stdout",
       "text": [
        "[monk.uid    ][INFO    ][36470] : initializing uid store\n"
       ]
      },
      {
       "output_type": "stream",
       "stream": "stdout",
       "text": [
        "[monk.crane  ][INFO    ][36470] : initializing EntityStore \n"
       ]
      },
      {
       "output_type": "stream",
       "stream": "stdout",
       "text": [
        "[monk.crane  ][INFO    ][36470] : initializing PandaStore \n"
       ]
      },
      {
       "output_type": "stream",
       "stream": "stdout",
       "text": [
        "[monk.crane  ][INFO    ][36470] : initializing MantisStore \n"
       ]
      },
      {
       "output_type": "stream",
       "stream": "stdout",
       "text": [
        "[monk.crane  ][INFO    ][36470] : initializing TurtleStore \n"
       ]
      },
      {
       "output_type": "stream",
       "stream": "stdout",
       "text": [
        "[monk.crane  ][INFO    ][36470] : initializing TigressStore \n"
       ]
      }
     ],
<<<<<<< HEAD
     "prompt_number": 42
    },
    {
     "cell_type": "heading",
     "level": 1,
     "metadata": {},
     "source": [
      "Exits"
     ]
=======
     "prompt_number": 32
>>>>>>> 04ea55677f1dc9398c1dcfc14518c8ed662ae533
    },
    {
     "cell_type": "code",
     "collapsed": false,
     "input": [
      "ms.exits()"
     ],
     "language": "python",
     "metadata": {},
     "outputs": [
      {
       "output_type": "stream",
       "stream": "stdout",
       "text": [
        "[monk.api    ][INFO    ][36470] : ------end-----------\n"
       ]
      }
     ],
     "prompt_number": 15
    },
    {
     "cell_type": "code",
     "collapsed": false,
     "input": [
      "ms.starts()"
     ],
     "language": "python",
     "metadata": {},
     "outputs": [
      {
       "output_type": "stream",
       "stream": "stdout",
       "text": [
        "[monk.api    ][INFO    ][36470] : ------start up------\n"
       ]
      },
      {
       "output_type": "stream",
       "stream": "stdout",
       "text": [
        "[monk.uid    ][INFO    ][36470] : initializing uid store\n"
       ]
      },
      {
       "output_type": "stream",
       "stream": "stdout",
       "text": [
        "[monk.crane  ][INFO    ][36470] : initializing EntityStore \n"
       ]
      },
      {
       "output_type": "stream",
       "stream": "stdout",
       "text": [
        "[monk.crane  ][INFO    ][36470] : initializing PandaStore \n"
       ]
      },
      {
       "output_type": "stream",
       "stream": "stdout",
       "text": [
        "[monk.crane  ][INFO    ][36470] : initializing MantisStore \n"
       ]
      },
      {
       "output_type": "stream",
       "stream": "stdout",
       "text": [
        "[monk.crane  ][INFO    ][36470] : initializing TurtleStore \n"
       ]
      },
      {
       "output_type": "stream",
       "stream": "stdout",
       "text": [
        "[monk.crane  ][INFO    ][36470] : initializing TigressStore \n"
       ]
      }
     ],
     "prompt_number": 8
    },
    {
     "cell_type": "heading",
     "level": 1,
     "metadata": {},
     "source": [
      "Log in"
     ]
    },
    {
     "cell_type": "code",
     "collapsed": false,
     "input": [
      "ms.login('xumiao')"
     ],
     "language": "python",
     "metadata": {},
     "outputs": [],
     "prompt_number": 18
    },
    {
     "cell_type": "markdown",
     "metadata": {},
     "source": [
      "#Load entities#\n",
      "    load_entities(query={}, skip=0, num=100, collectionName=None)\n",
      "Parameters:\n",
      "\n",
      "- `query`: MongoDB style query spec, e.g., `{'tag':{'$in':['Shopping','Wine']}}`.\n",
      "- `skip`: the index to start the retrieval\n",
      "- `num`: the number of documents to retrieve\n",
      "- `collectionName`: the name of the collection."
     ]
    },
    {
     "cell_type": "code",
     "collapsed": false,
     "input": [
      "ents = ms.load_entities(collectionName='activitytags')"
     ],
     "language": "python",
     "metadata": {},
     "outputs": [],
<<<<<<< HEAD
     "prompt_number": 44
    },
    {
     "cell_type": "markdown",
     "metadata": {},
     "source": [
      "#Print out an entity#\n",
      "+ `_raws` : this is a field that stores temporary features for MONK. Keys are in string, values can be any objects.\n",
      "+ `_features` : this is a field that stores the internal feature representations for MONK.\n",
      "+ `creator`, `createdTime`, `lastModified` : fields to keep version information\n",
      "+ `monkType` : type defined in MONK\n"
     ]
=======
     "prompt_number": 33
>>>>>>> 04ea55677f1dc9398c1dcfc14518c8ed662ae533
    },
    {
     "cell_type": "code",
     "collapsed": false,
     "input": [
<<<<<<< HEAD
      "ms.show(ents[0])"
=======
      "ms.show(ents[0], ['name','url'])"
>>>>>>> 04ea55677f1dc9398c1dcfc14518c8ed662ae533
     ],
     "language": "python",
     "metadata": {},
     "outputs": [
      {
       "output_type": "stream",
       "stream": "stdout",
       "text": [
        "{\n",
<<<<<<< HEAD
        "    \"name\": \"balloon\",\n",
        "    \"creator\": \"monk\",\n",
        "    \"url\": \"air1.png\",\n",
        "    \"monkType\": \"Entity\",\n",
        "    \"_raws\": {},\n",
        "    \"lastModified\": \"2014-04-29T00:16:30.769154\",\n",
        "    \"createdTime\": \"2014-04-29T00:16:25.599188\",\n",
        "    \"_features\": []\n",
=======
        "    \"url\": \"air1.png\",\n",
        "    \"name\": \"balloon\"\n",
>>>>>>> 04ea55677f1dc9398c1dcfc14518c8ed662ae533
        "}\n"
       ]
      }
     ],
<<<<<<< HEAD
     "prompt_number": 45
=======
     "prompt_number": 34
>>>>>>> 04ea55677f1dc9398c1dcfc14518c8ed662ae533
    },
    {
     "cell_type": "code",
     "collapsed": false,
     "input": [
      "ms.show(ents[0], ['name','url'])"
     ],
     "language": "python",
     "metadata": {},
     "outputs": [
      {
       "output_type": "stream",
       "stream": "stdout",
       "text": [
        "{\n",
        "    \"url\": \"air1.png\",\n",
        "    \"name\": \"balloon\"\n",
        "}\n"
       ]
      }
     ],
     "prompt_number": 47
    },
    {
     "cell_type": "code",
     "collapsed": false,
     "input": [
<<<<<<< HEAD
      "act = ms.load_entities(collectionName='activities')\n",
      "ms.show(act[0], [\"description\",\"title\",\"tag\",\"reviews\"])"
     ],
     "language": "python",
     "metadata": {},
     "outputs": [
      {
       "output_type": "stream",
       "stream": "stdout",
       "text": [
        "{\n",
        "    \"reviews\": [\n",
        "        \"Great book store and cafe!\",\n",
        "        \"Great old-fashioned indy book stor...\"\n",
        "    ],\n",
        "    \"tag\": [\n",
        "        \"Shopping\",\n",
        "        \"Shopping\",\n",
        "        \"Specialty Shops\"\n",
        "    ],\n",
        "    \"description\": \"This book store is popular among caffeine-addicted Seattleites for its in-store coffee shop.\",\n",
        "    \"title\": \"Elliott Bay Book Company\"\n",
        "}\n"
       ]
      }
     ],
     "prompt_number": 51
    },
    {
     "cell_type": "markdown",
     "metadata": {},
     "source": [
      "#MONK Types#\n",
      "##Turtle##\n",
      "Turtle is a collection of base models, i.e., Panda."
     ]
=======
      "act = ms.load_entities({'_tags':{'$exists':False}},collectionName='activities')"
     ],
     "language": "python",
     "metadata": {},
     "outputs": [],
     "prompt_number": 39
>>>>>>> 04ea55677f1dc9398c1dcfc14518c8ed662ae533
    },
    {
     "cell_type": "code",
     "collapsed": false,
     "input": [
<<<<<<< HEAD
      "ms.monkapi.find_type('Turtle')"
=======
      "ms.show(act[0], ['title','reviews','tag','description'])"
>>>>>>> 04ea55677f1dc9398c1dcfc14518c8ed662ae533
     ],
     "language": "python",
     "metadata": {},
     "outputs": [
      {
<<<<<<< HEAD
       "metadata": {},
       "output_type": "pyout",
       "prompt_number": 28,
       "text": [
        "['UniGramTurtle',\n",
        " 'StemTurtle',\n",
        " 'POSTurtle',\n",
        " 'SPNTurtle',\n",
        " 'DictionaryTurtle',\n",
        " 'Turtle',\n",
        " 'RankingTurtle',\n",
        " 'SingleTurtle',\n",
        " 'MultiLabelTurtle']"
       ]
      }
     ],
     "prompt_number": 28
    },
    {
     "cell_type": "markdown",
     "metadata": {},
     "source": [
      "##Panda##\n",
      "Panda is the base model in MONK. Currently, it is a linear SVC."
     ]
=======
       "output_type": "stream",
       "stream": "stdout",
       "text": [
        "{\n",
        "    \"reviews\": [\n",
        "        \"Nothing special if you have Asian...\",\n",
        "        \"1\"\n",
        "    ],\n",
        "    \"tag\": [\n",
        "        \"Shopping\",\n",
        "        \"Shopping\",\n",
        "        \"Specialty Shops\"\n",
        "    ],\n",
        "    \"description\": \"\",\n",
        "    \"title\": \"Uwajimaya\"\n",
        "}\n"
       ]
      }
     ],
     "prompt_number": 41
>>>>>>> 04ea55677f1dc9398c1dcfc14518c8ed662ae533
    },
    {
     "cell_type": "code",
     "collapsed": false,
     "input": [
      "ms.monkapi.find_type('Panda')"
     ],
     "language": "python",
     "metadata": {},
     "outputs": [
      {
       "metadata": {},
       "output_type": "pyout",
       "prompt_number": 29,
       "text": [
        "['RegexPanda', 'Panda', 'LinearPanda', 'ExistPanda']"
       ]
      }
     ],
     "prompt_number": 29
    },
    {
     "cell_type": "markdown",
     "metadata": {},
     "source": [
      "##Tigress##\n",
      "\n",
      "Tigress is the superviser to train the models(Pandas). The major funcations include:\n",
      "\n",
      "- Extract ground truth from data\n",
      "- Create training example, i.e., (input, output, weight) for each panda\n",
      "- Measure the accuracies of turtle's prediction\n"
     ]
    },
    {
     "cell_type": "code",
     "collapsed": false,
     "input": [
      "ms.monkapi.find_type('Tigress')"
     ],
     "language": "python",
     "metadata": {},
     "outputs": [
      {
       "metadata": {},
       "output_type": "pyout",
       "prompt_number": 30,
       "text": [
        "['Tigress',\n",
        " 'MultiLabelTigress',\n",
        " 'SPNTigress',\n",
        " 'PatternTigress',\n",
        " 'SelfTigress',\n",
        " 'LexiconTigress',\n",
        " 'CoTigress',\n",
        " 'ActiveTigress']"
       ]
      }
     ],
     "prompt_number": 30
    },
    {
     "cell_type": "markdown",
     "metadata": {},
     "source": [
      "#Feature Extraction#\n",
      "Currently, we have three NLP feature extractors\n",
      "\n",
      "- stem Turtle \"535d1e19504b2e014066b0b5\"\n",
      "- unigram Turtle \"535d1d3d504b2e014066b0b1\"\n",
      "- POS Turtle \"535d1dd0504b2e014066b0b3\"\n"
     ]
    },
    {
     "cell_type": "code",
     "collapsed": false,
     "input": [
      "stemT = ms.get_turtle('unigram')"
     ],
     "language": "python",
     "metadata": {},
     "outputs": [
      {
       "ename": "TypeError",
       "evalue": "find_turtles() takes exactly 1 argument (2 given)",
       "output_type": "pyerr",
       "traceback": [
        "\u001b[1;31m---------------------------------------------------------------------------\u001b[0m\n\u001b[1;31mTypeError\u001b[0m                                 Traceback (most recent call last)",
        "\u001b[1;32m<ipython-input-48-8a40299588a8>\u001b[0m in \u001b[0;36m<module>\u001b[1;34m()\u001b[0m\n\u001b[1;32m----> 1\u001b[1;33m \u001b[0mstemT\u001b[0m \u001b[1;33m=\u001b[0m \u001b[0mms\u001b[0m\u001b[1;33m.\u001b[0m\u001b[0mget_turtle\u001b[0m\u001b[1;33m(\u001b[0m\u001b[1;34m'unigram'\u001b[0m\u001b[1;33m)\u001b[0m\u001b[1;33m\u001b[0m\u001b[0m\n\u001b[0m",
        "\u001b[1;32m/home/azureuser/pymonk-recommend/monk/roles/scientist.pyc\u001b[0m in \u001b[0;36mget_turtle\u001b[1;34m(name)\u001b[0m\n\u001b[0;32m     46\u001b[0m \u001b[1;33m\u001b[0m\u001b[0m\n\u001b[0;32m     47\u001b[0m \u001b[1;32mdef\u001b[0m \u001b[0mget_turtle\u001b[0m\u001b[1;33m(\u001b[0m\u001b[0mname\u001b[0m\u001b[1;33m)\u001b[0m\u001b[1;33m:\u001b[0m\u001b[1;33m\u001b[0m\u001b[0m\n\u001b[1;32m---> 48\u001b[1;33m     \u001b[0mtuts\u001b[0m \u001b[1;33m=\u001b[0m \u001b[0mmonkapi\u001b[0m\u001b[1;33m.\u001b[0m\u001b[0mfind_turtles\u001b[0m\u001b[1;33m(\u001b[0m\u001b[1;33m{\u001b[0m\u001b[1;34m'name'\u001b[0m\u001b[1;33m:\u001b[0m\u001b[0mname\u001b[0m\u001b[1;33m}\u001b[0m\u001b[1;33m,\u001b[0m \u001b[1;33m{\u001b[0m\u001b[1;34m'_id'\u001b[0m\u001b[1;33m:\u001b[0m\u001b[0mTrue\u001b[0m\u001b[1;33m}\u001b[0m\u001b[1;33m)\u001b[0m\u001b[1;33m\u001b[0m\u001b[0m\n\u001b[0m\u001b[0;32m     49\u001b[0m     \u001b[1;32mif\u001b[0m \u001b[0mtuts\u001b[0m\u001b[1;33m:\u001b[0m\u001b[1;33m\u001b[0m\u001b[0m\n\u001b[0;32m     50\u001b[0m         \u001b[1;32mreturn\u001b[0m \u001b[0mtuts\u001b[0m\u001b[1;33m[\u001b[0m\u001b[1;36m0\u001b[0m\u001b[1;33m]\u001b[0m\u001b[1;33m[\u001b[0m\u001b[1;34m'_id'\u001b[0m\u001b[1;33m]\u001b[0m\u001b[1;33m\u001b[0m\u001b[0m\n",
        "\u001b[1;31mTypeError\u001b[0m: find_turtles() takes exactly 1 argument (2 given)"
       ]
      }
     ],
     "prompt_number": 48
    },
    {
     "cell_type": "code",
     "collapsed": false,
     "input": [
      "ents = ms.execute(stemT, [act[0]], ['title', 'reviews', 'tag','description'],'activities')"
     ],
     "language": "python",
     "metadata": {},
     "outputs": [
      {
       "output_type": "stream",
       "stream": "stdout",
       "text": [
        "[monk.turtle ][INFO    ][11792] : turtle stem will use all features seen\n"
       ]
      },
      {
       "output_type": "stream",
       "stream": "stdout",
       "text": [
        "[monk.turtle ][DEBUG   ][11792] : [u'Uwajimaya.', u'Nothing special if you have Asian... 1.', u'Shopping Shopping Specialty Shops. ']\n"
       ]
      },
      {
       "output_type": "stream",
       "stream": "stdout",
       "text": [
        "[monk.turtle ][DEBUG   ][11792] : shop specialti 1 asian uwajimaya noth special\n"
       ]
      },
      {
       "output_type": "stream",
       "stream": "stdout",
       "text": [
        "[monk.crane  ][DEBUG   ][11792] : new panda 1\n"
       ]
      },
      {
       "output_type": "stream",
       "stream": "stdout",
       "text": [
        "[monk.crane  ][DEBUG   ][11792] : new panda asian\n"
       ]
      },
      {
       "output_type": "stream",
       "stream": "stdout",
       "text": [
        "[monk.crane  ][DEBUG   ][11792] : new panda uwajimaya\n"
       ]
      },
      {
       "output_type": "stream",
       "stream": "stdout",
       "text": [
        "[monk.crane  ][DEBUG   ][11792] : new panda noth\n"
       ]
      },
      {
       "output_type": "stream",
       "stream": "stdout",
       "text": [
        "[monk.crane  ][DEBUG   ][11792] : new panda special\n"
       ]
      }
     ],
     "prompt_number": 21
    },
    {
     "cell_type": "code",
     "collapsed": false,
     "input": [
      "ents[0]._raws.keys()"
     ],
     "language": "python",
     "metadata": {},
     "outputs": [
      {
       "metadata": {},
       "output_type": "pyout",
       "prompt_number": 52,
       "text": [
        "[]"
       ]
      }
     ],
     "prompt_number": 52
    },
    {
     "cell_type": "code",
     "collapsed": false,
     "input": [
      "ents[0]._features"
     ],
     "language": "python",
     "metadata": {},
     "outputs": [
      {
       "metadata": {},
       "output_type": "pyout",
       "prompt_number": 25,
       "text": [
        "* * * 202753:1.0\n",
        "* | | 209925:1.0\n",
        "* * | 212995:1.0 212996:1.0 212997:1.0 212998:1.0 212999:1.0"
       ]
      }
     ],
     "prompt_number": 25
    },
    {
     "cell_type": "code",
     "collapsed": false,
     "input": [],
     "language": "python",
     "metadata": {},
     "outputs": []
    }
   ],
   "metadata": {}
  }
 ]
}