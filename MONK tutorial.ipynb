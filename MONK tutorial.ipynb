{
 "metadata": {
  "name": ""
 },
 "nbformat": 3,
 "nbformat_minor": 0,
 "worksheets": [
  {
   "cells": [
    {
     "cell_type": "heading",
     "level": 1,
     "metadata": {},
     "source": [
      "Step 1. Initialization"
     ]
    },
    {
     "cell_type": "code",
     "collapsed": false,
     "input": [
      "import monk.roles.scientist as ms"
     ],
     "language": "python",
     "metadata": {},
     "outputs": [],
     "prompt_number": 1
    },
    {
     "cell_type": "code",
     "collapsed": false,
     "input": [
      "ms.starts()"
     ],
     "language": "python",
     "metadata": {},
     "outputs": [
      {
       "output_type": "stream",
       "stream": "stdout",
       "text": [
        "[monk.api    ][INFO    ][11792] : ------start up------\n"
       ]
      },
      {
       "output_type": "stream",
       "stream": "stdout",
       "text": [
        "[monk.uid    ][INFO    ][11792] : initializing uid store\n"
       ]
      },
      {
       "output_type": "stream",
       "stream": "stdout",
       "text": [
        "[monk.crane  ][INFO    ][11792] : initializing EntityStore \n"
       ]
      },
      {
       "output_type": "stream",
       "stream": "stdout",
       "text": [
        "[monk.crane  ][INFO    ][11792] : initializing PandaStore \n"
       ]
      },
      {
       "output_type": "stream",
       "stream": "stdout",
       "text": [
        "[monk.crane  ][INFO    ][11792] : initializing MantisStore \n"
       ]
      },
      {
       "output_type": "stream",
       "stream": "stdout",
       "text": [
        "[monk.crane  ][INFO    ][11792] : initializing TurtleStore \n"
       ]
      },
      {
       "output_type": "stream",
       "stream": "stdout",
       "text": [
        "[monk.crane  ][INFO    ][11792] : initializing TigressStore \n"
       ]
      }
     ],
     "prompt_number": 2
    },
    {
     "cell_type": "code",
     "collapsed": false,
     "input": [
      "reload(ms)"
     ],
     "language": "python",
     "metadata": {},
     "outputs": [
      {
       "metadata": {},
       "output_type": "pyout",
       "prompt_number": 3,
       "text": [
        "<module 'monk.roles.scientist' from 'monk\\roles\\scientist.pyc'>"
       ]
      }
     ],
     "prompt_number": 3
    },
    {
     "cell_type": "code",
     "collapsed": false,
     "input": [
      "ms.reloads()"
     ],
     "language": "python",
     "metadata": {},
     "outputs": [
      {
       "output_type": "stream",
       "stream": "stdout",
       "text": [
        "[monk.api    ][INFO    ][11792] : ------end-----------\n"
       ]
      },
      {
       "output_type": "stream",
       "stream": "stdout",
       "text": [
        "[monk.api    ][INFO    ][11792] : ------start up------\n"
       ]
      },
      {
       "output_type": "stream",
       "stream": "stdout",
       "text": [
        "[monk.uid    ][INFO    ][11792] : initializing uid store\n"
       ]
      },
      {
       "output_type": "stream",
       "stream": "stdout",
       "text": [
        "[monk.crane  ][INFO    ][11792] : initializing EntityStore \n"
       ]
      },
      {
       "output_type": "stream",
       "stream": "stdout",
       "text": [
        "[monk.crane  ][INFO    ][11792] : initializing PandaStore \n"
       ]
      },
      {
       "output_type": "stream",
       "stream": "stdout",
       "text": [
        "[monk.crane  ][INFO    ][11792] : initializing MantisStore \n"
       ]
      },
      {
       "output_type": "stream",
       "stream": "stdout",
       "text": [
        "[monk.crane  ][INFO    ][11792] : initializing TurtleStore \n"
       ]
      },
      {
       "output_type": "stream",
       "stream": "stdout",
       "text": [
        "[monk.crane  ][INFO    ][11792] : initializing TigressStore \n"
       ]
      }
     ],
     "prompt_number": 4
    },
    {
     "cell_type": "code",
     "collapsed": false,
     "input": [
      "ms.exits()"
     ],
     "language": "python",
     "metadata": {},
     "outputs": [
      {
       "output_type": "stream",
       "stream": "stdout",
       "text": [
        "[monk.api    ][INFO    ][11792] : ------end-----------\n"
       ]
      }
     ],
     "prompt_number": 5
    },
    {
     "cell_type": "code",
     "collapsed": false,
     "input": [
      "ms.starts()"
     ],
     "language": "python",
     "metadata": {},
     "outputs": [
      {
       "output_type": "stream",
       "stream": "stdout",
       "text": [
        "[monk.api    ][INFO    ][11792] : ------start up------\n"
       ]
      },
      {
       "output_type": "stream",
       "stream": "stdout",
       "text": [
        "[monk.uid    ][INFO    ][11792] : initializing uid store\n"
       ]
      },
      {
       "output_type": "stream",
       "stream": "stdout",
       "text": [
        "[monk.crane  ][INFO    ][11792] : initializing EntityStore \n"
       ]
      },
      {
       "output_type": "stream",
       "stream": "stdout",
       "text": [
        "[monk.crane  ][INFO    ][11792] : initializing PandaStore \n"
       ]
      },
      {
       "output_type": "stream",
       "stream": "stdout",
       "text": [
        "[monk.crane  ][INFO    ][11792] : initializing MantisStore \n"
       ]
      },
      {
       "output_type": "stream",
       "stream": "stdout",
       "text": [
        "[monk.crane  ][INFO    ][11792] : initializing TurtleStore \n"
       ]
      },
      {
       "output_type": "stream",
       "stream": "stdout",
       "text": [
        "[monk.crane  ][INFO    ][11792] : initializing TigressStore \n"
       ]
      }
     ],
     "prompt_number": 6
    },
    {
     "cell_type": "heading",
     "level": 1,
     "metadata": {},
     "source": [
      "Step 2: load entities"
     ]
    },
    {
     "cell_type": "code",
     "collapsed": false,
     "input": [
      "ents = ms.monkapi.load_entities(None,None,collectionName='activitytags')"
     ],
     "language": "python",
     "metadata": {},
     "outputs": [],
     "prompt_number": 9
    },
    {
     "cell_type": "code",
     "collapsed": false,
     "input": [
      "ents[0].generic()"
     ],
     "language": "python",
     "metadata": {},
     "outputs": [
      {
       "metadata": {},
       "output_type": "pyout",
       "prompt_number": 11,
       "text": [
        "{'_features': [],\n",
        " '_raws': {},\n",
        " 'createdTime': datetime.datetime(2014, 4, 27, 13, 13, 59, 930000),\n",
        " 'creator': 'monk',\n",
        " 'lastModified': datetime.datetime(2014, 4, 27, 13, 14, 53, 785000),\n",
        " u'monkType': 'Entity',\n",
        " u'name': u'balloon',\n",
        " u'url': u'air1.png'}"
       ]
      }
     ],
     "prompt_number": 11
    },
    {
     "cell_type": "heading",
     "level": 1,
     "metadata": {},
     "source": [
      "Step 3: load activities"
     ]
    },
    {
     "cell_type": "code",
     "collapsed": false,
     "input": [
      "act = ms.monkapi.load_entities(None,collectionName='activities')"
     ],
     "language": "python",
     "metadata": {},
     "outputs": [],
     "prompt_number": 12
    },
    {
     "cell_type": "code",
     "collapsed": false,
     "input": [
      "act[0].generic()"
     ],
     "language": "python",
     "metadata": {},
     "outputs": [
      {
       "metadata": {},
       "output_type": "pyout",
       "prompt_number": 14,
       "text": [
        "{'_features': [],\n",
        " '_raws': {},\n",
        " u'addr': {u'google_geo': {u'results': [{u'address_components': [{u'long_name': u'100',\n",
        "       u'short_name': u'100',\n",
        "       u'types': [u'subpremise']},\n",
        "      {u'long_name': u'600',\n",
        "       u'short_name': u'600',\n",
        "       u'types': [u'street_number']},\n",
        "      {u'long_name': u'5th Avenue South',\n",
        "       u'short_name': u'5th Ave S',\n",
        "       u'types': [u'route']},\n",
        "      {u'long_name': u'Downtown',\n",
        "       u'short_name': u'Downtown',\n",
        "       u'types': [u'neighborhood', u'political']},\n",
        "      {u'long_name': u'Seattle',\n",
        "       u'short_name': u'Seattle',\n",
        "       u'types': [u'locality', u'political']},\n",
        "      {u'long_name': u'King County',\n",
        "       u'short_name': u'King County',\n",
        "       u'types': [u'administrative_area_level_2', u'political']},\n",
        "      {u'long_name': u'Washington',\n",
        "       u'short_name': u'WA',\n",
        "       u'types': [u'administrative_area_level_1', u'political']},\n",
        "      {u'long_name': u'United States',\n",
        "       u'short_name': u'US',\n",
        "       u'types': [u'country', u'political']},\n",
        "      {u'long_name': u'98104',\n",
        "       u'short_name': u'98104',\n",
        "       u'types': [u'postal_code']}],\n",
        "     u'formatted_address': u'600 5th Avenue South #100, Seattle, WA 98104, USA',\n",
        "     u'geometry': {u'location': {u'lat': 47.5968427, u'lng': -122.3269287},\n",
        "      u'location_type': u'APPROXIMATE',\n",
        "      u'viewport': {u'northeast': {u'lat': 47.59819168029149,\n",
        "        u'lng': -122.3255797197085},\n",
        "       u'southwest': {u'lat': 47.59549371970849, u'lng': -122.3282776802915}}},\n",
        "     u'partial_match': True,\n",
        "     u'types': [u'subpremise']},\n",
        "    {u'address_components': [{u'long_name': u'100',\n",
        "       u'short_name': u'100',\n",
        "       u'types': [u'subpremise']},\n",
        "      {u'long_name': u'600',\n",
        "       u'short_name': u'600',\n",
        "       u'types': [u'street_number']},\n",
        "      {u'long_name': u'5th Avenue South',\n",
        "       u'short_name': u'5th Ave S',\n",
        "       u'types': [u'route']},\n",
        "      {u'long_name': u'South Park',\n",
        "       u'short_name': u'South Park',\n",
        "       u'types': [u'neighborhood', u'political']},\n",
        "      {u'long_name': u'Seattle',\n",
        "       u'short_name': u'Seattle',\n",
        "       u'types': [u'locality', u'political']},\n",
        "      {u'long_name': u'King County',\n",
        "       u'short_name': u'King County',\n",
        "       u'types': [u'administrative_area_level_2', u'political']},\n",
        "      {u'long_name': u'Washington',\n",
        "       u'short_name': u'WA',\n",
        "       u'types': [u'administrative_area_level_1', u'political']},\n",
        "      {u'long_name': u'United States',\n",
        "       u'short_name': u'US',\n",
        "       u'types': [u'country', u'political']},\n",
        "      {u'long_name': u'98108',\n",
        "       u'short_name': u'98108',\n",
        "       u'types': [u'postal_code']}],\n",
        "     u'formatted_address': u'600 5th Avenue South #100, Seattle, WA 98108, USA',\n",
        "     u'geometry': {u'location': {u'lat': 47.5243775, u'lng': -122.3282161},\n",
        "      u'location_type': u'APPROXIMATE',\n",
        "      u'viewport': {u'northeast': {u'lat': 47.5257264802915,\n",
        "        u'lng': -122.3268671197085},\n",
        "       u'southwest': {u'lat': 47.5230285197085, u'lng': -122.3295650802915}}},\n",
        "     u'partial_match': True,\n",
        "     u'types': [u'subpremise']},\n",
        "    {u'address_components': [{u'long_name': u'100',\n",
        "       u'short_name': u'100',\n",
        "       u'types': [u'subpremise']},\n",
        "      {u'long_name': u'600',\n",
        "       u'short_name': u'600',\n",
        "       u'types': [u'street_number']},\n",
        "      {u'long_name': u'5th Avenue',\n",
        "       u'short_name': u'5th Ave',\n",
        "       u'types': [u'route']},\n",
        "      {u'long_name': u'Pioneer Square',\n",
        "       u'short_name': u'Pioneer Square',\n",
        "       u'types': [u'neighborhood', u'political']},\n",
        "      {u'long_name': u'Seattle',\n",
        "       u'short_name': u'Seattle',\n",
        "       u'types': [u'locality', u'political']},\n",
        "      {u'long_name': u'King County',\n",
        "       u'short_name': u'King County',\n",
        "       u'types': [u'administrative_area_level_2', u'political']},\n",
        "      {u'long_name': u'Washington',\n",
        "       u'short_name': u'WA',\n",
        "       u'types': [u'administrative_area_level_1', u'political']},\n",
        "      {u'long_name': u'United States',\n",
        "       u'short_name': u'US',\n",
        "       u'types': [u'country', u'political']},\n",
        "      {u'long_name': u'98104',\n",
        "       u'short_name': u'98104',\n",
        "       u'types': [u'postal_code']}],\n",
        "     u'formatted_address': u'600 5th Avenue #100, Seattle, WA 98104, USA',\n",
        "     u'geometry': {u'location': {u'lat': 47.60407439999999,\n",
        "       u'lng': -122.329112},\n",
        "      u'location_type': u'APPROXIMATE',\n",
        "      u'viewport': {u'northeast': {u'lat': 47.6054233802915,\n",
        "        u'lng': -122.3277630197085},\n",
        "       u'southwest': {u'lat': 47.6027254197085, u'lng': -122.3304609802915}}},\n",
        "     u'partial_match': True,\n",
        "     u'types': [u'subpremise']},\n",
        "    {u'address_components': [{u'long_name': u'100',\n",
        "       u'short_name': u'100',\n",
        "       u'types': [u'subpremise']},\n",
        "      {u'long_name': u'600',\n",
        "       u'short_name': u'600',\n",
        "       u'types': [u'street_number']},\n",
        "      {u'long_name': u'5th Avenue South',\n",
        "       u'short_name': u'5th Ave S',\n",
        "       u'types': [u'route']},\n",
        "      {u'long_name': u'Everest',\n",
        "       u'short_name': u'Everest',\n",
        "       u'types': [u'neighborhood', u'political']},\n",
        "      {u'long_name': u'Kirkland',\n",
        "       u'short_name': u'Kirkland',\n",
        "       u'types': [u'locality', u'political']},\n",
        "      {u'long_name': u'King County',\n",
        "       u'short_name': u'King County',\n",
        "       u'types': [u'administrative_area_level_2', u'political']},\n",
        "      {u'long_name': u'Washington',\n",
        "       u'short_name': u'WA',\n",
        "       u'types': [u'administrative_area_level_1', u'political']},\n",
        "      {u'long_name': u'United States',\n",
        "       u'short_name': u'US',\n",
        "       u'types': [u'country', u'political']},\n",
        "      {u'long_name': u'98033',\n",
        "       u'short_name': u'98033',\n",
        "       u'types': [u'postal_code']}],\n",
        "     u'formatted_address': u'600 5th Avenue South #100, Kirkland, WA 98033, USA',\n",
        "     u'geometry': {u'location': {u'lat': 47.6717714, u'lng': -122.1963028},\n",
        "      u'location_type': u'APPROXIMATE',\n",
        "      u'viewport': {u'northeast': {u'lat': 47.67312038029149,\n",
        "        u'lng': -122.1949538197085},\n",
        "       u'southwest': {u'lat': 47.67042241970849, u'lng': -122.1976517802915}}},\n",
        "     u'partial_match': True,\n",
        "     u'types': [u'subpremise']}],\n",
        "   u'status': u'OK'},\n",
        "  u'locality': u'Seattle',\n",
        "  u'region': u'WA',\n",
        "  u'street': u'600 5th Avenue South, Suite 100'},\n",
        " 'createdTime': datetime.datetime(2014, 4, 27, 13, 16, 19, 546000),\n",
        " 'creator': 'monk',\n",
        " 'lastModified': datetime.datetime(2014, 4, 27, 13, 18, 2, 488000),\n",
        " u'monkType': 'Entity',\n",
        " u'photo_url': u'http://media-cdn.tripadvisor.com/media/photo-l/02/6f/46/08/sea-food-section.jpg',\n",
        " u'rank': {u'pos': 3, u'total': 101},\n",
        " u'rate': {u'max': u'5', u'score': u'4.5'},\n",
        " u'reviewCount': u'50',\n",
        " u'reviews': [u'Nothing special if you have Asian...', u'1'],\n",
        " u'source_url': u'http://www.tripadvisor.com/Attractions-g60878-activities-c26-Seattle_Washington.html',\n",
        " u'tag': [u'Shopping', u'Shopping', u'Specialty Shops'],\n",
        " u'target_url': u'http://www.tripadvisor.com/Attraction_Review-g60878-d267206-Reviews-Uwajimaya-Seattle_Washington.html',\n",
        " u'title': u'Uwajimaya'}"
       ]
      }
     ],
     "prompt_number": 14
    },
    {
     "cell_type": "code",
     "collapsed": false,
     "input": [
      "ms.login('jiayin')"
     ],
     "language": "python",
     "metadata": {},
     "outputs": [],
     "prompt_number": 15
    },
    {
     "cell_type": "code",
     "collapsed": false,
     "input": [
      "stemT = \"535d1e19504b2e014066b0b5\""
     ],
     "language": "python",
     "metadata": {},
     "outputs": [],
     "prompt_number": 16
    },
    {
     "cell_type": "code",
     "collapsed": false,
     "input": [
      "stemT = ms.monkapi.UUID(stemT)"
     ],
     "language": "python",
     "metadata": {},
     "outputs": [],
     "prompt_number": 17
    },
    {
     "cell_type": "code",
     "collapsed": false,
     "input": [
      "ents = ms.execute(stemT, [act[0]], ['title', 'reviews', 'tag','description'],'activities')"
     ],
     "language": "python",
     "metadata": {},
     "outputs": [
      {
       "output_type": "stream",
       "stream": "stdout",
       "text": [
        "[monk.turtle ][INFO    ][11792] : turtle stem will use all features seen\n"
       ]
      },
      {
       "output_type": "stream",
       "stream": "stdout",
       "text": [
        "[monk.turtle ][DEBUG   ][11792] : [u'Uwajimaya.', u'Nothing special if you have Asian... 1.', u'Shopping Shopping Specialty Shops. ']\n"
       ]
      },
      {
       "output_type": "stream",
       "stream": "stdout",
       "text": [
        "[monk.turtle ][DEBUG   ][11792] : shop specialti 1 asian uwajimaya noth special\n"
       ]
      },
      {
       "output_type": "stream",
       "stream": "stdout",
       "text": [
        "[monk.crane  ][DEBUG   ][11792] : new panda 1\n"
       ]
      },
      {
       "output_type": "stream",
       "stream": "stdout",
       "text": [
        "[monk.crane  ][DEBUG   ][11792] : new panda asian\n"
       ]
      },
      {
       "output_type": "stream",
       "stream": "stdout",
       "text": [
        "[monk.crane  ][DEBUG   ][11792] : new panda uwajimaya\n"
       ]
      },
      {
       "output_type": "stream",
       "stream": "stdout",
       "text": [
        "[monk.crane  ][DEBUG   ][11792] : new panda noth\n"
       ]
      },
      {
       "output_type": "stream",
       "stream": "stdout",
       "text": [
        "[monk.crane  ][DEBUG   ][11792] : new panda special\n"
       ]
      }
     ],
     "prompt_number": 21
    },
    {
     "cell_type": "code",
     "collapsed": false,
     "input": [
      "ents[0]._raws"
     ],
     "language": "python",
     "metadata": {},
     "outputs": [
      {
       "metadata": {},
       "output_type": "pyout",
       "prompt_number": 24,
       "text": [
        "{u'1': 1,\n",
        " u'asian': 1,\n",
        " u'noth': 1,\n",
        " u'shop': 1,\n",
        " u'special': 1,\n",
        " u'specialti': 1,\n",
        " u'uwajimaya': 1}"
       ]
      }
     ],
     "prompt_number": 24
    },
    {
     "cell_type": "code",
     "collapsed": false,
     "input": [
      "ents[0]._features"
     ],
     "language": "python",
     "metadata": {},
     "outputs": [
      {
       "metadata": {},
       "output_type": "pyout",
       "prompt_number": 25,
       "text": [
        "* * * 202753:1.0\n",
        "* | | 209925:1.0\n",
        "* * | 212995:1.0 212996:1.0 212997:1.0 212998:1.0 212999:1.0"
       ]
      }
     ],
     "prompt_number": 25
    },
    {
     "cell_type": "code",
     "collapsed": false,
     "input": [],
     "language": "python",
     "metadata": {},
     "outputs": []
    }
   ],
   "metadata": {}
  }
 ]
}