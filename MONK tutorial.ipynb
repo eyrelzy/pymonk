{
 "metadata": {
  "name": ""
 },
 "nbformat": 3,
 "nbformat_minor": 0,
 "worksheets": [
  {
   "cells": [
    {
     "cell_type": "markdown",
     "metadata": {
      "slideshow": {
       "slide_type": "-"
      }
     },
     "source": [
      "#Initialization# "
     ]
    },
    {
     "cell_type": "code",
     "collapsed": false,
     "input": [
      "import monk.roles.scientist as ms"
     ],
     "language": "python",
     "metadata": {},
     "outputs": [],
     "prompt_number": 1
    },
    {
     "cell_type": "code",
     "collapsed": false,
     "input": [
      "ms.starts()"
     ],
     "language": "python",
     "metadata": {},
     "outputs": [
      {
       "output_type": "stream",
       "stream": "stdout",
       "text": [
        "[monk.api    ][INFO    ][40689] : ------start up------\n"
       ]
      },
      {
       "output_type": "stream",
       "stream": "stdout",
       "text": [
        "[monk.uid    ][INFO    ][40689] : initializing uid store\n"
       ]
      },
      {
       "output_type": "stream",
       "stream": "stdout",
       "text": [
        "[monk.crane  ][INFO    ][40689] : initializing EntityStore \n"
       ]
      },
      {
       "output_type": "stream",
       "stream": "stdout",
       "text": [
        "[monk.crane  ][INFO    ][40689] : initializing PandaStore \n"
       ]
      },
      {
       "output_type": "stream",
       "stream": "stdout",
       "text": [
        "[monk.crane  ][INFO    ][40689] : initializing MantisStore \n"
       ]
      },
      {
       "output_type": "stream",
       "stream": "stdout",
       "text": [
        "[monk.crane  ][INFO    ][40689] : initializing TurtleStore \n"
       ]
      },
      {
       "output_type": "stream",
       "stream": "stdout",
       "text": [
        "[monk.crane  ][INFO    ][40689] : initializing TigressStore \n"
       ]
      }
     ],
     "prompt_number": 2
    },
    {
     "cell_type": "markdown",
     "metadata": {},
     "source": [
      "#Reload#"
     ]
    },
    {
     "cell_type": "code",
     "collapsed": false,
     "input": [
      "reload(ms)\n",
      "ms.reloads()"
     ],
     "language": "python",
     "metadata": {},
     "outputs": [
      {
       "output_type": "stream",
       "stream": "stdout",
       "text": [
        "[monk.api    ][INFO    ][40689] : ------end-----------\n"
       ]
      },
      {
       "output_type": "stream",
       "stream": "stdout",
       "text": [
        "[monk.api    ][INFO    ][40689] : ------start up------\n"
       ]
      },
      {
       "output_type": "stream",
       "stream": "stdout",
       "text": [
        "[monk.uid    ][INFO    ][40689] : initializing uid store\n"
       ]
      },
      {
       "output_type": "stream",
       "stream": "stdout",
       "text": [
        "[monk.crane  ][INFO    ][40689] : initializing EntityStore \n"
       ]
      },
      {
       "output_type": "stream",
       "stream": "stdout",
       "text": [
        "[monk.crane  ][INFO    ][40689] : initializing PandaStore \n"
       ]
      },
      {
       "output_type": "stream",
       "stream": "stdout",
       "text": [
        "[monk.crane  ][INFO    ][40689] : initializing MantisStore \n"
       ]
      },
      {
       "output_type": "stream",
       "stream": "stdout",
       "text": [
        "[monk.crane  ][INFO    ][40689] : initializing TurtleStore \n"
       ]
      },
      {
       "output_type": "stream",
       "stream": "stdout",
       "text": [
        "[monk.crane  ][INFO    ][40689] : initializing TigressStore \n"
       ]
      }
     ],
     "prompt_number": 81
    },
    {
     "cell_type": "heading",
     "level": 1,
     "metadata": {},
     "source": [
      "Exits"
     ]
    },
    {
     "cell_type": "code",
     "collapsed": false,
     "input": [
      "ms.exits()"
     ],
     "language": "python",
     "metadata": {},
     "outputs": [
      {
       "output_type": "stream",
       "stream": "stdout",
       "text": [
        "[monk.api    ][INFO    ][40689] : ------end-----------\n"
       ]
      }
     ],
     "prompt_number": 80
    },
    {
     "cell_type": "code",
     "collapsed": false,
     "input": [
      "ms.starts()"
     ],
     "language": "python",
     "metadata": {},
     "outputs": [
      {
       "output_type": "stream",
       "stream": "stdout",
       "text": [
        "[monk.api    ][INFO    ][36470] : ------start up------\n"
       ]
      },
      {
       "output_type": "stream",
       "stream": "stdout",
       "text": [
        "[monk.uid    ][INFO    ][36470] : initializing uid store\n"
       ]
      },
      {
       "output_type": "stream",
       "stream": "stdout",
       "text": [
        "[monk.crane  ][INFO    ][36470] : initializing EntityStore \n"
       ]
      },
      {
       "output_type": "stream",
       "stream": "stdout",
       "text": [
        "[monk.crane  ][INFO    ][36470] : initializing PandaStore \n"
       ]
      },
      {
       "output_type": "stream",
       "stream": "stdout",
       "text": [
        "[monk.crane  ][INFO    ][36470] : initializing MantisStore \n"
       ]
      },
      {
       "output_type": "stream",
       "stream": "stdout",
       "text": [
        "[monk.crane  ][INFO    ][36470] : initializing TurtleStore \n"
       ]
      },
      {
       "output_type": "stream",
       "stream": "stdout",
       "text": [
        "[monk.crane  ][INFO    ][36470] : initializing TigressStore \n"
       ]
      }
     ],
     "prompt_number": 8
    },
    {
     "cell_type": "heading",
     "level": 1,
     "metadata": {},
     "source": [
      "Log in"
     ]
    },
    {
     "cell_type": "code",
     "collapsed": false,
     "input": [
      "ms.login('xumiao')"
     ],
     "language": "python",
     "metadata": {},
     "outputs": [],
     "prompt_number": 89
    },
    {
     "cell_type": "markdown",
     "metadata": {},
     "source": [
      "#Load entities#\n",
      "    load_entities(query={}, skip=0, num=100, collectionName=None)\n",
      "Parameters:\n",
      "\n",
      "- `query`: MongoDB style query spec, e.g., `{'tag':{'$in':['Shopping','Wine']}}`.\n",
      "- `skip`: the index to start the retrieval\n",
      "- `num`: the number of documents to retrieve\n",
      "- `collectionName`: the name of the collection."
     ]
    },
    {
     "cell_type": "code",
     "collapsed": false,
     "input": [
      "ents = ms.load_entities(collectionName='activitytags')"
     ],
     "language": "python",
     "metadata": {},
     "outputs": [],
     "prompt_number": 62
    },
    {
     "cell_type": "markdown",
     "metadata": {},
     "source": [
      "#Print out an entity#\n",
      "+ `_raws` : this is a field that stores temporary features for MONK. Keys are in string, values can be any objects.\n",
      "+ `_features` : this is a field that stores the internal feature representations for MONK.\n",
      "+ `creator`, `createdTime`, `lastModified` : fields to keep version information\n",
      "+ `monkType` : type defined in MONK\n"
     ]
    },
    {
     "cell_type": "code",
     "collapsed": false,
     "input": [
      "ms.show(ents[0])"
     ],
     "language": "python",
     "metadata": {},
     "outputs": [
      {
       "output_type": "stream",
       "stream": "stdout",
       "text": [
        "{\n",
        "    \"name\": \"balloon\",\n",
        "    \"creator\": \"monk\",\n",
        "    \"url\": \"air1.png\",\n",
        "    \"monkType\": \"Entity\",\n",
        "    \"_raws\": {},\n",
        "    \"lastModified\": \"2014-04-29T23:04:57.747577\",\n",
        "    \"createdTime\": \"2014-04-29T23:03:43.724455\",\n",
        "    \"_features\": []\n",
        "}\n"
       ]
      }
     ],
     "prompt_number": 64
    },
    {
     "cell_type": "code",
     "collapsed": false,
     "input": [
      "ms.show(ents[0], ['name','url'])"
     ],
     "language": "python",
     "metadata": {},
     "outputs": [
      {
       "output_type": "stream",
       "stream": "stdout",
       "text": [
        "{\n",
        "    \"url\": \"air1.png\",\n",
        "    \"name\": \"balloon\"\n",
        "}\n"
       ]
      }
     ],
     "prompt_number": 65
    },
    {
     "cell_type": "code",
     "collapsed": false,
     "input": [
      "act = ms.load_entities(collectionName='activities')\n",
      "ms.show(act[0], [\"description\",\"title\",\"tag\",\"reviews\", \"photo_url\"], \"photo_url\")"
     ],
     "language": "python",
     "metadata": {},
     "outputs": [
      {
       "output_type": "stream",
       "stream": "stdout",
       "text": [
        "{\n",
        "    \"reviews\": [\n",
        "        \"Nothing special if you have Asian...\",\n",
        "        \"1\"\n",
        "    ],\n",
        "    \"tag\": [\n",
        "        \"Shopping\",\n",
        "        \"Shopping\",\n",
        "        \"Specialty Shops\"\n",
        "    ],\n",
        "    \"description\": \"\",\n",
        "    \"photo_url\": \"http://media-cdn.tripadvisor.com/media/photo-l/02/6f/46/08/sea-food-section.jpg\",\n",
        "    \"title\": \"Uwajimaya\"\n",
        "}\n"
       ]
      },
      {
       "html": [
        "<img src=\"http://media-cdn.tripadvisor.com/media/photo-l/02/6f/46/08/sea-food-section.jpg\"/>"
       ],
       "metadata": {},
       "output_type": "pyout",
       "prompt_number": 19,
       "text": [
        "<IPython.core.display.Image at 0x45ed110>"
       ]
      }
     ],
     "prompt_number": 19
    },
    {
     "cell_type": "markdown",
     "metadata": {},
     "source": [
      "#MONK Types#\n",
      "##Turtle##\n",
      "Turtle is a collection of base models, i.e., Panda."
     ]
    },
    {
     "cell_type": "code",
     "collapsed": false,
     "input": [
      "ms.monkapi.find_type('Turtle')"
     ],
     "language": "python",
     "metadata": {},
     "outputs": [
      {
       "metadata": {},
       "output_type": "pyout",
       "prompt_number": 11,
       "text": [
        "['UniGramTurtle',\n",
        " 'StemTurtle',\n",
        " 'POSTurtle',\n",
        " 'SPNTurtle',\n",
        " 'DictionaryTurtle',\n",
        " 'Turtle',\n",
        " 'RankingTurtle',\n",
        " 'SingleTurtle',\n",
        " 'MultiLabelTurtle']"
       ]
      }
     ],
     "prompt_number": 11
    },
    {
     "cell_type": "markdown",
     "metadata": {},
     "source": [
      "##Panda##\n",
      "Panda is the base model in MONK. Currently, it is a linear SVC."
     ]
    },
    {
     "cell_type": "code",
     "collapsed": false,
     "input": [
      "ms.monkapi.find_type('Panda')"
     ],
     "language": "python",
     "metadata": {},
     "outputs": [
      {
       "metadata": {},
       "output_type": "pyout",
       "prompt_number": 12,
       "text": [
        "['RegexPanda', 'Panda', 'LinearPanda', 'ExistPanda']"
       ]
      }
     ],
     "prompt_number": 12
    },
    {
     "cell_type": "markdown",
     "metadata": {},
     "source": [
      "##Tigress##\n",
      "\n",
      "Tigress is the superviser to train the models(Pandas). The major funcations include:\n",
      "\n",
      "- Extract ground truth from data\n",
      "- Create training example, i.e., (input, output, weight) for each panda\n",
      "- Measure the accuracies of turtle's prediction\n"
     ]
    },
    {
     "cell_type": "code",
     "collapsed": false,
     "input": [
      "ms.monkapi.find_type('Tigress')"
     ],
     "language": "python",
     "metadata": {},
     "outputs": [
      {
       "metadata": {},
       "output_type": "pyout",
       "prompt_number": 13,
       "text": [
        "['Tigress',\n",
        " 'MultiLabelTigress',\n",
        " 'SPNTigress',\n",
        " 'PatternTigress',\n",
        " 'SelfTigress',\n",
        " 'LexiconTigress',\n",
        " 'CoTigress']"
       ]
      }
     ],
     "prompt_number": 13
    },
    {
     "cell_type": "markdown",
     "metadata": {},
     "source": [
      "#Feature Extraction#\n",
      "Currently, we have three NLP feature extractors\n",
      "\n",
      "- stem \"535d1e19504b2e014066b0b5\"\n",
      "- unigram \"535d1d3d504b2e014066b0b1\"\n",
      "- POS  \"535d1dd0504b2e014066b0b3\"\n"
     ]
    },
    {
     "cell_type": "code",
     "collapsed": false,
     "input": [
      "unigramT = ms.get_turtle('unigram')\n",
      "unigramT"
     ],
     "language": "python",
     "metadata": {},
     "outputs": [
      {
       "metadata": {},
       "output_type": "pyout",
       "prompt_number": 84,
       "text": [
        "ObjectId('535d1d3d504b2e014066b0b1')"
       ]
      }
     ],
     "prompt_number": 84
    },
    {
     "cell_type": "markdown",
     "metadata": {},
     "source": [
      "##load some data that hasn't been extracted##"
     ]
    },
    {
     "cell_type": "code",
     "collapsed": false,
     "input": [
      "ents = ms.load_entities(query={'_raws':{'$exists':False}}, num=0, collectionName='activities')"
     ],
     "language": "python",
     "metadata": {},
     "outputs": [],
     "prompt_number": 47
    },
    {
     "cell_type": "markdown",
     "metadata": {},
     "source": [
      "##sometimes, entities weren't saved for some reason, they still appear in above query, so save them and rerun##"
     ]
    },
    {
     "cell_type": "code",
     "collapsed": false,
     "input": [
      "if ents:\n",
      "    ms.show(ents[0], ['title', 'reviews', 'tag','description', '_raws'], 'photo_url')"
     ],
     "language": "python",
     "metadata": {},
     "outputs": [
      {
       "output_type": "stream",
       "stream": "stdout",
       "text": [
        "{\n",
        "    \"reviews\": [\n",
        "        \"There is no other place like it!\",\n",
        "        \"Good stroll\"\n",
        "    ],\n",
        "    \"_raws\": {\n",
        "        \"shop\": 1,\n",
        "        \"pike_IN\": 1,\n",
        "        \"crowd\": 1,\n",
        "        \"point\": 1,\n",
        "        \"visitor\": 1,\n",
        "        \"There\": 1,\n",
        "        \"landmarks/\": 1,\n",
        "        \"street\": 1,\n",
        "        \"markets_NNS\": 1,\n",
        "        \"Interest\": 1,\n",
        "        \"return\": 1,\n",
        "        \"market\": 1,\n",
        "        \"!\": 1,\n",
        "        \"Be\": 1,\n",
        "        \"Good\": 1,\n",
        "        \"institut\": 1,\n",
        "        \"stroll_NN\": 1,\n",
        "        \",\": 1,\n",
        "        \"points\": 1,\n",
        "        \"larg\": 1,\n",
        "        \"Flea/\": 1,\n",
        "        \"interest\": 1,\n",
        "        \"must-se\": 1,\n",
        "        \"place_NN\": 1,\n",
        "        \"\\u00bb\": 1,\n",
        "        \"markets\": 1,\n",
        "        \"like_IN\": 1,\n",
        "        \"flea/\": 1,\n",
        "        \"points_NNS\": 1,\n",
        "        \"Pike\": 1,\n",
        "        \"good\": 1,\n",
        "        \"shopping\": 1,\n",
        "        \"interest_NN\": 1,\n",
        "        \"street_NN\": 1,\n",
        "        \"shopping_NN\": 1,\n",
        "        \"Place\": 1,\n",
        "        \"weekend\": 1,\n",
        "        \"haven\": 1,\n",
        "        \"stroll\": 1,\n",
        "        \"Shop\": 1,\n",
        "        \"pike\": 1,\n",
        "        \"alik\": 1,\n",
        "        \"like\": 1,\n",
        "        \"market_NN\": 1,\n",
        "        \"Point\": 1,\n",
        "        \"landmarks/_-NONE-\": 1,\n",
        "        \"prepar\": 1,\n",
        "        \"Landmarks/\": 1,\n",
        "        \"shopping_VBG\": 1,\n",
        "        \"good_JJ\": 1,\n",
        "        \"open-air\": 1,\n",
        "        \"place\": 1,\n",
        "        \"Seattl\": 1,\n",
        "        \"time\": 1,\n",
        "        \"first\": 1,\n",
        "        \"flea/_-NONE-\": 1,\n",
        "        \"Market\": 1,\n",
        "        \"Street\": 1\n",
        "    },\n",
        "    \"tag\": [\n",
        "        \"Shopping\",\n",
        "        \"Shopping\",\n",
        "        \"Flea/ Street Markets\",\n",
        "        \" Landmarks/ Points of Interest\"\n",
        "    ],\n",
        "    \"description\": \"Pike Place Market, an open-air shopping haven and Seattle institution, is a must-see for first time and return visitors alike.\\u00a0 Be prepared for large crowds on the weekends and...\\nmore\\u00a0\\u00bb\",\n",
        "    \"title\": \"Pike Place Market\"\n",
        "}\n"
       ]
      }
     ],
     "prompt_number": 88
    },
    {
     "cell_type": "code",
     "collapsed": false,
     "input": [
      "ms.monkapi.save_entities(ents)"
     ],
     "language": "python",
     "metadata": {},
     "outputs": [],
     "prompt_number": 46
    },
    {
     "cell_type": "markdown",
     "metadata": {},
     "source": [
      "##extracting features using unigram##"
     ]
    },
    {
     "cell_type": "code",
     "collapsed": false,
     "input": [
      "extracted = ms.execute(unigramT, [ents[0]], ['title', 'reviews', 'tag','description'], 'activities')"
     ],
     "language": "python",
     "metadata": {},
     "outputs": [
      {
       "output_type": "stream",
       "stream": "stdout",
       "text": [
        "[monk.turtle ][ERROR   ][40689] : unknow value formats\n"
       ]
      }
     ],
     "prompt_number": 85
    },
    {
     "cell_type": "code",
     "collapsed": false,
     "input": [
      "stemT = ms.get_turtle('stem')"
     ],
     "language": "python",
     "metadata": {},
     "outputs": [],
     "prompt_number": 64
    },
    {
     "cell_type": "code",
     "collapsed": false,
     "input": [
      "stemT"
     ],
     "language": "python",
     "metadata": {},
     "outputs": [
      {
       "metadata": {},
       "output_type": "pyout",
       "prompt_number": 65,
       "text": [
        "ObjectId('535d1e19504b2e014066b0b5')"
       ]
      }
     ],
     "prompt_number": 65
    },
    {
     "cell_type": "code",
     "collapsed": false,
     "input": [
      "ents = ms.load_entities(num=0, collectionName='activities')"
     ],
     "language": "python",
     "metadata": {},
     "outputs": [],
     "prompt_number": 83
    },
    {
     "cell_type": "code",
     "collapsed": false,
     "input": [
      "extracted = ms.execute(stemT, [ents[0]], ['title', 'reviews', 'tag','description'], 'activities')"
     ],
     "language": "python",
     "metadata": {},
     "outputs": [
      {
       "output_type": "stream",
       "stream": "stdout",
       "text": [
        "[monk.turtle ][INFO    ][40689] : turtle stem will use all features seen\n"
       ]
      },
      {
       "output_type": "stream",
       "stream": "stdout",
       "text": [
        "[monk.turtle ][DEBUG   ][40689] : [u'Pike Place Market']\n"
       ]
      },
      {
       "output_type": "stream",
       "stream": "stdout",
       "text": [
        "[monk.turtle ][DEBUG   ][40689] : pike place market\n"
       ]
      },
      {
       "output_type": "stream",
       "stream": "stdout",
       "text": [
        "[monk.turtle ][DEBUG   ][40689] : [u'There is no other place like it!', u'Good stroll']\n"
       ]
      },
      {
       "output_type": "stream",
       "stream": "stdout",
       "text": [
        "[monk.turtle ][DEBUG   ][40689] : ! good place like stroll\n"
       ]
      },
      {
       "output_type": "stream",
       "stream": "stdout",
       "text": [
        "[monk.turtle ][DEBUG   ][40689] : [u'Shopping Shopping Flea/ Street Markets  Landmarks/ Points of Interest']\n"
       ]
      },
      {
       "output_type": "stream",
       "stream": "stdout",
       "text": [
        "[monk.turtle ][DEBUG   ][40689] : shop point landmarks/ street flea/ interest market\n"
       ]
      },
      {
       "output_type": "stream",
       "stream": "stdout",
       "text": [
        "[monk.turtle ][ERROR   ][40689] : unknow value formats\n"
       ]
      }
     ],
     "prompt_number": 86
    },
    {
     "cell_type": "code",
     "collapsed": false,
     "input": [
      "ms.monkapi.save_turtle(stemT)"
     ],
     "language": "python",
     "metadata": {},
     "outputs": [
      {
       "metadata": {},
       "output_type": "pyout",
       "prompt_number": 70,
       "text": [
        "True"
       ]
      }
     ],
     "prompt_number": 70
    },
    {
     "cell_type": "code",
     "collapsed": false,
     "input": [
      "posT = ms.get_turtle('POS')"
     ],
     "language": "python",
     "metadata": {},
     "outputs": [],
     "prompt_number": 71
    },
    {
     "cell_type": "code",
     "collapsed": false,
     "input": [
      "extracted = ms.execute(posT, [ents[0]], ['title', 'reviews', 'tag','description'], 'activities')"
     ],
     "language": "python",
     "metadata": {},
     "outputs": [
      {
       "output_type": "stream",
       "stream": "stdout",
       "text": [
        "[monk.turtle ][INFO    ][40689] : turtle POS will use all features seen\n"
       ]
      },
      {
       "output_type": "stream",
       "stream": "stdout",
       "text": [
        "[monk.turtle ][ERROR   ][40689] : unknow value formats\n"
       ]
      }
     ],
     "prompt_number": 87
    },
    {
     "cell_type": "code",
     "collapsed": false,
     "input": [
      "ms.monkapi.save_turtle(posT)"
     ],
     "language": "python",
     "metadata": {},
     "outputs": [
      {
       "metadata": {},
       "output_type": "pyout",
       "prompt_number": 79,
       "text": [
        "True"
       ]
      }
     ],
     "prompt_number": 79
    },
    {
     "cell_type": "markdown",
     "metadata": {},
     "source": [
      "#Create new turtle#\n",
      "\n",
      "Turtle provides a solution for a specific problem.\n",
      "\n",
      "| Parameters | Definitions | Examples |\n",
      "|:---------- |:----------- |:-------- |\n",
      "| monkType | Turtle type | `MultiLabelTurtle`\n",
      "| name | A unique string | `flydragon_tagger` |\n",
      "| description | Detailed project description can help others understand | `Used to predict first level tags for activities stored in flydragon` |\n",
      "| mapping | An encoder that encodes the targets into internal pandas structures. It is not useful for multilabel turtle. But, it is useful for multi-class Turtle. Encoding strategies can be very tricky since it will affect the final accuracies. For example, **Error Correcting Output Code** can be of a good choice, but a random binary coding can be bad. For **Sum-Product-Network Turtle**, smart coding will be learned from data, which will relieve the coding burden from scientists | `{'dinning':[0000001000], 'hotel':[100000000]}` |\n",
      "| entityCollectionName | The data collection name to work on, assuming the database is given in MONK's configuration | `activities`|\n",
      "| requires | The field defines the turtle's dependencies, or which features to use. It can be **uids** or **turtle_ids**. When **turtle_ids** used, the pandas' uids in those turtles will all be the features for this turtle | `{'requires': {'turtleIds':[<id1>, <id2>]}}` |\n",
      "| pMaxPathLength | Inference will employ **Beam Search** algorithm, this parameter will be the maximum length of a search path before it stops | `1`|\n",
      "| pMaxInferenceSteps | The maximum number of inferences before it gives up. | `1`|\n",
      "||||\n",
      "|tigress | A tigress as the superviser to train the turtles and measure the performances | see below |\n",
      "|pandas | A list of panda that are employed to solve the problem | see below |\n",
      "\n",
      "Tigress provides functionalities to supervise and measure the performance of a turtle.\n",
      "\n",
      "| Parameters | Definitions | Examples |\n",
      "| :--------- | :---------- | :------- |\n",
      "| monkType | Tigress type | `MultiLabelTigress` |\n",
      "| name | A string | `flydragon_tagger` |\n",
      "| description | Detailed discriptions | `Equal weighted multilabel classifiers` |\n",
      "| costs | The cost of each tag/label being incorrectly predicted, if not defined, defaultCost will be used | `{'dinning':1.0, 'boating':0.2}`|\n",
      "| defaultCost | If cost of a tag is not specified, defaultCost will be used. If defaultCost is not defined, it will be the smallest value in the costs | `1.0`|\n",
      "||||\n",
      "| displayTextFields | The fields for the entity to be displayed when doing inter-active learning | `['title','reviews']`|\n",
      "| displayImageField | If possible, display an image (url) | `photo_url`|\n",
      "| activeBatchSize | For each active learning stage, how many uncertain examples to scan through, default to 100 | `100`|\n",
      "| pCuriosity | The factor of the active learning to trade off between **exploitation** and **exploration**. 0.0 means no **exploitation** | `0.0`|\n",
      "||||\n",
      "| patterns | For PatternTigress and children, each target has a pattern to search. If the pattern matches, the tag is on, otherwise the tag is off | `{'dinning':'dinning'}` |\n",
      "| fields | In which fields, the tigress is supposed to search through | `['title', 'description', ...]`|\n",
      "| mutualExclusive | True for only one target existing in the fields, False otherwise | `False`|\n",
      "| defaulting | True for using default tag when nothing found in the fields. False for ignoring this example | `False`|\n",
      "\n",
      "Panda is a basic classifier/regressor.\n",
      "\n",
      "| Parameters | Definitions | Examples |\n",
      "| :--------- | :---------- | :------- |\n",
      "| monkType | Panda type | `LinearPanda`|\n",
      "| name | A unique string | `dinning` |\n",
      "| mantis | A learning algorithm | see below |\n",
      "\n",
      "Mantis is a basic learning algorithm.\n",
      "\n",
      "| Parameters | Definitions | Examples |\n",
      "| :--------- | :---------- | :------- |\n",
      "| monkType | Mantis type | `Mantis` |\n",
      "| maxNumIters | Maximum number of iterations to perform optimization | `100`|\n",
      "| maxNumInstances | Maximum number of instances for each user | `1000` |\n",
      "| eps | Convergence interval | 1e-4|\n",
      "| lam | Lambda that controls the regularization strength | 1 |\n",
      "| rho | Personalization strength, the smaller the higher the personalization | 1 |"
     ]
    },
    {
     "cell_type": "code",
     "collapsed": false,
     "input": [
      "tagEnts = ms.load_entities(collectionName='activitytags')"
     ],
     "language": "python",
     "metadata": {},
     "outputs": [],
     "prompt_number": 90
    },
    {
     "cell_type": "code",
     "collapsed": false,
     "input": [
      "tags = [getattr(t, 'name') for t in tagEnts]"
     ],
     "language": "python",
     "metadata": {},
     "outputs": [],
     "prompt_number": 93
    },
    {
     "cell_type": "code",
     "collapsed": false,
     "input": [
      "from bson.objectid import ObjectId"
     ],
     "language": "python",
     "metadata": {},
     "outputs": [],
     "prompt_number": 95
    },
    {
     "cell_type": "code",
     "collapsed": false,
     "input": [
      "taggingT = {'monkType':'MultiLabelTurtle',\n",
      "            'name':'flydragon_tagger',\n",
      "            'description':'Used to predict first level tags for activities stored in flydragon',\n",
      "            'entityCollectionName':'activities',\n",
      "            'requires':{'turtleIds':[stemT]},\n",
      "            'tigress':{'monkType':'MultiLabelTigress',\n",
      "                       'name':'flydragon_tagger',\n",
      "                       'description':'Equal weighted multilabel classifiers',\n",
      "                       'displayTextFields':['title','reviews','description','tag'],\n",
      "                       'displayImageField':'photo_url',\n",
      "                       'fields':['title','reviews','description','tag'],\n",
      "                       'patterns':{t:t for t in tags}},\n",
      "            'pandas':[{'monkType':'LinearPanda',\n",
      "                       'name':t,\n",
      "                       'mantis':{'monkType':'Mantis',\n",
      "                                 'maxNumInstances':10000}} for t in tags]}\n",
      "                       \n",
      "                       \n",
      "            "
     ],
     "language": "python",
     "metadata": {},
     "outputs": [],
     "prompt_number": 96
    },
    {
     "cell_type": "code",
     "collapsed": false,
     "input": [
      "taggingT"
     ],
     "language": "python",
     "metadata": {},
     "outputs": [
      {
       "metadata": {},
       "output_type": "pyout",
       "prompt_number": 97,
       "text": [
        "{'description': 'Used to predict first level tags for activities stored in flydragon',\n",
        " 'entityCollectionName': 'activities',\n",
        " 'monkType': 'MultiLabelTurtle',\n",
        " 'name': 'flydragon_tagger',\n",
        " 'pandas': [{'mantis': {'maxNumInstances': 10000, 'monkType': 'Mantis'},\n",
        "   'monkType': 'LinearPanda',\n",
        "   'name': u'balloon'},\n",
        "  {'mantis': {'maxNumInstances': 10000, 'monkType': 'Mantis'},\n",
        "   'monkType': 'LinearPanda',\n",
        "   'name': u'bbq'},\n",
        "  {'mantis': {'maxNumInstances': 10000, 'monkType': 'Mantis'},\n",
        "   'monkType': 'LinearPanda',\n",
        "   'name': u'birdwatching'},\n",
        "  {'mantis': {'maxNumInstances': 10000, 'monkType': 'Mantis'},\n",
        "   'monkType': 'LinearPanda',\n",
        "   'name': u'flight'},\n",
        "  {'mantis': {'maxNumInstances': 10000, 'monkType': 'Mantis'},\n",
        "   'monkType': 'LinearPanda',\n",
        "   'name': u'bus'},\n",
        "  {'mantis': {'maxNumInstances': 10000, 'monkType': 'Mantis'},\n",
        "   'monkType': 'LinearPanda',\n",
        "   'name': u'camping'},\n",
        "  {'mantis': {'maxNumInstances': 10000, 'monkType': 'Mantis'},\n",
        "   'monkType': 'LinearPanda',\n",
        "   'name': u'diving'},\n",
        "  {'mantis': {'maxNumInstances': 10000, 'monkType': 'Mantis'},\n",
        "   'monkType': 'LinearPanda',\n",
        "   'name': u'club'},\n",
        "  {'mantis': {'maxNumInstances': 10000, 'monkType': 'Mantis'},\n",
        "   'monkType': 'LinearPanda',\n",
        "   'name': u'fishing'},\n",
        "  {'mantis': {'maxNumInstances': 10000, 'monkType': 'Mantis'},\n",
        "   'monkType': 'LinearPanda',\n",
        "   'name': u'golf'},\n",
        "  {'mantis': {'maxNumInstances': 10000, 'monkType': 'Mantis'},\n",
        "   'monkType': 'LinearPanda',\n",
        "   'name': u'hiking'},\n",
        "  {'mantis': {'maxNumInstances': 10000, 'monkType': 'Mantis'},\n",
        "   'monkType': 'LinearPanda',\n",
        "   'name': u'hotel'},\n",
        "  {'mantis': {'maxNumInstances': 10000, 'monkType': 'Mantis'},\n",
        "   'monkType': 'LinearPanda',\n",
        "   'name': u'coffee'},\n",
        "  {'mantis': {'maxNumInstances': 10000, 'monkType': 'Mantis'},\n",
        "   'monkType': 'LinearPanda',\n",
        "   'name': u'museum'},\n",
        "  {'mantis': {'maxNumInstances': 10000, 'monkType': 'Mantis'},\n",
        "   'monkType': 'LinearPanda',\n",
        "   'name': u'karaoke'},\n",
        "  {'mantis': {'maxNumInstances': 10000, 'monkType': 'Mantis'},\n",
        "   'monkType': 'LinearPanda',\n",
        "   'name': u'gambling'},\n",
        "  {'mantis': {'maxNumInstances': 10000, 'monkType': 'Mantis'},\n",
        "   'monkType': 'LinearPanda',\n",
        "   'name': u'shopping'},\n",
        "  {'mantis': {'maxNumInstances': 10000, 'monkType': 'Mantis'},\n",
        "   'monkType': 'LinearPanda',\n",
        "   'name': u'dinning'}],\n",
        " 'requires': {'turtleIds': [ObjectId('535d1e19504b2e014066b0b5')]},\n",
        " 'tigress': {'description': 'Equal weighted multilabel classifiers',\n",
        "  'displayImageField': 'photo_url',\n",
        "  'displayTextFields': ['title', 'reviews', 'description', 'tag'],\n",
        "  'fields': ['title', 'reviews', 'description', 'tag'],\n",
        "  'monkType': 'MultiLabelTigress',\n",
        "  'name': 'flydragon_tagger',\n",
        "  'patterns': {u'balloon': u'balloon',\n",
        "   u'bbq': u'bbq',\n",
        "   u'birdwatching': u'birdwatching',\n",
        "   u'bus': u'bus',\n",
        "   u'camping': u'camping',\n",
        "   u'club': u'club',\n",
        "   u'coffee': u'coffee',\n",
        "   u'dinning': u'dinning',\n",
        "   u'diving': u'diving',\n",
        "   u'fishing': u'fishing',\n",
        "   u'flight': u'flight',\n",
        "   u'gambling': u'gambling',\n",
        "   u'golf': u'golf',\n",
        "   u'hiking': u'hiking',\n",
        "   u'hotel': u'hotel',\n",
        "   u'karaoke': u'karaoke',\n",
        "   u'museum': u'museum',\n",
        "   u'shopping': u'shopping'}}}"
       ]
      }
     ],
     "prompt_number": 97
    },
    {
     "cell_type": "code",
     "collapsed": false,
     "input": [],
     "language": "python",
     "metadata": {},
     "outputs": []
    }
   ],
   "metadata": {}
  }
 ]
}