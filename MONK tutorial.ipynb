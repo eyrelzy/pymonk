{
 "metadata": {
  "name": ""
 },
 "nbformat": 3,
 "nbformat_minor": 0,
 "worksheets": [
  {
   "cells": [
    {
     "cell_type": "heading",
     "level": 1,
     "metadata": {},
     "source": [
      "Step 1. Initialization"
     ]
    },
    {
     "cell_type": "code",
     "collapsed": false,
     "input": [
      "import monk.roles.scientist as ms"
     ],
     "language": "python",
     "metadata": {},
     "outputs": [],
     "prompt_number": 26
    },
    {
     "cell_type": "code",
     "collapsed": false,
     "input": [
      "ms.starts()"
     ],
     "language": "python",
     "metadata": {},
     "outputs": [
      {
       "output_type": "stream",
       "stream": "stdout",
       "text": [
        "[monk.api    ][INFO    ][11792] : ------start up------\n"
       ]
      },
      {
       "output_type": "stream",
       "stream": "stdout",
       "text": [
        "[monk.uid    ][INFO    ][11792] : initializing uid store\n"
       ]
      },
      {
       "output_type": "stream",
       "stream": "stdout",
       "text": [
        "[monk.crane  ][INFO    ][11792] : initializing EntityStore \n"
       ]
      },
      {
       "output_type": "stream",
       "stream": "stdout",
       "text": [
        "[monk.crane  ][INFO    ][11792] : initializing PandaStore \n"
       ]
      },
      {
       "output_type": "stream",
       "stream": "stdout",
       "text": [
        "[monk.crane  ][INFO    ][11792] : initializing MantisStore \n"
       ]
      },
      {
       "output_type": "stream",
       "stream": "stdout",
       "text": [
        "[monk.crane  ][INFO    ][11792] : initializing TurtleStore \n"
       ]
      },
      {
       "output_type": "stream",
       "stream": "stdout",
       "text": [
        "[monk.crane  ][INFO    ][11792] : initializing TigressStore \n"
       ]
      }
     ],
     "prompt_number": 27
    },
    {
     "cell_type": "code",
     "collapsed": false,
     "input": [
      "reload(ms)"
     ],
     "language": "python",
     "metadata": {},
     "outputs": [
      {
       "metadata": {},
       "output_type": "pyout",
       "prompt_number": 31,
       "text": [
        "<module 'monk.roles.scientist' from 'monk\\roles\\scientist.py'>"
       ]
      }
     ],
     "prompt_number": 31
    },
    {
     "cell_type": "code",
     "collapsed": false,
     "input": [
      "ms.reloads()"
     ],
     "language": "python",
     "metadata": {},
     "outputs": [
      {
       "output_type": "stream",
       "stream": "stdout",
       "text": [
        "[monk.api    ][INFO    ][11792] : ------end-----------\n"
       ]
      },
      {
       "output_type": "stream",
       "stream": "stdout",
       "text": [
        "[monk.api    ][INFO    ][11792] : ------start up------\n"
       ]
      },
      {
       "output_type": "stream",
       "stream": "stdout",
       "text": [
        "[monk.uid    ][INFO    ][11792] : initializing uid store\n"
       ]
      },
      {
       "output_type": "stream",
       "stream": "stdout",
       "text": [
        "[monk.crane  ][INFO    ][11792] : initializing EntityStore \n"
       ]
      },
      {
       "output_type": "stream",
       "stream": "stdout",
       "text": [
        "[monk.crane  ][INFO    ][11792] : initializing PandaStore \n"
       ]
      },
      {
       "output_type": "stream",
       "stream": "stdout",
       "text": [
        "[monk.crane  ][INFO    ][11792] : initializing MantisStore \n"
       ]
      },
      {
       "output_type": "stream",
       "stream": "stdout",
       "text": [
        "[monk.crane  ][INFO    ][11792] : initializing TurtleStore \n"
       ]
      },
      {
       "output_type": "stream",
       "stream": "stdout",
       "text": [
        "[monk.crane  ][INFO    ][11792] : initializing TigressStore \n"
       ]
      }
     ],
     "prompt_number": 32
    },
    {
     "cell_type": "code",
     "collapsed": false,
     "input": [
      "ms.exits()"
     ],
     "language": "python",
     "metadata": {},
     "outputs": [
      {
       "output_type": "stream",
       "stream": "stdout",
       "text": [
        "[monk.api    ][INFO    ][11792] : ------end-----------\n"
       ]
      }
     ],
     "prompt_number": 5
    },
    {
     "cell_type": "code",
     "collapsed": false,
     "input": [
      "ms.starts()"
     ],
     "language": "python",
     "metadata": {},
     "outputs": [
      {
       "output_type": "stream",
       "stream": "stdout",
       "text": [
        "[monk.api    ][INFO    ][11792] : ------start up------\n"
       ]
      },
      {
       "output_type": "stream",
       "stream": "stdout",
       "text": [
        "[monk.uid    ][INFO    ][11792] : initializing uid store\n"
       ]
      },
      {
       "output_type": "stream",
       "stream": "stdout",
       "text": [
        "[monk.crane  ][INFO    ][11792] : initializing EntityStore \n"
       ]
      },
      {
       "output_type": "stream",
       "stream": "stdout",
       "text": [
        "[monk.crane  ][INFO    ][11792] : initializing PandaStore \n"
       ]
      },
      {
       "output_type": "stream",
       "stream": "stdout",
       "text": [
        "[monk.crane  ][INFO    ][11792] : initializing MantisStore \n"
       ]
      },
      {
       "output_type": "stream",
       "stream": "stdout",
       "text": [
        "[monk.crane  ][INFO    ][11792] : initializing TurtleStore \n"
       ]
      },
      {
       "output_type": "stream",
       "stream": "stdout",
       "text": [
        "[monk.crane  ][INFO    ][11792] : initializing TigressStore \n"
       ]
      }
     ],
     "prompt_number": 6
    },
    {
     "cell_type": "heading",
     "level": 1,
     "metadata": {},
     "source": [
      "Step 2: load entities"
     ]
    },
    {
     "cell_type": "code",
     "collapsed": false,
     "input": [
      "ents = ms.load_entities(collectionName='activitytags')"
     ],
     "language": "python",
     "metadata": {},
     "outputs": [],
     "prompt_number": 33
    },
    {
     "cell_type": "code",
     "collapsed": false,
     "input": [
      "ms.show(ents[0], ['name','url'])"
     ],
     "language": "python",
     "metadata": {},
     "outputs": [
      {
       "output_type": "stream",
       "stream": "stdout",
       "text": [
        "{\n",
        "    \"url\": \"air1.png\",\n",
        "    \"name\": \"balloon\"\n",
        "}\n"
       ]
      }
     ],
     "prompt_number": 34
    },
    {
     "cell_type": "heading",
     "level": 1,
     "metadata": {},
     "source": [
      "Step 3: load activities"
     ]
    },
    {
     "cell_type": "code",
     "collapsed": false,
     "input": [
      "act = ms.load_entities({'_tags':{'$exists':False}},collectionName='activities')"
     ],
     "language": "python",
     "metadata": {},
     "outputs": [],
     "prompt_number": 39
    },
    {
     "cell_type": "code",
     "collapsed": false,
     "input": [
      "ms.show(act[0], ['title','reviews','tag','description'])"
     ],
     "language": "python",
     "metadata": {},
     "outputs": [
      {
       "output_type": "stream",
       "stream": "stdout",
       "text": [
        "{\n",
        "    \"reviews\": [\n",
        "        \"Nothing special if you have Asian...\",\n",
        "        \"1\"\n",
        "    ],\n",
        "    \"tag\": [\n",
        "        \"Shopping\",\n",
        "        \"Shopping\",\n",
        "        \"Specialty Shops\"\n",
        "    ],\n",
        "    \"description\": \"\",\n",
        "    \"title\": \"Uwajimaya\"\n",
        "}\n"
       ]
      }
     ],
     "prompt_number": 41
    },
    {
     "cell_type": "code",
     "collapsed": false,
     "input": [
      "ms.login('jiayin')"
     ],
     "language": "python",
     "metadata": {},
     "outputs": [],
     "prompt_number": 15
    },
    {
     "cell_type": "code",
     "collapsed": false,
     "input": [
      "stemT = \"535d1e19504b2e014066b0b5\""
     ],
     "language": "python",
     "metadata": {},
     "outputs": [],
     "prompt_number": 16
    },
    {
     "cell_type": "code",
     "collapsed": false,
     "input": [
      "stemT = ms.monkapi.UUID(stemT)"
     ],
     "language": "python",
     "metadata": {},
     "outputs": [],
     "prompt_number": 17
    },
    {
     "cell_type": "code",
     "collapsed": false,
     "input": [
      "ents = ms.execute(stemT, [act[0]], ['title', 'reviews', 'tag','description'],'activities')"
     ],
     "language": "python",
     "metadata": {},
     "outputs": [
      {
       "output_type": "stream",
       "stream": "stdout",
       "text": [
        "[monk.turtle ][INFO    ][11792] : turtle stem will use all features seen\n"
       ]
      },
      {
       "output_type": "stream",
       "stream": "stdout",
       "text": [
        "[monk.turtle ][DEBUG   ][11792] : [u'Uwajimaya.', u'Nothing special if you have Asian... 1.', u'Shopping Shopping Specialty Shops. ']\n"
       ]
      },
      {
       "output_type": "stream",
       "stream": "stdout",
       "text": [
        "[monk.turtle ][DEBUG   ][11792] : shop specialti 1 asian uwajimaya noth special\n"
       ]
      },
      {
       "output_type": "stream",
       "stream": "stdout",
       "text": [
        "[monk.crane  ][DEBUG   ][11792] : new panda 1\n"
       ]
      },
      {
       "output_type": "stream",
       "stream": "stdout",
       "text": [
        "[monk.crane  ][DEBUG   ][11792] : new panda asian\n"
       ]
      },
      {
       "output_type": "stream",
       "stream": "stdout",
       "text": [
        "[monk.crane  ][DEBUG   ][11792] : new panda uwajimaya\n"
       ]
      },
      {
       "output_type": "stream",
       "stream": "stdout",
       "text": [
        "[monk.crane  ][DEBUG   ][11792] : new panda noth\n"
       ]
      },
      {
       "output_type": "stream",
       "stream": "stdout",
       "text": [
        "[monk.crane  ][DEBUG   ][11792] : new panda special\n"
       ]
      }
     ],
     "prompt_number": 21
    },
    {
     "cell_type": "code",
     "collapsed": false,
     "input": [
      "ents[0]._raws"
     ],
     "language": "python",
     "metadata": {},
     "outputs": [
      {
       "metadata": {},
       "output_type": "pyout",
       "prompt_number": 24,
       "text": [
        "{u'1': 1,\n",
        " u'asian': 1,\n",
        " u'noth': 1,\n",
        " u'shop': 1,\n",
        " u'special': 1,\n",
        " u'specialti': 1,\n",
        " u'uwajimaya': 1}"
       ]
      }
     ],
     "prompt_number": 24
    },
    {
     "cell_type": "code",
     "collapsed": false,
     "input": [
      "ents[0]._features"
     ],
     "language": "python",
     "metadata": {},
     "outputs": [
      {
       "metadata": {},
       "output_type": "pyout",
       "prompt_number": 25,
       "text": [
        "* * * 202753:1.0\n",
        "* | | 209925:1.0\n",
        "* * | 212995:1.0 212996:1.0 212997:1.0 212998:1.0 212999:1.0"
       ]
      }
     ],
     "prompt_number": 25
    },
    {
     "cell_type": "code",
     "collapsed": false,
     "input": [],
     "language": "python",
     "metadata": {},
     "outputs": []
    }
   ],
   "metadata": {}
  }
 ]
}