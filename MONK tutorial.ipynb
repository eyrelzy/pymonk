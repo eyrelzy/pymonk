{
 "metadata": {
  "name": ""
 },
 "nbformat": 3,
 "nbformat_minor": 0,
 "worksheets": [
  {
   "cells": [
    {
     "cell_type": "markdown",
     "metadata": {
      "slideshow": {
       "slide_type": "-"
      }
     },
     "source": [
      "#Initialization# "
     ]
    },
    {
     "cell_type": "code",
     "collapsed": false,
     "input": [
      "import monk.roles.scientist as ms"
     ],
     "language": "python",
     "metadata": {},
     "outputs": [],
     "prompt_number": 1
    },
    {
     "cell_type": "code",
     "collapsed": false,
     "input": [
      "ms.starts()"
     ],
     "language": "python",
     "metadata": {},
     "outputs": [
      {
       "output_type": "stream",
       "stream": "stdout",
       "text": [
        "[monk.api    ][INFO    ][40689] : ------start up------\n"
       ]
      },
      {
       "output_type": "stream",
       "stream": "stdout",
       "text": [
        "[monk.uid    ][INFO    ][40689] : initializing uid store\n"
       ]
      },
      {
       "output_type": "stream",
       "stream": "stdout",
       "text": [
        "[monk.crane  ][INFO    ][40689] : initializing EntityStore \n"
       ]
      },
      {
       "output_type": "stream",
       "stream": "stdout",
       "text": [
        "[monk.crane  ][INFO    ][40689] : initializing PandaStore \n"
       ]
      },
      {
       "output_type": "stream",
       "stream": "stdout",
       "text": [
        "[monk.crane  ][INFO    ][40689] : initializing MantisStore \n"
       ]
      },
      {
       "output_type": "stream",
       "stream": "stdout",
       "text": [
        "[monk.crane  ][INFO    ][40689] : initializing TurtleStore \n"
       ]
      },
      {
       "output_type": "stream",
       "stream": "stdout",
       "text": [
        "[monk.crane  ][INFO    ][40689] : initializing TigressStore \n"
       ]
      }
     ],
     "prompt_number": 2
    },
    {
     "cell_type": "markdown",
     "metadata": {},
     "source": [
      "#Reload#"
     ]
    },
    {
     "cell_type": "code",
     "collapsed": false,
     "input": [
      "reload(ms)\n",
      "ms.reloads()"
     ],
     "language": "python",
     "metadata": {},
     "outputs": [
      {
       "output_type": "stream",
       "stream": "stdout",
       "text": [
        "[monk.api    ][INFO    ][40689] : ------end-----------\n"
       ]
      },
      {
       "output_type": "stream",
       "stream": "stdout",
       "text": [
        "[monk.api    ][INFO    ][40689] : ------start up------\n"
       ]
      },
      {
       "output_type": "stream",
       "stream": "stdout",
       "text": [
        "[monk.uid    ][INFO    ][40689] : initializing uid store\n"
       ]
      },
      {
       "output_type": "stream",
       "stream": "stdout",
       "text": [
        "[monk.crane  ][INFO    ][40689] : initializing EntityStore \n"
       ]
      },
      {
       "output_type": "stream",
       "stream": "stdout",
       "text": [
        "[monk.crane  ][INFO    ][40689] : initializing PandaStore \n"
       ]
      },
      {
       "output_type": "stream",
       "stream": "stdout",
       "text": [
        "[monk.crane  ][INFO    ][40689] : initializing MantisStore \n"
       ]
      },
      {
       "output_type": "stream",
       "stream": "stdout",
       "text": [
        "[monk.crane  ][INFO    ][40689] : initializing TurtleStore \n"
       ]
      },
      {
       "output_type": "stream",
       "stream": "stdout",
       "text": [
        "[monk.crane  ][INFO    ][40689] : initializing TigressStore \n"
       ]
      }
     ],
     "prompt_number": 23
    },
    {
     "cell_type": "heading",
     "level": 1,
     "metadata": {},
     "source": [
      "Exits"
     ]
    },
    {
     "cell_type": "code",
     "collapsed": false,
     "input": [
      "ms.exits()"
     ],
     "language": "python",
     "metadata": {},
     "outputs": [
      {
       "output_type": "stream",
       "stream": "stdout",
       "text": [
        "[monk.api    ][INFO    ][36470] : ------end-----------\n"
       ]
      }
     ],
     "prompt_number": 15
    },
    {
     "cell_type": "code",
     "collapsed": false,
     "input": [
      "ms.starts()"
     ],
     "language": "python",
     "metadata": {},
     "outputs": [
      {
       "output_type": "stream",
       "stream": "stdout",
       "text": [
        "[monk.api    ][INFO    ][36470] : ------start up------\n"
       ]
      },
      {
       "output_type": "stream",
       "stream": "stdout",
       "text": [
        "[monk.uid    ][INFO    ][36470] : initializing uid store\n"
       ]
      },
      {
       "output_type": "stream",
       "stream": "stdout",
       "text": [
        "[monk.crane  ][INFO    ][36470] : initializing EntityStore \n"
       ]
      },
      {
       "output_type": "stream",
       "stream": "stdout",
       "text": [
        "[monk.crane  ][INFO    ][36470] : initializing PandaStore \n"
       ]
      },
      {
       "output_type": "stream",
       "stream": "stdout",
       "text": [
        "[monk.crane  ][INFO    ][36470] : initializing MantisStore \n"
       ]
      },
      {
       "output_type": "stream",
       "stream": "stdout",
       "text": [
        "[monk.crane  ][INFO    ][36470] : initializing TurtleStore \n"
       ]
      },
      {
       "output_type": "stream",
       "stream": "stdout",
       "text": [
        "[monk.crane  ][INFO    ][36470] : initializing TigressStore \n"
       ]
      }
     ],
     "prompt_number": 8
    },
    {
     "cell_type": "heading",
     "level": 1,
     "metadata": {},
     "source": [
      "Log in"
     ]
    },
    {
     "cell_type": "code",
     "collapsed": false,
     "input": [
      "ms.login('xumiao')"
     ],
     "language": "python",
     "metadata": {},
     "outputs": [],
     "prompt_number": 3
    },
    {
     "cell_type": "markdown",
     "metadata": {},
     "source": [
      "#Load entities#\n",
      "    load_entities(query={}, skip=0, num=100, collectionName=None)\n",
      "Parameters:\n",
      "\n",
      "- `query`: MongoDB style query spec, e.g., `{'tag':{'$in':['Shopping','Wine']}}`.\n",
      "- `skip`: the index to start the retrieval\n",
      "- `num`: the number of documents to retrieve\n",
      "- `collectionName`: the name of the collection."
     ]
    },
    {
     "cell_type": "code",
     "collapsed": false,
     "input": [
      "ents = ms.load_entities(collectionName='activitytags')"
     ],
     "language": "python",
     "metadata": {},
     "outputs": [],
     "prompt_number": 62
    },
    {
     "cell_type": "markdown",
     "metadata": {},
     "source": [
      "#Print out an entity#\n",
      "+ `_raws` : this is a field that stores temporary features for MONK. Keys are in string, values can be any objects.\n",
      "+ `_features` : this is a field that stores the internal feature representations for MONK.\n",
      "+ `creator`, `createdTime`, `lastModified` : fields to keep version information\n",
      "+ `monkType` : type defined in MONK\n"
     ]
    },
    {
     "cell_type": "code",
     "collapsed": false,
     "input": [
      "ms.show(ents[0])"
     ],
     "language": "python",
     "metadata": {},
     "outputs": [
      {
       "output_type": "stream",
       "stream": "stdout",
       "text": [
        "{\n",
        "    \"name\": \"balloon\",\n",
        "    \"creator\": \"monk\",\n",
        "    \"url\": \"air1.png\",\n",
        "    \"monkType\": \"Entity\",\n",
        "    \"_raws\": {},\n",
        "    \"lastModified\": \"2014-04-29T23:04:57.747577\",\n",
        "    \"createdTime\": \"2014-04-29T23:03:43.724455\",\n",
        "    \"_features\": []\n",
        "}\n"
       ]
      }
     ],
     "prompt_number": 64
    },
    {
     "cell_type": "code",
     "collapsed": false,
     "input": [
      "ms.show(ents[0], ['name','url'])"
     ],
     "language": "python",
     "metadata": {},
     "outputs": [
      {
       "output_type": "stream",
       "stream": "stdout",
       "text": [
        "{\n",
        "    \"url\": \"air1.png\",\n",
        "    \"name\": \"balloon\"\n",
        "}\n"
       ]
      }
     ],
     "prompt_number": 65
    },
    {
     "cell_type": "code",
     "collapsed": false,
     "input": [
      "act = ms.load_entities(collectionName='activities')\n",
      "ms.show(act[0], [\"description\",\"title\",\"tag\",\"reviews\", \"photo_url\"], \"photo_url\")"
     ],
     "language": "python",
     "metadata": {},
     "outputs": [
      {
       "output_type": "stream",
       "stream": "stdout",
       "text": [
        "{\n",
        "    \"reviews\": [\n",
        "        \"Nothing special if you have Asian...\",\n",
        "        \"1\"\n",
        "    ],\n",
        "    \"tag\": [\n",
        "        \"Shopping\",\n",
        "        \"Shopping\",\n",
        "        \"Specialty Shops\"\n",
        "    ],\n",
        "    \"description\": \"\",\n",
        "    \"photo_url\": \"http://media-cdn.tripadvisor.com/media/photo-l/02/6f/46/08/sea-food-section.jpg\",\n",
        "    \"title\": \"Uwajimaya\"\n",
        "}\n"
       ]
      },
      {
       "html": [
        "<img src=\"http://media-cdn.tripadvisor.com/media/photo-l/02/6f/46/08/sea-food-section.jpg\"/>"
       ],
       "metadata": {},
       "output_type": "pyout",
       "prompt_number": 19,
       "text": [
        "<IPython.core.display.Image at 0x45ed110>"
       ]
      }
     ],
     "prompt_number": 19
    },
    {
     "cell_type": "markdown",
     "metadata": {},
     "source": [
      "#MONK Types#\n",
      "##Turtle##\n",
      "Turtle is a collection of base models, i.e., Panda."
     ]
    },
    {
     "cell_type": "code",
     "collapsed": false,
     "input": [
      "ms.monkapi.find_type('Turtle')"
     ],
     "language": "python",
     "metadata": {},
     "outputs": [
      {
       "metadata": {},
       "output_type": "pyout",
       "prompt_number": 11,
       "text": [
        "['UniGramTurtle',\n",
        " 'StemTurtle',\n",
        " 'POSTurtle',\n",
        " 'SPNTurtle',\n",
        " 'DictionaryTurtle',\n",
        " 'Turtle',\n",
        " 'RankingTurtle',\n",
        " 'SingleTurtle',\n",
        " 'MultiLabelTurtle']"
       ]
      }
     ],
     "prompt_number": 11
    },
    {
     "cell_type": "markdown",
     "metadata": {},
     "source": [
      "##Panda##\n",
      "Panda is the base model in MONK. Currently, it is a linear SVC."
     ]
    },
    {
     "cell_type": "code",
     "collapsed": false,
     "input": [
      "ms.monkapi.find_type('Panda')"
     ],
     "language": "python",
     "metadata": {},
     "outputs": [
      {
       "metadata": {},
       "output_type": "pyout",
       "prompt_number": 12,
       "text": [
        "['RegexPanda', 'Panda', 'LinearPanda', 'ExistPanda']"
       ]
      }
     ],
     "prompt_number": 12
    },
    {
     "cell_type": "markdown",
     "metadata": {},
     "source": [
      "##Tigress##\n",
      "\n",
      "Tigress is the superviser to train the models(Pandas). The major funcations include:\n",
      "\n",
      "- Extract ground truth from data\n",
      "- Create training example, i.e., (input, output, weight) for each panda\n",
      "- Measure the accuracies of turtle's prediction\n"
     ]
    },
    {
     "cell_type": "code",
     "collapsed": false,
     "input": [
      "ms.monkapi.find_type('Tigress')"
     ],
     "language": "python",
     "metadata": {},
     "outputs": [
      {
       "metadata": {},
       "output_type": "pyout",
       "prompt_number": 13,
       "text": [
        "['Tigress',\n",
        " 'MultiLabelTigress',\n",
        " 'SPNTigress',\n",
        " 'PatternTigress',\n",
        " 'SelfTigress',\n",
        " 'LexiconTigress',\n",
        " 'CoTigress']"
       ]
      }
     ],
     "prompt_number": 13
    },
    {
     "cell_type": "markdown",
     "metadata": {},
     "source": [
      "#Feature Extraction#\n",
      "Currently, we have three NLP feature extractors\n",
      "\n",
      "- stem \"535d1e19504b2e014066b0b5\"\n",
      "- unigram \"535d1d3d504b2e014066b0b1\"\n",
      "- POS  \"535d1dd0504b2e014066b0b3\"\n"
     ]
    },
    {
     "cell_type": "code",
     "collapsed": false,
     "input": [
      "stemT = ms.get_turtle('unigram')\n",
      "stemT"
     ],
     "language": "python",
     "metadata": {},
     "outputs": [
      {
       "metadata": {},
       "output_type": "pyout",
       "prompt_number": 24,
       "text": [
        "ObjectId('535d1d3d504b2e014066b0b1')"
       ]
      }
     ],
     "prompt_number": 24
    },
    {
     "cell_type": "code",
     "collapsed": false,
     "input": [
      "ents = ms.load_entities(query={'_raws':{'$exists':False}}, num=0, collectionName='activities')"
     ],
     "language": "python",
     "metadata": {},
     "outputs": [],
     "prompt_number": 43
    },
    {
     "cell_type": "code",
     "collapsed": false,
     "input": [
      "ms.show(ents[0], ['title', 'reviews', 'tag','description', '_raws'], 'photo_url')"
     ],
     "language": "python",
     "metadata": {},
     "outputs": [
      {
       "output_type": "stream",
       "stream": "stdout",
       "text": [
        "{\n",
        "    \"reviews\": [\n",
        "        \"Great book store and cafe!\",\n",
        "        \"Great old-fashioned indy book stor...\"\n",
        "    ],\n",
        "    \"_raws\": {\n",
        "        \"shop\": 1,\n",
        "        \"among\": 1,\n",
        "        \"coffee\": 1,\n",
        "        \"shopping\": 1,\n",
        "        \"caffeine-addicted\": 1,\n",
        "        \"company\": 1,\n",
        "        \"specialty\": 1,\n",
        "        \"stor\": 1,\n",
        "        \"in-store\": 1,\n",
        "        \"cafe\": 1,\n",
        "        \"elliott\": 1,\n",
        "        \"!\": 1,\n",
        "        \"great\": 1,\n",
        "        \"old-fashioned\": 1,\n",
        "        \"indy\": 1,\n",
        "        \"bay\": 1,\n",
        "        \"book\": 1,\n",
        "        \"popular\": 1,\n",
        "        \"shops\": 1,\n",
        "        \"seattleites\": 1,\n",
        "        \"store\": 1\n",
        "    },\n",
        "    \"tag\": [\n",
        "        \"Shopping\",\n",
        "        \"Shopping\",\n",
        "        \"Specialty Shops\"\n",
        "    ],\n",
        "    \"description\": \"This book store is popular among caffeine-addicted Seattleites for its in-store coffee shop.\",\n",
        "    \"title\": \"Elliott Bay Book Company\"\n",
        "}\n"
       ]
      },
      {
       "html": [
        "<img src=\"http://media-cdn.tripadvisor.com/media/photo-l/01/1e/12/41/suggestions.jpg\"/>"
       ],
       "metadata": {},
       "output_type": "pyout",
       "prompt_number": 44,
       "text": [
        "<IPython.core.display.Image at 0x5470990>"
       ]
      }
     ],
     "prompt_number": 44
    },
    {
     "cell_type": "code",
     "collapsed": false,
     "input": [
      "extracted = ms.execute(stemT, ents, ['title', 'reviews', 'tag','description'], 'activities')"
     ],
     "language": "python",
     "metadata": {},
     "outputs": [
      {
       "ename": "UnicodeEncodeError",
       "evalue": "'ascii' codec can't encode character u'\\u2026' in position 13: ordinal not in range(128)",
       "output_type": "pyerr",
       "traceback": [
        "\u001b[1;31m---------------------------------------------------------------------------\u001b[0m\n\u001b[1;31mUnicodeEncodeError\u001b[0m                        Traceback (most recent call last)",
        "\u001b[1;32m<ipython-input-35-7ea4b289e75f>\u001b[0m in \u001b[0;36m<module>\u001b[1;34m()\u001b[0m\n\u001b[1;32m----> 1\u001b[1;33m \u001b[0mextracted\u001b[0m \u001b[1;33m=\u001b[0m \u001b[0mms\u001b[0m\u001b[1;33m.\u001b[0m\u001b[0mexecute\u001b[0m\u001b[1;33m(\u001b[0m\u001b[0mstemT\u001b[0m\u001b[1;33m,\u001b[0m \u001b[0ments\u001b[0m\u001b[1;33m,\u001b[0m \u001b[1;33m[\u001b[0m\u001b[1;34m'title'\u001b[0m\u001b[1;33m,\u001b[0m \u001b[1;34m'reviews'\u001b[0m\u001b[1;33m,\u001b[0m \u001b[1;34m'tag'\u001b[0m\u001b[1;33m,\u001b[0m\u001b[1;34m'description'\u001b[0m\u001b[1;33m]\u001b[0m\u001b[1;33m,\u001b[0m \u001b[1;34m'activities'\u001b[0m\u001b[1;33m)\u001b[0m\u001b[1;33m\u001b[0m\u001b[0m\n\u001b[0m",
        "\u001b[1;32m/home/azureuser/pymonk-recommend/monk/roles/scientist.py\u001b[0m in \u001b[0;36mexecute\u001b[1;34m(turtleId, entities, fields, entityCollectionName)\u001b[0m\n\u001b[0;32m     58\u001b[0m     \u001b[1;32mif\u001b[0m \u001b[0mentities\u001b[0m \u001b[1;32mis\u001b[0m \u001b[0mNone\u001b[0m\u001b[1;33m:\u001b[0m\u001b[1;33m\u001b[0m\u001b[0m\n\u001b[0;32m     59\u001b[0m         \u001b[0mentities\u001b[0m \u001b[1;33m=\u001b[0m \u001b[0mmonkapi\u001b[0m\u001b[1;33m.\u001b[0m\u001b[0mload_entities\u001b[0m\u001b[1;33m(\u001b[0m\u001b[0mNone\u001b[0m\u001b[1;33m,\u001b[0m \u001b[0mnum\u001b[0m\u001b[1;33m=\u001b[0m\u001b[1;36m0\u001b[0m\u001b[1;33m)\u001b[0m\u001b[1;33m\u001b[0m\u001b[0m\n\u001b[1;32m---> 60\u001b[1;33m     \u001b[1;33m[\u001b[0m\u001b[0mmonkapi\u001b[0m\u001b[1;33m.\u001b[0m\u001b[0mpredict\u001b[0m\u001b[1;33m(\u001b[0m\u001b[0mturtleId\u001b[0m\u001b[1;33m,\u001b[0m \u001b[0muserId\u001b[0m\u001b[1;33m,\u001b[0m \u001b[0ment\u001b[0m\u001b[1;33m,\u001b[0m \u001b[0mfields\u001b[0m\u001b[1;33m)\u001b[0m \u001b[1;32mfor\u001b[0m \u001b[0ment\u001b[0m \u001b[1;32min\u001b[0m \u001b[0mentities\u001b[0m\u001b[1;33m]\u001b[0m\u001b[1;33m\u001b[0m\u001b[0m\n\u001b[0m\u001b[0;32m     61\u001b[0m     \u001b[0mmonkapi\u001b[0m\u001b[1;33m.\u001b[0m\u001b[0msave_entities\u001b[0m\u001b[1;33m(\u001b[0m\u001b[0mentities\u001b[0m\u001b[1;33m,\u001b[0m \u001b[0mentityCollectionName\u001b[0m\u001b[1;33m)\u001b[0m\u001b[1;33m\u001b[0m\u001b[0m\n\u001b[0;32m     62\u001b[0m     \u001b[1;32mreturn\u001b[0m \u001b[0mentities\u001b[0m\u001b[1;33m\u001b[0m\u001b[0m\n",
        "\u001b[1;32m/home/azureuser/pymonk-recommend/monk/core/api.py\u001b[0m in \u001b[0;36mpredict\u001b[1;34m(turtleId, userId, entity, fields)\u001b[0m\n\u001b[0;32m    190\u001b[0m     \u001b[0m_turtle\u001b[0m \u001b[1;33m=\u001b[0m \u001b[0mcrane\u001b[0m\u001b[1;33m.\u001b[0m\u001b[0mturtleStore\u001b[0m\u001b[1;33m.\u001b[0m\u001b[0mload_one_by_id\u001b[0m\u001b[1;33m(\u001b[0m\u001b[0mturtleId\u001b[0m\u001b[1;33m)\u001b[0m\u001b[1;33m\u001b[0m\u001b[0m\n\u001b[0;32m    191\u001b[0m     \u001b[1;32mif\u001b[0m \u001b[0m_turtle\u001b[0m\u001b[1;33m:\u001b[0m\u001b[1;33m\u001b[0m\u001b[0m\n\u001b[1;32m--> 192\u001b[1;33m         \u001b[1;32mreturn\u001b[0m \u001b[0m_turtle\u001b[0m\u001b[1;33m.\u001b[0m\u001b[0mpredict\u001b[0m\u001b[1;33m(\u001b[0m\u001b[0muserId\u001b[0m\u001b[1;33m,\u001b[0m \u001b[0mentity\u001b[0m\u001b[1;33m,\u001b[0m \u001b[0mfields\u001b[0m\u001b[1;33m)\u001b[0m\u001b[1;33m\u001b[0m\u001b[0m\n\u001b[0m\u001b[0;32m    193\u001b[0m     \u001b[1;32melse\u001b[0m\u001b[1;33m:\u001b[0m\u001b[1;33m\u001b[0m\u001b[0m\n\u001b[0;32m    194\u001b[0m         \u001b[0mlogger\u001b[0m\u001b[1;33m.\u001b[0m\u001b[0mwarning\u001b[0m\u001b[1;33m(\u001b[0m\u001b[1;34m'can not find turtle by {0} to predict'\u001b[0m\u001b[1;33m.\u001b[0m\u001b[0mformat\u001b[0m\u001b[1;33m(\u001b[0m\u001b[0mturtleId\u001b[0m\u001b[1;33m)\u001b[0m\u001b[1;33m)\u001b[0m\u001b[1;33m\u001b[0m\u001b[0m\n",
        "\u001b[1;32m/home/azureuser/pymonk-recommend/monk/core/turtle.pyc\u001b[0m in \u001b[0;36mpredict\u001b[1;34m(self, userId, entity, fields)\u001b[0m\n\u001b[0;32m    312\u001b[0m             \u001b[0mallTokens\u001b[0m \u001b[1;33m=\u001b[0m \u001b[0mself\u001b[0m\u001b[1;33m.\u001b[0m\u001b[0m_process\u001b[0m\u001b[1;33m(\u001b[0m\u001b[0mfield\u001b[0m\u001b[1;33m)\u001b[0m\u001b[1;33m\u001b[0m\u001b[0m\n\u001b[0;32m    313\u001b[0m             \u001b[0mentity\u001b[0m\u001b[1;33m.\u001b[0m\u001b[0m_raws\u001b[0m\u001b[1;33m.\u001b[0m\u001b[0mupdate\u001b[0m\u001b[1;33m(\u001b[0m\u001b[0mallTokens\u001b[0m\u001b[1;33m)\u001b[0m\u001b[1;33m\u001b[0m\u001b[0m\n\u001b[1;32m--> 314\u001b[1;33m             \u001b[0mentity\u001b[0m\u001b[1;33m.\u001b[0m\u001b[0m_features\u001b[0m\u001b[1;33m.\u001b[0m\u001b[0mupdate\u001b[0m\u001b[1;33m(\u001b[0m\u001b[1;33m[\u001b[0m\u001b[0mself\u001b[0m\u001b[1;33m.\u001b[0m\u001b[0m_get_or_new_panda\u001b[0m\u001b[1;33m(\u001b[0m\u001b[0muserId\u001b[0m\u001b[1;33m,\u001b[0m \u001b[0mt\u001b[0m\u001b[1;33m)\u001b[0m \u001b[1;32mfor\u001b[0m \u001b[0mt\u001b[0m \u001b[1;32min\u001b[0m \u001b[0mallTokens\u001b[0m\u001b[1;33m]\u001b[0m\u001b[1;33m)\u001b[0m\u001b[1;33m\u001b[0m\u001b[0m\n\u001b[0m\u001b[0;32m    315\u001b[0m             \u001b[1;32mreturn\u001b[0m \u001b[0mlen\u001b[0m\u001b[1;33m(\u001b[0m\u001b[0mallTokens\u001b[0m\u001b[1;33m)\u001b[0m\u001b[1;33m\u001b[0m\u001b[0m\n\u001b[0;32m    316\u001b[0m         \u001b[1;32melse\u001b[0m\u001b[1;33m:\u001b[0m\u001b[1;33m\u001b[0m\u001b[0m\n",
        "\u001b[1;32m/home/azureuser/pymonk-recommend/monk/core/turtle.pyc\u001b[0m in \u001b[0;36m_get_or_new_panda\u001b[1;34m(self, userId, name)\u001b[0m\n\u001b[0;32m    276\u001b[0m                      \u001b[1;34m'name'\u001b[0m\u001b[1;33m:\u001b[0m\u001b[0mname\u001b[0m\u001b[1;33m,\u001b[0m\u001b[1;33m\u001b[0m\u001b[0m\n\u001b[0;32m    277\u001b[0m                      'creator':userId}\n\u001b[1;32m--> 278\u001b[1;33m             \u001b[0mpanda\u001b[0m \u001b[1;33m=\u001b[0m \u001b[0mcrane\u001b[0m\u001b[1;33m.\u001b[0m\u001b[0mpandaStore\u001b[0m\u001b[1;33m.\u001b[0m\u001b[0mload_create_by_name\u001b[0m\u001b[1;33m(\u001b[0m\u001b[0mpanda\u001b[0m\u001b[1;33m,\u001b[0m \u001b[0mTrue\u001b[0m\u001b[1;33m)\u001b[0m\u001b[1;33m\u001b[0m\u001b[0m\n\u001b[0m\u001b[0;32m    279\u001b[0m             \u001b[0mself\u001b[0m\u001b[1;33m.\u001b[0m\u001b[0madd_panda\u001b[0m\u001b[1;33m(\u001b[0m\u001b[0mpanda\u001b[0m\u001b[1;33m)\u001b[0m\u001b[1;33m\u001b[0m\u001b[0m\n\u001b[0;32m    280\u001b[0m             \u001b[0mself\u001b[0m\u001b[1;33m.\u001b[0m\u001b[0mdictionary\u001b[0m\u001b[1;33m[\u001b[0m\u001b[0mname\u001b[0m\u001b[1;33m]\u001b[0m \u001b[1;33m=\u001b[0m \u001b[0mpanda\u001b[0m\u001b[1;33m.\u001b[0m\u001b[0muid\u001b[0m\u001b[1;33m\u001b[0m\u001b[0m\n",
        "\u001b[1;32m/home/azureuser/pymonk-recommend/monk/core/crane.pyc\u001b[0m in \u001b[0;36mload_create_by_name\u001b[1;34m(self, obj, tosave)\u001b[0m\n\u001b[0;32m    207\u001b[0m             \u001b[1;32mreturn\u001b[0m \u001b[0mself\u001b[0m\u001b[1;33m.\u001b[0m\u001b[0mload_one_by_id\u001b[0m\u001b[1;33m(\u001b[0m\u001b[0mobjId\u001b[0m\u001b[1;33m[\u001b[0m\u001b[1;34m'_id'\u001b[0m\u001b[1;33m]\u001b[0m\u001b[1;33m)\u001b[0m\u001b[1;33m\u001b[0m\u001b[0m\n\u001b[0;32m    208\u001b[0m         \u001b[1;32melse\u001b[0m\u001b[1;33m:\u001b[0m\u001b[1;33m\u001b[0m\u001b[0m\n\u001b[1;32m--> 209\u001b[1;33m             \u001b[0mlogger\u001b[0m\u001b[1;33m.\u001b[0m\u001b[0mdebug\u001b[0m\u001b[1;33m(\u001b[0m\u001b[1;34m'new panda {0}'\u001b[0m\u001b[1;33m.\u001b[0m\u001b[0mformat\u001b[0m\u001b[1;33m(\u001b[0m\u001b[0mobj\u001b[0m\u001b[1;33m[\u001b[0m\u001b[1;34m'name'\u001b[0m\u001b[1;33m]\u001b[0m\u001b[1;33m)\u001b[0m\u001b[1;33m)\u001b[0m\u001b[1;33m\u001b[0m\u001b[0m\n\u001b[0m\u001b[0;32m    210\u001b[0m             \u001b[0mo\u001b[0m \u001b[1;33m=\u001b[0m \u001b[0mself\u001b[0m\u001b[1;33m.\u001b[0m\u001b[0mcreate_one\u001b[0m\u001b[1;33m(\u001b[0m\u001b[0mobj\u001b[0m\u001b[1;33m)\u001b[0m\u001b[1;33m\u001b[0m\u001b[0m\n\u001b[0;32m    211\u001b[0m             \u001b[1;32mif\u001b[0m \u001b[0mtosave\u001b[0m\u001b[1;33m:\u001b[0m\u001b[1;33m\u001b[0m\u001b[0m\n",
        "\u001b[1;31mUnicodeEncodeError\u001b[0m: 'ascii' codec can't encode character u'\\u2026' in position 13: ordinal not in range(128)"
       ]
      }
     ],
     "prompt_number": 35
    },
    {
     "cell_type": "code",
     "collapsed": false,
     "input": [
      "ents[0]._raws.keys()"
     ],
     "language": "python",
     "metadata": {},
     "outputs": [
      {
       "ename": "TypeError",
       "evalue": "'NoneType' object has no attribute '__getitem__'",
       "output_type": "pyerr",
       "traceback": [
        "\u001b[1;31m---------------------------------------------------------------------------\u001b[0m\n\u001b[1;31mTypeError\u001b[0m                                 Traceback (most recent call last)",
        "\u001b[1;32m<ipython-input-30-6b1be2cb1605>\u001b[0m in \u001b[0;36m<module>\u001b[1;34m()\u001b[0m\n\u001b[1;32m----> 1\u001b[1;33m \u001b[0ments\u001b[0m\u001b[1;33m[\u001b[0m\u001b[1;36m0\u001b[0m\u001b[1;33m]\u001b[0m\u001b[1;33m.\u001b[0m\u001b[0m_raws\u001b[0m\u001b[1;33m.\u001b[0m\u001b[0mkeys\u001b[0m\u001b[1;33m(\u001b[0m\u001b[1;33m)\u001b[0m\u001b[1;33m\u001b[0m\u001b[0m\n\u001b[0m",
        "\u001b[1;31mTypeError\u001b[0m: 'NoneType' object has no attribute '__getitem__'"
       ]
      }
     ],
     "prompt_number": 30
    },
    {
     "cell_type": "code",
     "collapsed": false,
     "input": [
      "ents[0]._features"
     ],
     "language": "python",
     "metadata": {},
     "outputs": [
      {
       "metadata": {},
       "output_type": "pyout",
       "prompt_number": 25,
       "text": [
        "* * * 202753:1.0\n",
        "* | | 209925:1.0\n",
        "* * | 212995:1.0 212996:1.0 212997:1.0 212998:1.0 212999:1.0"
       ]
      }
     ],
     "prompt_number": 25
    },
    {
     "cell_type": "code",
     "collapsed": false,
     "input": [],
     "language": "python",
     "metadata": {},
     "outputs": []
    }
   ],
   "metadata": {}
  }
 ]
}