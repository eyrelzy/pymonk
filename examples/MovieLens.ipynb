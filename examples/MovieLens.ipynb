{
 "metadata": {
  "name": "",
  "signature": "sha256:c871192c6db2e728feeb8657929322a068858c66244fc2d1b867b7eafbbd654a"
 },
 "nbformat": 3,
 "nbformat_minor": 0,
 "worksheets": [
  {
   "cells": [
    {
     "cell_type": "code",
     "collapsed": false,
     "input": [
      "import monk.core.api as monkapi"
     ],
     "language": "python",
     "metadata": {},
     "outputs": [],
     "prompt_number": 1
    },
    {
     "cell_type": "code",
     "collapsed": false,
     "input": [
      "from monk.roles.configuration import get_config"
     ],
     "language": "python",
     "metadata": {},
     "outputs": [],
     "prompt_number": 2
    },
    {
     "cell_type": "code",
     "collapsed": false,
     "input": [
      "config = get_config('monk_config.yml', 'console', '')"
     ],
     "language": "python",
     "metadata": {},
     "outputs": [
      {
       "output_type": "stream",
       "stream": "stdout",
       "text": [
        "[2015-01-16 11:10:30,017][8258 ][monk.roles.configuration][INFO    ][93  ][configuration.py] : configuration done\n"
       ]
      }
     ],
     "prompt_number": 4
    },
    {
     "cell_type": "code",
     "collapsed": true,
     "input": [
      "from monk.roles.administrator import AdminBroker as AB"
     ],
     "language": "python",
     "metadata": {},
     "outputs": [],
     "prompt_number": 8
    },
    {
     "cell_type": "code",
     "collapsed": false,
     "input": [
      "from monk.roles.worker import WorkerBroker as WB"
     ],
     "language": "python",
     "metadata": {},
     "outputs": [],
     "prompt_number": 9
    },
    {
     "cell_type": "code",
     "collapsed": false,
     "input": [
      "from monk.roles.monitor import MonitorBroker as MB"
     ],
     "language": "python",
     "metadata": {},
     "outputs": [],
     "prompt_number": 10
    },
    {
     "cell_type": "code",
     "collapsed": false,
     "input": [
      "ab = AB(config.kafkaConnectionString, config.administratorGroup, config.administratorTopic, producerType=AB.FIXED_PRODUCER, producerPartitions=[0])"
     ],
     "language": "python",
     "metadata": {},
     "outputs": [],
     "prompt_number": 11
    },
    {
     "cell_type": "code",
     "collapsed": false,
     "input": [
      "wb = WB(config.kafkaConnectionString, config.workerGroup, config.workerTopic, producerType=WB.USER_PRODUCER)"
     ],
     "language": "python",
     "metadata": {},
     "outputs": [],
     "prompt_number": 13
    },
    {
     "cell_type": "code",
     "collapsed": false,
     "input": [
      "wb.reconnect()"
     ],
     "language": "python",
     "metadata": {},
     "outputs": [],
     "prompt_number": 15
    },
    {
     "cell_type": "code",
     "collapsed": false,
     "input": [
      "mb = MB(config.kafkaConnectionString, config.monitorGroup, config.monitorTopic, producerType=MB.FIXED_PRODUCER, producerPartitions=[0])"
     ],
     "language": "python",
     "metadata": {},
     "outputs": [],
     "prompt_number": 16
    },
    {
     "cell_type": "code",
     "collapsed": false,
     "input": [
      "ls"
     ],
     "language": "python",
     "metadata": {},
     "outputs": [
      {
       "output_type": "stream",
       "stream": "stdout",
       "text": [
        "exper.py        ml-1m-0.test.txt   ml1m-bmf-80.model  monk.console.log           MONK tutorial.ipynb  scientist.yml    xumiao.ipynb\r\n",
        "log_config.yml  ml-1m-0.train.txt  monk_config.yml    \u001b[0m\u001b[01;34mmonk_role_configurations\u001b[0m/  MovieLens.ipynb      \u001b[01;34mturtle_scripts\u001b[0m/\r\n"
       ]
      }
     ],
     "prompt_number": 17
    },
    {
     "cell_type": "code",
     "collapsed": false,
     "input": [
      "import exper"
     ],
     "language": "python",
     "metadata": {},
     "outputs": [],
     "prompt_number": 18
    },
    {
     "cell_type": "code",
     "collapsed": false,
     "input": [
      "userFactors, itemFactors = exper.readModel(\"ml1m-bmf-80.model\")"
     ],
     "language": "python",
     "metadata": {},
     "outputs": [],
     "prompt_number": 20
    },
    {
     "cell_type": "code",
     "collapsed": false,
     "input": [
      "userFactors.shape"
     ],
     "language": "python",
     "metadata": {},
     "outputs": [
      {
       "metadata": {},
       "output_type": "pyout",
       "prompt_number": 21,
       "text": [
        "(6040, 80)"
       ]
      }
     ],
     "prompt_number": 21
    },
    {
     "cell_type": "code",
     "collapsed": false,
     "input": [
      "itemFactors.shape"
     ],
     "language": "python",
     "metadata": {},
     "outputs": [
      {
       "metadata": {},
       "output_type": "pyout",
       "prompt_number": 22,
       "text": [
        "(3685, 80)"
       ]
      }
     ],
     "prompt_number": 22
    },
    {
     "cell_type": "code",
     "collapsed": false,
     "input": [
      "monkapi.exits()"
     ],
     "language": "python",
     "metadata": {},
     "outputs": [
      {
       "output_type": "stream",
       "stream": "stdout",
       "text": [
        "[2015-01-16 13:10:31,286][8258 ][monk.api    ][INFO    ][48  ][api.py  ] : ------end-----------\n"
       ]
      },
      {
       "metadata": {},
       "output_type": "pyout",
       "prompt_number": 45,
       "text": [
        "True"
       ]
      }
     ],
     "prompt_number": 45
    },
    {
     "cell_type": "code",
     "collapsed": false,
     "input": [
      "monkapi.initialize()"
     ],
     "language": "python",
     "metadata": {},
     "outputs": [
      {
       "output_type": "stream",
       "stream": "stdout",
       "text": [
        "[2015-01-16 13:10:47,550][8258 ][monk.api    ][INFO    ][40  ][api.py  ] : ------start up------\n"
       ]
      },
      {
       "output_type": "stream",
       "stream": "stdout",
       "text": [
        "[2015-01-16 13:10:47,645][8258 ][monk.uid    ][INFO    ][32  ][uid.py  ] : initializing uid store\n"
       ]
      },
      {
       "output_type": "stream",
       "stream": "stdout",
       "text": [
        "[2015-01-16 13:10:47,646][8258 ][monk.crane  ][INFO    ][48  ][crane.py] : initializing EntityStore \n"
       ]
      },
      {
       "output_type": "stream",
       "stream": "stdout",
       "text": [
        "[2015-01-16 13:10:47,647][8258 ][monk.crane  ][INFO    ][48  ][crane.py] : initializing UserStore \n"
       ]
      },
      {
       "output_type": "stream",
       "stream": "stdout",
       "text": [
        "[2015-01-16 13:10:47,648][8258 ][monk.crane  ][INFO    ][48  ][crane.py] : initializing EngineStore \n"
       ]
      },
      {
       "output_type": "stream",
       "stream": "stdout",
       "text": [
        "[2015-01-16 13:10:47,649][8258 ][monk.crane  ][INFO    ][48  ][crane.py] : initializing PandaStore \n"
       ]
      },
      {
       "output_type": "stream",
       "stream": "stdout",
       "text": [
        "[2015-01-16 13:10:47,649][8258 ][monk.crane  ][INFO    ][48  ][crane.py] : initializing MantisStore \n"
       ]
      },
      {
       "output_type": "stream",
       "stream": "stdout",
       "text": [
        "[2015-01-16 13:10:47,650][8258 ][monk.crane  ][INFO    ][48  ][crane.py] : initializing TurtleStore \n"
       ]
      },
      {
       "output_type": "stream",
       "stream": "stdout",
       "text": [
        "[2015-01-16 13:10:47,651][8258 ][monk.crane  ][INFO    ][48  ][crane.py] : initializing TigressStore \n"
       ]
      },
      {
       "metadata": {},
       "output_type": "pyout",
       "prompt_number": 46,
       "text": [
        "True"
       ]
      }
     ],
     "prompt_number": 46
    },
    {
     "cell_type": "code",
     "collapsed": false,
     "input": [
      "users = monkapi.crane.userStore.load_all({}, ['name', 'partition'])"
     ],
     "language": "python",
     "metadata": {},
     "outputs": [],
     "prompt_number": 47
    },
    {
     "cell_type": "code",
     "collapsed": false,
     "input": [
      "partitions = set()\n",
      "for user in users:\n",
      "    partitions.add(user[u'partition'])\n",
      "print partitions"
     ],
     "language": "python",
     "metadata": {},
     "outputs": [
      {
       "output_type": "stream",
       "stream": "stdout",
       "text": [
        "set([2, 3, 4, 5, 6, 7, -1])\n"
       ]
      }
     ],
     "prompt_number": 48
    },
    {
     "cell_type": "code",
     "collapsed": false,
     "input": [
      "ab.reconnect()"
     ],
     "language": "python",
     "metadata": {},
     "outputs": [],
     "prompt_number": 40
    },
    {
     "cell_type": "code",
     "collapsed": false,
     "input": [
      "for user in users:\n",
      "    if user[u'partition'] < 0:\n",
      "        ab.update_user(user[u'name'], partition=1)"
     ],
     "language": "python",
     "metadata": {},
     "outputs": [
      {
       "output_type": "stream",
       "stream": "stdout",
       "text": [
        "[2015-01-16 13:02:59,725][8258 ][monk.network.producer][INFO    ][37  ][producer.py] : sending message ('{\"password\": \"\", \"op\": \"UpdateUser\", \"name\": \"mluser0\", \"partition\": 1}',) at monkTestAdmin@0\n"
       ]
      },
      {
       "output_type": "stream",
       "stream": "stdout",
       "text": [
        "[2015-01-16 13:02:59,813][8258 ][monk.network.producer][INFO    ][37  ][producer.py] : sending message ('{\"password\": \"\", \"op\": \"UpdateUser\", \"name\": \"mluser2\", \"partition\": 1}',) at monkTestAdmin@0\n"
       ]
      },
      {
       "output_type": "stream",
       "stream": "stdout",
       "text": [
        "[2015-01-16 13:02:59,820][8258 ][monk.network.producer][INFO    ][37  ][producer.py] : sending message ('{\"password\": \"\", \"op\": \"UpdateUser\", \"name\": \"mluser6\", \"partition\": 1}',) at monkTestAdmin@0\n"
       ]
      },
      {
       "output_type": "stream",
       "stream": "stdout",
       "text": [
        "[2015-01-16 13:02:59,826][8258 ][monk.network.producer][INFO    ][37  ][producer.py] : sending message ('{\"password\": \"\", \"op\": \"UpdateUser\", \"name\": \"mluser8\", \"partition\": 1}',) at monkTestAdmin@0\n"
       ]
      },
      {
       "output_type": "stream",
       "stream": "stdout",
       "text": [
        "[2015-01-16 13:02:59,836][8258 ][monk.network.producer][INFO    ][37  ][producer.py] : sending message ('{\"password\": \"\", \"op\": \"UpdateUser\", \"name\": \"mluser12\", \"partition\": 1}',) at monkTestAdmin@0\n"
       ]
      },
      {
       "output_type": "stream",
       "stream": "stdout",
       "text": [
        "[2015-01-16 13:02:59,843][8258 ][monk.network.producer][INFO    ][37  ][producer.py] : sending message ('{\"password\": \"\", \"op\": \"UpdateUser\", \"name\": \"mluser14\", \"partition\": 1}',) at monkTestAdmin@0\n"
       ]
      },
      {
       "output_type": "stream",
       "stream": "stdout",
       "text": [
        "[2015-01-16 13:02:59,881][8258 ][monk.network.producer][INFO    ][37  ][producer.py] : sending message ('{\"password\": \"\", \"op\": \"UpdateUser\", \"name\": \"mluser18\", \"partition\": 1}',) at monkTestAdmin@0\n"
       ]
      },
      {
       "output_type": "stream",
       "stream": "stdout",
       "text": [
        "[2015-01-16 13:02:59,891][8258 ][monk.network.producer][INFO    ][37  ][producer.py] : sending message ('{\"password\": \"\", \"op\": \"UpdateUser\", \"name\": \"mluser20\", \"partition\": 1}',) at monkTestAdmin@0\n"
       ]
      },
      {
       "output_type": "stream",
       "stream": "stdout",
       "text": [
        "[2015-01-16 13:02:59,901][8258 ][monk.network.producer][INFO    ][37  ][producer.py] : sending message ('{\"password\": \"\", \"op\": \"UpdateUser\", \"name\": \"mluser24\", \"partition\": 1}',) at monkTestAdmin@0\n"
       ]
      },
      {
       "output_type": "stream",
       "stream": "stdout",
       "text": [
        "[2015-01-16 13:02:59,916][8258 ][monk.network.producer][INFO    ][37  ][producer.py] : sending message ('{\"password\": \"\", \"op\": \"UpdateUser\", \"name\": \"mluser26\", \"partition\": 1}',) at monkTestAdmin@0\n"
       ]
      },
      {
       "output_type": "stream",
       "stream": "stdout",
       "text": [
        "[2015-01-16 13:02:59,929][8258 ][monk.network.producer][INFO    ][37  ][producer.py] : sending message ('{\"password\": \"\", \"op\": \"UpdateUser\", \"name\": \"mluser30\", \"partition\": 1}',) at monkTestAdmin@0\n"
       ]
      },
      {
       "output_type": "stream",
       "stream": "stdout",
       "text": [
        "[2015-01-16 13:02:59,948][8258 ][monk.network.producer][INFO    ][37  ][producer.py] : sending message ('{\"password\": \"\", \"op\": \"UpdateUser\", \"name\": \"mluser32\", \"partition\": 1}',) at monkTestAdmin@0\n"
       ]
      },
      {
       "output_type": "stream",
       "stream": "stdout",
       "text": [
        "[2015-01-16 13:02:59,962][8258 ][monk.network.producer][INFO    ][37  ][producer.py] : sending message ('{\"password\": \"\", \"op\": \"UpdateUser\", \"name\": \"mluser36\", \"partition\": 1}',) at monkTestAdmin@0\n"
       ]
      },
      {
       "output_type": "stream",
       "stream": "stdout",
       "text": [
        "[2015-01-16 13:02:59,972][8258 ][monk.network.producer][INFO    ][37  ][producer.py] : sending message ('{\"password\": \"\", \"op\": \"UpdateUser\", \"name\": \"mluser38\", \"partition\": 1}',) at monkTestAdmin@0\n"
       ]
      },
      {
       "output_type": "stream",
       "stream": "stdout",
       "text": [
        "[2015-01-16 13:02:59,986][8258 ][monk.network.producer][INFO    ][37  ][producer.py] : sending message ('{\"password\": \"\", \"op\": \"UpdateUser\", \"name\": \"mluser42\", \"partition\": 1}',) at monkTestAdmin@0\n"
       ]
      },
      {
       "output_type": "stream",
       "stream": "stdout",
       "text": [
        "[2015-01-16 13:03:00,001][8258 ][monk.network.producer][INFO    ][37  ][producer.py] : sending message ('{\"password\": \"\", \"op\": \"UpdateUser\", \"name\": \"mluser44\", \"partition\": 1}',) at monkTestAdmin@0\n"
       ]
      },
      {
       "output_type": "stream",
       "stream": "stdout",
       "text": [
        "[2015-01-16 13:03:00,037][8258 ][monk.network.producer][INFO    ][37  ][producer.py] : sending message ('{\"password\": \"\", \"op\": \"UpdateUser\", \"name\": \"mluser48\", \"partition\": 1}',) at monkTestAdmin@0\n"
       ]
      },
      {
       "output_type": "stream",
       "stream": "stdout",
       "text": [
        "[2015-01-16 13:03:00,049][8258 ][monk.network.producer][INFO    ][37  ][producer.py] : sending message ('{\"password\": \"\", \"op\": \"UpdateUser\", \"name\": \"mluser50\", \"partition\": 1}',) at monkTestAdmin@0\n"
       ]
      },
      {
       "output_type": "stream",
       "stream": "stdout",
       "text": [
        "[2015-01-16 13:03:00,065][8258 ][monk.network.producer][INFO    ][37  ][producer.py] : sending message ('{\"password\": \"\", \"op\": \"UpdateUser\", \"name\": \"mluser54\", \"partition\": 1}',) at monkTestAdmin@0\n"
       ]
      },
      {
       "output_type": "stream",
       "stream": "stdout",
       "text": [
        "[2015-01-16 13:03:00,073][8258 ][monk.network.producer][INFO    ][37  ][producer.py] : sending message ('{\"password\": \"\", \"op\": \"UpdateUser\", \"name\": \"mluser56\", \"partition\": 1}',) at monkTestAdmin@0\n"
       ]
      },
      {
       "output_type": "stream",
       "stream": "stdout",
       "text": [
        "[2015-01-16 13:03:00,087][8258 ][monk.network.producer][INFO    ][37  ][producer.py] : sending message ('{\"password\": \"\", \"op\": \"UpdateUser\", \"name\": \"mluser60\", \"partition\": 1}',) at monkTestAdmin@0\n"
       ]
      },
      {
       "output_type": "stream",
       "stream": "stdout",
       "text": [
        "[2015-01-16 13:03:00,094][8258 ][monk.network.producer][INFO    ][37  ][producer.py] : sending message ('{\"password\": \"\", \"op\": \"UpdateUser\", \"name\": \"mluser62\", \"partition\": 1}',) at monkTestAdmin@0\n"
       ]
      },
      {
       "output_type": "stream",
       "stream": "stdout",
       "text": [
        "[2015-01-16 13:03:00,102][8258 ][monk.network.producer][INFO    ][37  ][producer.py] : sending message ('{\"password\": \"\", \"op\": \"UpdateUser\", \"name\": \"mluser66\", \"partition\": 1}',) at monkTestAdmin@0\n"
       ]
      },
      {
       "output_type": "stream",
       "stream": "stdout",
       "text": [
        "[2015-01-16 13:03:00,110][8258 ][monk.network.producer][INFO    ][37  ][producer.py] : sending message ('{\"password\": \"\", \"op\": \"UpdateUser\", \"name\": \"mluser68\", \"partition\": 1}',) at monkTestAdmin@0\n"
       ]
      },
      {
       "output_type": "stream",
       "stream": "stdout",
       "text": [
        "[2015-01-16 13:03:00,123][8258 ][monk.network.producer][INFO    ][37  ][producer.py] : sending message ('{\"password\": \"\", \"op\": \"UpdateUser\", \"name\": \"mluser72\", \"partition\": 1}',) at monkTestAdmin@0\n"
       ]
      },
      {
       "output_type": "stream",
       "stream": "stdout",
       "text": [
        "[2015-01-16 13:03:00,132][8258 ][monk.network.producer][INFO    ][37  ][producer.py] : sending message ('{\"password\": \"\", \"op\": \"UpdateUser\", \"name\": \"mluser74\", \"partition\": 1}',) at monkTestAdmin@0\n"
       ]
      },
      {
       "output_type": "stream",
       "stream": "stdout",
       "text": [
        "[2015-01-16 13:03:00,141][8258 ][monk.network.producer][INFO    ][37  ][producer.py] : sending message ('{\"password\": \"\", \"op\": \"UpdateUser\", \"name\": \"mluser78\", \"partition\": 1}',) at monkTestAdmin@0\n"
       ]
      },
      {
       "output_type": "stream",
       "stream": "stdout",
       "text": [
        "[2015-01-16 13:03:00,150][8258 ][monk.network.producer][INFO    ][37  ][producer.py] : sending message ('{\"password\": \"\", \"op\": \"UpdateUser\", \"name\": \"mluser80\", \"partition\": 1}',) at monkTestAdmin@0\n"
       ]
      },
      {
       "output_type": "stream",
       "stream": "stdout",
       "text": [
        "[2015-01-16 13:03:00,173][8258 ][monk.network.producer][INFO    ][37  ][producer.py] : sending message ('{\"password\": \"\", \"op\": \"UpdateUser\", \"name\": \"mluser84\", \"partition\": 1}',) at monkTestAdmin@0\n"
       ]
      },
      {
       "output_type": "stream",
       "stream": "stdout",
       "text": [
        "[2015-01-16 13:03:00,180][8258 ][monk.network.producer][INFO    ][37  ][producer.py] : sending message ('{\"password\": \"\", \"op\": \"UpdateUser\", \"name\": \"mluser86\", \"partition\": 1}',) at monkTestAdmin@0\n"
       ]
      },
      {
       "output_type": "stream",
       "stream": "stdout",
       "text": [
        "[2015-01-16 13:03:00,205][8258 ][monk.network.producer][INFO    ][37  ][producer.py] : sending message ('{\"password\": \"\", \"op\": \"UpdateUser\", \"name\": \"mluser90\", \"partition\": 1}',) at monkTestAdmin@0\n"
       ]
      },
      {
       "output_type": "stream",
       "stream": "stdout",
       "text": [
        "[2015-01-16 13:03:00,222][8258 ][monk.network.producer][INFO    ][37  ][producer.py] : sending message ('{\"password\": \"\", \"op\": \"UpdateUser\", \"name\": \"mluser92\", \"partition\": 1}',) at monkTestAdmin@0\n"
       ]
      },
      {
       "output_type": "stream",
       "stream": "stdout",
       "text": [
        "[2015-01-16 13:03:00,235][8258 ][monk.network.producer][INFO    ][37  ][producer.py] : sending message ('{\"password\": \"\", \"op\": \"UpdateUser\", \"name\": \"mluser96\", \"partition\": 1}',) at monkTestAdmin@0\n"
       ]
      },
      {
       "output_type": "stream",
       "stream": "stdout",
       "text": [
        "[2015-01-16 13:03:00,247][8258 ][monk.network.producer][INFO    ][37  ][producer.py] : sending message ('{\"password\": \"\", \"op\": \"UpdateUser\", \"name\": \"mluser98\", \"partition\": 1}',) at monkTestAdmin@0\n"
       ]
      },
      {
       "output_type": "stream",
       "stream": "stdout",
       "text": [
        "[2015-01-16 13:03:00,255][8258 ][monk.network.producer][INFO    ][37  ][producer.py] : sending message ('{\"password\": \"\", \"op\": \"UpdateUser\", \"name\": \"mluser102\", \"partition\": 1}',) at monkTestAdmin@0\n"
       ]
      },
      {
       "output_type": "stream",
       "stream": "stdout",
       "text": [
        "[2015-01-16 13:03:00,261][8258 ][monk.network.producer][INFO    ][37  ][producer.py] : sending message ('{\"password\": \"\", \"op\": \"UpdateUser\", \"name\": \"mluser104\", \"partition\": 1}',) at monkTestAdmin@0\n"
       ]
      },
      {
       "output_type": "stream",
       "stream": "stdout",
       "text": [
        "[2015-01-16 13:03:00,269][8258 ][monk.network.producer][INFO    ][37  ][producer.py] : sending message ('{\"password\": \"\", \"op\": \"UpdateUser\", \"name\": \"mluser108\", \"partition\": 1}',) at monkTestAdmin@0\n"
       ]
      },
      {
       "output_type": "stream",
       "stream": "stdout",
       "text": [
        "[2015-01-16 13:03:00,275][8258 ][monk.network.producer][INFO    ][37  ][producer.py] : sending message ('{\"password\": \"\", \"op\": \"UpdateUser\", \"name\": \"mluser110\", \"partition\": 1}',) at monkTestAdmin@0\n"
       ]
      },
      {
       "output_type": "stream",
       "stream": "stdout",
       "text": [
        "[2015-01-16 13:03:00,291][8258 ][monk.network.producer][INFO    ][37  ][producer.py] : sending message ('{\"password\": \"\", \"op\": \"UpdateUser\", \"name\": \"mluser114\", \"partition\": 1}',) at monkTestAdmin@0\n"
       ]
      },
      {
       "output_type": "stream",
       "stream": "stdout",
       "text": [
        "[2015-01-16 13:03:00,298][8258 ][monk.network.producer][INFO    ][37  ][producer.py] : sending message ('{\"password\": \"\", \"op\": \"UpdateUser\", \"name\": \"mluser116\", \"partition\": 1}',) at monkTestAdmin@0\n"
       ]
      },
      {
       "output_type": "stream",
       "stream": "stdout",
       "text": [
        "[2015-01-16 13:03:00,307][8258 ][monk.network.producer][INFO    ][37  ][producer.py] : sending message ('{\"password\": \"\", \"op\": \"UpdateUser\", \"name\": \"mluser120\", \"partition\": 1}',) at monkTestAdmin@0\n"
       ]
      },
      {
       "output_type": "stream",
       "stream": "stdout",
       "text": [
        "[2015-01-16 13:03:00,315][8258 ][monk.network.producer][INFO    ][37  ][producer.py] : sending message ('{\"password\": \"\", \"op\": \"UpdateUser\", \"name\": \"mluser122\", \"partition\": 1}',) at monkTestAdmin@0\n"
       ]
      },
      {
       "output_type": "stream",
       "stream": "stdout",
       "text": [
        "[2015-01-16 13:03:00,324][8258 ][monk.network.producer][INFO    ][37  ][producer.py] : sending message ('{\"password\": \"\", \"op\": \"UpdateUser\", \"name\": \"mluser126\", \"partition\": 1}',) at monkTestAdmin@0\n"
       ]
      },
      {
       "output_type": "stream",
       "stream": "stdout",
       "text": [
        "[2015-01-16 13:03:00,333][8258 ][monk.network.producer][INFO    ][37  ][producer.py] : sending message ('{\"password\": \"\", \"op\": \"UpdateUser\", \"name\": \"mluser128\", \"partition\": 1}',) at monkTestAdmin@0\n"
       ]
      },
      {
       "output_type": "stream",
       "stream": "stdout",
       "text": [
        "[2015-01-16 13:03:00,344][8258 ][monk.network.producer][INFO    ][37  ][producer.py] : sending message ('{\"password\": \"\", \"op\": \"UpdateUser\", \"name\": \"mluser132\", \"partition\": 1}',) at monkTestAdmin@0\n"
       ]
      },
      {
       "output_type": "stream",
       "stream": "stdout",
       "text": [
        "[2015-01-16 13:03:00,351][8258 ][monk.network.producer][INFO    ][37  ][producer.py] : sending message ('{\"password\": \"\", \"op\": \"UpdateUser\", \"name\": \"mluser134\", \"partition\": 1}',) at monkTestAdmin@0\n"
       ]
      },
      {
       "output_type": "stream",
       "stream": "stdout",
       "text": [
        "[2015-01-16 13:03:00,357][8258 ][monk.network.producer][INFO    ][37  ][producer.py] : sending message ('{\"password\": \"\", \"op\": \"UpdateUser\", \"name\": \"mluser138\", \"partition\": 1}',) at monkTestAdmin@0\n"
       ]
      },
      {
       "output_type": "stream",
       "stream": "stdout",
       "text": [
        "[2015-01-16 13:03:00,366][8258 ][monk.network.producer][INFO    ][37  ][producer.py] : sending message ('{\"password\": \"\", \"op\": \"UpdateUser\", \"name\": \"mluser140\", \"partition\": 1}',) at monkTestAdmin@0\n"
       ]
      },
      {
       "output_type": "stream",
       "stream": "stdout",
       "text": [
        "[2015-01-16 13:03:00,374][8258 ][monk.network.producer][INFO    ][37  ][producer.py] : sending message ('{\"password\": \"\", \"op\": \"UpdateUser\", \"name\": \"mluser144\", \"partition\": 1}',) at monkTestAdmin@0\n"
       ]
      },
      {
       "output_type": "stream",
       "stream": "stdout",
       "text": [
        "[2015-01-16 13:03:00,383][8258 ][monk.network.producer][INFO    ][37  ][producer.py] : sending message ('{\"password\": \"\", \"op\": \"UpdateUser\", \"name\": \"mluser146\", \"partition\": 1}',) at monkTestAdmin@0\n"
       ]
      },
      {
       "output_type": "stream",
       "stream": "stdout",
       "text": [
        "[2015-01-16 13:03:00,393][8258 ][monk.network.producer][INFO    ][37  ][producer.py] : sending message ('{\"password\": \"\", \"op\": \"UpdateUser\", \"name\": \"mluser150\", \"partition\": 1}',) at monkTestAdmin@0\n"
       ]
      },
      {
       "output_type": "stream",
       "stream": "stdout",
       "text": [
        "[2015-01-16 13:03:00,399][8258 ][monk.network.producer][INFO    ][37  ][producer.py] : sending message ('{\"password\": \"\", \"op\": \"UpdateUser\", \"name\": \"mluser152\", \"partition\": 1}',) at monkTestAdmin@0\n"
       ]
      },
      {
       "output_type": "stream",
       "stream": "stdout",
       "text": [
        "[2015-01-16 13:03:00,410][8258 ][monk.network.producer][INFO    ][37  ][producer.py] : sending message ('{\"password\": \"\", \"op\": \"UpdateUser\", \"name\": \"mluser156\", \"partition\": 1}',) at monkTestAdmin@0\n"
       ]
      },
      {
       "output_type": "stream",
       "stream": "stdout",
       "text": [
        "[2015-01-16 13:03:00,419][8258 ][monk.network.producer][INFO    ][37  ][producer.py] : sending message ('{\"password\": \"\", \"op\": \"UpdateUser\", \"name\": \"mluser158\", \"partition\": 1}',) at monkTestAdmin@0\n"
       ]
      },
      {
       "output_type": "stream",
       "stream": "stdout",
       "text": [
        "[2015-01-16 13:03:00,430][8258 ][monk.network.producer][INFO    ][37  ][producer.py] : sending message ('{\"password\": \"\", \"op\": \"UpdateUser\", \"name\": \"mluser162\", \"partition\": 1}',) at monkTestAdmin@0\n"
       ]
      },
      {
       "output_type": "stream",
       "stream": "stdout",
       "text": [
        "[2015-01-16 13:03:00,435][8258 ][monk.network.producer][INFO    ][37  ][producer.py] : sending message ('{\"password\": \"\", \"op\": \"UpdateUser\", \"name\": \"mluser164\", \"partition\": 1}',) at monkTestAdmin@0\n"
       ]
      },
      {
       "output_type": "stream",
       "stream": "stdout",
       "text": [
        "[2015-01-16 13:03:00,447][8258 ][monk.network.producer][INFO    ][37  ][producer.py] : sending message ('{\"password\": \"\", \"op\": \"UpdateUser\", \"name\": \"mluser168\", \"partition\": 1}',) at monkTestAdmin@0\n"
       ]
      },
      {
       "output_type": "stream",
       "stream": "stdout",
       "text": [
        "[2015-01-16 13:03:00,452][8258 ][monk.network.producer][INFO    ][37  ][producer.py] : sending message ('{\"password\": \"\", \"op\": \"UpdateUser\", \"name\": \"mluser170\", \"partition\": 1}',) at monkTestAdmin@0\n"
       ]
      },
      {
       "output_type": "stream",
       "stream": "stdout",
       "text": [
        "[2015-01-16 13:03:00,462][8258 ][monk.network.producer][INFO    ][37  ][producer.py] : sending message ('{\"password\": \"\", \"op\": \"UpdateUser\", \"name\": \"mluser174\", \"partition\": 1}',) at monkTestAdmin@0\n"
       ]
      },
      {
       "output_type": "stream",
       "stream": "stdout",
       "text": [
        "[2015-01-16 13:03:00,469][8258 ][monk.network.producer][INFO    ][37  ][producer.py] : sending message ('{\"password\": \"\", \"op\": \"UpdateUser\", \"name\": \"mluser176\", \"partition\": 1}',) at monkTestAdmin@0\n"
       ]
      },
      {
       "output_type": "stream",
       "stream": "stdout",
       "text": [
        "[2015-01-16 13:03:00,476][8258 ][monk.network.producer][INFO    ][37  ][producer.py] : sending message ('{\"password\": \"\", \"op\": \"UpdateUser\", \"name\": \"mluser180\", \"partition\": 1}',) at monkTestAdmin@0\n"
       ]
      },
      {
       "output_type": "stream",
       "stream": "stdout",
       "text": [
        "[2015-01-16 13:03:00,485][8258 ][monk.network.producer][INFO    ][37  ][producer.py] : sending message ('{\"password\": \"\", \"op\": \"UpdateUser\", \"name\": \"mluser182\", \"partition\": 1}',) at monkTestAdmin@0\n"
       ]
      },
      {
       "output_type": "stream",
       "stream": "stdout",
       "text": [
        "[2015-01-16 13:03:00,495][8258 ][monk.network.producer][INFO    ][37  ][producer.py] : sending message ('{\"password\": \"\", \"op\": \"UpdateUser\", \"name\": \"mluser186\", \"partition\": 1}',) at monkTestAdmin@0\n"
       ]
      },
      {
       "output_type": "stream",
       "stream": "stdout",
       "text": [
        "[2015-01-16 13:03:00,503][8258 ][monk.network.producer][INFO    ][37  ][producer.py] : sending message ('{\"password\": \"\", \"op\": \"UpdateUser\", \"name\": \"mluser188\", \"partition\": 1}',) at monkTestAdmin@0\n"
       ]
      },
      {
       "output_type": "stream",
       "stream": "stdout",
       "text": [
        "[2015-01-16 13:03:00,513][8258 ][monk.network.producer][INFO    ][37  ][producer.py] : sending message ('{\"password\": \"\", \"op\": \"UpdateUser\", \"name\": \"mluser192\", \"partition\": 1}',) at monkTestAdmin@0\n"
       ]
      },
      {
       "output_type": "stream",
       "stream": "stdout",
       "text": [
        "[2015-01-16 13:03:00,520][8258 ][monk.network.producer][INFO    ][37  ][producer.py] : sending message ('{\"password\": \"\", \"op\": \"UpdateUser\", \"name\": \"mluser194\", \"partition\": 1}',) at monkTestAdmin@0\n"
       ]
      },
      {
       "output_type": "stream",
       "stream": "stdout",
       "text": [
        "[2015-01-16 13:03:00,527][8258 ][monk.network.producer][INFO    ][37  ][producer.py] : sending message ('{\"password\": \"\", \"op\": \"UpdateUser\", \"name\": \"mluser198\", \"partition\": 1}',) at monkTestAdmin@0\n"
       ]
      },
      {
       "output_type": "stream",
       "stream": "stdout",
       "text": [
        "[2015-01-16 13:03:00,532][8258 ][monk.network.producer][INFO    ][37  ][producer.py] : sending message ('{\"password\": \"\", \"op\": \"UpdateUser\", \"name\": \"mluser200\", \"partition\": 1}',) at monkTestAdmin@0\n"
       ]
      },
      {
       "output_type": "stream",
       "stream": "stdout",
       "text": [
        "[2015-01-16 13:03:00,538][8258 ][monk.network.producer][INFO    ][37  ][producer.py] : sending message ('{\"password\": \"\", \"op\": \"UpdateUser\", \"name\": \"mluser204\", \"partition\": 1}',) at monkTestAdmin@0\n"
       ]
      },
      {
       "output_type": "stream",
       "stream": "stdout",
       "text": [
        "[2015-01-16 13:03:00,550][8258 ][monk.network.producer][INFO    ][37  ][producer.py] : sending message ('{\"password\": \"\", \"op\": \"UpdateUser\", \"name\": \"mluser206\", \"partition\": 1}',) at monkTestAdmin@0\n"
       ]
      },
      {
       "output_type": "stream",
       "stream": "stdout",
       "text": [
        "[2015-01-16 13:03:00,557][8258 ][monk.network.producer][INFO    ][37  ][producer.py] : sending message ('{\"password\": \"\", \"op\": \"UpdateUser\", \"name\": \"mluser210\", \"partition\": 1}',) at monkTestAdmin@0\n"
       ]
      },
      {
       "output_type": "stream",
       "stream": "stdout",
       "text": [
        "[2015-01-16 13:03:00,565][8258 ][monk.network.producer][INFO    ][37  ][producer.py] : sending message ('{\"password\": \"\", \"op\": \"UpdateUser\", \"name\": \"mluser212\", \"partition\": 1}',) at monkTestAdmin@0\n"
       ]
      },
      {
       "output_type": "stream",
       "stream": "stdout",
       "text": [
        "[2015-01-16 13:03:00,571][8258 ][monk.network.producer][INFO    ][37  ][producer.py] : sending message ('{\"password\": \"\", \"op\": \"UpdateUser\", \"name\": \"mluser216\", \"partition\": 1}',) at monkTestAdmin@0\n"
       ]
      },
      {
       "output_type": "stream",
       "stream": "stdout",
       "text": [
        "[2015-01-16 13:03:00,577][8258 ][monk.network.producer][INFO    ][37  ][producer.py] : sending message ('{\"password\": \"\", \"op\": \"UpdateUser\", \"name\": \"mluser218\", \"partition\": 1}',) at monkTestAdmin@0\n"
       ]
      },
      {
       "output_type": "stream",
       "stream": "stdout",
       "text": [
        "[2015-01-16 13:03:00,583][8258 ][monk.network.producer][INFO    ][37  ][producer.py] : sending message ('{\"password\": \"\", \"op\": \"UpdateUser\", \"name\": \"mluser222\", \"partition\": 1}',) at monkTestAdmin@0\n"
       ]
      },
      {
       "output_type": "stream",
       "stream": "stdout",
       "text": [
        "[2015-01-16 13:03:00,601][8258 ][monk.network.producer][INFO    ][37  ][producer.py] : sending message ('{\"password\": \"\", \"op\": \"UpdateUser\", \"name\": \"mluser224\", \"partition\": 1}',) at monkTestAdmin@0\n"
       ]
      },
      {
       "output_type": "stream",
       "stream": "stdout",
       "text": [
        "[2015-01-16 13:03:00,608][8258 ][monk.network.producer][INFO    ][37  ][producer.py] : sending message ('{\"password\": \"\", \"op\": \"UpdateUser\", \"name\": \"mluser228\", \"partition\": 1}',) at monkTestAdmin@0\n"
       ]
      },
      {
       "output_type": "stream",
       "stream": "stdout",
       "text": [
        "[2015-01-16 13:03:00,615][8258 ][monk.network.producer][INFO    ][37  ][producer.py] : sending message ('{\"password\": \"\", \"op\": \"UpdateUser\", \"name\": \"mluser230\", \"partition\": 1}',) at monkTestAdmin@0\n"
       ]
      },
      {
       "output_type": "stream",
       "stream": "stdout",
       "text": [
        "[2015-01-16 13:03:00,622][8258 ][monk.network.producer][INFO    ][37  ][producer.py] : sending message ('{\"password\": \"\", \"op\": \"UpdateUser\", \"name\": \"mluser234\", \"partition\": 1}',) at monkTestAdmin@0\n"
       ]
      },
      {
       "output_type": "stream",
       "stream": "stdout",
       "text": [
        "[2015-01-16 13:03:00,630][8258 ][monk.network.producer][INFO    ][37  ][producer.py] : sending message ('{\"password\": \"\", \"op\": \"UpdateUser\", \"name\": \"mluser236\", \"partition\": 1}',) at monkTestAdmin@0\n"
       ]
      },
      {
       "output_type": "stream",
       "stream": "stdout",
       "text": [
        "[2015-01-16 13:03:00,637][8258 ][monk.network.producer][INFO    ][37  ][producer.py] : sending message ('{\"password\": \"\", \"op\": \"UpdateUser\", \"name\": \"mluser240\", \"partition\": 1}',) at monkTestAdmin@0\n"
       ]
      },
      {
       "output_type": "stream",
       "stream": "stdout",
       "text": [
        "[2015-01-16 13:03:00,643][8258 ][monk.network.producer][INFO    ][37  ][producer.py] : sending message ('{\"password\": \"\", \"op\": \"UpdateUser\", \"name\": \"mluser242\", \"partition\": 1}',) at monkTestAdmin@0\n"
       ]
      },
      {
       "output_type": "stream",
       "stream": "stdout",
       "text": [
        "[2015-01-16 13:03:00,657][8258 ][monk.network.producer][INFO    ][37  ][producer.py] : sending message ('{\"password\": \"\", \"op\": \"UpdateUser\", \"name\": \"mluser246\", \"partition\": 1}',) at monkTestAdmin@0\n"
       ]
      },
      {
       "output_type": "stream",
       "stream": "stdout",
       "text": [
        "[2015-01-16 13:03:00,666][8258 ][monk.network.producer][INFO    ][37  ][producer.py] : sending message ('{\"password\": \"\", \"op\": \"UpdateUser\", \"name\": \"mluser248\", \"partition\": 1}',) at monkTestAdmin@0\n"
       ]
      },
      {
       "output_type": "stream",
       "stream": "stdout",
       "text": [
        "[2015-01-16 13:03:00,673][8258 ][monk.network.producer][INFO    ][37  ][producer.py] : sending message ('{\"password\": \"\", \"op\": \"UpdateUser\", \"name\": \"mluser252\", \"partition\": 1}',) at monkTestAdmin@0\n"
       ]
      },
      {
       "output_type": "stream",
       "stream": "stdout",
       "text": [
        "[2015-01-16 13:03:00,679][8258 ][monk.network.producer][INFO    ][37  ][producer.py] : sending message ('{\"password\": \"\", \"op\": \"UpdateUser\", \"name\": \"mluser254\", \"partition\": 1}',) at monkTestAdmin@0\n"
       ]
      },
      {
       "output_type": "stream",
       "stream": "stdout",
       "text": [
        "[2015-01-16 13:03:00,687][8258 ][monk.network.producer][INFO    ][37  ][producer.py] : sending message ('{\"password\": \"\", \"op\": \"UpdateUser\", \"name\": \"mluser258\", \"partition\": 1}',) at monkTestAdmin@0\n"
       ]
      },
      {
       "output_type": "stream",
       "stream": "stdout",
       "text": [
        "[2015-01-16 13:03:00,701][8258 ][monk.network.producer][INFO    ][37  ][producer.py] : sending message ('{\"password\": \"\", \"op\": \"UpdateUser\", \"name\": \"mluser260\", \"partition\": 1}',) at monkTestAdmin@0\n"
       ]
      },
      {
       "output_type": "stream",
       "stream": "stdout",
       "text": [
        "[2015-01-16 13:03:00,707][8258 ][monk.network.producer][INFO    ][37  ][producer.py] : sending message ('{\"password\": \"\", \"op\": \"UpdateUser\", \"name\": \"mluser264\", \"partition\": 1}',) at monkTestAdmin@0\n"
       ]
      },
      {
       "output_type": "stream",
       "stream": "stdout",
       "text": [
        "[2015-01-16 13:03:00,718][8258 ][monk.network.producer][INFO    ][37  ][producer.py] : sending message ('{\"password\": \"\", \"op\": \"UpdateUser\", \"name\": \"mluser266\", \"partition\": 1}',) at monkTestAdmin@0\n"
       ]
      },
      {
       "output_type": "stream",
       "stream": "stdout",
       "text": [
        "[2015-01-16 13:03:00,725][8258 ][monk.network.producer][INFO    ][37  ][producer.py] : sending message ('{\"password\": \"\", \"op\": \"UpdateUser\", \"name\": \"mluser270\", \"partition\": 1}',) at monkTestAdmin@0\n"
       ]
      },
      {
       "output_type": "stream",
       "stream": "stdout",
       "text": [
        "[2015-01-16 13:03:00,733][8258 ][monk.network.producer][INFO    ][37  ][producer.py] : sending message ('{\"password\": \"\", \"op\": \"UpdateUser\", \"name\": \"mluser272\", \"partition\": 1}',) at monkTestAdmin@0\n"
       ]
      },
      {
       "output_type": "stream",
       "stream": "stdout",
       "text": [
        "[2015-01-16 13:03:00,742][8258 ][monk.network.producer][INFO    ][37  ][producer.py] : sending message ('{\"password\": \"\", \"op\": \"UpdateUser\", \"name\": \"mluser276\", \"partition\": 1}',) at monkTestAdmin@0\n"
       ]
      },
      {
       "output_type": "stream",
       "stream": "stdout",
       "text": [
        "[2015-01-16 13:03:00,753][8258 ][monk.network.producer][INFO    ][37  ][producer.py] : sending message ('{\"password\": \"\", \"op\": \"UpdateUser\", \"name\": \"mluser278\", \"partition\": 1}',) at monkTestAdmin@0\n"
       ]
      },
      {
       "output_type": "stream",
       "stream": "stdout",
       "text": [
        "[2015-01-16 13:03:00,759][8258 ][monk.network.producer][INFO    ][37  ][producer.py] : sending message ('{\"password\": \"\", \"op\": \"UpdateUser\", \"name\": \"mluser282\", \"partition\": 1}',) at monkTestAdmin@0\n"
       ]
      },
      {
       "output_type": "stream",
       "stream": "stdout",
       "text": [
        "[2015-01-16 13:03:00,768][8258 ][monk.network.producer][INFO    ][37  ][producer.py] : sending message ('{\"password\": \"\", \"op\": \"UpdateUser\", \"name\": \"mluser284\", \"partition\": 1}',) at monkTestAdmin@0\n"
       ]
      },
      {
       "output_type": "stream",
       "stream": "stdout",
       "text": [
        "[2015-01-16 13:03:00,774][8258 ][monk.network.producer][INFO    ][37  ][producer.py] : sending message ('{\"password\": \"\", \"op\": \"UpdateUser\", \"name\": \"mluser288\", \"partition\": 1}',) at monkTestAdmin@0\n"
       ]
      },
      {
       "output_type": "stream",
       "stream": "stdout",
       "text": [
        "[2015-01-16 13:03:00,782][8258 ][monk.network.producer][INFO    ][37  ][producer.py] : sending message ('{\"password\": \"\", \"op\": \"UpdateUser\", \"name\": \"mluser290\", \"partition\": 1}',) at monkTestAdmin@0\n"
       ]
      },
      {
       "output_type": "stream",
       "stream": "stdout",
       "text": [
        "[2015-01-16 13:03:00,792][8258 ][monk.network.producer][INFO    ][37  ][producer.py] : sending message ('{\"password\": \"\", \"op\": \"UpdateUser\", \"name\": \"mluser294\", \"partition\": 1}',) at monkTestAdmin@0\n"
       ]
      },
      {
       "output_type": "stream",
       "stream": "stdout",
       "text": [
        "[2015-01-16 13:03:00,803][8258 ][monk.network.producer][INFO    ][37  ][producer.py] : sending message ('{\"password\": \"\", \"op\": \"UpdateUser\", \"name\": \"mluser296\", \"partition\": 1}',) at monkTestAdmin@0\n"
       ]
      },
      {
       "output_type": "stream",
       "stream": "stdout",
       "text": [
        "[2015-01-16 13:03:00,809][8258 ][monk.network.producer][INFO    ][37  ][producer.py] : sending message ('{\"password\": \"\", \"op\": \"UpdateUser\", \"name\": \"mluser300\", \"partition\": 1}',) at monkTestAdmin@0\n"
       ]
      },
      {
       "output_type": "stream",
       "stream": "stdout",
       "text": [
        "[2015-01-16 13:03:00,820][8258 ][monk.network.producer][INFO    ][37  ][producer.py] : sending message ('{\"password\": \"\", \"op\": \"UpdateUser\", \"name\": \"mluser302\", \"partition\": 1}',) at monkTestAdmin@0\n"
       ]
      },
      {
       "output_type": "stream",
       "stream": "stdout",
       "text": [
        "[2015-01-16 13:03:00,829][8258 ][monk.network.producer][INFO    ][37  ][producer.py] : sending message ('{\"password\": \"\", \"op\": \"UpdateUser\", \"name\": \"mluser306\", \"partition\": 1}',) at monkTestAdmin@0\n"
       ]
      },
      {
       "output_type": "stream",
       "stream": "stdout",
       "text": [
        "[2015-01-16 13:03:00,836][8258 ][monk.network.producer][INFO    ][37  ][producer.py] : sending message ('{\"password\": \"\", \"op\": \"UpdateUser\", \"name\": \"mluser308\", \"partition\": 1}',) at monkTestAdmin@0\n"
       ]
      },
      {
       "output_type": "stream",
       "stream": "stdout",
       "text": [
        "[2015-01-16 13:03:00,842][8258 ][monk.network.producer][INFO    ][37  ][producer.py] : sending message ('{\"password\": \"\", \"op\": \"UpdateUser\", \"name\": \"mluser312\", \"partition\": 1}',) at monkTestAdmin@0\n"
       ]
      },
      {
       "output_type": "stream",
       "stream": "stdout",
       "text": [
        "[2015-01-16 13:03:00,849][8258 ][monk.network.producer][INFO    ][37  ][producer.py] : sending message ('{\"password\": \"\", \"op\": \"UpdateUser\", \"name\": \"mluser314\", \"partition\": 1}',) at monkTestAdmin@0\n"
       ]
      },
      {
       "output_type": "stream",
       "stream": "stdout",
       "text": [
        "[2015-01-16 13:03:00,857][8258 ][monk.network.producer][INFO    ][37  ][producer.py] : sending message ('{\"password\": \"\", \"op\": \"UpdateUser\", \"name\": \"mluser318\", \"partition\": 1}',) at monkTestAdmin@0\n"
       ]
      },
      {
       "output_type": "stream",
       "stream": "stdout",
       "text": [
        "[2015-01-16 13:03:00,863][8258 ][monk.network.producer][INFO    ][37  ][producer.py] : sending message ('{\"password\": \"\", \"op\": \"UpdateUser\", \"name\": \"mluser320\", \"partition\": 1}',) at monkTestAdmin@0\n"
       ]
      },
      {
       "output_type": "stream",
       "stream": "stdout",
       "text": [
        "[2015-01-16 13:03:00,870][8258 ][monk.network.producer][INFO    ][37  ][producer.py] : sending message ('{\"password\": \"\", \"op\": \"UpdateUser\", \"name\": \"mluser324\", \"partition\": 1}',) at monkTestAdmin@0\n"
       ]
      },
      {
       "output_type": "stream",
       "stream": "stdout",
       "text": [
        "[2015-01-16 13:03:00,876][8258 ][monk.network.producer][INFO    ][37  ][producer.py] : sending message ('{\"password\": \"\", \"op\": \"UpdateUser\", \"name\": \"mluser326\", \"partition\": 1}',) at monkTestAdmin@0\n"
       ]
      },
      {
       "output_type": "stream",
       "stream": "stdout",
       "text": [
        "[2015-01-16 13:03:00,890][8258 ][monk.network.producer][INFO    ][37  ][producer.py] : sending message ('{\"password\": \"\", \"op\": \"UpdateUser\", \"name\": \"mluser330\", \"partition\": 1}',) at monkTestAdmin@0\n"
       ]
      },
      {
       "output_type": "stream",
       "stream": "stdout",
       "text": [
        "[2015-01-16 13:03:00,897][8258 ][monk.network.producer][INFO    ][37  ][producer.py] : sending message ('{\"password\": \"\", \"op\": \"UpdateUser\", \"name\": \"mluser332\", \"partition\": 1}',) at monkTestAdmin@0\n"
       ]
      },
      {
       "output_type": "stream",
       "stream": "stdout",
       "text": [
        "[2015-01-16 13:03:00,906][8258 ][monk.network.producer][INFO    ][37  ][producer.py] : sending message ('{\"password\": \"\", \"op\": \"UpdateUser\", \"name\": \"mluser336\", \"partition\": 1}',) at monkTestAdmin@0\n"
       ]
      },
      {
       "output_type": "stream",
       "stream": "stdout",
       "text": [
        "[2015-01-16 13:03:00,911][8258 ][monk.network.producer][INFO    ][37  ][producer.py] : sending message ('{\"password\": \"\", \"op\": \"UpdateUser\", \"name\": \"mluser338\", \"partition\": 1}',) at monkTestAdmin@0\n"
       ]
      },
      {
       "output_type": "stream",
       "stream": "stdout",
       "text": [
        "[2015-01-16 13:03:00,923][8258 ][monk.network.producer][INFO    ][37  ][producer.py] : sending message ('{\"password\": \"\", \"op\": \"UpdateUser\", \"name\": \"mluser342\", \"partition\": 1}',) at monkTestAdmin@0\n"
       ]
      },
      {
       "output_type": "stream",
       "stream": "stdout",
       "text": [
        "[2015-01-16 13:03:00,937][8258 ][monk.network.producer][INFO    ][37  ][producer.py] : sending message ('{\"password\": \"\", \"op\": \"UpdateUser\", \"name\": \"mluser344\", \"partition\": 1}',) at monkTestAdmin@0\n"
       ]
      },
      {
       "output_type": "stream",
       "stream": "stdout",
       "text": [
        "[2015-01-16 13:03:00,944][8258 ][monk.network.producer][INFO    ][37  ][producer.py] : sending message ('{\"password\": \"\", \"op\": \"UpdateUser\", \"name\": \"mluser348\", \"partition\": 1}',) at monkTestAdmin@0\n"
       ]
      },
      {
       "output_type": "stream",
       "stream": "stdout",
       "text": [
        "[2015-01-16 13:03:00,950][8258 ][monk.network.producer][INFO    ][37  ][producer.py] : sending message ('{\"password\": \"\", \"op\": \"UpdateUser\", \"name\": \"mluser350\", \"partition\": 1}',) at monkTestAdmin@0\n"
       ]
      },
      {
       "output_type": "stream",
       "stream": "stdout",
       "text": [
        "[2015-01-16 13:03:00,958][8258 ][monk.network.producer][INFO    ][37  ][producer.py] : sending message ('{\"password\": \"\", \"op\": \"UpdateUser\", \"name\": \"mluser354\", \"partition\": 1}',) at monkTestAdmin@0\n"
       ]
      },
      {
       "output_type": "stream",
       "stream": "stdout",
       "text": [
        "[2015-01-16 13:03:00,965][8258 ][monk.network.producer][INFO    ][37  ][producer.py] : sending message ('{\"password\": \"\", \"op\": \"UpdateUser\", \"name\": \"mluser356\", \"partition\": 1}',) at monkTestAdmin@0\n"
       ]
      },
      {
       "output_type": "stream",
       "stream": "stdout",
       "text": [
        "[2015-01-16 13:03:00,976][8258 ][monk.network.producer][INFO    ][37  ][producer.py] : sending message ('{\"password\": \"\", \"op\": \"UpdateUser\", \"name\": \"mluser360\", \"partition\": 1}',) at monkTestAdmin@0\n"
       ]
      },
      {
       "output_type": "stream",
       "stream": "stdout",
       "text": [
        "[2015-01-16 13:03:00,986][8258 ][monk.network.producer][INFO    ][37  ][producer.py] : sending message ('{\"password\": \"\", \"op\": \"UpdateUser\", \"name\": \"mluser362\", \"partition\": 1}',) at monkTestAdmin@0\n"
       ]
      },
      {
       "output_type": "stream",
       "stream": "stdout",
       "text": [
        "[2015-01-16 13:03:00,992][8258 ][monk.network.producer][INFO    ][37  ][producer.py] : sending message ('{\"password\": \"\", \"op\": \"UpdateUser\", \"name\": \"mluser366\", \"partition\": 1}',) at monkTestAdmin@0\n"
       ]
      },
      {
       "output_type": "stream",
       "stream": "stdout",
       "text": [
        "[2015-01-16 13:03:01,008][8258 ][monk.network.producer][INFO    ][37  ][producer.py] : sending message ('{\"password\": \"\", \"op\": \"UpdateUser\", \"name\": \"mluser368\", \"partition\": 1}',) at monkTestAdmin@0\n"
       ]
      },
      {
       "output_type": "stream",
       "stream": "stdout",
       "text": [
        "[2015-01-16 13:03:01,013][8258 ][monk.network.producer][INFO    ][37  ][producer.py] : sending message ('{\"password\": \"\", \"op\": \"UpdateUser\", \"name\": \"mluser372\", \"partition\": 1}',) at monkTestAdmin@0\n"
       ]
      },
      {
       "output_type": "stream",
       "stream": "stdout",
       "text": [
        "[2015-01-16 13:03:01,025][8258 ][monk.network.producer][INFO    ][37  ][producer.py] : sending message ('{\"password\": \"\", \"op\": \"UpdateUser\", \"name\": \"mluser374\", \"partition\": 1}',) at monkTestAdmin@0\n"
       ]
      },
      {
       "output_type": "stream",
       "stream": "stdout",
       "text": [
        "[2015-01-16 13:03:01,040][8258 ][monk.network.producer][INFO    ][37  ][producer.py] : sending message ('{\"password\": \"\", \"op\": \"UpdateUser\", \"name\": \"mluser378\", \"partition\": 1}',) at monkTestAdmin@0\n"
       ]
      },
      {
       "output_type": "stream",
       "stream": "stdout",
       "text": [
        "[2015-01-16 13:03:01,046][8258 ][monk.network.producer][INFO    ][37  ][producer.py] : sending message ('{\"password\": \"\", \"op\": \"UpdateUser\", \"name\": \"mluser380\", \"partition\": 1}',) at monkTestAdmin@0\n"
       ]
      },
      {
       "output_type": "stream",
       "stream": "stdout",
       "text": [
        "[2015-01-16 13:03:01,052][8258 ][monk.network.producer][INFO    ][37  ][producer.py] : sending message ('{\"password\": \"\", \"op\": \"UpdateUser\", \"name\": \"mluser384\", \"partition\": 1}',) at monkTestAdmin@0\n"
       ]
      },
      {
       "output_type": "stream",
       "stream": "stdout",
       "text": [
        "[2015-01-16 13:03:01,062][8258 ][monk.network.producer][INFO    ][37  ][producer.py] : sending message ('{\"password\": \"\", \"op\": \"UpdateUser\", \"name\": \"mluser386\", \"partition\": 1}',) at monkTestAdmin@0\n"
       ]
      },
      {
       "output_type": "stream",
       "stream": "stdout",
       "text": [
        "[2015-01-16 13:03:01,076][8258 ][monk.network.producer][INFO    ][37  ][producer.py] : sending message ('{\"password\": \"\", \"op\": \"UpdateUser\", \"name\": \"mluser390\", \"partition\": 1}',) at monkTestAdmin@0\n"
       ]
      },
      {
       "output_type": "stream",
       "stream": "stdout",
       "text": [
        "[2015-01-16 13:03:01,082][8258 ][monk.network.producer][INFO    ][37  ][producer.py] : sending message ('{\"password\": \"\", \"op\": \"UpdateUser\", \"name\": \"mluser392\", \"partition\": 1}',) at monkTestAdmin@0\n"
       ]
      },
      {
       "output_type": "stream",
       "stream": "stdout",
       "text": [
        "[2015-01-16 13:03:01,088][8258 ][monk.network.producer][INFO    ][37  ][producer.py] : sending message ('{\"password\": \"\", \"op\": \"UpdateUser\", \"name\": \"mluser396\", \"partition\": 1}',) at monkTestAdmin@0\n"
       ]
      },
      {
       "output_type": "stream",
       "stream": "stdout",
       "text": [
        "[2015-01-16 13:03:01,099][8258 ][monk.network.producer][INFO    ][37  ][producer.py] : sending message ('{\"password\": \"\", \"op\": \"UpdateUser\", \"name\": \"mluser398\", \"partition\": 1}',) at monkTestAdmin@0\n"
       ]
      },
      {
       "output_type": "stream",
       "stream": "stdout",
       "text": [
        "[2015-01-16 13:03:01,110][8258 ][monk.network.producer][INFO    ][37  ][producer.py] : sending message ('{\"password\": \"\", \"op\": \"UpdateUser\", \"name\": \"mluser402\", \"partition\": 1}',) at monkTestAdmin@0\n"
       ]
      },
      {
       "output_type": "stream",
       "stream": "stdout",
       "text": [
        "[2015-01-16 13:03:01,118][8258 ][monk.network.producer][INFO    ][37  ][producer.py] : sending message ('{\"password\": \"\", \"op\": \"UpdateUser\", \"name\": \"mluser404\", \"partition\": 1}',) at monkTestAdmin@0\n"
       ]
      },
      {
       "output_type": "stream",
       "stream": "stdout",
       "text": [
        "[2015-01-16 13:03:01,128][8258 ][monk.network.producer][INFO    ][37  ][producer.py] : sending message ('{\"password\": \"\", \"op\": \"UpdateUser\", \"name\": \"mluser408\", \"partition\": 1}',) at monkTestAdmin@0\n"
       ]
      },
      {
       "output_type": "stream",
       "stream": "stdout",
       "text": [
        "[2015-01-16 13:03:01,134][8258 ][monk.network.producer][INFO    ][37  ][producer.py] : sending message ('{\"password\": \"\", \"op\": \"UpdateUser\", \"name\": \"mluser410\", \"partition\": 1}',) at monkTestAdmin@0\n"
       ]
      },
      {
       "output_type": "stream",
       "stream": "stdout",
       "text": [
        "[2015-01-16 13:03:01,142][8258 ][monk.network.producer][INFO    ][37  ][producer.py] : sending message ('{\"password\": \"\", \"op\": \"UpdateUser\", \"name\": \"mluser414\", \"partition\": 1}',) at monkTestAdmin@0\n"
       ]
      },
      {
       "output_type": "stream",
       "stream": "stdout",
       "text": [
        "[2015-01-16 13:03:01,148][8258 ][monk.network.producer][INFO    ][37  ][producer.py] : sending message ('{\"password\": \"\", \"op\": \"UpdateUser\", \"name\": \"mluser416\", \"partition\": 1}',) at monkTestAdmin@0\n"
       ]
      },
      {
       "output_type": "stream",
       "stream": "stdout",
       "text": [
        "[2015-01-16 13:03:01,154][8258 ][monk.network.producer][INFO    ][37  ][producer.py] : sending message ('{\"password\": \"\", \"op\": \"UpdateUser\", \"name\": \"mluser420\", \"partition\": 1}',) at monkTestAdmin@0\n"
       ]
      },
      {
       "output_type": "stream",
       "stream": "stdout",
       "text": [
        "[2015-01-16 13:03:01,165][8258 ][monk.network.producer][INFO    ][37  ][producer.py] : sending message ('{\"password\": \"\", \"op\": \"UpdateUser\", \"name\": \"mluser422\", \"partition\": 1}',) at monkTestAdmin@0\n"
       ]
      },
      {
       "output_type": "stream",
       "stream": "stdout",
       "text": [
        "[2015-01-16 13:03:01,176][8258 ][monk.network.producer][INFO    ][37  ][producer.py] : sending message ('{\"password\": \"\", \"op\": \"UpdateUser\", \"name\": \"mluser426\", \"partition\": 1}',) at monkTestAdmin@0\n"
       ]
      },
      {
       "output_type": "stream",
       "stream": "stdout",
       "text": [
        "[2015-01-16 13:03:01,182][8258 ][monk.network.producer][INFO    ][37  ][producer.py] : sending message ('{\"password\": \"\", \"op\": \"UpdateUser\", \"name\": \"mluser428\", \"partition\": 1}',) at monkTestAdmin@0\n"
       ]
      },
      {
       "output_type": "stream",
       "stream": "stdout",
       "text": [
        "[2015-01-16 13:03:01,190][8258 ][monk.network.producer][INFO    ][37  ][producer.py] : sending message ('{\"password\": \"\", \"op\": \"UpdateUser\", \"name\": \"mluser432\", \"partition\": 1}',) at monkTestAdmin@0\n"
       ]
      },
      {
       "output_type": "stream",
       "stream": "stdout",
       "text": [
        "[2015-01-16 13:03:01,196][8258 ][monk.network.producer][INFO    ][37  ][producer.py] : sending message ('{\"password\": \"\", \"op\": \"UpdateUser\", \"name\": \"mluser434\", \"partition\": 1}',) at monkTestAdmin@0\n"
       ]
      },
      {
       "output_type": "stream",
       "stream": "stdout",
       "text": [
        "[2015-01-16 13:03:01,203][8258 ][monk.network.producer][INFO    ][37  ][producer.py] : sending message ('{\"password\": \"\", \"op\": \"UpdateUser\", \"name\": \"mluser438\", \"partition\": 1}',) at monkTestAdmin@0\n"
       ]
      },
      {
       "output_type": "stream",
       "stream": "stdout",
       "text": [
        "[2015-01-16 13:03:01,213][8258 ][monk.network.producer][INFO    ][37  ][producer.py] : sending message ('{\"password\": \"\", \"op\": \"UpdateUser\", \"name\": \"mluser440\", \"partition\": 1}',) at monkTestAdmin@0\n"
       ]
      },
      {
       "output_type": "stream",
       "stream": "stdout",
       "text": [
        "[2015-01-16 13:03:01,220][8258 ][monk.network.producer][INFO    ][37  ][producer.py] : sending message ('{\"password\": \"\", \"op\": \"UpdateUser\", \"name\": \"mluser444\", \"partition\": 1}',) at monkTestAdmin@0\n"
       ]
      },
      {
       "output_type": "stream",
       "stream": "stdout",
       "text": [
        "[2015-01-16 13:03:01,229][8258 ][monk.network.producer][INFO    ][37  ][producer.py] : sending message ('{\"password\": \"\", \"op\": \"UpdateUser\", \"name\": \"mluser446\", \"partition\": 1}',) at monkTestAdmin@0\n"
       ]
      },
      {
       "output_type": "stream",
       "stream": "stdout",
       "text": [
        "[2015-01-16 13:03:01,237][8258 ][monk.network.producer][INFO    ][37  ][producer.py] : sending message ('{\"password\": \"\", \"op\": \"UpdateUser\", \"name\": \"mluser450\", \"partition\": 1}',) at monkTestAdmin@0\n"
       ]
      },
      {
       "output_type": "stream",
       "stream": "stdout",
       "text": [
        "[2015-01-16 13:03:01,458][8258 ][monk.network.producer][INFO    ][37  ][producer.py] : sending message ('{\"password\": \"\", \"op\": \"UpdateUser\", \"name\": \"mluser452\", \"partition\": 1}',) at monkTestAdmin@0\n"
       ]
      },
      {
       "output_type": "stream",
       "stream": "stdout",
       "text": [
        "[2015-01-16 13:03:01,487][8258 ][monk.network.producer][INFO    ][37  ][producer.py] : sending message ('{\"password\": \"\", \"op\": \"UpdateUser\", \"name\": \"mluser456\", \"partition\": 1}',) at monkTestAdmin@0\n"
       ]
      },
      {
       "output_type": "stream",
       "stream": "stdout",
       "text": [
        "[2015-01-16 13:03:01,503][8258 ][monk.network.producer][INFO    ][37  ][producer.py] : sending message ('{\"password\": \"\", \"op\": \"UpdateUser\", \"name\": \"mluser458\", \"partition\": 1}',) at monkTestAdmin@0\n"
       ]
      },
      {
       "output_type": "stream",
       "stream": "stdout",
       "text": [
        "[2015-01-16 13:03:01,510][8258 ][monk.network.producer][INFO    ][37  ][producer.py] : sending message ('{\"password\": \"\", \"op\": \"UpdateUser\", \"name\": \"mluser462\", \"partition\": 1}',) at monkTestAdmin@0\n"
       ]
      },
      {
       "output_type": "stream",
       "stream": "stdout",
       "text": [
        "[2015-01-16 13:03:01,544][8258 ][monk.network.producer][INFO    ][37  ][producer.py] : sending message ('{\"password\": \"\", \"op\": \"UpdateUser\", \"name\": \"mluser464\", \"partition\": 1}',) at monkTestAdmin@0\n"
       ]
      },
      {
       "output_type": "stream",
       "stream": "stdout",
       "text": [
        "[2015-01-16 13:03:01,587][8258 ][monk.network.producer][INFO    ][37  ][producer.py] : sending message ('{\"password\": \"\", \"op\": \"UpdateUser\", \"name\": \"mluser468\", \"partition\": 1}',) at monkTestAdmin@0\n"
       ]
      },
      {
       "output_type": "stream",
       "stream": "stdout",
       "text": [
        "[2015-01-16 13:03:01,593][8258 ][monk.network.producer][INFO    ][37  ][producer.py] : sending message ('{\"password\": \"\", \"op\": \"UpdateUser\", \"name\": \"mluser470\", \"partition\": 1}',) at monkTestAdmin@0\n"
       ]
      },
      {
       "output_type": "stream",
       "stream": "stdout",
       "text": [
        "[2015-01-16 13:03:01,604][8258 ][monk.network.producer][INFO    ][37  ][producer.py] : sending message ('{\"password\": \"\", \"op\": \"UpdateUser\", \"name\": \"mluser474\", \"partition\": 1}',) at monkTestAdmin@0\n"
       ]
      },
      {
       "output_type": "stream",
       "stream": "stdout",
       "text": [
        "[2015-01-16 13:03:01,613][8258 ][monk.network.producer][INFO    ][37  ][producer.py] : sending message ('{\"password\": \"\", \"op\": \"UpdateUser\", \"name\": \"mluser476\", \"partition\": 1}',) at monkTestAdmin@0\n"
       ]
      },
      {
       "output_type": "stream",
       "stream": "stdout",
       "text": [
        "[2015-01-16 13:03:01,625][8258 ][monk.network.producer][INFO    ][37  ][producer.py] : sending message ('{\"password\": \"\", \"op\": \"UpdateUser\", \"name\": \"mluser480\", \"partition\": 1}',) at monkTestAdmin@0\n"
       ]
      },
      {
       "output_type": "stream",
       "stream": "stdout",
       "text": [
        "[2015-01-16 13:03:01,631][8258 ][monk.network.producer][INFO    ][37  ][producer.py] : sending message ('{\"password\": \"\", \"op\": \"UpdateUser\", \"name\": \"mluser482\", \"partition\": 1}',) at monkTestAdmin@0\n"
       ]
      },
      {
       "output_type": "stream",
       "stream": "stdout",
       "text": [
        "[2015-01-16 13:03:01,639][8258 ][monk.network.producer][INFO    ][37  ][producer.py] : sending message ('{\"password\": \"\", \"op\": \"UpdateUser\", \"name\": \"mluser486\", \"partition\": 1}',) at monkTestAdmin@0\n"
       ]
      },
      {
       "output_type": "stream",
       "stream": "stdout",
       "text": [
        "[2015-01-16 13:03:01,648][8258 ][monk.network.producer][INFO    ][37  ][producer.py] : sending message ('{\"password\": \"\", \"op\": \"UpdateUser\", \"name\": \"mluser488\", \"partition\": 1}',) at monkTestAdmin@0\n"
       ]
      },
      {
       "output_type": "stream",
       "stream": "stdout",
       "text": [
        "[2015-01-16 13:03:01,656][8258 ][monk.network.producer][INFO    ][37  ][producer.py] : sending message ('{\"password\": \"\", \"op\": \"UpdateUser\", \"name\": \"mluser492\", \"partition\": 1}',) at monkTestAdmin@0\n"
       ]
      },
      {
       "output_type": "stream",
       "stream": "stdout",
       "text": [
        "[2015-01-16 13:03:01,880][8258 ][monk.network.producer][INFO    ][37  ][producer.py] : sending message ('{\"password\": \"\", \"op\": \"UpdateUser\", \"name\": \"mluser494\", \"partition\": 1}',) at monkTestAdmin@0\n"
       ]
      },
      {
       "output_type": "stream",
       "stream": "stdout",
       "text": [
        "[2015-01-16 13:03:01,886][8258 ][monk.network.producer][INFO    ][37  ][producer.py] : sending message ('{\"password\": \"\", \"op\": \"UpdateUser\", \"name\": \"mluser498\", \"partition\": 1}',) at monkTestAdmin@0\n"
       ]
      },
      {
       "output_type": "stream",
       "stream": "stdout",
       "text": [
        "[2015-01-16 13:03:01,895][8258 ][monk.network.producer][INFO    ][37  ][producer.py] : sending message ('{\"password\": \"\", \"op\": \"UpdateUser\", \"name\": \"mluser500\", \"partition\": 1}',) at monkTestAdmin@0\n"
       ]
      },
      {
       "output_type": "stream",
       "stream": "stdout",
       "text": [
        "[2015-01-16 13:03:01,903][8258 ][monk.network.producer][INFO    ][37  ][producer.py] : sending message ('{\"password\": \"\", \"op\": \"UpdateUser\", \"name\": \"mluser504\", \"partition\": 1}',) at monkTestAdmin@0\n"
       ]
      },
      {
       "output_type": "stream",
       "stream": "stdout",
       "text": [
        "[2015-01-16 13:03:01,915][8258 ][monk.network.producer][INFO    ][37  ][producer.py] : sending message ('{\"password\": \"\", \"op\": \"UpdateUser\", \"name\": \"mluser506\", \"partition\": 1}',) at monkTestAdmin@0\n"
       ]
      },
      {
       "output_type": "stream",
       "stream": "stdout",
       "text": [
        "[2015-01-16 13:03:01,929][8258 ][monk.network.producer][INFO    ][37  ][producer.py] : sending message ('{\"password\": \"\", \"op\": \"UpdateUser\", \"name\": \"mluser510\", \"partition\": 1}',) at monkTestAdmin@0\n"
       ]
      },
      {
       "output_type": "stream",
       "stream": "stdout",
       "text": [
        "[2015-01-16 13:03:01,936][8258 ][monk.network.producer][INFO    ][37  ][producer.py] : sending message ('{\"password\": \"\", \"op\": \"UpdateUser\", \"name\": \"mluser512\", \"partition\": 1}',) at monkTestAdmin@0\n"
       ]
      },
      {
       "output_type": "stream",
       "stream": "stdout",
       "text": [
        "[2015-01-16 13:03:01,946][8258 ][monk.network.producer][INFO    ][37  ][producer.py] : sending message ('{\"password\": \"\", \"op\": \"UpdateUser\", \"name\": \"mluser516\", \"partition\": 1}',) at monkTestAdmin@0\n"
       ]
      },
      {
       "output_type": "stream",
       "stream": "stdout",
       "text": [
        "[2015-01-16 13:03:01,953][8258 ][monk.network.producer][INFO    ][37  ][producer.py] : sending message ('{\"password\": \"\", \"op\": \"UpdateUser\", \"name\": \"mluser518\", \"partition\": 1}',) at monkTestAdmin@0\n"
       ]
      },
      {
       "output_type": "stream",
       "stream": "stdout",
       "text": [
        "[2015-01-16 13:03:01,959][8258 ][monk.network.producer][INFO    ][37  ][producer.py] : sending message ('{\"password\": \"\", \"op\": \"UpdateUser\", \"name\": \"mluser522\", \"partition\": 1}',) at monkTestAdmin@0\n"
       ]
      },
      {
       "output_type": "stream",
       "stream": "stdout",
       "text": [
        "[2015-01-16 13:03:01,966][8258 ][monk.network.producer][INFO    ][37  ][producer.py] : sending message ('{\"password\": \"\", \"op\": \"UpdateUser\", \"name\": \"mluser524\", \"partition\": 1}',) at monkTestAdmin@0\n"
       ]
      },
      {
       "output_type": "stream",
       "stream": "stdout",
       "text": [
        "[2015-01-16 13:03:01,976][8258 ][monk.network.producer][INFO    ][37  ][producer.py] : sending message ('{\"password\": \"\", \"op\": \"UpdateUser\", \"name\": \"mluser528\", \"partition\": 1}',) at monkTestAdmin@0\n"
       ]
      },
      {
       "output_type": "stream",
       "stream": "stdout",
       "text": [
        "[2015-01-16 13:03:01,987][8258 ][monk.network.producer][INFO    ][37  ][producer.py] : sending message ('{\"password\": \"\", \"op\": \"UpdateUser\", \"name\": \"mluser530\", \"partition\": 1}',) at monkTestAdmin@0\n"
       ]
      },
      {
       "output_type": "stream",
       "stream": "stdout",
       "text": [
        "[2015-01-16 13:03:01,996][8258 ][monk.network.producer][INFO    ][37  ][producer.py] : sending message ('{\"password\": \"\", \"op\": \"UpdateUser\", \"name\": \"mluser534\", \"partition\": 1}',) at monkTestAdmin@0\n"
       ]
      },
      {
       "output_type": "stream",
       "stream": "stdout",
       "text": [
        "[2015-01-16 13:03:02,003][8258 ][monk.network.producer][INFO    ][37  ][producer.py] : sending message ('{\"password\": \"\", \"op\": \"UpdateUser\", \"name\": \"mluser536\", \"partition\": 1}',) at monkTestAdmin@0\n"
       ]
      },
      {
       "output_type": "stream",
       "stream": "stdout",
       "text": [
        "[2015-01-16 13:03:02,010][8258 ][monk.network.producer][INFO    ][37  ][producer.py] : sending message ('{\"password\": \"\", \"op\": \"UpdateUser\", \"name\": \"mluser540\", \"partition\": 1}',) at monkTestAdmin@0\n"
       ]
      },
      {
       "output_type": "stream",
       "stream": "stdout",
       "text": [
        "[2015-01-16 13:03:02,021][8258 ][monk.network.producer][INFO    ][37  ][producer.py] : sending message ('{\"password\": \"\", \"op\": \"UpdateUser\", \"name\": \"mluser542\", \"partition\": 1}',) at monkTestAdmin@0\n"
       ]
      },
      {
       "output_type": "stream",
       "stream": "stdout",
       "text": [
        "[2015-01-16 13:03:02,030][8258 ][monk.network.producer][INFO    ][37  ][producer.py] : sending message ('{\"password\": \"\", \"op\": \"UpdateUser\", \"name\": \"mluser546\", \"partition\": 1}',) at monkTestAdmin@0\n"
       ]
      },
      {
       "output_type": "stream",
       "stream": "stdout",
       "text": [
        "[2015-01-16 13:03:02,038][8258 ][monk.network.producer][INFO    ][37  ][producer.py] : sending message ('{\"password\": \"\", \"op\": \"UpdateUser\", \"name\": \"mluser548\", \"partition\": 1}',) at monkTestAdmin@0\n"
       ]
      },
      {
       "output_type": "stream",
       "stream": "stdout",
       "text": [
        "[2015-01-16 13:03:02,050][8258 ][monk.network.producer][INFO    ][37  ][producer.py] : sending message ('{\"password\": \"\", \"op\": \"UpdateUser\", \"name\": \"mluser552\", \"partition\": 1}',) at monkTestAdmin@0\n"
       ]
      },
      {
       "output_type": "stream",
       "stream": "stdout",
       "text": [
        "[2015-01-16 13:03:02,072][8258 ][monk.network.producer][INFO    ][37  ][producer.py] : sending message ('{\"password\": \"\", \"op\": \"UpdateUser\", \"name\": \"mluser554\", \"partition\": 1}',) at monkTestAdmin@0\n"
       ]
      },
      {
       "output_type": "stream",
       "stream": "stdout",
       "text": [
        "[2015-01-16 13:03:02,086][8258 ][monk.network.producer][INFO    ][37  ][producer.py] : sending message ('{\"password\": \"\", \"op\": \"UpdateUser\", \"name\": \"mluser558\", \"partition\": 1}',) at monkTestAdmin@0\n"
       ]
      },
      {
       "output_type": "stream",
       "stream": "stdout",
       "text": [
        "[2015-01-16 13:03:02,094][8258 ][monk.network.producer][INFO    ][37  ][producer.py] : sending message ('{\"password\": \"\", \"op\": \"UpdateUser\", \"name\": \"mluser560\", \"partition\": 1}',) at monkTestAdmin@0\n"
       ]
      },
      {
       "output_type": "stream",
       "stream": "stdout",
       "text": [
        "[2015-01-16 13:03:02,112][8258 ][monk.network.producer][INFO    ][37  ][producer.py] : sending message ('{\"password\": \"\", \"op\": \"UpdateUser\", \"name\": \"mluser564\", \"partition\": 1}',) at monkTestAdmin@0\n"
       ]
      },
      {
       "output_type": "stream",
       "stream": "stdout",
       "text": [
        "[2015-01-16 13:03:02,119][8258 ][monk.network.producer][INFO    ][37  ][producer.py] : sending message ('{\"password\": \"\", \"op\": \"UpdateUser\", \"name\": \"mluser566\", \"partition\": 1}',) at monkTestAdmin@0\n"
       ]
      },
      {
       "output_type": "stream",
       "stream": "stdout",
       "text": [
        "[2015-01-16 13:03:02,125][8258 ][monk.network.producer][INFO    ][37  ][producer.py] : sending message ('{\"password\": \"\", \"op\": \"UpdateUser\", \"name\": \"mluser570\", \"partition\": 1}',) at monkTestAdmin@0\n"
       ]
      },
      {
       "output_type": "stream",
       "stream": "stdout",
       "text": [
        "[2015-01-16 13:03:02,134][8258 ][monk.network.producer][INFO    ][37  ][producer.py] : sending message ('{\"password\": \"\", \"op\": \"UpdateUser\", \"name\": \"mluser572\", \"partition\": 1}',) at monkTestAdmin@0\n"
       ]
      },
      {
       "output_type": "stream",
       "stream": "stdout",
       "text": [
        "[2015-01-16 13:03:02,140][8258 ][monk.network.producer][INFO    ][37  ][producer.py] : sending message ('{\"password\": \"\", \"op\": \"UpdateUser\", \"name\": \"mluser576\", \"partition\": 1}',) at monkTestAdmin@0\n"
       ]
      },
      {
       "output_type": "stream",
       "stream": "stdout",
       "text": [
        "[2015-01-16 13:03:02,151][8258 ][monk.network.producer][INFO    ][37  ][producer.py] : sending message ('{\"password\": \"\", \"op\": \"UpdateUser\", \"name\": \"mluser578\", \"partition\": 1}',) at monkTestAdmin@0\n"
       ]
      },
      {
       "output_type": "stream",
       "stream": "stdout",
       "text": [
        "[2015-01-16 13:03:02,160][8258 ][monk.network.producer][INFO    ][37  ][producer.py] : sending message ('{\"password\": \"\", \"op\": \"UpdateUser\", \"name\": \"mluser582\", \"partition\": 1}',) at monkTestAdmin@0\n"
       ]
      },
      {
       "output_type": "stream",
       "stream": "stdout",
       "text": [
        "[2015-01-16 13:03:02,174][8258 ][monk.network.producer][INFO    ][37  ][producer.py] : sending message ('{\"password\": \"\", \"op\": \"UpdateUser\", \"name\": \"mluser584\", \"partition\": 1}',) at monkTestAdmin@0\n"
       ]
      },
      {
       "output_type": "stream",
       "stream": "stdout",
       "text": [
        "[2015-01-16 13:03:02,179][8258 ][monk.network.producer][INFO    ][37  ][producer.py] : sending message ('{\"password\": \"\", \"op\": \"UpdateUser\", \"name\": \"mluser588\", \"partition\": 1}',) at monkTestAdmin@0\n"
       ]
      },
      {
       "output_type": "stream",
       "stream": "stdout",
       "text": [
        "[2015-01-16 13:03:02,187][8258 ][monk.network.producer][INFO    ][37  ][producer.py] : sending message ('{\"password\": \"\", \"op\": \"UpdateUser\", \"name\": \"mluser590\", \"partition\": 1}',) at monkTestAdmin@0\n"
       ]
      },
      {
       "output_type": "stream",
       "stream": "stdout",
       "text": [
        "[2015-01-16 13:03:02,193][8258 ][monk.network.producer][INFO    ][37  ][producer.py] : sending message ('{\"password\": \"\", \"op\": \"UpdateUser\", \"name\": \"mluser594\", \"partition\": 1}',) at monkTestAdmin@0\n"
       ]
      },
      {
       "output_type": "stream",
       "stream": "stdout",
       "text": [
        "[2015-01-16 13:03:02,200][8258 ][monk.network.producer][INFO    ][37  ][producer.py] : sending message ('{\"password\": \"\", \"op\": \"UpdateUser\", \"name\": \"mluser596\", \"partition\": 1}',) at monkTestAdmin@0\n"
       ]
      },
      {
       "output_type": "stream",
       "stream": "stdout",
       "text": [
        "[2015-01-16 13:03:02,209][8258 ][monk.network.producer][INFO    ][37  ][producer.py] : sending message ('{\"password\": \"\", \"op\": \"UpdateUser\", \"name\": \"mluser600\", \"partition\": 1}',) at monkTestAdmin@0\n"
       ]
      },
      {
       "output_type": "stream",
       "stream": "stdout",
       "text": [
        "[2015-01-16 13:03:02,215][8258 ][monk.network.producer][INFO    ][37  ][producer.py] : sending message ('{\"password\": \"\", \"op\": \"UpdateUser\", \"name\": \"mluser602\", \"partition\": 1}',) at monkTestAdmin@0\n"
       ]
      },
      {
       "output_type": "stream",
       "stream": "stdout",
       "text": [
        "[2015-01-16 13:03:02,221][8258 ][monk.network.producer][INFO    ][37  ][producer.py] : sending message ('{\"password\": \"\", \"op\": \"UpdateUser\", \"name\": \"mluser606\", \"partition\": 1}',) at monkTestAdmin@0\n"
       ]
      },
      {
       "output_type": "stream",
       "stream": "stdout",
       "text": [
        "[2015-01-16 13:03:02,236][8258 ][monk.network.producer][INFO    ][37  ][producer.py] : sending message ('{\"password\": \"\", \"op\": \"UpdateUser\", \"name\": \"mluser608\", \"partition\": 1}',) at monkTestAdmin@0\n"
       ]
      },
      {
       "output_type": "stream",
       "stream": "stdout",
       "text": [
        "[2015-01-16 13:03:02,242][8258 ][monk.network.producer][INFO    ][37  ][producer.py] : sending message ('{\"password\": \"\", \"op\": \"UpdateUser\", \"name\": \"mluser612\", \"partition\": 1}',) at monkTestAdmin@0\n"
       ]
      },
      {
       "output_type": "stream",
       "stream": "stdout",
       "text": [
        "[2015-01-16 13:03:02,253][8258 ][monk.network.producer][INFO    ][37  ][producer.py] : sending message ('{\"password\": \"\", \"op\": \"UpdateUser\", \"name\": \"mluser614\", \"partition\": 1}',) at monkTestAdmin@0\n"
       ]
      },
      {
       "output_type": "stream",
       "stream": "stdout",
       "text": [
        "[2015-01-16 13:03:02,261][8258 ][monk.network.producer][INFO    ][37  ][producer.py] : sending message ('{\"password\": \"\", \"op\": \"UpdateUser\", \"name\": \"mluser618\", \"partition\": 1}',) at monkTestAdmin@0\n"
       ]
      },
      {
       "output_type": "stream",
       "stream": "stdout",
       "text": [
        "[2015-01-16 13:03:02,270][8258 ][monk.network.producer][INFO    ][37  ][producer.py] : sending message ('{\"password\": \"\", \"op\": \"UpdateUser\", \"name\": \"mluser620\", \"partition\": 1}',) at monkTestAdmin@0\n"
       ]
      },
      {
       "output_type": "stream",
       "stream": "stdout",
       "text": [
        "[2015-01-16 13:03:02,279][8258 ][monk.network.producer][INFO    ][37  ][producer.py] : sending message ('{\"password\": \"\", \"op\": \"UpdateUser\", \"name\": \"mluser624\", \"partition\": 1}',) at monkTestAdmin@0\n"
       ]
      },
      {
       "output_type": "stream",
       "stream": "stdout",
       "text": [
        "[2015-01-16 13:03:02,290][8258 ][monk.network.producer][INFO    ][37  ][producer.py] : sending message ('{\"password\": \"\", \"op\": \"UpdateUser\", \"name\": \"mluser626\", \"partition\": 1}',) at monkTestAdmin@0\n"
       ]
      },
      {
       "output_type": "stream",
       "stream": "stdout",
       "text": [
        "[2015-01-16 13:03:02,296][8258 ][monk.network.producer][INFO    ][37  ][producer.py] : sending message ('{\"password\": \"\", \"op\": \"UpdateUser\", \"name\": \"mluser630\", \"partition\": 1}',) at monkTestAdmin@0\n"
       ]
      },
      {
       "output_type": "stream",
       "stream": "stdout",
       "text": [
        "[2015-01-16 13:03:02,303][8258 ][monk.network.producer][INFO    ][37  ][producer.py] : sending message ('{\"password\": \"\", \"op\": \"UpdateUser\", \"name\": \"mluser632\", \"partition\": 1}',) at monkTestAdmin@0\n"
       ]
      },
      {
       "output_type": "stream",
       "stream": "stdout",
       "text": [
        "[2015-01-16 13:03:02,309][8258 ][monk.network.producer][INFO    ][37  ][producer.py] : sending message ('{\"password\": \"\", \"op\": \"UpdateUser\", \"name\": \"mluser636\", \"partition\": 1}',) at monkTestAdmin@0\n"
       ]
      },
      {
       "output_type": "stream",
       "stream": "stdout",
       "text": [
        "[2015-01-16 13:03:02,317][8258 ][monk.network.producer][INFO    ][37  ][producer.py] : sending message ('{\"password\": \"\", \"op\": \"UpdateUser\", \"name\": \"mluser638\", \"partition\": 1}',) at monkTestAdmin@0\n"
       ]
      },
      {
       "output_type": "stream",
       "stream": "stdout",
       "text": [
        "[2015-01-16 13:03:02,322][8258 ][monk.network.producer][INFO    ][37  ][producer.py] : sending message ('{\"password\": \"\", \"op\": \"UpdateUser\", \"name\": \"mluser642\", \"partition\": 1}',) at monkTestAdmin@0\n"
       ]
      },
      {
       "output_type": "stream",
       "stream": "stdout",
       "text": [
        "[2015-01-16 13:03:02,328][8258 ][monk.network.producer][INFO    ][37  ][producer.py] : sending message ('{\"password\": \"\", \"op\": \"UpdateUser\", \"name\": \"mluser644\", \"partition\": 1}',) at monkTestAdmin@0\n"
       ]
      },
      {
       "output_type": "stream",
       "stream": "stdout",
       "text": [
        "[2015-01-16 13:03:02,341][8258 ][monk.network.producer][INFO    ][37  ][producer.py] : sending message ('{\"password\": \"\", \"op\": \"UpdateUser\", \"name\": \"mluser648\", \"partition\": 1}',) at monkTestAdmin@0\n"
       ]
      },
      {
       "output_type": "stream",
       "stream": "stdout",
       "text": [
        "[2015-01-16 13:03:02,347][8258 ][monk.network.producer][INFO    ][37  ][producer.py] : sending message ('{\"password\": \"\", \"op\": \"UpdateUser\", \"name\": \"mluser650\", \"partition\": 1}',) at monkTestAdmin@0\n"
       ]
      },
      {
       "output_type": "stream",
       "stream": "stdout",
       "text": [
        "[2015-01-16 13:03:02,355][8258 ][monk.network.producer][INFO    ][37  ][producer.py] : sending message ('{\"password\": \"\", \"op\": \"UpdateUser\", \"name\": \"mluser654\", \"partition\": 1}',) at monkTestAdmin@0\n"
       ]
      },
      {
       "output_type": "stream",
       "stream": "stdout",
       "text": [
        "[2015-01-16 13:03:02,363][8258 ][monk.network.producer][INFO    ][37  ][producer.py] : sending message ('{\"password\": \"\", \"op\": \"UpdateUser\", \"name\": \"mluser656\", \"partition\": 1}',) at monkTestAdmin@0\n"
       ]
      },
      {
       "output_type": "stream",
       "stream": "stdout",
       "text": [
        "[2015-01-16 13:03:02,372][8258 ][monk.network.producer][INFO    ][37  ][producer.py] : sending message ('{\"password\": \"\", \"op\": \"UpdateUser\", \"name\": \"mluser660\", \"partition\": 1}',) at monkTestAdmin@0\n"
       ]
      },
      {
       "output_type": "stream",
       "stream": "stdout",
       "text": [
        "[2015-01-16 13:03:02,377][8258 ][monk.network.producer][INFO    ][37  ][producer.py] : sending message ('{\"password\": \"\", \"op\": \"UpdateUser\", \"name\": \"mluser662\", \"partition\": 1}',) at monkTestAdmin@0\n"
       ]
      },
      {
       "output_type": "stream",
       "stream": "stdout",
       "text": [
        "[2015-01-16 13:03:02,383][8258 ][monk.network.producer][INFO    ][37  ][producer.py] : sending message ('{\"password\": \"\", \"op\": \"UpdateUser\", \"name\": \"mluser666\", \"partition\": 1}',) at monkTestAdmin@0\n"
       ]
      },
      {
       "output_type": "stream",
       "stream": "stdout",
       "text": [
        "[2015-01-16 13:03:02,391][8258 ][monk.network.producer][INFO    ][37  ][producer.py] : sending message ('{\"password\": \"\", \"op\": \"UpdateUser\", \"name\": \"mluser668\", \"partition\": 1}',) at monkTestAdmin@0\n"
       ]
      },
      {
       "output_type": "stream",
       "stream": "stdout",
       "text": [
        "[2015-01-16 13:03:02,397][8258 ][monk.network.producer][INFO    ][37  ][producer.py] : sending message ('{\"password\": \"\", \"op\": \"UpdateUser\", \"name\": \"mluser672\", \"partition\": 1}',) at monkTestAdmin@0\n"
       ]
      },
      {
       "output_type": "stream",
       "stream": "stdout",
       "text": [
        "[2015-01-16 13:03:02,402][8258 ][monk.network.producer][INFO    ][37  ][producer.py] : sending message ('{\"password\": \"\", \"op\": \"UpdateUser\", \"name\": \"mluser674\", \"partition\": 1}',) at monkTestAdmin@0\n"
       ]
      },
      {
       "output_type": "stream",
       "stream": "stdout",
       "text": [
        "[2015-01-16 13:03:02,408][8258 ][monk.network.producer][INFO    ][37  ][producer.py] : sending message ('{\"password\": \"\", \"op\": \"UpdateUser\", \"name\": \"mluser678\", \"partition\": 1}',) at monkTestAdmin@0\n"
       ]
      },
      {
       "output_type": "stream",
       "stream": "stdout",
       "text": [
        "[2015-01-16 13:03:02,414][8258 ][monk.network.producer][INFO    ][37  ][producer.py] : sending message ('{\"password\": \"\", \"op\": \"UpdateUser\", \"name\": \"mluser680\", \"partition\": 1}',) at monkTestAdmin@0\n"
       ]
      },
      {
       "output_type": "stream",
       "stream": "stdout",
       "text": [
        "[2015-01-16 13:03:02,419][8258 ][monk.network.producer][INFO    ][37  ][producer.py] : sending message ('{\"password\": \"\", \"op\": \"UpdateUser\", \"name\": \"mluser684\", \"partition\": 1}',) at monkTestAdmin@0\n"
       ]
      },
      {
       "output_type": "stream",
       "stream": "stdout",
       "text": [
        "[2015-01-16 13:03:02,425][8258 ][monk.network.producer][INFO    ][37  ][producer.py] : sending message ('{\"password\": \"\", \"op\": \"UpdateUser\", \"name\": \"mluser686\", \"partition\": 1}',) at monkTestAdmin@0\n"
       ]
      },
      {
       "output_type": "stream",
       "stream": "stdout",
       "text": [
        "[2015-01-16 13:03:02,430][8258 ][monk.network.producer][INFO    ][37  ][producer.py] : sending message ('{\"password\": \"\", \"op\": \"UpdateUser\", \"name\": \"mluser690\", \"partition\": 1}',) at monkTestAdmin@0\n"
       ]
      },
      {
       "output_type": "stream",
       "stream": "stdout",
       "text": [
        "[2015-01-16 13:03:02,441][8258 ][monk.network.producer][INFO    ][37  ][producer.py] : sending message ('{\"password\": \"\", \"op\": \"UpdateUser\", \"name\": \"mluser692\", \"partition\": 1}',) at monkTestAdmin@0\n"
       ]
      },
      {
       "output_type": "stream",
       "stream": "stdout",
       "text": [
        "[2015-01-16 13:03:02,450][8258 ][monk.network.producer][INFO    ][37  ][producer.py] : sending message ('{\"password\": \"\", \"op\": \"UpdateUser\", \"name\": \"mluser696\", \"partition\": 1}',) at monkTestAdmin@0\n"
       ]
      },
      {
       "output_type": "stream",
       "stream": "stdout",
       "text": [
        "[2015-01-16 13:03:02,458][8258 ][monk.network.producer][INFO    ][37  ][producer.py] : sending message ('{\"password\": \"\", \"op\": \"UpdateUser\", \"name\": \"mluser698\", \"partition\": 1}',) at monkTestAdmin@0\n"
       ]
      },
      {
       "output_type": "stream",
       "stream": "stdout",
       "text": [
        "[2015-01-16 13:03:02,465][8258 ][monk.network.producer][INFO    ][37  ][producer.py] : sending message ('{\"password\": \"\", \"op\": \"UpdateUser\", \"name\": \"mluser702\", \"partition\": 1}',) at monkTestAdmin@0\n"
       ]
      },
      {
       "output_type": "stream",
       "stream": "stdout",
       "text": [
        "[2015-01-16 13:03:02,474][8258 ][monk.network.producer][INFO    ][37  ][producer.py] : sending message ('{\"password\": \"\", \"op\": \"UpdateUser\", \"name\": \"mluser704\", \"partition\": 1}',) at monkTestAdmin@0\n"
       ]
      },
      {
       "output_type": "stream",
       "stream": "stdout",
       "text": [
        "[2015-01-16 13:03:02,480][8258 ][monk.network.producer][INFO    ][37  ][producer.py] : sending message ('{\"password\": \"\", \"op\": \"UpdateUser\", \"name\": \"mluser708\", \"partition\": 1}',) at monkTestAdmin@0\n"
       ]
      },
      {
       "output_type": "stream",
       "stream": "stdout",
       "text": [
        "[2015-01-16 13:03:02,485][8258 ][monk.network.producer][INFO    ][37  ][producer.py] : sending message ('{\"password\": \"\", \"op\": \"UpdateUser\", \"name\": \"mluser710\", \"partition\": 1}',) at monkTestAdmin@0\n"
       ]
      },
      {
       "output_type": "stream",
       "stream": "stdout",
       "text": [
        "[2015-01-16 13:03:02,494][8258 ][monk.network.producer][INFO    ][37  ][producer.py] : sending message ('{\"password\": \"\", \"op\": \"UpdateUser\", \"name\": \"mluser714\", \"partition\": 1}',) at monkTestAdmin@0\n"
       ]
      },
      {
       "output_type": "stream",
       "stream": "stdout",
       "text": [
        "[2015-01-16 13:03:02,500][8258 ][monk.network.producer][INFO    ][37  ][producer.py] : sending message ('{\"password\": \"\", \"op\": \"UpdateUser\", \"name\": \"mluser716\", \"partition\": 1}',) at monkTestAdmin@0\n"
       ]
      },
      {
       "output_type": "stream",
       "stream": "stdout",
       "text": [
        "[2015-01-16 13:03:02,509][8258 ][monk.network.producer][INFO    ][37  ][producer.py] : sending message ('{\"password\": \"\", \"op\": \"UpdateUser\", \"name\": \"mluser720\", \"partition\": 1}',) at monkTestAdmin@0\n"
       ]
      },
      {
       "output_type": "stream",
       "stream": "stdout",
       "text": [
        "[2015-01-16 13:03:02,515][8258 ][monk.network.producer][INFO    ][37  ][producer.py] : sending message ('{\"password\": \"\", \"op\": \"UpdateUser\", \"name\": \"mluser722\", \"partition\": 1}',) at monkTestAdmin@0\n"
       ]
      },
      {
       "output_type": "stream",
       "stream": "stdout",
       "text": [
        "[2015-01-16 13:03:02,523][8258 ][monk.network.producer][INFO    ][37  ][producer.py] : sending message ('{\"password\": \"\", \"op\": \"UpdateUser\", \"name\": \"mluser726\", \"partition\": 1}',) at monkTestAdmin@0\n"
       ]
      },
      {
       "output_type": "stream",
       "stream": "stdout",
       "text": [
        "[2015-01-16 13:03:02,529][8258 ][monk.network.producer][INFO    ][37  ][producer.py] : sending message ('{\"password\": \"\", \"op\": \"UpdateUser\", \"name\": \"mluser728\", \"partition\": 1}',) at monkTestAdmin@0\n"
       ]
      },
      {
       "output_type": "stream",
       "stream": "stdout",
       "text": [
        "[2015-01-16 13:03:02,544][8258 ][monk.network.producer][INFO    ][37  ][producer.py] : sending message ('{\"password\": \"\", \"op\": \"UpdateUser\", \"name\": \"mluser732\", \"partition\": 1}',) at monkTestAdmin@0\n"
       ]
      },
      {
       "output_type": "stream",
       "stream": "stdout",
       "text": [
        "[2015-01-16 13:03:02,551][8258 ][monk.network.producer][INFO    ][37  ][producer.py] : sending message ('{\"password\": \"\", \"op\": \"UpdateUser\", \"name\": \"mluser734\", \"partition\": 1}',) at monkTestAdmin@0\n"
       ]
      },
      {
       "output_type": "stream",
       "stream": "stdout",
       "text": [
        "[2015-01-16 13:03:02,560][8258 ][monk.network.producer][INFO    ][37  ][producer.py] : sending message ('{\"password\": \"\", \"op\": \"UpdateUser\", \"name\": \"mluser738\", \"partition\": 1}',) at monkTestAdmin@0\n"
       ]
      },
      {
       "output_type": "stream",
       "stream": "stdout",
       "text": [
        "[2015-01-16 13:03:02,568][8258 ][monk.network.producer][INFO    ][37  ][producer.py] : sending message ('{\"password\": \"\", \"op\": \"UpdateUser\", \"name\": \"mluser740\", \"partition\": 1}',) at monkTestAdmin@0\n"
       ]
      },
      {
       "output_type": "stream",
       "stream": "stdout",
       "text": [
        "[2015-01-16 13:03:02,575][8258 ][monk.network.producer][INFO    ][37  ][producer.py] : sending message ('{\"password\": \"\", \"op\": \"UpdateUser\", \"name\": \"mluser744\", \"partition\": 1}',) at monkTestAdmin@0\n"
       ]
      },
      {
       "output_type": "stream",
       "stream": "stdout",
       "text": [
        "[2015-01-16 13:03:02,581][8258 ][monk.network.producer][INFO    ][37  ][producer.py] : sending message ('{\"password\": \"\", \"op\": \"UpdateUser\", \"name\": \"mluser746\", \"partition\": 1}',) at monkTestAdmin@0\n"
       ]
      },
      {
       "output_type": "stream",
       "stream": "stdout",
       "text": [
        "[2015-01-16 13:03:02,586][8258 ][monk.network.producer][INFO    ][37  ][producer.py] : sending message ('{\"password\": \"\", \"op\": \"UpdateUser\", \"name\": \"mluser750\", \"partition\": 1}',) at monkTestAdmin@0\n"
       ]
      },
      {
       "output_type": "stream",
       "stream": "stdout",
       "text": [
        "[2015-01-16 13:03:02,596][8258 ][monk.network.producer][INFO    ][37  ][producer.py] : sending message ('{\"password\": \"\", \"op\": \"UpdateUser\", \"name\": \"mluser752\", \"partition\": 1}',) at monkTestAdmin@0\n"
       ]
      },
      {
       "output_type": "stream",
       "stream": "stdout",
       "text": [
        "[2015-01-16 13:03:02,601][8258 ][monk.network.producer][INFO    ][37  ][producer.py] : sending message ('{\"password\": \"\", \"op\": \"UpdateUser\", \"name\": \"mluser756\", \"partition\": 1}',) at monkTestAdmin@0\n"
       ]
      },
      {
       "output_type": "stream",
       "stream": "stdout",
       "text": [
        "[2015-01-16 13:03:02,610][8258 ][monk.network.producer][INFO    ][37  ][producer.py] : sending message ('{\"password\": \"\", \"op\": \"UpdateUser\", \"name\": \"mluser758\", \"partition\": 1}',) at monkTestAdmin@0\n"
       ]
      },
      {
       "output_type": "stream",
       "stream": "stdout",
       "text": [
        "[2015-01-16 13:03:02,616][8258 ][monk.network.producer][INFO    ][37  ][producer.py] : sending message ('{\"password\": \"\", \"op\": \"UpdateUser\", \"name\": \"mluser762\", \"partition\": 1}',) at monkTestAdmin@0\n"
       ]
      },
      {
       "output_type": "stream",
       "stream": "stdout",
       "text": [
        "[2015-01-16 13:03:02,624][8258 ][monk.network.producer][INFO    ][37  ][producer.py] : sending message ('{\"password\": \"\", \"op\": \"UpdateUser\", \"name\": \"mluser764\", \"partition\": 1}',) at monkTestAdmin@0\n"
       ]
      },
      {
       "output_type": "stream",
       "stream": "stdout",
       "text": [
        "[2015-01-16 13:03:02,630][8258 ][monk.network.producer][INFO    ][37  ][producer.py] : sending message ('{\"password\": \"\", \"op\": \"UpdateUser\", \"name\": \"mluser768\", \"partition\": 1}',) at monkTestAdmin@0\n"
       ]
      },
      {
       "output_type": "stream",
       "stream": "stdout",
       "text": [
        "[2015-01-16 13:03:02,636][8258 ][monk.network.producer][INFO    ][37  ][producer.py] : sending message ('{\"password\": \"\", \"op\": \"UpdateUser\", \"name\": \"mluser770\", \"partition\": 1}',) at monkTestAdmin@0\n"
       ]
      },
      {
       "output_type": "stream",
       "stream": "stdout",
       "text": [
        "[2015-01-16 13:03:02,642][8258 ][monk.network.producer][INFO    ][37  ][producer.py] : sending message ('{\"password\": \"\", \"op\": \"UpdateUser\", \"name\": \"mluser774\", \"partition\": 1}',) at monkTestAdmin@0\n"
       ]
      },
      {
       "output_type": "stream",
       "stream": "stdout",
       "text": [
        "[2015-01-16 13:03:02,651][8258 ][monk.network.producer][INFO    ][37  ][producer.py] : sending message ('{\"password\": \"\", \"op\": \"UpdateUser\", \"name\": \"mluser776\", \"partition\": 1}',) at monkTestAdmin@0\n"
       ]
      },
      {
       "output_type": "stream",
       "stream": "stdout",
       "text": [
        "[2015-01-16 13:03:02,656][8258 ][monk.network.producer][INFO    ][37  ][producer.py] : sending message ('{\"password\": \"\", \"op\": \"UpdateUser\", \"name\": \"mluser780\", \"partition\": 1}',) at monkTestAdmin@0\n"
       ]
      },
      {
       "output_type": "stream",
       "stream": "stdout",
       "text": [
        "[2015-01-16 13:03:02,663][8258 ][monk.network.producer][INFO    ][37  ][producer.py] : sending message ('{\"password\": \"\", \"op\": \"UpdateUser\", \"name\": \"mluser782\", \"partition\": 1}',) at monkTestAdmin@0\n"
       ]
      },
      {
       "output_type": "stream",
       "stream": "stdout",
       "text": [
        "[2015-01-16 13:03:02,670][8258 ][monk.network.producer][INFO    ][37  ][producer.py] : sending message ('{\"password\": \"\", \"op\": \"UpdateUser\", \"name\": \"mluser786\", \"partition\": 1}',) at monkTestAdmin@0\n"
       ]
      },
      {
       "output_type": "stream",
       "stream": "stdout",
       "text": [
        "[2015-01-16 13:03:02,676][8258 ][monk.network.producer][INFO    ][37  ][producer.py] : sending message ('{\"password\": \"\", \"op\": \"UpdateUser\", \"name\": \"mluser788\", \"partition\": 1}',) at monkTestAdmin@0\n"
       ]
      },
      {
       "output_type": "stream",
       "stream": "stdout",
       "text": [
        "[2015-01-16 13:03:02,682][8258 ][monk.network.producer][INFO    ][37  ][producer.py] : sending message ('{\"password\": \"\", \"op\": \"UpdateUser\", \"name\": \"mluser792\", \"partition\": 1}',) at monkTestAdmin@0\n"
       ]
      },
      {
       "output_type": "stream",
       "stream": "stdout",
       "text": [
        "[2015-01-16 13:03:02,687][8258 ][monk.network.producer][INFO    ][37  ][producer.py] : sending message ('{\"password\": \"\", \"op\": \"UpdateUser\", \"name\": \"mluser794\", \"partition\": 1}',) at monkTestAdmin@0\n"
       ]
      },
      {
       "output_type": "stream",
       "stream": "stdout",
       "text": [
        "[2015-01-16 13:03:02,693][8258 ][monk.network.producer][INFO    ][37  ][producer.py] : sending message ('{\"password\": \"\", \"op\": \"UpdateUser\", \"name\": \"mluser798\", \"partition\": 1}',) at monkTestAdmin@0\n"
       ]
      },
      {
       "output_type": "stream",
       "stream": "stdout",
       "text": [
        "[2015-01-16 13:03:02,698][8258 ][monk.network.producer][INFO    ][37  ][producer.py] : sending message ('{\"password\": \"\", \"op\": \"UpdateUser\", \"name\": \"mluser800\", \"partition\": 1}',) at monkTestAdmin@0\n"
       ]
      },
      {
       "output_type": "stream",
       "stream": "stdout",
       "text": [
        "[2015-01-16 13:03:02,704][8258 ][monk.network.producer][INFO    ][37  ][producer.py] : sending message ('{\"password\": \"\", \"op\": \"UpdateUser\", \"name\": \"mluser804\", \"partition\": 1}',) at monkTestAdmin@0\n"
       ]
      },
      {
       "output_type": "stream",
       "stream": "stdout",
       "text": [
        "[2015-01-16 13:03:02,713][8258 ][monk.network.producer][INFO    ][37  ][producer.py] : sending message ('{\"password\": \"\", \"op\": \"UpdateUser\", \"name\": \"mluser806\", \"partition\": 1}',) at monkTestAdmin@0\n"
       ]
      },
      {
       "output_type": "stream",
       "stream": "stdout",
       "text": [
        "[2015-01-16 13:03:02,720][8258 ][monk.network.producer][INFO    ][37  ][producer.py] : sending message ('{\"password\": \"\", \"op\": \"UpdateUser\", \"name\": \"mluser810\", \"partition\": 1}',) at monkTestAdmin@0\n"
       ]
      },
      {
       "output_type": "stream",
       "stream": "stdout",
       "text": [
        "[2015-01-16 13:03:02,725][8258 ][monk.network.producer][INFO    ][37  ][producer.py] : sending message ('{\"password\": \"\", \"op\": \"UpdateUser\", \"name\": \"mluser812\", \"partition\": 1}',) at monkTestAdmin@0\n"
       ]
      },
      {
       "output_type": "stream",
       "stream": "stdout",
       "text": [
        "[2015-01-16 13:03:02,730][8258 ][monk.network.producer][INFO    ][37  ][producer.py] : sending message ('{\"password\": \"\", \"op\": \"UpdateUser\", \"name\": \"mluser816\", \"partition\": 1}',) at monkTestAdmin@0\n"
       ]
      },
      {
       "output_type": "stream",
       "stream": "stdout",
       "text": [
        "[2015-01-16 13:03:02,740][8258 ][monk.network.producer][INFO    ][37  ][producer.py] : sending message ('{\"password\": \"\", \"op\": \"UpdateUser\", \"name\": \"mluser818\", \"partition\": 1}',) at monkTestAdmin@0\n"
       ]
      },
      {
       "output_type": "stream",
       "stream": "stdout",
       "text": [
        "[2015-01-16 13:03:02,758][8258 ][monk.network.producer][INFO    ][37  ][producer.py] : sending message ('{\"password\": \"\", \"op\": \"UpdateUser\", \"name\": \"mluser822\", \"partition\": 1}',) at monkTestAdmin@0\n"
       ]
      },
      {
       "output_type": "stream",
       "stream": "stdout",
       "text": [
        "[2015-01-16 13:03:02,765][8258 ][monk.network.producer][INFO    ][37  ][producer.py] : sending message ('{\"password\": \"\", \"op\": \"UpdateUser\", \"name\": \"mluser824\", \"partition\": 1}',) at monkTestAdmin@0\n"
       ]
      },
      {
       "output_type": "stream",
       "stream": "stdout",
       "text": [
        "[2015-01-16 13:03:02,773][8258 ][monk.network.producer][INFO    ][37  ][producer.py] : sending message ('{\"password\": \"\", \"op\": \"UpdateUser\", \"name\": \"mluser828\", \"partition\": 1}',) at monkTestAdmin@0\n"
       ]
      },
      {
       "output_type": "stream",
       "stream": "stdout",
       "text": [
        "[2015-01-16 13:03:02,780][8258 ][monk.network.producer][INFO    ][37  ][producer.py] : sending message ('{\"password\": \"\", \"op\": \"UpdateUser\", \"name\": \"mluser830\", \"partition\": 1}',) at monkTestAdmin@0\n"
       ]
      },
      {
       "output_type": "stream",
       "stream": "stdout",
       "text": [
        "[2015-01-16 13:03:02,792][8258 ][monk.network.producer][INFO    ][37  ][producer.py] : sending message ('{\"password\": \"\", \"op\": \"UpdateUser\", \"name\": \"mluser834\", \"partition\": 1}',) at monkTestAdmin@0\n"
       ]
      },
      {
       "output_type": "stream",
       "stream": "stdout",
       "text": [
        "[2015-01-16 13:03:02,801][8258 ][monk.network.producer][INFO    ][37  ][producer.py] : sending message ('{\"password\": \"\", \"op\": \"UpdateUser\", \"name\": \"mluser836\", \"partition\": 1}',) at monkTestAdmin@0\n"
       ]
      },
      {
       "output_type": "stream",
       "stream": "stdout",
       "text": [
        "[2015-01-16 13:03:02,809][8258 ][monk.network.producer][INFO    ][37  ][producer.py] : sending message ('{\"password\": \"\", \"op\": \"UpdateUser\", \"name\": \"mluser840\", \"partition\": 1}',) at monkTestAdmin@0\n"
       ]
      },
      {
       "output_type": "stream",
       "stream": "stdout",
       "text": [
        "[2015-01-16 13:03:02,815][8258 ][monk.network.producer][INFO    ][37  ][producer.py] : sending message ('{\"password\": \"\", \"op\": \"UpdateUser\", \"name\": \"mluser842\", \"partition\": 1}',) at monkTestAdmin@0\n"
       ]
      },
      {
       "output_type": "stream",
       "stream": "stdout",
       "text": [
        "[2015-01-16 13:03:02,821][8258 ][monk.network.producer][INFO    ][37  ][producer.py] : sending message ('{\"password\": \"\", \"op\": \"UpdateUser\", \"name\": \"mluser846\", \"partition\": 1}',) at monkTestAdmin@0\n"
       ]
      },
      {
       "output_type": "stream",
       "stream": "stdout",
       "text": [
        "[2015-01-16 13:03:02,840][8258 ][monk.network.producer][INFO    ][37  ][producer.py] : sending message ('{\"password\": \"\", \"op\": \"UpdateUser\", \"name\": \"mluser848\", \"partition\": 1}',) at monkTestAdmin@0\n"
       ]
      },
      {
       "output_type": "stream",
       "stream": "stdout",
       "text": [
        "[2015-01-16 13:03:02,868][8258 ][monk.network.producer][INFO    ][37  ][producer.py] : sending message ('{\"password\": \"\", \"op\": \"UpdateUser\", \"name\": \"mluser852\", \"partition\": 1}',) at monkTestAdmin@0\n"
       ]
      },
      {
       "output_type": "stream",
       "stream": "stdout",
       "text": [
        "[2015-01-16 13:03:02,875][8258 ][monk.network.producer][INFO    ][37  ][producer.py] : sending message ('{\"password\": \"\", \"op\": \"UpdateUser\", \"name\": \"mluser854\", \"partition\": 1}',) at monkTestAdmin@0\n"
       ]
      },
      {
       "output_type": "stream",
       "stream": "stdout",
       "text": [
        "[2015-01-16 13:03:02,881][8258 ][monk.network.producer][INFO    ][37  ][producer.py] : sending message ('{\"password\": \"\", \"op\": \"UpdateUser\", \"name\": \"mluser858\", \"partition\": 1}',) at monkTestAdmin@0\n"
       ]
      },
      {
       "output_type": "stream",
       "stream": "stdout",
       "text": [
        "[2015-01-16 13:03:02,887][8258 ][monk.network.producer][INFO    ][37  ][producer.py] : sending message ('{\"password\": \"\", \"op\": \"UpdateUser\", \"name\": \"mluser860\", \"partition\": 1}',) at monkTestAdmin@0\n"
       ]
      },
      {
       "output_type": "stream",
       "stream": "stdout",
       "text": [
        "[2015-01-16 13:03:02,893][8258 ][monk.network.producer][INFO    ][37  ][producer.py] : sending message ('{\"password\": \"\", \"op\": \"UpdateUser\", \"name\": \"mluser864\", \"partition\": 1}',) at monkTestAdmin@0\n"
       ]
      },
      {
       "output_type": "stream",
       "stream": "stdout",
       "text": [
        "[2015-01-16 13:03:02,904][8258 ][monk.network.producer][INFO    ][37  ][producer.py] : sending message ('{\"password\": \"\", \"op\": \"UpdateUser\", \"name\": \"mluser866\", \"partition\": 1}',) at monkTestAdmin@0\n"
       ]
      },
      {
       "output_type": "stream",
       "stream": "stdout",
       "text": [
        "[2015-01-16 13:03:02,909][8258 ][monk.network.producer][INFO    ][37  ][producer.py] : sending message ('{\"password\": \"\", \"op\": \"UpdateUser\", \"name\": \"mluser870\", \"partition\": 1}',) at monkTestAdmin@0\n"
       ]
      },
      {
       "output_type": "stream",
       "stream": "stdout",
       "text": [
        "[2015-01-16 13:03:02,918][8258 ][monk.network.producer][INFO    ][37  ][producer.py] : sending message ('{\"password\": \"\", \"op\": \"UpdateUser\", \"name\": \"mluser872\", \"partition\": 1}',) at monkTestAdmin@0\n"
       ]
      },
      {
       "output_type": "stream",
       "stream": "stdout",
       "text": [
        "[2015-01-16 13:03:02,923][8258 ][monk.network.producer][INFO    ][37  ][producer.py] : sending message ('{\"password\": \"\", \"op\": \"UpdateUser\", \"name\": \"mluser876\", \"partition\": 1}',) at monkTestAdmin@0\n"
       ]
      },
      {
       "output_type": "stream",
       "stream": "stdout",
       "text": [
        "[2015-01-16 13:03:02,928][8258 ][monk.network.producer][INFO    ][37  ][producer.py] : sending message ('{\"password\": \"\", \"op\": \"UpdateUser\", \"name\": \"mluser878\", \"partition\": 1}',) at monkTestAdmin@0\n"
       ]
      },
      {
       "output_type": "stream",
       "stream": "stdout",
       "text": [
        "[2015-01-16 13:03:02,938][8258 ][monk.network.producer][INFO    ][37  ][producer.py] : sending message ('{\"password\": \"\", \"op\": \"UpdateUser\", \"name\": \"mluser882\", \"partition\": 1}',) at monkTestAdmin@0\n"
       ]
      },
      {
       "output_type": "stream",
       "stream": "stdout",
       "text": [
        "[2015-01-16 13:03:02,944][8258 ][monk.network.producer][INFO    ][37  ][producer.py] : sending message ('{\"password\": \"\", \"op\": \"UpdateUser\", \"name\": \"mluser884\", \"partition\": 1}',) at monkTestAdmin@0\n"
       ]
      },
      {
       "output_type": "stream",
       "stream": "stdout",
       "text": [
        "[2015-01-16 13:03:02,953][8258 ][monk.network.producer][INFO    ][37  ][producer.py] : sending message ('{\"password\": \"\", \"op\": \"UpdateUser\", \"name\": \"mluser888\", \"partition\": 1}',) at monkTestAdmin@0\n"
       ]
      },
      {
       "output_type": "stream",
       "stream": "stdout",
       "text": [
        "[2015-01-16 13:03:02,959][8258 ][monk.network.producer][INFO    ][37  ][producer.py] : sending message ('{\"password\": \"\", \"op\": \"UpdateUser\", \"name\": \"mluser890\", \"partition\": 1}',) at monkTestAdmin@0\n"
       ]
      },
      {
       "output_type": "stream",
       "stream": "stdout",
       "text": [
        "[2015-01-16 13:03:02,970][8258 ][monk.network.producer][INFO    ][37  ][producer.py] : sending message ('{\"password\": \"\", \"op\": \"UpdateUser\", \"name\": \"mluser894\", \"partition\": 1}',) at monkTestAdmin@0\n"
       ]
      },
      {
       "output_type": "stream",
       "stream": "stdout",
       "text": [
        "[2015-01-16 13:03:02,977][8258 ][monk.network.producer][INFO    ][37  ][producer.py] : sending message ('{\"password\": \"\", \"op\": \"UpdateUser\", \"name\": \"mluser896\", \"partition\": 1}',) at monkTestAdmin@0\n"
       ]
      },
      {
       "output_type": "stream",
       "stream": "stdout",
       "text": [
        "[2015-01-16 13:03:02,986][8258 ][monk.network.producer][INFO    ][37  ][producer.py] : sending message ('{\"password\": \"\", \"op\": \"UpdateUser\", \"name\": \"mluser900\", \"partition\": 1}',) at monkTestAdmin@0\n"
       ]
      },
      {
       "output_type": "stream",
       "stream": "stdout",
       "text": [
        "[2015-01-16 13:03:02,993][8258 ][monk.network.producer][INFO    ][37  ][producer.py] : sending message ('{\"password\": \"\", \"op\": \"UpdateUser\", \"name\": \"mluser902\", \"partition\": 1}',) at monkTestAdmin@0\n"
       ]
      },
      {
       "output_type": "stream",
       "stream": "stdout",
       "text": [
        "[2015-01-16 13:03:02,998][8258 ][monk.network.producer][INFO    ][37  ][producer.py] : sending message ('{\"password\": \"\", \"op\": \"UpdateUser\", \"name\": \"mluser906\", \"partition\": 1}',) at monkTestAdmin@0\n"
       ]
      },
      {
       "output_type": "stream",
       "stream": "stdout",
       "text": [
        "[2015-01-16 13:03:03,006][8258 ][monk.network.producer][INFO    ][37  ][producer.py] : sending message ('{\"password\": \"\", \"op\": \"UpdateUser\", \"name\": \"mluser908\", \"partition\": 1}',) at monkTestAdmin@0\n"
       ]
      },
      {
       "output_type": "stream",
       "stream": "stdout",
       "text": [
        "[2015-01-16 13:03:03,012][8258 ][monk.network.producer][INFO    ][37  ][producer.py] : sending message ('{\"password\": \"\", \"op\": \"UpdateUser\", \"name\": \"mluser912\", \"partition\": 1}',) at monkTestAdmin@0\n"
       ]
      },
      {
       "output_type": "stream",
       "stream": "stdout",
       "text": [
        "[2015-01-16 13:03:03,021][8258 ][monk.network.producer][INFO    ][37  ][producer.py] : sending message ('{\"password\": \"\", \"op\": \"UpdateUser\", \"name\": \"mluser914\", \"partition\": 1}',) at monkTestAdmin@0\n"
       ]
      },
      {
       "output_type": "stream",
       "stream": "stdout",
       "text": [
        "[2015-01-16 13:03:03,027][8258 ][monk.network.producer][INFO    ][37  ][producer.py] : sending message ('{\"password\": \"\", \"op\": \"UpdateUser\", \"name\": \"mluser918\", \"partition\": 1}',) at monkTestAdmin@0\n"
       ]
      },
      {
       "output_type": "stream",
       "stream": "stdout",
       "text": [
        "[2015-01-16 13:03:03,033][8258 ][monk.network.producer][INFO    ][37  ][producer.py] : sending message ('{\"password\": \"\", \"op\": \"UpdateUser\", \"name\": \"mluser920\", \"partition\": 1}',) at monkTestAdmin@0\n"
       ]
      },
      {
       "output_type": "stream",
       "stream": "stdout",
       "text": [
        "[2015-01-16 13:03:03,039][8258 ][monk.network.producer][INFO    ][37  ][producer.py] : sending message ('{\"password\": \"\", \"op\": \"UpdateUser\", \"name\": \"mluser924\", \"partition\": 1}',) at monkTestAdmin@0\n"
       ]
      },
      {
       "output_type": "stream",
       "stream": "stdout",
       "text": [
        "[2015-01-16 13:03:03,045][8258 ][monk.network.producer][INFO    ][37  ][producer.py] : sending message ('{\"password\": \"\", \"op\": \"UpdateUser\", \"name\": \"mluser926\", \"partition\": 1}',) at monkTestAdmin@0\n"
       ]
      },
      {
       "output_type": "stream",
       "stream": "stdout",
       "text": [
        "[2015-01-16 13:03:03,052][8258 ][monk.network.producer][INFO    ][37  ][producer.py] : sending message ('{\"password\": \"\", \"op\": \"UpdateUser\", \"name\": \"mluser930\", \"partition\": 1}',) at monkTestAdmin@0\n"
       ]
      },
      {
       "output_type": "stream",
       "stream": "stdout",
       "text": [
        "[2015-01-16 13:03:03,061][8258 ][monk.network.producer][INFO    ][37  ][producer.py] : sending message ('{\"password\": \"\", \"op\": \"UpdateUser\", \"name\": \"mluser932\", \"partition\": 1}',) at monkTestAdmin@0\n"
       ]
      },
      {
       "output_type": "stream",
       "stream": "stdout",
       "text": [
        "[2015-01-16 13:03:03,072][8258 ][monk.network.producer][INFO    ][37  ][producer.py] : sending message ('{\"password\": \"\", \"op\": \"UpdateUser\", \"name\": \"mluser936\", \"partition\": 1}',) at monkTestAdmin@0\n"
       ]
      },
      {
       "output_type": "stream",
       "stream": "stdout",
       "text": [
        "[2015-01-16 13:03:03,080][8258 ][monk.network.producer][INFO    ][37  ][producer.py] : sending message ('{\"password\": \"\", \"op\": \"UpdateUser\", \"name\": \"mluser938\", \"partition\": 1}',) at monkTestAdmin@0\n"
       ]
      },
      {
       "output_type": "stream",
       "stream": "stdout",
       "text": [
        "[2015-01-16 13:03:03,092][8258 ][monk.network.producer][INFO    ][37  ][producer.py] : sending message ('{\"password\": \"\", \"op\": \"UpdateUser\", \"name\": \"mluser942\", \"partition\": 1}',) at monkTestAdmin@0\n"
       ]
      },
      {
       "output_type": "stream",
       "stream": "stdout",
       "text": [
        "[2015-01-16 13:03:03,098][8258 ][monk.network.producer][INFO    ][37  ][producer.py] : sending message ('{\"password\": \"\", \"op\": \"UpdateUser\", \"name\": \"mluser944\", \"partition\": 1}',) at monkTestAdmin@0\n"
       ]
      },
      {
       "output_type": "stream",
       "stream": "stdout",
       "text": [
        "[2015-01-16 13:03:03,104][8258 ][monk.network.producer][INFO    ][37  ][producer.py] : sending message ('{\"password\": \"\", \"op\": \"UpdateUser\", \"name\": \"mluser948\", \"partition\": 1}',) at monkTestAdmin@0\n"
       ]
      },
      {
       "output_type": "stream",
       "stream": "stdout",
       "text": [
        "[2015-01-16 13:03:03,110][8258 ][monk.network.producer][INFO    ][37  ][producer.py] : sending message ('{\"password\": \"\", \"op\": \"UpdateUser\", \"name\": \"mluser950\", \"partition\": 1}',) at monkTestAdmin@0\n"
       ]
      },
      {
       "output_type": "stream",
       "stream": "stdout",
       "text": [
        "[2015-01-16 13:03:03,116][8258 ][monk.network.producer][INFO    ][37  ][producer.py] : sending message ('{\"password\": \"\", \"op\": \"UpdateUser\", \"name\": \"mluser954\", \"partition\": 1}',) at monkTestAdmin@0\n"
       ]
      },
      {
       "output_type": "stream",
       "stream": "stdout",
       "text": [
        "[2015-01-16 13:03:03,122][8258 ][monk.network.producer][INFO    ][37  ][producer.py] : sending message ('{\"password\": \"\", \"op\": \"UpdateUser\", \"name\": \"mluser956\", \"partition\": 1}',) at monkTestAdmin@0\n"
       ]
      },
      {
       "output_type": "stream",
       "stream": "stdout",
       "text": [
        "[2015-01-16 13:03:03,127][8258 ][monk.network.producer][INFO    ][37  ][producer.py] : sending message ('{\"password\": \"\", \"op\": \"UpdateUser\", \"name\": \"mluser960\", \"partition\": 1}',) at monkTestAdmin@0\n"
       ]
      },
      {
       "output_type": "stream",
       "stream": "stdout",
       "text": [
        "[2015-01-16 13:03:03,134][8258 ][monk.network.producer][INFO    ][37  ][producer.py] : sending message ('{\"password\": \"\", \"op\": \"UpdateUser\", \"name\": \"mluser962\", \"partition\": 1}',) at monkTestAdmin@0\n"
       ]
      },
      {
       "output_type": "stream",
       "stream": "stdout",
       "text": [
        "[2015-01-16 13:03:03,141][8258 ][monk.network.producer][INFO    ][37  ][producer.py] : sending message ('{\"password\": \"\", \"op\": \"UpdateUser\", \"name\": \"mluser966\", \"partition\": 1}',) at monkTestAdmin@0\n"
       ]
      },
      {
       "output_type": "stream",
       "stream": "stdout",
       "text": [
        "[2015-01-16 13:03:03,147][8258 ][monk.network.producer][INFO    ][37  ][producer.py] : sending message ('{\"password\": \"\", \"op\": \"UpdateUser\", \"name\": \"mluser968\", \"partition\": 1}',) at monkTestAdmin@0\n"
       ]
      },
      {
       "output_type": "stream",
       "stream": "stdout",
       "text": [
        "[2015-01-16 13:03:03,154][8258 ][monk.network.producer][INFO    ][37  ][producer.py] : sending message ('{\"password\": \"\", \"op\": \"UpdateUser\", \"name\": \"mluser972\", \"partition\": 1}',) at monkTestAdmin@0\n"
       ]
      },
      {
       "output_type": "stream",
       "stream": "stdout",
       "text": [
        "[2015-01-16 13:03:03,160][8258 ][monk.network.producer][INFO    ][37  ][producer.py] : sending message ('{\"password\": \"\", \"op\": \"UpdateUser\", \"name\": \"mluser974\", \"partition\": 1}',) at monkTestAdmin@0\n"
       ]
      },
      {
       "output_type": "stream",
       "stream": "stdout",
       "text": [
        "[2015-01-16 13:03:03,166][8258 ][monk.network.producer][INFO    ][37  ][producer.py] : sending message ('{\"password\": \"\", \"op\": \"UpdateUser\", \"name\": \"mluser978\", \"partition\": 1}',) at monkTestAdmin@0\n"
       ]
      },
      {
       "output_type": "stream",
       "stream": "stdout",
       "text": [
        "[2015-01-16 13:03:03,174][8258 ][monk.network.producer][INFO    ][37  ][producer.py] : sending message ('{\"password\": \"\", \"op\": \"UpdateUser\", \"name\": \"mluser980\", \"partition\": 1}',) at monkTestAdmin@0\n"
       ]
      },
      {
       "output_type": "stream",
       "stream": "stdout",
       "text": [
        "[2015-01-16 13:03:03,183][8258 ][monk.network.producer][INFO    ][37  ][producer.py] : sending message ('{\"password\": \"\", \"op\": \"UpdateUser\", \"name\": \"mluser984\", \"partition\": 1}',) at monkTestAdmin@0\n"
       ]
      },
      {
       "output_type": "stream",
       "stream": "stdout",
       "text": [
        "[2015-01-16 13:03:03,188][8258 ][monk.network.producer][INFO    ][37  ][producer.py] : sending message ('{\"password\": \"\", \"op\": \"UpdateUser\", \"name\": \"mluser986\", \"partition\": 1}',) at monkTestAdmin@0\n"
       ]
      },
      {
       "output_type": "stream",
       "stream": "stdout",
       "text": [
        "[2015-01-16 13:03:03,195][8258 ][monk.network.producer][INFO    ][37  ][producer.py] : sending message ('{\"password\": \"\", \"op\": \"UpdateUser\", \"name\": \"mluser990\", \"partition\": 1}',) at monkTestAdmin@0\n"
       ]
      },
      {
       "output_type": "stream",
       "stream": "stdout",
       "text": [
        "[2015-01-16 13:03:03,201][8258 ][monk.network.producer][INFO    ][37  ][producer.py] : sending message ('{\"password\": \"\", \"op\": \"UpdateUser\", \"name\": \"mluser992\", \"partition\": 1}',) at monkTestAdmin@0\n"
       ]
      },
      {
       "output_type": "stream",
       "stream": "stdout",
       "text": [
        "[2015-01-16 13:03:03,211][8258 ][monk.network.producer][INFO    ][37  ][producer.py] : sending message ('{\"password\": \"\", \"op\": \"UpdateUser\", \"name\": \"mluser996\", \"partition\": 1}',) at monkTestAdmin@0\n"
       ]
      },
      {
       "output_type": "stream",
       "stream": "stdout",
       "text": [
        "[2015-01-16 13:03:03,217][8258 ][monk.network.producer][INFO    ][37  ][producer.py] : sending message ('{\"password\": \"\", \"op\": \"UpdateUser\", \"name\": \"mluser998\", \"partition\": 1}',) at monkTestAdmin@0\n"
       ]
      },
      {
       "output_type": "stream",
       "stream": "stdout",
       "text": [
        "[2015-01-16 13:03:03,225][8258 ][monk.network.producer][INFO    ][37  ][producer.py] : sending message ('{\"password\": \"\", \"op\": \"UpdateUser\", \"name\": \"mluser1002\", \"partition\": 1}',) at monkTestAdmin@0\n"
       ]
      },
      {
       "output_type": "stream",
       "stream": "stdout",
       "text": [
        "[2015-01-16 13:03:03,231][8258 ][monk.network.producer][INFO    ][37  ][producer.py] : sending message ('{\"password\": \"\", \"op\": \"UpdateUser\", \"name\": \"mluser1004\", \"partition\": 1}',) at monkTestAdmin@0\n"
       ]
      },
      {
       "output_type": "stream",
       "stream": "stdout",
       "text": [
        "[2015-01-16 13:03:03,239][8258 ][monk.network.producer][INFO    ][37  ][producer.py] : sending message ('{\"password\": \"\", \"op\": \"UpdateUser\", \"name\": \"mluser1008\", \"partition\": 1}',) at monkTestAdmin@0\n"
       ]
      },
      {
       "output_type": "stream",
       "stream": "stdout",
       "text": [
        "[2015-01-16 13:03:03,244][8258 ][monk.network.producer][INFO    ][37  ][producer.py] : sending message ('{\"password\": \"\", \"op\": \"UpdateUser\", \"name\": \"mluser1010\", \"partition\": 1}',) at monkTestAdmin@0\n"
       ]
      },
      {
       "output_type": "stream",
       "stream": "stdout",
       "text": [
        "[2015-01-16 13:03:03,252][8258 ][monk.network.producer][INFO    ][37  ][producer.py] : sending message ('{\"password\": \"\", \"op\": \"UpdateUser\", \"name\": \"mluser1014\", \"partition\": 1}',) at monkTestAdmin@0\n"
       ]
      },
      {
       "output_type": "stream",
       "stream": "stdout",
       "text": [
        "[2015-01-16 13:03:03,262][8258 ][monk.network.producer][INFO    ][37  ][producer.py] : sending message ('{\"password\": \"\", \"op\": \"UpdateUser\", \"name\": \"mluser1016\", \"partition\": 1}',) at monkTestAdmin@0\n"
       ]
      },
      {
       "output_type": "stream",
       "stream": "stdout",
       "text": [
        "[2015-01-16 13:03:03,268][8258 ][monk.network.producer][INFO    ][37  ][producer.py] : sending message ('{\"password\": \"\", \"op\": \"UpdateUser\", \"name\": \"mluser1020\", \"partition\": 1}',) at monkTestAdmin@0\n"
       ]
      },
      {
       "output_type": "stream",
       "stream": "stdout",
       "text": [
        "[2015-01-16 13:03:03,277][8258 ][monk.network.producer][INFO    ][37  ][producer.py] : sending message ('{\"password\": \"\", \"op\": \"UpdateUser\", \"name\": \"mluser1022\", \"partition\": 1}',) at monkTestAdmin@0\n"
       ]
      },
      {
       "output_type": "stream",
       "stream": "stdout",
       "text": [
        "[2015-01-16 13:03:03,285][8258 ][monk.network.producer][INFO    ][37  ][producer.py] : sending message ('{\"password\": \"\", \"op\": \"UpdateUser\", \"name\": \"mluser1026\", \"partition\": 1}',) at monkTestAdmin@0\n"
       ]
      },
      {
       "output_type": "stream",
       "stream": "stdout",
       "text": [
        "[2015-01-16 13:03:03,293][8258 ][monk.network.producer][INFO    ][37  ][producer.py] : sending message ('{\"password\": \"\", \"op\": \"UpdateUser\", \"name\": \"mluser1028\", \"partition\": 1}',) at monkTestAdmin@0\n"
       ]
      },
      {
       "output_type": "stream",
       "stream": "stdout",
       "text": [
        "[2015-01-16 13:03:03,299][8258 ][monk.network.producer][INFO    ][37  ][producer.py] : sending message ('{\"password\": \"\", \"op\": \"UpdateUser\", \"name\": \"mluser1032\", \"partition\": 1}',) at monkTestAdmin@0\n"
       ]
      },
      {
       "output_type": "stream",
       "stream": "stdout",
       "text": [
        "[2015-01-16 13:03:03,314][8258 ][monk.network.producer][INFO    ][37  ][producer.py] : sending message ('{\"password\": \"\", \"op\": \"UpdateUser\", \"name\": \"mluser1034\", \"partition\": 1}',) at monkTestAdmin@0\n"
       ]
      },
      {
       "output_type": "stream",
       "stream": "stdout",
       "text": [
        "[2015-01-16 13:03:03,321][8258 ][monk.network.producer][INFO    ][37  ][producer.py] : sending message ('{\"password\": \"\", \"op\": \"UpdateUser\", \"name\": \"mluser1038\", \"partition\": 1}',) at monkTestAdmin@0\n"
       ]
      },
      {
       "output_type": "stream",
       "stream": "stdout",
       "text": [
        "[2015-01-16 13:03:03,328][8258 ][monk.network.producer][INFO    ][37  ][producer.py] : sending message ('{\"password\": \"\", \"op\": \"UpdateUser\", \"name\": \"mluser1040\", \"partition\": 1}',) at monkTestAdmin@0\n"
       ]
      },
      {
       "output_type": "stream",
       "stream": "stdout",
       "text": [
        "[2015-01-16 13:03:03,335][8258 ][monk.network.producer][INFO    ][37  ][producer.py] : sending message ('{\"password\": \"\", \"op\": \"UpdateUser\", \"name\": \"mluser1044\", \"partition\": 1}',) at monkTestAdmin@0\n"
       ]
      },
      {
       "output_type": "stream",
       "stream": "stdout",
       "text": [
        "[2015-01-16 13:03:03,342][8258 ][monk.network.producer][INFO    ][37  ][producer.py] : sending message ('{\"password\": \"\", \"op\": \"UpdateUser\", \"name\": \"mluser1046\", \"partition\": 1}',) at monkTestAdmin@0\n"
       ]
      },
      {
       "output_type": "stream",
       "stream": "stdout",
       "text": [
        "[2015-01-16 13:03:03,352][8258 ][monk.network.producer][INFO    ][37  ][producer.py] : sending message ('{\"password\": \"\", \"op\": \"UpdateUser\", \"name\": \"mluser1050\", \"partition\": 1}',) at monkTestAdmin@0\n"
       ]
      },
      {
       "output_type": "stream",
       "stream": "stdout",
       "text": [
        "[2015-01-16 13:03:03,363][8258 ][monk.network.producer][INFO    ][37  ][producer.py] : sending message ('{\"password\": \"\", \"op\": \"UpdateUser\", \"name\": \"mluser1052\", \"partition\": 1}',) at monkTestAdmin@0\n"
       ]
      },
      {
       "output_type": "stream",
       "stream": "stdout",
       "text": [
        "[2015-01-16 13:03:03,368][8258 ][monk.network.producer][INFO    ][37  ][producer.py] : sending message ('{\"password\": \"\", \"op\": \"UpdateUser\", \"name\": \"mluser1056\", \"partition\": 1}',) at monkTestAdmin@0\n"
       ]
      },
      {
       "output_type": "stream",
       "stream": "stdout",
       "text": [
        "[2015-01-16 13:03:03,380][8258 ][monk.network.producer][INFO    ][37  ][producer.py] : sending message ('{\"password\": \"\", \"op\": \"UpdateUser\", \"name\": \"mluser1058\", \"partition\": 1}',) at monkTestAdmin@0\n"
       ]
      },
      {
       "output_type": "stream",
       "stream": "stdout",
       "text": [
        "[2015-01-16 13:03:03,388][8258 ][monk.network.producer][INFO    ][37  ][producer.py] : sending message ('{\"password\": \"\", \"op\": \"UpdateUser\", \"name\": \"mluser1062\", \"partition\": 1}',) at monkTestAdmin@0\n"
       ]
      },
      {
       "output_type": "stream",
       "stream": "stdout",
       "text": [
        "[2015-01-16 13:03:03,397][8258 ][monk.network.producer][INFO    ][37  ][producer.py] : sending message ('{\"password\": \"\", \"op\": \"UpdateUser\", \"name\": \"mluser1064\", \"partition\": 1}',) at monkTestAdmin@0\n"
       ]
      },
      {
       "output_type": "stream",
       "stream": "stdout",
       "text": [
        "[2015-01-16 13:03:03,435][8258 ][monk.network.producer][INFO    ][37  ][producer.py] : sending message ('{\"password\": \"\", \"op\": \"UpdateUser\", \"name\": \"mluser1068\", \"partition\": 1}',) at monkTestAdmin@0\n"
       ]
      },
      {
       "output_type": "stream",
       "stream": "stdout",
       "text": [
        "[2015-01-16 13:03:03,466][8258 ][monk.network.producer][INFO    ][37  ][producer.py] : sending message ('{\"password\": \"\", \"op\": \"UpdateUser\", \"name\": \"mluser1070\", \"partition\": 1}',) at monkTestAdmin@0\n"
       ]
      },
      {
       "output_type": "stream",
       "stream": "stdout",
       "text": [
        "[2015-01-16 13:03:03,473][8258 ][monk.network.producer][INFO    ][37  ][producer.py] : sending message ('{\"password\": \"\", \"op\": \"UpdateUser\", \"name\": \"mluser1074\", \"partition\": 1}',) at monkTestAdmin@0\n"
       ]
      },
      {
       "output_type": "stream",
       "stream": "stdout",
       "text": [
        "[2015-01-16 13:03:03,490][8258 ][monk.network.producer][INFO    ][37  ][producer.py] : sending message ('{\"password\": \"\", \"op\": \"UpdateUser\", \"name\": \"mluser1076\", \"partition\": 1}',) at monkTestAdmin@0\n"
       ]
      },
      {
       "output_type": "stream",
       "stream": "stdout",
       "text": [
        "[2015-01-16 13:03:03,498][8258 ][monk.network.producer][INFO    ][37  ][producer.py] : sending message ('{\"password\": \"\", \"op\": \"UpdateUser\", \"name\": \"mluser1080\", \"partition\": 1}',) at monkTestAdmin@0\n"
       ]
      },
      {
       "output_type": "stream",
       "stream": "stdout",
       "text": [
        "[2015-01-16 13:03:03,521][8258 ][monk.network.producer][INFO    ][37  ][producer.py] : sending message ('{\"password\": \"\", \"op\": \"UpdateUser\", \"name\": \"mluser1082\", \"partition\": 1}',) at monkTestAdmin@0\n"
       ]
      },
      {
       "output_type": "stream",
       "stream": "stdout",
       "text": [
        "[2015-01-16 13:03:03,534][8258 ][monk.network.producer][INFO    ][37  ][producer.py] : sending message ('{\"password\": \"\", \"op\": \"UpdateUser\", \"name\": \"mluser1086\", \"partition\": 1}',) at monkTestAdmin@0\n"
       ]
      },
      {
       "output_type": "stream",
       "stream": "stdout",
       "text": [
        "[2015-01-16 13:03:03,540][8258 ][monk.network.producer][INFO    ][37  ][producer.py] : sending message ('{\"password\": \"\", \"op\": \"UpdateUser\", \"name\": \"mluser1088\", \"partition\": 1}',) at monkTestAdmin@0\n"
       ]
      },
      {
       "output_type": "stream",
       "stream": "stdout",
       "text": [
        "[2015-01-16 13:03:03,548][8258 ][monk.network.producer][INFO    ][37  ][producer.py] : sending message ('{\"password\": \"\", \"op\": \"UpdateUser\", \"name\": \"mluser1092\", \"partition\": 1}',) at monkTestAdmin@0\n"
       ]
      },
      {
       "output_type": "stream",
       "stream": "stdout",
       "text": [
        "[2015-01-16 13:03:03,558][8258 ][monk.network.producer][INFO    ][37  ][producer.py] : sending message ('{\"password\": \"\", \"op\": \"UpdateUser\", \"name\": \"mluser1094\", \"partition\": 1}',) at monkTestAdmin@0\n"
       ]
      },
      {
       "output_type": "stream",
       "stream": "stdout",
       "text": [
        "[2015-01-16 13:03:03,641][8258 ][monk.network.producer][INFO    ][37  ][producer.py] : sending message ('{\"password\": \"\", \"op\": \"UpdateUser\", \"name\": \"mluser1098\", \"partition\": 1}',) at monkTestAdmin@0\n"
       ]
      },
      {
       "output_type": "stream",
       "stream": "stdout",
       "text": [
        "[2015-01-16 13:03:03,653][8258 ][monk.network.producer][INFO    ][37  ][producer.py] : sending message ('{\"password\": \"\", \"op\": \"UpdateUser\", \"name\": \"mluser1100\", \"partition\": 1}',) at monkTestAdmin@0\n"
       ]
      },
      {
       "output_type": "stream",
       "stream": "stdout",
       "text": [
        "[2015-01-16 13:03:03,782][8258 ][monk.network.producer][INFO    ][37  ][producer.py] : sending message ('{\"password\": \"\", \"op\": \"UpdateUser\", \"name\": \"mluser1104\", \"partition\": 1}',) at monkTestAdmin@0\n"
       ]
      },
      {
       "output_type": "stream",
       "stream": "stdout",
       "text": [
        "[2015-01-16 13:03:03,789][8258 ][monk.network.producer][INFO    ][37  ][producer.py] : sending message ('{\"password\": \"\", \"op\": \"UpdateUser\", \"name\": \"mluser1106\", \"partition\": 1}',) at monkTestAdmin@0\n"
       ]
      },
      {
       "output_type": "stream",
       "stream": "stdout",
       "text": [
        "[2015-01-16 13:03:03,797][8258 ][monk.network.producer][INFO    ][37  ][producer.py] : sending message ('{\"password\": \"\", \"op\": \"UpdateUser\", \"name\": \"mluser1110\", \"partition\": 1}',) at monkTestAdmin@0\n"
       ]
      },
      {
       "output_type": "stream",
       "stream": "stdout",
       "text": [
        "[2015-01-16 13:03:03,806][8258 ][monk.network.producer][INFO    ][37  ][producer.py] : sending message ('{\"password\": \"\", \"op\": \"UpdateUser\", \"name\": \"mluser1112\", \"partition\": 1}',) at monkTestAdmin@0\n"
       ]
      },
      {
       "output_type": "stream",
       "stream": "stdout",
       "text": [
        "[2015-01-16 13:03:03,813][8258 ][monk.network.producer][INFO    ][37  ][producer.py] : sending message ('{\"password\": \"\", \"op\": \"UpdateUser\", \"name\": \"mluser1116\", \"partition\": 1}',) at monkTestAdmin@0\n"
       ]
      },
      {
       "output_type": "stream",
       "stream": "stdout",
       "text": [
        "[2015-01-16 13:03:03,825][8258 ][monk.network.producer][INFO    ][37  ][producer.py] : sending message ('{\"password\": \"\", \"op\": \"UpdateUser\", \"name\": \"mluser1118\", \"partition\": 1}',) at monkTestAdmin@0\n"
       ]
      },
      {
       "output_type": "stream",
       "stream": "stdout",
       "text": [
        "[2015-01-16 13:03:03,832][8258 ][monk.network.producer][INFO    ][37  ][producer.py] : sending message ('{\"password\": \"\", \"op\": \"UpdateUser\", \"name\": \"mluser1122\", \"partition\": 1}',) at monkTestAdmin@0\n"
       ]
      },
      {
       "output_type": "stream",
       "stream": "stdout",
       "text": [
        "[2015-01-16 13:03:03,837][8258 ][monk.network.producer][INFO    ][37  ][producer.py] : sending message ('{\"password\": \"\", \"op\": \"UpdateUser\", \"name\": \"mluser1124\", \"partition\": 1}',) at monkTestAdmin@0\n"
       ]
      },
      {
       "output_type": "stream",
       "stream": "stdout",
       "text": [
        "[2015-01-16 13:03:03,844][8258 ][monk.network.producer][INFO    ][37  ][producer.py] : sending message ('{\"password\": \"\", \"op\": \"UpdateUser\", \"name\": \"mluser1128\", \"partition\": 1}',) at monkTestAdmin@0\n"
       ]
      },
      {
       "output_type": "stream",
       "stream": "stdout",
       "text": [
        "[2015-01-16 13:03:03,853][8258 ][monk.network.producer][INFO    ][37  ][producer.py] : sending message ('{\"password\": \"\", \"op\": \"UpdateUser\", \"name\": \"mluser1130\", \"partition\": 1}',) at monkTestAdmin@0\n"
       ]
      },
      {
       "output_type": "stream",
       "stream": "stdout",
       "text": [
        "[2015-01-16 13:03:03,859][8258 ][monk.network.producer][INFO    ][37  ][producer.py] : sending message ('{\"password\": \"\", \"op\": \"UpdateUser\", \"name\": \"mluser1134\", \"partition\": 1}',) at monkTestAdmin@0\n"
       ]
      },
      {
       "output_type": "stream",
       "stream": "stdout",
       "text": [
        "[2015-01-16 13:03:03,864][8258 ][monk.network.producer][INFO    ][37  ][producer.py] : sending message ('{\"password\": \"\", \"op\": \"UpdateUser\", \"name\": \"mluser1136\", \"partition\": 1}',) at monkTestAdmin@0\n"
       ]
      },
      {
       "output_type": "stream",
       "stream": "stdout",
       "text": [
        "[2015-01-16 13:03:03,875][8258 ][monk.network.producer][INFO    ][37  ][producer.py] : sending message ('{\"password\": \"\", \"op\": \"UpdateUser\", \"name\": \"mluser1140\", \"partition\": 1}',) at monkTestAdmin@0\n"
       ]
      },
      {
       "output_type": "stream",
       "stream": "stdout",
       "text": [
        "[2015-01-16 13:03:03,881][8258 ][monk.network.producer][INFO    ][37  ][producer.py] : sending message ('{\"password\": \"\", \"op\": \"UpdateUser\", \"name\": \"mluser1142\", \"partition\": 1}',) at monkTestAdmin@0\n"
       ]
      },
      {
       "output_type": "stream",
       "stream": "stdout",
       "text": [
        "[2015-01-16 13:03:03,891][8258 ][monk.network.producer][INFO    ][37  ][producer.py] : sending message ('{\"password\": \"\", \"op\": \"UpdateUser\", \"name\": \"mluser1146\", \"partition\": 1}',) at monkTestAdmin@0\n"
       ]
      },
      {
       "output_type": "stream",
       "stream": "stdout",
       "text": [
        "[2015-01-16 13:03:03,900][8258 ][monk.network.producer][INFO    ][37  ][producer.py] : sending message ('{\"password\": \"\", \"op\": \"UpdateUser\", \"name\": \"mluser1148\", \"partition\": 1}',) at monkTestAdmin@0\n"
       ]
      },
      {
       "output_type": "stream",
       "stream": "stdout",
       "text": [
        "[2015-01-16 13:03:03,915][8258 ][monk.network.producer][INFO    ][37  ][producer.py] : sending message ('{\"password\": \"\", \"op\": \"UpdateUser\", \"name\": \"mluser1152\", \"partition\": 1}',) at monkTestAdmin@0\n"
       ]
      },
      {
       "output_type": "stream",
       "stream": "stdout",
       "text": [
        "[2015-01-16 13:03:03,922][8258 ][monk.network.producer][INFO    ][37  ][producer.py] : sending message ('{\"password\": \"\", \"op\": \"UpdateUser\", \"name\": \"mluser1154\", \"partition\": 1}',) at monkTestAdmin@0\n"
       ]
      },
      {
       "output_type": "stream",
       "stream": "stdout",
       "text": [
        "[2015-01-16 13:03:03,933][8258 ][monk.network.producer][INFO    ][37  ][producer.py] : sending message ('{\"password\": \"\", \"op\": \"UpdateUser\", \"name\": \"mluser1158\", \"partition\": 1}',) at monkTestAdmin@0\n"
       ]
      },
      {
       "output_type": "stream",
       "stream": "stdout",
       "text": [
        "[2015-01-16 13:03:03,942][8258 ][monk.network.producer][INFO    ][37  ][producer.py] : sending message ('{\"password\": \"\", \"op\": \"UpdateUser\", \"name\": \"mluser1160\", \"partition\": 1}',) at monkTestAdmin@0\n"
       ]
      },
      {
       "output_type": "stream",
       "stream": "stdout",
       "text": [
        "[2015-01-16 13:03:03,948][8258 ][monk.network.producer][INFO    ][37  ][producer.py] : sending message ('{\"password\": \"\", \"op\": \"UpdateUser\", \"name\": \"mluser1164\", \"partition\": 1}',) at monkTestAdmin@0\n"
       ]
      },
      {
       "output_type": "stream",
       "stream": "stdout",
       "text": [
        "[2015-01-16 13:03:03,954][8258 ][monk.network.producer][INFO    ][37  ][producer.py] : sending message ('{\"password\": \"\", \"op\": \"UpdateUser\", \"name\": \"mluser1166\", \"partition\": 1}',) at monkTestAdmin@0\n"
       ]
      },
      {
       "output_type": "stream",
       "stream": "stdout",
       "text": [
        "[2015-01-16 13:03:03,961][8258 ][monk.network.producer][INFO    ][37  ][producer.py] : sending message ('{\"password\": \"\", \"op\": \"UpdateUser\", \"name\": \"mluser1170\", \"partition\": 1}',) at monkTestAdmin@0\n"
       ]
      },
      {
       "output_type": "stream",
       "stream": "stdout",
       "text": [
        "[2015-01-16 13:03:03,976][8258 ][monk.network.producer][INFO    ][37  ][producer.py] : sending message ('{\"password\": \"\", \"op\": \"UpdateUser\", \"name\": \"mluser1172\", \"partition\": 1}',) at monkTestAdmin@0\n"
       ]
      },
      {
       "output_type": "stream",
       "stream": "stdout",
       "text": [
        "[2015-01-16 13:03:03,983][8258 ][monk.network.producer][INFO    ][37  ][producer.py] : sending message ('{\"password\": \"\", \"op\": \"UpdateUser\", \"name\": \"mluser1176\", \"partition\": 1}',) at monkTestAdmin@0\n"
       ]
      },
      {
       "output_type": "stream",
       "stream": "stdout",
       "text": [
        "[2015-01-16 13:03:03,994][8258 ][monk.network.producer][INFO    ][37  ][producer.py] : sending message ('{\"password\": \"\", \"op\": \"UpdateUser\", \"name\": \"mluser1178\", \"partition\": 1}',) at monkTestAdmin@0\n"
       ]
      },
      {
       "output_type": "stream",
       "stream": "stdout",
       "text": [
        "[2015-01-16 13:03:04,002][8258 ][monk.network.producer][INFO    ][37  ][producer.py] : sending message ('{\"password\": \"\", \"op\": \"UpdateUser\", \"name\": \"mluser1182\", \"partition\": 1}',) at monkTestAdmin@0\n"
       ]
      },
      {
       "output_type": "stream",
       "stream": "stdout",
       "text": [
        "[2015-01-16 13:03:04,010][8258 ][monk.network.producer][INFO    ][37  ][producer.py] : sending message ('{\"password\": \"\", \"op\": \"UpdateUser\", \"name\": \"mluser1184\", \"partition\": 1}',) at monkTestAdmin@0\n"
       ]
      },
      {
       "output_type": "stream",
       "stream": "stdout",
       "text": [
        "[2015-01-16 13:03:04,015][8258 ][monk.network.producer][INFO    ][37  ][producer.py] : sending message ('{\"password\": \"\", \"op\": \"UpdateUser\", \"name\": \"mluser1188\", \"partition\": 1}',) at monkTestAdmin@0\n"
       ]
      },
      {
       "output_type": "stream",
       "stream": "stdout",
       "text": [
        "[2015-01-16 13:03:04,031][8258 ][monk.network.producer][INFO    ][37  ][producer.py] : sending message ('{\"password\": \"\", \"op\": \"UpdateUser\", \"name\": \"mluser1190\", \"partition\": 1}',) at monkTestAdmin@0\n"
       ]
      },
      {
       "output_type": "stream",
       "stream": "stdout",
       "text": [
        "[2015-01-16 13:03:04,038][8258 ][monk.network.producer][INFO    ][37  ][producer.py] : sending message ('{\"password\": \"\", \"op\": \"UpdateUser\", \"name\": \"mluser1194\", \"partition\": 1}',) at monkTestAdmin@0\n"
       ]
      },
      {
       "output_type": "stream",
       "stream": "stdout",
       "text": [
        "[2015-01-16 13:03:04,050][8258 ][monk.network.producer][INFO    ][37  ][producer.py] : sending message ('{\"password\": \"\", \"op\": \"UpdateUser\", \"name\": \"mluser1196\", \"partition\": 1}',) at monkTestAdmin@0\n"
       ]
      },
      {
       "output_type": "stream",
       "stream": "stdout",
       "text": [
        "[2015-01-16 13:03:04,072][8258 ][monk.network.producer][INFO    ][37  ][producer.py] : sending message ('{\"password\": \"\", \"op\": \"UpdateUser\", \"name\": \"mluser1200\", \"partition\": 1}',) at monkTestAdmin@0\n"
       ]
      },
      {
       "output_type": "stream",
       "stream": "stdout",
       "text": [
        "[2015-01-16 13:03:04,085][8258 ][monk.network.producer][INFO    ][37  ][producer.py] : sending message ('{\"password\": \"\", \"op\": \"UpdateUser\", \"name\": \"mluser1202\", \"partition\": 1}',) at monkTestAdmin@0\n"
       ]
      },
      {
       "output_type": "stream",
       "stream": "stdout",
       "text": [
        "[2015-01-16 13:03:04,097][8258 ][monk.network.producer][INFO    ][37  ][producer.py] : sending message ('{\"password\": \"\", \"op\": \"UpdateUser\", \"name\": \"mluser1206\", \"partition\": 1}',) at monkTestAdmin@0\n"
       ]
      },
      {
       "output_type": "stream",
       "stream": "stdout",
       "text": [
        "[2015-01-16 13:03:04,104][8258 ][monk.network.producer][INFO    ][37  ][producer.py] : sending message ('{\"password\": \"\", \"op\": \"UpdateUser\", \"name\": \"mluser1208\", \"partition\": 1}',) at monkTestAdmin@0\n"
       ]
      },
      {
       "output_type": "stream",
       "stream": "stdout",
       "text": [
        "[2015-01-16 13:03:04,113][8258 ][monk.network.producer][INFO    ][37  ][producer.py] : sending message ('{\"password\": \"\", \"op\": \"UpdateUser\", \"name\": \"mluser1212\", \"partition\": 1}',) at monkTestAdmin@0\n"
       ]
      },
      {
       "output_type": "stream",
       "stream": "stdout",
       "text": [
        "[2015-01-16 13:03:04,121][8258 ][monk.network.producer][INFO    ][37  ][producer.py] : sending message ('{\"password\": \"\", \"op\": \"UpdateUser\", \"name\": \"mluser1214\", \"partition\": 1}',) at monkTestAdmin@0\n"
       ]
      },
      {
       "output_type": "stream",
       "stream": "stdout",
       "text": [
        "[2015-01-16 13:03:04,133][8258 ][monk.network.producer][INFO    ][37  ][producer.py] : sending message ('{\"password\": \"\", \"op\": \"UpdateUser\", \"name\": \"mluser1218\", \"partition\": 1}',) at monkTestAdmin@0\n"
       ]
      },
      {
       "output_type": "stream",
       "stream": "stdout",
       "text": [
        "[2015-01-16 13:03:04,139][8258 ][monk.network.producer][INFO    ][37  ][producer.py] : sending message ('{\"password\": \"\", \"op\": \"UpdateUser\", \"name\": \"mluser1220\", \"partition\": 1}',) at monkTestAdmin@0\n"
       ]
      },
      {
       "output_type": "stream",
       "stream": "stdout",
       "text": [
        "[2015-01-16 13:03:04,147][8258 ][monk.network.producer][INFO    ][37  ][producer.py] : sending message ('{\"password\": \"\", \"op\": \"UpdateUser\", \"name\": \"mluser1224\", \"partition\": 1}',) at monkTestAdmin@0\n"
       ]
      },
      {
       "output_type": "stream",
       "stream": "stdout",
       "text": [
        "[2015-01-16 13:03:04,154][8258 ][monk.network.producer][INFO    ][37  ][producer.py] : sending message ('{\"password\": \"\", \"op\": \"UpdateUser\", \"name\": \"mluser1226\", \"partition\": 1}',) at monkTestAdmin@0\n"
       ]
      },
      {
       "output_type": "stream",
       "stream": "stdout",
       "text": [
        "[2015-01-16 13:03:04,179][8258 ][monk.network.producer][INFO    ][37  ][producer.py] : sending message ('{\"password\": \"\", \"op\": \"UpdateUser\", \"name\": \"mluser1230\", \"partition\": 1}',) at monkTestAdmin@0\n"
       ]
      },
      {
       "output_type": "stream",
       "stream": "stdout",
       "text": [
        "[2015-01-16 13:03:04,188][8258 ][monk.network.producer][INFO    ][37  ][producer.py] : sending message ('{\"password\": \"\", \"op\": \"UpdateUser\", \"name\": \"mluser1232\", \"partition\": 1}',) at monkTestAdmin@0\n"
       ]
      },
      {
       "output_type": "stream",
       "stream": "stdout",
       "text": [
        "[2015-01-16 13:03:04,199][8258 ][monk.network.producer][INFO    ][37  ][producer.py] : sending message ('{\"password\": \"\", \"op\": \"UpdateUser\", \"name\": \"mluser1236\", \"partition\": 1}',) at monkTestAdmin@0\n"
       ]
      },
      {
       "output_type": "stream",
       "stream": "stdout",
       "text": [
        "[2015-01-16 13:03:04,207][8258 ][monk.network.producer][INFO    ][37  ][producer.py] : sending message ('{\"password\": \"\", \"op\": \"UpdateUser\", \"name\": \"mluser1238\", \"partition\": 1}',) at monkTestAdmin@0\n"
       ]
      },
      {
       "output_type": "stream",
       "stream": "stdout",
       "text": [
        "[2015-01-16 13:03:04,214][8258 ][monk.network.producer][INFO    ][37  ][producer.py] : sending message ('{\"password\": \"\", \"op\": \"UpdateUser\", \"name\": \"mluser1242\", \"partition\": 1}',) at monkTestAdmin@0\n"
       ]
      },
      {
       "output_type": "stream",
       "stream": "stdout",
       "text": [
        "[2015-01-16 13:03:04,221][8258 ][monk.network.producer][INFO    ][37  ][producer.py] : sending message ('{\"password\": \"\", \"op\": \"UpdateUser\", \"name\": \"mluser1244\", \"partition\": 1}',) at monkTestAdmin@0\n"
       ]
      },
      {
       "output_type": "stream",
       "stream": "stdout",
       "text": [
        "[2015-01-16 13:03:04,235][8258 ][monk.network.producer][INFO    ][37  ][producer.py] : sending message ('{\"password\": \"\", \"op\": \"UpdateUser\", \"name\": \"mluser1248\", \"partition\": 1}',) at monkTestAdmin@0\n"
       ]
      },
      {
       "output_type": "stream",
       "stream": "stdout",
       "text": [
        "[2015-01-16 13:03:04,242][8258 ][monk.network.producer][INFO    ][37  ][producer.py] : sending message ('{\"password\": \"\", \"op\": \"UpdateUser\", \"name\": \"mluser1250\", \"partition\": 1}',) at monkTestAdmin@0\n"
       ]
      },
      {
       "output_type": "stream",
       "stream": "stdout",
       "text": [
        "[2015-01-16 13:03:04,249][8258 ][monk.network.producer][INFO    ][37  ][producer.py] : sending message ('{\"password\": \"\", \"op\": \"UpdateUser\", \"name\": \"mluser1254\", \"partition\": 1}',) at monkTestAdmin@0\n"
       ]
      },
      {
       "output_type": "stream",
       "stream": "stdout",
       "text": [
        "[2015-01-16 13:03:04,254][8258 ][monk.network.producer][INFO    ][37  ][producer.py] : sending message ('{\"password\": \"\", \"op\": \"UpdateUser\", \"name\": \"mluser1256\", \"partition\": 1}',) at monkTestAdmin@0\n"
       ]
      },
      {
       "output_type": "stream",
       "stream": "stdout",
       "text": [
        "[2015-01-16 13:03:04,263][8258 ][monk.network.producer][INFO    ][37  ][producer.py] : sending message ('{\"password\": \"\", \"op\": \"UpdateUser\", \"name\": \"mluser1260\", \"partition\": 1}',) at monkTestAdmin@0\n"
       ]
      },
      {
       "output_type": "stream",
       "stream": "stdout",
       "text": [
        "[2015-01-16 13:03:04,269][8258 ][monk.network.producer][INFO    ][37  ][producer.py] : sending message ('{\"password\": \"\", \"op\": \"UpdateUser\", \"name\": \"mluser1262\", \"partition\": 1}',) at monkTestAdmin@0\n"
       ]
      },
      {
       "output_type": "stream",
       "stream": "stdout",
       "text": [
        "[2015-01-16 13:03:04,284][8258 ][monk.network.producer][INFO    ][37  ][producer.py] : sending message ('{\"password\": \"\", \"op\": \"UpdateUser\", \"name\": \"mluser1266\", \"partition\": 1}',) at monkTestAdmin@0\n"
       ]
      },
      {
       "output_type": "stream",
       "stream": "stdout",
       "text": [
        "[2015-01-16 13:03:04,292][8258 ][monk.network.producer][INFO    ][37  ][producer.py] : sending message ('{\"password\": \"\", \"op\": \"UpdateUser\", \"name\": \"mluser1268\", \"partition\": 1}',) at monkTestAdmin@0\n"
       ]
      },
      {
       "output_type": "stream",
       "stream": "stdout",
       "text": [
        "[2015-01-16 13:03:04,303][8258 ][monk.network.producer][INFO    ][37  ][producer.py] : sending message ('{\"password\": \"\", \"op\": \"UpdateUser\", \"name\": \"mluser1272\", \"partition\": 1}',) at monkTestAdmin@0\n"
       ]
      },
      {
       "output_type": "stream",
       "stream": "stdout",
       "text": [
        "[2015-01-16 13:03:04,325][8258 ][monk.network.producer][INFO    ][37  ][producer.py] : sending message ('{\"password\": \"\", \"op\": \"UpdateUser\", \"name\": \"mluser1274\", \"partition\": 1}',) at monkTestAdmin@0\n"
       ]
      },
      {
       "output_type": "stream",
       "stream": "stdout",
       "text": [
        "[2015-01-16 13:03:04,338][8258 ][monk.network.producer][INFO    ][37  ][producer.py] : sending message ('{\"password\": \"\", \"op\": \"UpdateUser\", \"name\": \"mluser1278\", \"partition\": 1}',) at monkTestAdmin@0\n"
       ]
      },
      {
       "output_type": "stream",
       "stream": "stdout",
       "text": [
        "[2015-01-16 13:03:04,343][8258 ][monk.network.producer][INFO    ][37  ][producer.py] : sending message ('{\"password\": \"\", \"op\": \"UpdateUser\", \"name\": \"mluser1280\", \"partition\": 1}',) at monkTestAdmin@0\n"
       ]
      },
      {
       "output_type": "stream",
       "stream": "stdout",
       "text": [
        "[2015-01-16 13:03:04,351][8258 ][monk.network.producer][INFO    ][37  ][producer.py] : sending message ('{\"password\": \"\", \"op\": \"UpdateUser\", \"name\": \"mluser1284\", \"partition\": 1}',) at monkTestAdmin@0\n"
       ]
      },
      {
       "output_type": "stream",
       "stream": "stdout",
       "text": [
        "[2015-01-16 13:03:04,369][8258 ][monk.network.producer][INFO    ][37  ][producer.py] : sending message ('{\"password\": \"\", \"op\": \"UpdateUser\", \"name\": \"mluser1286\", \"partition\": 1}',) at monkTestAdmin@0\n"
       ]
      },
      {
       "output_type": "stream",
       "stream": "stdout",
       "text": [
        "[2015-01-16 13:03:04,404][8258 ][monk.network.producer][INFO    ][37  ][producer.py] : sending message ('{\"password\": \"\", \"op\": \"UpdateUser\", \"name\": \"mluser1290\", \"partition\": 1}',) at monkTestAdmin@0\n"
       ]
      },
      {
       "output_type": "stream",
       "stream": "stdout",
       "text": [
        "[2015-01-16 13:03:04,413][8258 ][monk.network.producer][INFO    ][37  ][producer.py] : sending message ('{\"password\": \"\", \"op\": \"UpdateUser\", \"name\": \"mluser1292\", \"partition\": 1}',) at monkTestAdmin@0\n"
       ]
      },
      {
       "output_type": "stream",
       "stream": "stdout",
       "text": [
        "[2015-01-16 13:03:04,425][8258 ][monk.network.producer][INFO    ][37  ][producer.py] : sending message ('{\"password\": \"\", \"op\": \"UpdateUser\", \"name\": \"mluser1296\", \"partition\": 1}',) at monkTestAdmin@0\n"
       ]
      },
      {
       "output_type": "stream",
       "stream": "stdout",
       "text": [
        "[2015-01-16 13:03:04,439][8258 ][monk.network.producer][INFO    ][37  ][producer.py] : sending message ('{\"password\": \"\", \"op\": \"UpdateUser\", \"name\": \"mluser1298\", \"partition\": 1}',) at monkTestAdmin@0\n"
       ]
      },
      {
       "output_type": "stream",
       "stream": "stdout",
       "text": [
        "[2015-01-16 13:03:04,445][8258 ][monk.network.producer][INFO    ][37  ][producer.py] : sending message ('{\"password\": \"\", \"op\": \"UpdateUser\", \"name\": \"mluser1302\", \"partition\": 1}',) at monkTestAdmin@0\n"
       ]
      },
      {
       "output_type": "stream",
       "stream": "stdout",
       "text": [
        "[2015-01-16 13:03:04,453][8258 ][monk.network.producer][INFO    ][37  ][producer.py] : sending message ('{\"password\": \"\", \"op\": \"UpdateUser\", \"name\": \"mluser1304\", \"partition\": 1}',) at monkTestAdmin@0\n"
       ]
      },
      {
       "output_type": "stream",
       "stream": "stdout",
       "text": [
        "[2015-01-16 13:03:04,460][8258 ][monk.network.producer][INFO    ][37  ][producer.py] : sending message ('{\"password\": \"\", \"op\": \"UpdateUser\", \"name\": \"mluser1308\", \"partition\": 1}',) at monkTestAdmin@0\n"
       ]
      },
      {
       "output_type": "stream",
       "stream": "stdout",
       "text": [
        "[2015-01-16 13:03:04,468][8258 ][monk.network.producer][INFO    ][37  ][producer.py] : sending message ('{\"password\": \"\", \"op\": \"UpdateUser\", \"name\": \"mluser1310\", \"partition\": 1}',) at monkTestAdmin@0\n"
       ]
      },
      {
       "output_type": "stream",
       "stream": "stdout",
       "text": [
        "[2015-01-16 13:03:04,474][8258 ][monk.network.producer][INFO    ][37  ][producer.py] : sending message ('{\"password\": \"\", \"op\": \"UpdateUser\", \"name\": \"mluser1314\", \"partition\": 1}',) at monkTestAdmin@0\n"
       ]
      },
      {
       "output_type": "stream",
       "stream": "stdout",
       "text": [
        "[2015-01-16 13:03:04,498][8258 ][monk.network.producer][INFO    ][37  ][producer.py] : sending message ('{\"password\": \"\", \"op\": \"UpdateUser\", \"name\": \"mluser1316\", \"partition\": 1}',) at monkTestAdmin@0\n"
       ]
      },
      {
       "output_type": "stream",
       "stream": "stdout",
       "text": [
        "[2015-01-16 13:03:04,506][8258 ][monk.network.producer][INFO    ][37  ][producer.py] : sending message ('{\"password\": \"\", \"op\": \"UpdateUser\", \"name\": \"mluser1320\", \"partition\": 1}',) at monkTestAdmin@0\n"
       ]
      },
      {
       "output_type": "stream",
       "stream": "stdout",
       "text": [
        "[2015-01-16 13:03:04,515][8258 ][monk.network.producer][INFO    ][37  ][producer.py] : sending message ('{\"password\": \"\", \"op\": \"UpdateUser\", \"name\": \"mluser1322\", \"partition\": 1}',) at monkTestAdmin@0\n"
       ]
      },
      {
       "output_type": "stream",
       "stream": "stdout",
       "text": [
        "[2015-01-16 13:03:04,522][8258 ][monk.network.producer][INFO    ][37  ][producer.py] : sending message ('{\"password\": \"\", \"op\": \"UpdateUser\", \"name\": \"mluser1326\", \"partition\": 1}',) at monkTestAdmin@0\n"
       ]
      },
      {
       "output_type": "stream",
       "stream": "stdout",
       "text": [
        "[2015-01-16 13:03:04,533][8258 ][monk.network.producer][INFO    ][37  ][producer.py] : sending message ('{\"password\": \"\", \"op\": \"UpdateUser\", \"name\": \"mluser1328\", \"partition\": 1}',) at monkTestAdmin@0\n"
       ]
      },
      {
       "output_type": "stream",
       "stream": "stdout",
       "text": [
        "[2015-01-16 13:03:04,544][8258 ][monk.network.producer][INFO    ][37  ][producer.py] : sending message ('{\"password\": \"\", \"op\": \"UpdateUser\", \"name\": \"mluser1332\", \"partition\": 1}',) at monkTestAdmin@0\n"
       ]
      },
      {
       "output_type": "stream",
       "stream": "stdout",
       "text": [
        "[2015-01-16 13:03:04,550][8258 ][monk.network.producer][INFO    ][37  ][producer.py] : sending message ('{\"password\": \"\", \"op\": \"UpdateUser\", \"name\": \"mluser1334\", \"partition\": 1}',) at monkTestAdmin@0\n"
       ]
      },
      {
       "output_type": "stream",
       "stream": "stdout",
       "text": [
        "[2015-01-16 13:03:04,558][8258 ][monk.network.producer][INFO    ][37  ][producer.py] : sending message ('{\"password\": \"\", \"op\": \"UpdateUser\", \"name\": \"mluser1338\", \"partition\": 1}',) at monkTestAdmin@0\n"
       ]
      },
      {
       "output_type": "stream",
       "stream": "stdout",
       "text": [
        "[2015-01-16 13:03:04,564][8258 ][monk.network.producer][INFO    ][37  ][producer.py] : sending message ('{\"password\": \"\", \"op\": \"UpdateUser\", \"name\": \"mluser1340\", \"partition\": 1}',) at monkTestAdmin@0\n"
       ]
      },
      {
       "output_type": "stream",
       "stream": "stdout",
       "text": [
        "[2015-01-16 13:03:04,571][8258 ][monk.network.producer][INFO    ][37  ][producer.py] : sending message ('{\"password\": \"\", \"op\": \"UpdateUser\", \"name\": \"mluser1344\", \"partition\": 1}',) at monkTestAdmin@0\n"
       ]
      },
      {
       "output_type": "stream",
       "stream": "stdout",
       "text": [
        "[2015-01-16 13:03:04,582][8258 ][monk.network.producer][INFO    ][37  ][producer.py] : sending message ('{\"password\": \"\", \"op\": \"UpdateUser\", \"name\": \"mluser1346\", \"partition\": 1}',) at monkTestAdmin@0\n"
       ]
      },
      {
       "output_type": "stream",
       "stream": "stdout",
       "text": [
        "[2015-01-16 13:03:04,598][8258 ][monk.network.producer][INFO    ][37  ][producer.py] : sending message ('{\"password\": \"\", \"op\": \"UpdateUser\", \"name\": \"mluser1350\", \"partition\": 1}',) at monkTestAdmin@0\n"
       ]
      },
      {
       "output_type": "stream",
       "stream": "stdout",
       "text": [
        "[2015-01-16 13:03:04,608][8258 ][monk.network.producer][INFO    ][37  ][producer.py] : sending message ('{\"password\": \"\", \"op\": \"UpdateUser\", \"name\": \"mluser1352\", \"partition\": 1}',) at monkTestAdmin@0\n"
       ]
      },
      {
       "output_type": "stream",
       "stream": "stdout",
       "text": [
        "[2015-01-16 13:03:04,616][8258 ][monk.network.producer][INFO    ][37  ][producer.py] : sending message ('{\"password\": \"\", \"op\": \"UpdateUser\", \"name\": \"mluser1356\", \"partition\": 1}',) at monkTestAdmin@0\n"
       ]
      },
      {
       "output_type": "stream",
       "stream": "stdout",
       "text": [
        "[2015-01-16 13:03:04,624][8258 ][monk.network.producer][INFO    ][37  ][producer.py] : sending message ('{\"password\": \"\", \"op\": \"UpdateUser\", \"name\": \"mluser1358\", \"partition\": 1}',) at monkTestAdmin@0\n"
       ]
      },
      {
       "output_type": "stream",
       "stream": "stdout",
       "text": [
        "[2015-01-16 13:03:04,630][8258 ][monk.network.producer][INFO    ][37  ][producer.py] : sending message ('{\"password\": \"\", \"op\": \"UpdateUser\", \"name\": \"mluser1362\", \"partition\": 1}',) at monkTestAdmin@0\n"
       ]
      },
      {
       "output_type": "stream",
       "stream": "stdout",
       "text": [
        "[2015-01-16 13:03:04,636][8258 ][monk.network.producer][INFO    ][37  ][producer.py] : sending message ('{\"password\": \"\", \"op\": \"UpdateUser\", \"name\": \"mluser1364\", \"partition\": 1}',) at monkTestAdmin@0\n"
       ]
      },
      {
       "output_type": "stream",
       "stream": "stdout",
       "text": [
        "[2015-01-16 13:03:04,644][8258 ][monk.network.producer][INFO    ][37  ][producer.py] : sending message ('{\"password\": \"\", \"op\": \"UpdateUser\", \"name\": \"mluser1368\", \"partition\": 1}',) at monkTestAdmin@0\n"
       ]
      },
      {
       "output_type": "stream",
       "stream": "stdout",
       "text": [
        "[2015-01-16 13:03:04,650][8258 ][monk.network.producer][INFO    ][37  ][producer.py] : sending message ('{\"password\": \"\", \"op\": \"UpdateUser\", \"name\": \"mluser1370\", \"partition\": 1}',) at monkTestAdmin@0\n"
       ]
      },
      {
       "output_type": "stream",
       "stream": "stdout",
       "text": [
        "[2015-01-16 13:03:04,658][8258 ][monk.network.producer][INFO    ][37  ][producer.py] : sending message ('{\"password\": \"\", \"op\": \"UpdateUser\", \"name\": \"mluser1374\", \"partition\": 1}',) at monkTestAdmin@0\n"
       ]
      },
      {
       "output_type": "stream",
       "stream": "stdout",
       "text": [
        "[2015-01-16 13:03:04,664][8258 ][monk.network.producer][INFO    ][37  ][producer.py] : sending message ('{\"password\": \"\", \"op\": \"UpdateUser\", \"name\": \"mluser1376\", \"partition\": 1}',) at monkTestAdmin@0\n"
       ]
      },
      {
       "output_type": "stream",
       "stream": "stdout",
       "text": [
        "[2015-01-16 13:03:04,672][8258 ][monk.network.producer][INFO    ][37  ][producer.py] : sending message ('{\"password\": \"\", \"op\": \"UpdateUser\", \"name\": \"mluser1380\", \"partition\": 1}',) at monkTestAdmin@0\n"
       ]
      },
      {
       "output_type": "stream",
       "stream": "stdout",
       "text": [
        "[2015-01-16 13:03:04,677][8258 ][monk.network.producer][INFO    ][37  ][producer.py] : sending message ('{\"password\": \"\", \"op\": \"UpdateUser\", \"name\": \"mluser1382\", \"partition\": 1}',) at monkTestAdmin@0\n"
       ]
      },
      {
       "output_type": "stream",
       "stream": "stdout",
       "text": [
        "[2015-01-16 13:03:04,683][8258 ][monk.network.producer][INFO    ][37  ][producer.py] : sending message ('{\"password\": \"\", \"op\": \"UpdateUser\", \"name\": \"mluser1386\", \"partition\": 1}',) at monkTestAdmin@0\n"
       ]
      },
      {
       "output_type": "stream",
       "stream": "stdout",
       "text": [
        "[2015-01-16 13:03:04,695][8258 ][monk.network.producer][INFO    ][37  ][producer.py] : sending message ('{\"password\": \"\", \"op\": \"UpdateUser\", \"name\": \"mluser1388\", \"partition\": 1}',) at monkTestAdmin@0\n"
       ]
      },
      {
       "output_type": "stream",
       "stream": "stdout",
       "text": [
        "[2015-01-16 13:03:04,701][8258 ][monk.network.producer][INFO    ][37  ][producer.py] : sending message ('{\"password\": \"\", \"op\": \"UpdateUser\", \"name\": \"mluser1392\", \"partition\": 1}',) at monkTestAdmin@0\n"
       ]
      },
      {
       "output_type": "stream",
       "stream": "stdout",
       "text": [
        "[2015-01-16 13:03:04,711][8258 ][monk.network.producer][INFO    ][37  ][producer.py] : sending message ('{\"password\": \"\", \"op\": \"UpdateUser\", \"name\": \"mluser1394\", \"partition\": 1}',) at monkTestAdmin@0\n"
       ]
      },
      {
       "output_type": "stream",
       "stream": "stdout",
       "text": [
        "[2015-01-16 13:03:04,719][8258 ][monk.network.producer][INFO    ][37  ][producer.py] : sending message ('{\"password\": \"\", \"op\": \"UpdateUser\", \"name\": \"mluser1398\", \"partition\": 1}',) at monkTestAdmin@0\n"
       ]
      },
      {
       "output_type": "stream",
       "stream": "stdout",
       "text": [
        "[2015-01-16 13:03:04,725][8258 ][monk.network.producer][INFO    ][37  ][producer.py] : sending message ('{\"password\": \"\", \"op\": \"UpdateUser\", \"name\": \"mluser1400\", \"partition\": 1}',) at monkTestAdmin@0\n"
       ]
      },
      {
       "output_type": "stream",
       "stream": "stdout",
       "text": [
        "[2015-01-16 13:03:04,734][8258 ][monk.network.producer][INFO    ][37  ][producer.py] : sending message ('{\"password\": \"\", \"op\": \"UpdateUser\", \"name\": \"mluser1404\", \"partition\": 1}',) at monkTestAdmin@0\n"
       ]
      },
      {
       "output_type": "stream",
       "stream": "stdout",
       "text": [
        "[2015-01-16 13:03:04,745][8258 ][monk.network.producer][INFO    ][37  ][producer.py] : sending message ('{\"password\": \"\", \"op\": \"UpdateUser\", \"name\": \"mluser1406\", \"partition\": 1}',) at monkTestAdmin@0\n"
       ]
      },
      {
       "output_type": "stream",
       "stream": "stdout",
       "text": [
        "[2015-01-16 13:03:04,754][8258 ][monk.network.producer][INFO    ][37  ][producer.py] : sending message ('{\"password\": \"\", \"op\": \"UpdateUser\", \"name\": \"mluser1410\", \"partition\": 1}',) at monkTestAdmin@0\n"
       ]
      },
      {
       "output_type": "stream",
       "stream": "stdout",
       "text": [
        "[2015-01-16 13:03:04,761][8258 ][monk.network.producer][INFO    ][37  ][producer.py] : sending message ('{\"password\": \"\", \"op\": \"UpdateUser\", \"name\": \"mluser1412\", \"partition\": 1}',) at monkTestAdmin@0\n"
       ]
      },
      {
       "output_type": "stream",
       "stream": "stdout",
       "text": [
        "[2015-01-16 13:03:04,766][8258 ][monk.network.producer][INFO    ][37  ][producer.py] : sending message ('{\"password\": \"\", \"op\": \"UpdateUser\", \"name\": \"mluser1416\", \"partition\": 1}',) at monkTestAdmin@0\n"
       ]
      },
      {
       "output_type": "stream",
       "stream": "stdout",
       "text": [
        "[2015-01-16 13:03:04,775][8258 ][monk.network.producer][INFO    ][37  ][producer.py] : sending message ('{\"password\": \"\", \"op\": \"UpdateUser\", \"name\": \"mluser1418\", \"partition\": 1}',) at monkTestAdmin@0\n"
       ]
      },
      {
       "output_type": "stream",
       "stream": "stdout",
       "text": [
        "[2015-01-16 13:03:04,787][8258 ][monk.network.producer][INFO    ][37  ][producer.py] : sending message ('{\"password\": \"\", \"op\": \"UpdateUser\", \"name\": \"mluser1422\", \"partition\": 1}',) at monkTestAdmin@0\n"
       ]
      },
      {
       "output_type": "stream",
       "stream": "stdout",
       "text": [
        "[2015-01-16 13:03:04,796][8258 ][monk.network.producer][INFO    ][37  ][producer.py] : sending message ('{\"password\": \"\", \"op\": \"UpdateUser\", \"name\": \"mluser1424\", \"partition\": 1}',) at monkTestAdmin@0\n"
       ]
      },
      {
       "output_type": "stream",
       "stream": "stdout",
       "text": [
        "[2015-01-16 13:03:04,802][8258 ][monk.network.producer][INFO    ][37  ][producer.py] : sending message ('{\"password\": \"\", \"op\": \"UpdateUser\", \"name\": \"mluser1428\", \"partition\": 1}',) at monkTestAdmin@0\n"
       ]
      },
      {
       "output_type": "stream",
       "stream": "stdout",
       "text": [
        "[2015-01-16 13:03:04,814][8258 ][monk.network.producer][INFO    ][37  ][producer.py] : sending message ('{\"password\": \"\", \"op\": \"UpdateUser\", \"name\": \"mluser1430\", \"partition\": 1}',) at monkTestAdmin@0\n"
       ]
      },
      {
       "output_type": "stream",
       "stream": "stdout",
       "text": [
        "[2015-01-16 13:03:04,841][8258 ][monk.network.producer][INFO    ][37  ][producer.py] : sending message ('{\"password\": \"\", \"op\": \"UpdateUser\", \"name\": \"mluser1434\", \"partition\": 1}',) at monkTestAdmin@0\n"
       ]
      },
      {
       "output_type": "stream",
       "stream": "stdout",
       "text": [
        "[2015-01-16 13:03:04,850][8258 ][monk.network.producer][INFO    ][37  ][producer.py] : sending message ('{\"password\": \"\", \"op\": \"UpdateUser\", \"name\": \"mluser1436\", \"partition\": 1}',) at monkTestAdmin@0\n"
       ]
      },
      {
       "output_type": "stream",
       "stream": "stdout",
       "text": [
        "[2015-01-16 13:03:04,858][8258 ][monk.network.producer][INFO    ][37  ][producer.py] : sending message ('{\"password\": \"\", \"op\": \"UpdateUser\", \"name\": \"mluser1440\", \"partition\": 1}',) at monkTestAdmin@0\n"
       ]
      },
      {
       "output_type": "stream",
       "stream": "stdout",
       "text": [
        "[2015-01-16 13:03:04,864][8258 ][monk.network.producer][INFO    ][37  ][producer.py] : sending message ('{\"password\": \"\", \"op\": \"UpdateUser\", \"name\": \"mluser1442\", \"partition\": 1}',) at monkTestAdmin@0\n"
       ]
      },
      {
       "output_type": "stream",
       "stream": "stdout",
       "text": [
        "[2015-01-16 13:03:04,870][8258 ][monk.network.producer][INFO    ][37  ][producer.py] : sending message ('{\"password\": \"\", \"op\": \"UpdateUser\", \"name\": \"mluser1446\", \"partition\": 1}',) at monkTestAdmin@0\n"
       ]
      },
      {
       "output_type": "stream",
       "stream": "stdout",
       "text": [
        "[2015-01-16 13:03:04,888][8258 ][monk.network.producer][INFO    ][37  ][producer.py] : sending message ('{\"password\": \"\", \"op\": \"UpdateUser\", \"name\": \"mluser1448\", \"partition\": 1}',) at monkTestAdmin@0\n"
       ]
      },
      {
       "output_type": "stream",
       "stream": "stdout",
       "text": [
        "[2015-01-16 13:03:04,903][8258 ][monk.network.producer][INFO    ][37  ][producer.py] : sending message ('{\"password\": \"\", \"op\": \"UpdateUser\", \"name\": \"mluser1452\", \"partition\": 1}',) at monkTestAdmin@0\n"
       ]
      },
      {
       "output_type": "stream",
       "stream": "stdout",
       "text": [
        "[2015-01-16 13:03:04,917][8258 ][monk.network.producer][INFO    ][37  ][producer.py] : sending message ('{\"password\": \"\", \"op\": \"UpdateUser\", \"name\": \"mluser1454\", \"partition\": 1}',) at monkTestAdmin@0\n"
       ]
      },
      {
       "output_type": "stream",
       "stream": "stdout",
       "text": [
        "[2015-01-16 13:03:04,923][8258 ][monk.network.producer][INFO    ][37  ][producer.py] : sending message ('{\"password\": \"\", \"op\": \"UpdateUser\", \"name\": \"mluser1701\", \"partition\": 1}',) at monkTestAdmin@0\n"
       ]
      },
      {
       "output_type": "stream",
       "stream": "stdout",
       "text": [
        "[2015-01-16 13:03:04,933][8258 ][monk.network.producer][INFO    ][37  ][producer.py] : sending message ('{\"password\": \"\", \"op\": \"UpdateUser\", \"name\": \"mluser1703\", \"partition\": 1}',) at monkTestAdmin@0\n"
       ]
      },
      {
       "output_type": "stream",
       "stream": "stdout",
       "text": [
        "[2015-01-16 13:03:04,979][8258 ][monk.network.producer][INFO    ][37  ][producer.py] : sending message ('{\"password\": \"\", \"op\": \"UpdateUser\", \"name\": \"mluser1708\", \"partition\": 1}',) at monkTestAdmin@0\n"
       ]
      },
      {
       "output_type": "stream",
       "stream": "stdout",
       "text": [
        "[2015-01-16 13:03:05,001][8258 ][monk.network.producer][INFO    ][37  ][producer.py] : sending message ('{\"password\": \"\", \"op\": \"UpdateUser\", \"name\": \"mluser1710\", \"partition\": 1}',) at monkTestAdmin@0\n"
       ]
      },
      {
       "output_type": "stream",
       "stream": "stdout",
       "text": [
        "[2015-01-16 13:03:05,007][8258 ][monk.network.producer][INFO    ][37  ][producer.py] : sending message ('{\"password\": \"\", \"op\": \"UpdateUser\", \"name\": \"mluser1715\", \"partition\": 1}',) at monkTestAdmin@0\n"
       ]
      },
      {
       "output_type": "stream",
       "stream": "stdout",
       "text": [
        "[2015-01-16 13:03:05,019][8258 ][monk.network.producer][INFO    ][37  ][producer.py] : sending message ('{\"password\": \"\", \"op\": \"UpdateUser\", \"name\": \"mluser1717\", \"partition\": 1}',) at monkTestAdmin@0\n"
       ]
      },
      {
       "output_type": "stream",
       "stream": "stdout",
       "text": [
        "[2015-01-16 13:03:05,027][8258 ][monk.network.producer][INFO    ][37  ][producer.py] : sending message ('{\"password\": \"\", \"op\": \"UpdateUser\", \"name\": \"mluser1722\", \"partition\": 1}',) at monkTestAdmin@0\n"
       ]
      },
      {
       "output_type": "stream",
       "stream": "stdout",
       "text": [
        "[2015-01-16 13:03:05,036][8258 ][monk.network.producer][INFO    ][37  ][producer.py] : sending message ('{\"password\": \"\", \"op\": \"UpdateUser\", \"name\": \"mluser1724\", \"partition\": 1}',) at monkTestAdmin@0\n"
       ]
      },
      {
       "output_type": "stream",
       "stream": "stdout",
       "text": [
        "[2015-01-16 13:03:05,041][8258 ][monk.network.producer][INFO    ][37  ][producer.py] : sending message ('{\"password\": \"\", \"op\": \"UpdateUser\", \"name\": \"mluser1729\", \"partition\": 1}',) at monkTestAdmin@0\n"
       ]
      },
      {
       "output_type": "stream",
       "stream": "stdout",
       "text": [
        "[2015-01-16 13:03:05,050][8258 ][monk.network.producer][INFO    ][37  ][producer.py] : sending message ('{\"password\": \"\", \"op\": \"UpdateUser\", \"name\": \"mluser1731\", \"partition\": 1}',) at monkTestAdmin@0\n"
       ]
      },
      {
       "output_type": "stream",
       "stream": "stdout",
       "text": [
        "[2015-01-16 13:03:05,058][8258 ][monk.network.producer][INFO    ][37  ][producer.py] : sending message ('{\"password\": \"\", \"op\": \"UpdateUser\", \"name\": \"mluser1736\", \"partition\": 1}',) at monkTestAdmin@0\n"
       ]
      },
      {
       "output_type": "stream",
       "stream": "stdout",
       "text": [
        "[2015-01-16 13:03:05,069][8258 ][monk.network.producer][INFO    ][37  ][producer.py] : sending message ('{\"password\": \"\", \"op\": \"UpdateUser\", \"name\": \"mluser1738\", \"partition\": 1}',) at monkTestAdmin@0\n"
       ]
      },
      {
       "output_type": "stream",
       "stream": "stdout",
       "text": [
        "[2015-01-16 13:03:05,075][8258 ][monk.network.producer][INFO    ][37  ][producer.py] : sending message ('{\"password\": \"\", \"op\": \"UpdateUser\", \"name\": \"mluser1743\", \"partition\": 1}',) at monkTestAdmin@0\n"
       ]
      },
      {
       "output_type": "stream",
       "stream": "stdout",
       "text": [
        "[2015-01-16 13:03:05,081][8258 ][monk.network.producer][INFO    ][37  ][producer.py] : sending message ('{\"password\": \"\", \"op\": \"UpdateUser\", \"name\": \"mluser1745\", \"partition\": 1}',) at monkTestAdmin@0\n"
       ]
      },
      {
       "output_type": "stream",
       "stream": "stdout",
       "text": [
        "[2015-01-16 13:03:05,092][8258 ][monk.network.producer][INFO    ][37  ][producer.py] : sending message ('{\"password\": \"\", \"op\": \"UpdateUser\", \"name\": \"mluser1750\", \"partition\": 1}',) at monkTestAdmin@0\n"
       ]
      },
      {
       "output_type": "stream",
       "stream": "stdout",
       "text": [
        "[2015-01-16 13:03:05,100][8258 ][monk.network.producer][INFO    ][37  ][producer.py] : sending message ('{\"password\": \"\", \"op\": \"UpdateUser\", \"name\": \"mluser1752\", \"partition\": 1}',) at monkTestAdmin@0\n"
       ]
      },
      {
       "output_type": "stream",
       "stream": "stdout",
       "text": [
        "[2015-01-16 13:03:05,110][8258 ][monk.network.producer][INFO    ][37  ][producer.py] : sending message ('{\"password\": \"\", \"op\": \"UpdateUser\", \"name\": \"mluser1757\", \"partition\": 1}',) at monkTestAdmin@0\n"
       ]
      },
      {
       "output_type": "stream",
       "stream": "stdout",
       "text": [
        "[2015-01-16 13:03:05,120][8258 ][monk.network.producer][INFO    ][37  ][producer.py] : sending message ('{\"password\": \"\", \"op\": \"UpdateUser\", \"name\": \"mluser1759\", \"partition\": 1}',) at monkTestAdmin@0\n"
       ]
      },
      {
       "output_type": "stream",
       "stream": "stdout",
       "text": [
        "[2015-01-16 13:03:05,128][8258 ][monk.network.producer][INFO    ][37  ][producer.py] : sending message ('{\"password\": \"\", \"op\": \"UpdateUser\", \"name\": \"mluser1764\", \"partition\": 1}',) at monkTestAdmin@0\n"
       ]
      },
      {
       "output_type": "stream",
       "stream": "stdout",
       "text": [
        "[2015-01-16 13:03:05,137][8258 ][monk.network.producer][INFO    ][37  ][producer.py] : sending message ('{\"password\": \"\", \"op\": \"UpdateUser\", \"name\": \"mluser1766\", \"partition\": 1}',) at monkTestAdmin@0\n"
       ]
      },
      {
       "output_type": "stream",
       "stream": "stdout",
       "text": [
        "[2015-01-16 13:03:05,145][8258 ][monk.network.producer][INFO    ][37  ][producer.py] : sending message ('{\"password\": \"\", \"op\": \"UpdateUser\", \"name\": \"mluser1771\", \"partition\": 1}',) at monkTestAdmin@0\n"
       ]
      },
      {
       "output_type": "stream",
       "stream": "stdout",
       "text": [
        "[2015-01-16 13:03:05,158][8258 ][monk.network.producer][INFO    ][37  ][producer.py] : sending message ('{\"password\": \"\", \"op\": \"UpdateUser\", \"name\": \"mluser1773\", \"partition\": 1}',) at monkTestAdmin@0\n"
       ]
      },
      {
       "output_type": "stream",
       "stream": "stdout",
       "text": [
        "[2015-01-16 13:03:05,164][8258 ][monk.network.producer][INFO    ][37  ][producer.py] : sending message ('{\"password\": \"\", \"op\": \"UpdateUser\", \"name\": \"mluser1778\", \"partition\": 1}',) at monkTestAdmin@0\n"
       ]
      },
      {
       "output_type": "stream",
       "stream": "stdout",
       "text": [
        "[2015-01-16 13:03:05,171][8258 ][monk.network.producer][INFO    ][37  ][producer.py] : sending message ('{\"password\": \"\", \"op\": \"UpdateUser\", \"name\": \"mluser1780\", \"partition\": 1}',) at monkTestAdmin@0\n"
       ]
      },
      {
       "output_type": "stream",
       "stream": "stdout",
       "text": [
        "[2015-01-16 13:03:05,180][8258 ][monk.network.producer][INFO    ][37  ][producer.py] : sending message ('{\"password\": \"\", \"op\": \"UpdateUser\", \"name\": \"mluser1785\", \"partition\": 1}',) at monkTestAdmin@0\n"
       ]
      },
      {
       "output_type": "stream",
       "stream": "stdout",
       "text": [
        "[2015-01-16 13:03:05,196][8258 ][monk.network.producer][INFO    ][37  ][producer.py] : sending message ('{\"password\": \"\", \"op\": \"UpdateUser\", \"name\": \"mluser1787\", \"partition\": 1}',) at monkTestAdmin@0\n"
       ]
      },
      {
       "output_type": "stream",
       "stream": "stdout",
       "text": [
        "[2015-01-16 13:03:05,214][8258 ][monk.network.producer][INFO    ][37  ][producer.py] : sending message ('{\"password\": \"\", \"op\": \"UpdateUser\", \"name\": \"mluser1792\", \"partition\": 1}',) at monkTestAdmin@0\n"
       ]
      },
      {
       "output_type": "stream",
       "stream": "stdout",
       "text": [
        "[2015-01-16 13:03:05,223][8258 ][monk.network.producer][INFO    ][37  ][producer.py] : sending message ('{\"password\": \"\", \"op\": \"UpdateUser\", \"name\": \"mluser1794\", \"partition\": 1}',) at monkTestAdmin@0\n"
       ]
      },
      {
       "output_type": "stream",
       "stream": "stdout",
       "text": [
        "[2015-01-16 13:03:05,231][8258 ][monk.network.producer][INFO    ][37  ][producer.py] : sending message ('{\"password\": \"\", \"op\": \"UpdateUser\", \"name\": \"mluser1799\", \"partition\": 1}',) at monkTestAdmin@0\n"
       ]
      },
      {
       "output_type": "stream",
       "stream": "stdout",
       "text": [
        "[2015-01-16 13:03:05,240][8258 ][monk.network.producer][INFO    ][37  ][producer.py] : sending message ('{\"password\": \"\", \"op\": \"UpdateUser\", \"name\": \"mluser1801\", \"partition\": 1}',) at monkTestAdmin@0\n"
       ]
      },
      {
       "output_type": "stream",
       "stream": "stdout",
       "text": [
        "[2015-01-16 13:03:05,247][8258 ][monk.network.producer][INFO    ][37  ][producer.py] : sending message ('{\"password\": \"\", \"op\": \"UpdateUser\", \"name\": \"mluser1806\", \"partition\": 1}',) at monkTestAdmin@0\n"
       ]
      },
      {
       "output_type": "stream",
       "stream": "stdout",
       "text": [
        "[2015-01-16 13:03:05,253][8258 ][monk.network.producer][INFO    ][37  ][producer.py] : sending message ('{\"password\": \"\", \"op\": \"UpdateUser\", \"name\": \"mluser1808\", \"partition\": 1}',) at monkTestAdmin@0\n"
       ]
      },
      {
       "output_type": "stream",
       "stream": "stdout",
       "text": [
        "[2015-01-16 13:03:05,260][8258 ][monk.network.producer][INFO    ][37  ][producer.py] : sending message ('{\"password\": \"\", \"op\": \"UpdateUser\", \"name\": \"mluser1813\", \"partition\": 1}',) at monkTestAdmin@0\n"
       ]
      },
      {
       "output_type": "stream",
       "stream": "stdout",
       "text": [
        "[2015-01-16 13:03:05,269][8258 ][monk.network.producer][INFO    ][37  ][producer.py] : sending message ('{\"password\": \"\", \"op\": \"UpdateUser\", \"name\": \"mluser1815\", \"partition\": 1}',) at monkTestAdmin@0\n"
       ]
      },
      {
       "output_type": "stream",
       "stream": "stdout",
       "text": [
        "[2015-01-16 13:03:05,278][8258 ][monk.network.producer][INFO    ][37  ][producer.py] : sending message ('{\"password\": \"\", \"op\": \"UpdateUser\", \"name\": \"mluser1820\", \"partition\": 1}',) at monkTestAdmin@0\n"
       ]
      },
      {
       "output_type": "stream",
       "stream": "stdout",
       "text": [
        "[2015-01-16 13:03:05,289][8258 ][monk.network.producer][INFO    ][37  ][producer.py] : sending message ('{\"password\": \"\", \"op\": \"UpdateUser\", \"name\": \"mluser1822\", \"partition\": 1}',) at monkTestAdmin@0\n"
       ]
      },
      {
       "output_type": "stream",
       "stream": "stdout",
       "text": [
        "[2015-01-16 13:03:05,298][8258 ][monk.network.producer][INFO    ][37  ][producer.py] : sending message ('{\"password\": \"\", \"op\": \"UpdateUser\", \"name\": \"mluser1827\", \"partition\": 1}',) at monkTestAdmin@0\n"
       ]
      },
      {
       "output_type": "stream",
       "stream": "stdout",
       "text": [
        "[2015-01-16 13:03:05,309][8258 ][monk.network.producer][INFO    ][37  ][producer.py] : sending message ('{\"password\": \"\", \"op\": \"UpdateUser\", \"name\": \"mluser1829\", \"partition\": 1}',) at monkTestAdmin@0\n"
       ]
      },
      {
       "output_type": "stream",
       "stream": "stdout",
       "text": [
        "[2015-01-16 13:03:05,326][8258 ][monk.network.producer][INFO    ][37  ][producer.py] : sending message ('{\"password\": \"\", \"op\": \"UpdateUser\", \"name\": \"mluser1834\", \"partition\": 1}',) at monkTestAdmin@0\n"
       ]
      },
      {
       "output_type": "stream",
       "stream": "stdout",
       "text": [
        "[2015-01-16 13:03:05,341][8258 ][monk.network.producer][INFO    ][37  ][producer.py] : sending message ('{\"password\": \"\", \"op\": \"UpdateUser\", \"name\": \"mluser1836\", \"partition\": 1}',) at monkTestAdmin@0\n"
       ]
      },
      {
       "output_type": "stream",
       "stream": "stdout",
       "text": [
        "[2015-01-16 13:03:05,347][8258 ][monk.network.producer][INFO    ][37  ][producer.py] : sending message ('{\"password\": \"\", \"op\": \"UpdateUser\", \"name\": \"mluser1841\", \"partition\": 1}',) at monkTestAdmin@0\n"
       ]
      },
      {
       "output_type": "stream",
       "stream": "stdout",
       "text": [
        "[2015-01-16 13:03:05,355][8258 ][monk.network.producer][INFO    ][37  ][producer.py] : sending message ('{\"password\": \"\", \"op\": \"UpdateUser\", \"name\": \"mluser1843\", \"partition\": 1}',) at monkTestAdmin@0\n"
       ]
      },
      {
       "output_type": "stream",
       "stream": "stdout",
       "text": [
        "[2015-01-16 13:03:05,367][8258 ][monk.network.producer][INFO    ][37  ][producer.py] : sending message ('{\"password\": \"\", \"op\": \"UpdateUser\", \"name\": \"mluser1848\", \"partition\": 1}',) at monkTestAdmin@0\n"
       ]
      },
      {
       "output_type": "stream",
       "stream": "stdout",
       "text": [
        "[2015-01-16 13:03:05,375][8258 ][monk.network.producer][INFO    ][37  ][producer.py] : sending message ('{\"password\": \"\", \"op\": \"UpdateUser\", \"name\": \"mluser2114\", \"partition\": 1}',) at monkTestAdmin@0\n"
       ]
      },
      {
       "output_type": "stream",
       "stream": "stdout",
       "text": [
        "[2015-01-16 13:03:05,382][8258 ][monk.network.producer][INFO    ][37  ][producer.py] : sending message ('{\"password\": \"\", \"op\": \"UpdateUser\", \"name\": \"mluser2120\", \"partition\": 1}',) at monkTestAdmin@0\n"
       ]
      },
      {
       "output_type": "stream",
       "stream": "stdout",
       "text": [
        "[2015-01-16 13:03:05,390][8258 ][monk.network.producer][INFO    ][37  ][producer.py] : sending message ('{\"password\": \"\", \"op\": \"UpdateUser\", \"name\": \"mluser2122\", \"partition\": 1}',) at monkTestAdmin@0\n"
       ]
      },
      {
       "output_type": "stream",
       "stream": "stdout",
       "text": [
        "[2015-01-16 13:03:05,400][8258 ][monk.network.producer][INFO    ][37  ][producer.py] : sending message ('{\"password\": \"\", \"op\": \"UpdateUser\", \"name\": \"mluser2128\", \"partition\": 1}',) at monkTestAdmin@0\n"
       ]
      },
      {
       "output_type": "stream",
       "stream": "stdout",
       "text": [
        "[2015-01-16 13:03:05,407][8258 ][monk.network.producer][INFO    ][37  ][producer.py] : sending message ('{\"password\": \"\", \"op\": \"UpdateUser\", \"name\": \"mluser2130\", \"partition\": 1}',) at monkTestAdmin@0\n"
       ]
      },
      {
       "output_type": "stream",
       "stream": "stdout",
       "text": [
        "[2015-01-16 13:03:05,413][8258 ][monk.network.producer][INFO    ][37  ][producer.py] : sending message ('{\"password\": \"\", \"op\": \"UpdateUser\", \"name\": \"mluser2136\", \"partition\": 1}',) at monkTestAdmin@0\n"
       ]
      },
      {
       "output_type": "stream",
       "stream": "stdout",
       "text": [
        "[2015-01-16 13:03:05,633][8258 ][monk.network.producer][INFO    ][37  ][producer.py] : sending message ('{\"password\": \"\", \"op\": \"UpdateUser\", \"name\": \"mluser2138\", \"partition\": 1}',) at monkTestAdmin@0\n"
       ]
      },
      {
       "output_type": "stream",
       "stream": "stdout",
       "text": [
        "[2015-01-16 13:03:05,640][8258 ][monk.network.producer][INFO    ][37  ][producer.py] : sending message ('{\"password\": \"\", \"op\": \"UpdateUser\", \"name\": \"mluser2144\", \"partition\": 1}',) at monkTestAdmin@0\n"
       ]
      },
      {
       "output_type": "stream",
       "stream": "stdout",
       "text": [
        "[2015-01-16 13:03:05,649][8258 ][monk.network.producer][INFO    ][37  ][producer.py] : sending message ('{\"password\": \"\", \"op\": \"UpdateUser\", \"name\": \"mluser2146\", \"partition\": 1}',) at monkTestAdmin@0\n"
       ]
      },
      {
       "output_type": "stream",
       "stream": "stdout",
       "text": [
        "[2015-01-16 13:03:05,656][8258 ][monk.network.producer][INFO    ][37  ][producer.py] : sending message ('{\"password\": \"\", \"op\": \"UpdateUser\", \"name\": \"mluser2152\", \"partition\": 1}',) at monkTestAdmin@0\n"
       ]
      },
      {
       "output_type": "stream",
       "stream": "stdout",
       "text": [
        "[2015-01-16 13:03:05,662][8258 ][monk.network.producer][INFO    ][37  ][producer.py] : sending message ('{\"password\": \"\", \"op\": \"UpdateUser\", \"name\": \"mluser2154\", \"partition\": 1}',) at monkTestAdmin@0\n"
       ]
      },
      {
       "output_type": "stream",
       "stream": "stdout",
       "text": [
        "[2015-01-16 13:03:05,671][8258 ][monk.network.producer][INFO    ][37  ][producer.py] : sending message ('{\"password\": \"\", \"op\": \"UpdateUser\", \"name\": \"mluser2160\", \"partition\": 1}',) at monkTestAdmin@0\n"
       ]
      },
      {
       "output_type": "stream",
       "stream": "stdout",
       "text": [
        "[2015-01-16 13:03:05,677][8258 ][monk.network.producer][INFO    ][37  ][producer.py] : sending message ('{\"password\": \"\", \"op\": \"UpdateUser\", \"name\": \"mluser2162\", \"partition\": 1}',) at monkTestAdmin@0\n"
       ]
      },
      {
       "output_type": "stream",
       "stream": "stdout",
       "text": [
        "[2015-01-16 13:03:05,682][8258 ][monk.network.producer][INFO    ][37  ][producer.py] : sending message ('{\"password\": \"\", \"op\": \"UpdateUser\", \"name\": \"mluser2168\", \"partition\": 1}',) at monkTestAdmin@0\n"
       ]
      },
      {
       "output_type": "stream",
       "stream": "stdout",
       "text": [
        "[2015-01-16 13:03:05,688][8258 ][monk.network.producer][INFO    ][37  ][producer.py] : sending message ('{\"password\": \"\", \"op\": \"UpdateUser\", \"name\": \"mluser2170\", \"partition\": 1}',) at monkTestAdmin@0\n"
       ]
      },
      {
       "output_type": "stream",
       "stream": "stdout",
       "text": [
        "[2015-01-16 13:03:05,694][8258 ][monk.network.producer][INFO    ][37  ][producer.py] : sending message ('{\"password\": \"\", \"op\": \"UpdateUser\", \"name\": \"mluser2176\", \"partition\": 1}',) at monkTestAdmin@0\n"
       ]
      },
      {
       "output_type": "stream",
       "stream": "stdout",
       "text": [
        "[2015-01-16 13:03:05,700][8258 ][monk.network.producer][INFO    ][37  ][producer.py] : sending message ('{\"password\": \"\", \"op\": \"UpdateUser\", \"name\": \"mluser2178\", \"partition\": 1}',) at monkTestAdmin@0\n"
       ]
      },
      {
       "output_type": "stream",
       "stream": "stdout",
       "text": [
        "[2015-01-16 13:03:05,707][8258 ][monk.network.producer][INFO    ][37  ][producer.py] : sending message ('{\"password\": \"\", \"op\": \"UpdateUser\", \"name\": \"mluser2184\", \"partition\": 1}',) at monkTestAdmin@0\n"
       ]
      },
      {
       "output_type": "stream",
       "stream": "stdout",
       "text": [
        "[2015-01-16 13:03:05,718][8258 ][monk.network.producer][INFO    ][37  ][producer.py] : sending message ('{\"password\": \"\", \"op\": \"UpdateUser\", \"name\": \"mluser2186\", \"partition\": 1}',) at monkTestAdmin@0\n"
       ]
      },
      {
       "output_type": "stream",
       "stream": "stdout",
       "text": [
        "[2015-01-16 13:03:05,724][8258 ][monk.network.producer][INFO    ][37  ][producer.py] : sending message ('{\"password\": \"\", \"op\": \"UpdateUser\", \"name\": \"mluser2192\", \"partition\": 1}',) at monkTestAdmin@0\n"
       ]
      },
      {
       "output_type": "stream",
       "stream": "stdout",
       "text": [
        "[2015-01-16 13:03:05,735][8258 ][monk.network.producer][INFO    ][37  ][producer.py] : sending message ('{\"password\": \"\", \"op\": \"UpdateUser\", \"name\": \"mluser2194\", \"partition\": 1}',) at monkTestAdmin@0\n"
       ]
      },
      {
       "output_type": "stream",
       "stream": "stdout",
       "text": [
        "[2015-01-16 13:03:05,742][8258 ][monk.network.producer][INFO    ][37  ][producer.py] : sending message ('{\"password\": \"\", \"op\": \"UpdateUser\", \"name\": \"mluser2200\", \"partition\": 1}',) at monkTestAdmin@0\n"
       ]
      },
      {
       "output_type": "stream",
       "stream": "stdout",
       "text": [
        "[2015-01-16 13:03:05,748][8258 ][monk.network.producer][INFO    ][37  ][producer.py] : sending message ('{\"password\": \"\", \"op\": \"UpdateUser\", \"name\": \"mluser2202\", \"partition\": 1}',) at monkTestAdmin@0\n"
       ]
      },
      {
       "output_type": "stream",
       "stream": "stdout",
       "text": [
        "[2015-01-16 13:03:05,756][8258 ][monk.network.producer][INFO    ][37  ][producer.py] : sending message ('{\"password\": \"\", \"op\": \"UpdateUser\", \"name\": \"mluser2208\", \"partition\": 1}',) at monkTestAdmin@0\n"
       ]
      },
      {
       "output_type": "stream",
       "stream": "stdout",
       "text": [
        "[2015-01-16 13:03:05,764][8258 ][monk.network.producer][INFO    ][37  ][producer.py] : sending message ('{\"password\": \"\", \"op\": \"UpdateUser\", \"name\": \"mluser2210\", \"partition\": 1}',) at monkTestAdmin@0\n"
       ]
      },
      {
       "output_type": "stream",
       "stream": "stdout",
       "text": [
        "[2015-01-16 13:03:05,775][8258 ][monk.network.producer][INFO    ][37  ][producer.py] : sending message ('{\"password\": \"\", \"op\": \"UpdateUser\", \"name\": \"mluser2216\", \"partition\": 1}',) at monkTestAdmin@0\n"
       ]
      },
      {
       "output_type": "stream",
       "stream": "stdout",
       "text": [
        "[2015-01-16 13:03:05,781][8258 ][monk.network.producer][INFO    ][37  ][producer.py] : sending message ('{\"password\": \"\", \"op\": \"UpdateUser\", \"name\": \"mluser2218\", \"partition\": 1}',) at monkTestAdmin@0\n"
       ]
      },
      {
       "output_type": "stream",
       "stream": "stdout",
       "text": [
        "[2015-01-16 13:03:05,793][8258 ][monk.network.producer][INFO    ][37  ][producer.py] : sending message ('{\"password\": \"\", \"op\": \"UpdateUser\", \"name\": \"mluser2224\", \"partition\": 1}',) at monkTestAdmin@0\n"
       ]
      },
      {
       "output_type": "stream",
       "stream": "stdout",
       "text": [
        "[2015-01-16 13:03:05,802][8258 ][monk.network.producer][INFO    ][37  ][producer.py] : sending message ('{\"password\": \"\", \"op\": \"UpdateUser\", \"name\": \"mluser2226\", \"partition\": 1}',) at monkTestAdmin@0\n"
       ]
      },
      {
       "output_type": "stream",
       "stream": "stdout",
       "text": [
        "[2015-01-16 13:03:05,809][8258 ][monk.network.producer][INFO    ][37  ][producer.py] : sending message ('{\"password\": \"\", \"op\": \"UpdateUser\", \"name\": \"mluser2232\", \"partition\": 1}',) at monkTestAdmin@0\n"
       ]
      },
      {
       "output_type": "stream",
       "stream": "stdout",
       "text": [
        "[2015-01-16 13:03:05,821][8258 ][monk.network.producer][INFO    ][37  ][producer.py] : sending message ('{\"password\": \"\", \"op\": \"UpdateUser\", \"name\": \"mluser2234\", \"partition\": 1}',) at monkTestAdmin@0\n"
       ]
      },
      {
       "output_type": "stream",
       "stream": "stdout",
       "text": [
        "[2015-01-16 13:03:05,828][8258 ][monk.network.producer][INFO    ][37  ][producer.py] : sending message ('{\"password\": \"\", \"op\": \"UpdateUser\", \"name\": \"mluser2240\", \"partition\": 1}',) at monkTestAdmin@0\n"
       ]
      },
      {
       "output_type": "stream",
       "stream": "stdout",
       "text": [
        "[2015-01-16 13:03:05,838][8258 ][monk.network.producer][INFO    ][37  ][producer.py] : sending message ('{\"password\": \"\", \"op\": \"UpdateUser\", \"name\": \"mluser2242\", \"partition\": 1}',) at monkTestAdmin@0\n"
       ]
      },
      {
       "output_type": "stream",
       "stream": "stdout",
       "text": [
        "[2015-01-16 13:03:05,845][8258 ][monk.network.producer][INFO    ][37  ][producer.py] : sending message ('{\"password\": \"\", \"op\": \"UpdateUser\", \"name\": \"mluser2248\", \"partition\": 1}',) at monkTestAdmin@0\n"
       ]
      },
      {
       "output_type": "stream",
       "stream": "stdout",
       "text": [
        "[2015-01-16 13:03:05,854][8258 ][monk.network.producer][INFO    ][37  ][producer.py] : sending message ('{\"password\": \"\", \"op\": \"UpdateUser\", \"name\": \"mluser2250\", \"partition\": 1}',) at monkTestAdmin@0\n"
       ]
      },
      {
       "output_type": "stream",
       "stream": "stdout",
       "text": [
        "[2015-01-16 13:03:05,861][8258 ][monk.network.producer][INFO    ][37  ][producer.py] : sending message ('{\"password\": \"\", \"op\": \"UpdateUser\", \"name\": \"mluser2256\", \"partition\": 1}',) at monkTestAdmin@0\n"
       ]
      },
      {
       "output_type": "stream",
       "stream": "stdout",
       "text": [
        "[2015-01-16 13:03:05,873][8258 ][monk.network.producer][INFO    ][37  ][producer.py] : sending message ('{\"password\": \"\", \"op\": \"UpdateUser\", \"name\": \"mluser2258\", \"partition\": 1}',) at monkTestAdmin@0\n"
       ]
      },
      {
       "output_type": "stream",
       "stream": "stdout",
       "text": [
        "[2015-01-16 13:03:05,882][8258 ][monk.network.producer][INFO    ][37  ][producer.py] : sending message ('{\"password\": \"\", \"op\": \"UpdateUser\", \"name\": \"mluser2264\", \"partition\": 1}',) at monkTestAdmin@0\n"
       ]
      },
      {
       "output_type": "stream",
       "stream": "stdout",
       "text": [
        "[2015-01-16 13:03:05,901][8258 ][monk.network.producer][INFO    ][37  ][producer.py] : sending message ('{\"password\": \"\", \"op\": \"UpdateUser\", \"name\": \"mluser2266\", \"partition\": 1}',) at monkTestAdmin@0\n"
       ]
      },
      {
       "output_type": "stream",
       "stream": "stdout",
       "text": [
        "[2015-01-16 13:03:05,908][8258 ][monk.network.producer][INFO    ][37  ][producer.py] : sending message ('{\"password\": \"\", \"op\": \"UpdateUser\", \"name\": \"mluser2272\", \"partition\": 1}',) at monkTestAdmin@0\n"
       ]
      },
      {
       "output_type": "stream",
       "stream": "stdout",
       "text": [
        "[2015-01-16 13:03:05,923][8258 ][monk.network.producer][INFO    ][37  ][producer.py] : sending message ('{\"password\": \"\", \"op\": \"UpdateUser\", \"name\": \"mluser2274\", \"partition\": 1}',) at monkTestAdmin@0\n"
       ]
      },
      {
       "output_type": "stream",
       "stream": "stdout",
       "text": [
        "[2015-01-16 13:03:05,931][8258 ][monk.network.producer][INFO    ][37  ][producer.py] : sending message ('{\"password\": \"\", \"op\": \"UpdateUser\", \"name\": \"mluser2280\", \"partition\": 1}',) at monkTestAdmin@0\n"
       ]
      },
      {
       "output_type": "stream",
       "stream": "stdout",
       "text": [
        "[2015-01-16 13:03:05,940][8258 ][monk.network.producer][INFO    ][37  ][producer.py] : sending message ('{\"password\": \"\", \"op\": \"UpdateUser\", \"name\": \"mluser2282\", \"partition\": 1}',) at monkTestAdmin@0\n"
       ]
      },
      {
       "output_type": "stream",
       "stream": "stdout",
       "text": [
        "[2015-01-16 13:03:06,004][8258 ][monk.network.producer][INFO    ][37  ][producer.py] : sending message ('{\"password\": \"\", \"op\": \"UpdateUser\", \"name\": \"mluser2288\", \"partition\": 1}',) at monkTestAdmin@0\n"
       ]
      },
      {
       "output_type": "stream",
       "stream": "stdout",
       "text": [
        "[2015-01-16 13:03:06,014][8258 ][monk.network.producer][INFO    ][37  ][producer.py] : sending message ('{\"password\": \"\", \"op\": \"UpdateUser\", \"name\": \"mluser2290\", \"partition\": 1}',) at monkTestAdmin@0\n"
       ]
      },
      {
       "output_type": "stream",
       "stream": "stdout",
       "text": [
        "[2015-01-16 13:03:06,029][8258 ][monk.network.producer][INFO    ][37  ][producer.py] : sending message ('{\"password\": \"\", \"op\": \"UpdateUser\", \"name\": \"mluser2296\", \"partition\": 1}',) at monkTestAdmin@0\n"
       ]
      },
      {
       "output_type": "stream",
       "stream": "stdout",
       "text": [
        "[2015-01-16 13:03:06,079][8258 ][monk.network.producer][INFO    ][37  ][producer.py] : sending message ('{\"password\": \"\", \"op\": \"UpdateUser\", \"name\": \"mluser2298\", \"partition\": 1}',) at monkTestAdmin@0\n"
       ]
      },
      {
       "output_type": "stream",
       "stream": "stdout",
       "text": [
        "[2015-01-16 13:03:06,086][8258 ][monk.network.producer][INFO    ][37  ][producer.py] : sending message ('{\"password\": \"\", \"op\": \"UpdateUser\", \"name\": \"mluser2304\", \"partition\": 1}',) at monkTestAdmin@0\n"
       ]
      },
      {
       "output_type": "stream",
       "stream": "stdout",
       "text": [
        "[2015-01-16 13:03:06,093][8258 ][monk.network.producer][INFO    ][37  ][producer.py] : sending message ('{\"password\": \"\", \"op\": \"UpdateUser\", \"name\": \"mluser2306\", \"partition\": 1}',) at monkTestAdmin@0\n"
       ]
      },
      {
       "output_type": "stream",
       "stream": "stdout",
       "text": [
        "[2015-01-16 13:03:06,103][8258 ][monk.network.producer][INFO    ][37  ][producer.py] : sending message ('{\"password\": \"\", \"op\": \"UpdateUser\", \"name\": \"mluser2312\", \"partition\": 1}',) at monkTestAdmin@0\n"
       ]
      },
      {
       "output_type": "stream",
       "stream": "stdout",
       "text": [
        "[2015-01-16 13:03:06,112][8258 ][monk.network.producer][INFO    ][37  ][producer.py] : sending message ('{\"password\": \"\", \"op\": \"UpdateUser\", \"name\": \"mluser2314\", \"partition\": 1}',) at monkTestAdmin@0\n"
       ]
      },
      {
       "output_type": "stream",
       "stream": "stdout",
       "text": [
        "[2015-01-16 13:03:06,137][8258 ][monk.network.producer][INFO    ][37  ][producer.py] : sending message ('{\"password\": \"\", \"op\": \"UpdateUser\", \"name\": \"mluser2320\", \"partition\": 1}',) at monkTestAdmin@0\n"
       ]
      },
      {
       "output_type": "stream",
       "stream": "stdout",
       "text": [
        "[2015-01-16 13:03:06,146][8258 ][monk.network.producer][INFO    ][37  ][producer.py] : sending message ('{\"password\": \"\", \"op\": \"UpdateUser\", \"name\": \"mluser2322\", \"partition\": 1}',) at monkTestAdmin@0\n"
       ]
      },
      {
       "output_type": "stream",
       "stream": "stdout",
       "text": [
        "[2015-01-16 13:03:06,152][8258 ][monk.network.producer][INFO    ][37  ][producer.py] : sending message ('{\"password\": \"\", \"op\": \"UpdateUser\", \"name\": \"mluser2328\", \"partition\": 1}',) at monkTestAdmin@0\n"
       ]
      },
      {
       "output_type": "stream",
       "stream": "stdout",
       "text": [
        "[2015-01-16 13:03:06,161][8258 ][monk.network.producer][INFO    ][37  ][producer.py] : sending message ('{\"password\": \"\", \"op\": \"UpdateUser\", \"name\": \"mluser2330\", \"partition\": 1}',) at monkTestAdmin@0\n"
       ]
      },
      {
       "output_type": "stream",
       "stream": "stdout",
       "text": [
        "[2015-01-16 13:03:06,174][8258 ][monk.network.producer][INFO    ][37  ][producer.py] : sending message ('{\"password\": \"\", \"op\": \"UpdateUser\", \"name\": \"mluser2336\", \"partition\": 1}',) at monkTestAdmin@0\n"
       ]
      },
      {
       "output_type": "stream",
       "stream": "stdout",
       "text": [
        "[2015-01-16 13:03:06,212][8258 ][monk.network.producer][INFO    ][37  ][producer.py] : sending message ('{\"password\": \"\", \"op\": \"UpdateUser\", \"name\": \"mluser2338\", \"partition\": 1}',) at monkTestAdmin@0\n"
       ]
      },
      {
       "output_type": "stream",
       "stream": "stdout",
       "text": [
        "[2015-01-16 13:03:06,219][8258 ][monk.network.producer][INFO    ][37  ][producer.py] : sending message ('{\"password\": \"\", \"op\": \"UpdateUser\", \"name\": \"mluser2344\", \"partition\": 1}',) at monkTestAdmin@0\n"
       ]
      },
      {
       "output_type": "stream",
       "stream": "stdout",
       "text": [
        "[2015-01-16 13:03:06,230][8258 ][monk.network.producer][INFO    ][37  ][producer.py] : sending message ('{\"password\": \"\", \"op\": \"UpdateUser\", \"name\": \"mluser2346\", \"partition\": 1}',) at monkTestAdmin@0\n"
       ]
      },
      {
       "output_type": "stream",
       "stream": "stdout",
       "text": [
        "[2015-01-16 13:03:06,236][8258 ][monk.network.producer][INFO    ][37  ][producer.py] : sending message ('{\"password\": \"\", \"op\": \"UpdateUser\", \"name\": \"mluser2352\", \"partition\": 1}',) at monkTestAdmin@0\n"
       ]
      },
      {
       "output_type": "stream",
       "stream": "stdout",
       "text": [
        "[2015-01-16 13:03:06,247][8258 ][monk.network.producer][INFO    ][37  ][producer.py] : sending message ('{\"password\": \"\", \"op\": \"UpdateUser\", \"name\": \"mluser2354\", \"partition\": 1}',) at monkTestAdmin@0\n"
       ]
      },
      {
       "output_type": "stream",
       "stream": "stdout",
       "text": [
        "[2015-01-16 13:03:06,256][8258 ][monk.network.producer][INFO    ][37  ][producer.py] : sending message ('{\"password\": \"\", \"op\": \"UpdateUser\", \"name\": \"mluser2360\", \"partition\": 1}',) at monkTestAdmin@0\n"
       ]
      },
      {
       "output_type": "stream",
       "stream": "stdout",
       "text": [
        "[2015-01-16 13:03:06,264][8258 ][monk.network.producer][INFO    ][37  ][producer.py] : sending message ('{\"password\": \"\", \"op\": \"UpdateUser\", \"name\": \"mluser2362\", \"partition\": 1}',) at monkTestAdmin@0\n"
       ]
      },
      {
       "output_type": "stream",
       "stream": "stdout",
       "text": [
        "[2015-01-16 13:03:06,271][8258 ][monk.network.producer][INFO    ][37  ][producer.py] : sending message ('{\"password\": \"\", \"op\": \"UpdateUser\", \"name\": \"mluser2368\", \"partition\": 1}',) at monkTestAdmin@0\n"
       ]
      },
      {
       "output_type": "stream",
       "stream": "stdout",
       "text": [
        "[2015-01-16 13:03:06,278][8258 ][monk.network.producer][INFO    ][37  ][producer.py] : sending message ('{\"password\": \"\", \"op\": \"UpdateUser\", \"name\": \"mluser2370\", \"partition\": 1}',) at monkTestAdmin@0\n"
       ]
      },
      {
       "output_type": "stream",
       "stream": "stdout",
       "text": [
        "[2015-01-16 13:03:06,289][8258 ][monk.network.producer][INFO    ][37  ][producer.py] : sending message ('{\"password\": \"\", \"op\": \"UpdateUser\", \"name\": \"mluser2376\", \"partition\": 1}',) at monkTestAdmin@0\n"
       ]
      },
      {
       "output_type": "stream",
       "stream": "stdout",
       "text": [
        "[2015-01-16 13:03:06,295][8258 ][monk.network.producer][INFO    ][37  ][producer.py] : sending message ('{\"password\": \"\", \"op\": \"UpdateUser\", \"name\": \"mluser2378\", \"partition\": 1}',) at monkTestAdmin@0\n"
       ]
      },
      {
       "output_type": "stream",
       "stream": "stdout",
       "text": [
        "[2015-01-16 13:03:06,302][8258 ][monk.network.producer][INFO    ][37  ][producer.py] : sending message ('{\"password\": \"\", \"op\": \"UpdateUser\", \"name\": \"mluser2384\", \"partition\": 1}',) at monkTestAdmin@0\n"
       ]
      },
      {
       "output_type": "stream",
       "stream": "stdout",
       "text": [
        "[2015-01-16 13:03:06,316][8258 ][monk.network.producer][INFO    ][37  ][producer.py] : sending message ('{\"password\": \"\", \"op\": \"UpdateUser\", \"name\": \"mluser2386\", \"partition\": 1}',) at monkTestAdmin@0\n"
       ]
      },
      {
       "output_type": "stream",
       "stream": "stdout",
       "text": [
        "[2015-01-16 13:03:06,334][8258 ][monk.network.producer][INFO    ][37  ][producer.py] : sending message ('{\"password\": \"\", \"op\": \"UpdateUser\", \"name\": \"mluser2392\", \"partition\": 1}',) at monkTestAdmin@0\n"
       ]
      },
      {
       "output_type": "stream",
       "stream": "stdout",
       "text": [
        "[2015-01-16 13:03:06,366][8258 ][monk.network.producer][INFO    ][37  ][producer.py] : sending message ('{\"password\": \"\", \"op\": \"UpdateUser\", \"name\": \"mluser2394\", \"partition\": 1}',) at monkTestAdmin@0\n"
       ]
      },
      {
       "output_type": "stream",
       "stream": "stdout",
       "text": [
        "[2015-01-16 13:03:06,374][8258 ][monk.network.producer][INFO    ][37  ][producer.py] : sending message ('{\"password\": \"\", \"op\": \"UpdateUser\", \"name\": \"mluser2400\", \"partition\": 1}',) at monkTestAdmin@0\n"
       ]
      },
      {
       "output_type": "stream",
       "stream": "stdout",
       "text": [
        "[2015-01-16 13:03:06,388][8258 ][monk.network.producer][INFO    ][37  ][producer.py] : sending message ('{\"password\": \"\", \"op\": \"UpdateUser\", \"name\": \"mluser2402\", \"partition\": 1}',) at monkTestAdmin@0\n"
       ]
      },
      {
       "output_type": "stream",
       "stream": "stdout",
       "text": [
        "[2015-01-16 13:03:06,396][8258 ][monk.network.producer][INFO    ][37  ][producer.py] : sending message ('{\"password\": \"\", \"op\": \"UpdateUser\", \"name\": \"mluser2408\", \"partition\": 1}',) at monkTestAdmin@0\n"
       ]
      },
      {
       "output_type": "stream",
       "stream": "stdout",
       "text": [
        "[2015-01-16 13:03:06,406][8258 ][monk.network.producer][INFO    ][37  ][producer.py] : sending message ('{\"password\": \"\", \"op\": \"UpdateUser\", \"name\": \"mluser2410\", \"partition\": 1}',) at monkTestAdmin@0\n"
       ]
      },
      {
       "output_type": "stream",
       "stream": "stdout",
       "text": [
        "[2015-01-16 13:03:06,414][8258 ][monk.network.producer][INFO    ][37  ][producer.py] : sending message ('{\"password\": \"\", \"op\": \"UpdateUser\", \"name\": \"mluser2416\", \"partition\": 1}',) at monkTestAdmin@0\n"
       ]
      },
      {
       "output_type": "stream",
       "stream": "stdout",
       "text": [
        "[2015-01-16 13:03:06,420][8258 ][monk.network.producer][INFO    ][37  ][producer.py] : sending message ('{\"password\": \"\", \"op\": \"UpdateUser\", \"name\": \"mluser2418\", \"partition\": 1}',) at monkTestAdmin@0\n"
       ]
      },
      {
       "output_type": "stream",
       "stream": "stdout",
       "text": [
        "[2015-01-16 13:03:06,444][8258 ][monk.network.producer][INFO    ][37  ][producer.py] : sending message ('{\"password\": \"\", \"op\": \"UpdateUser\", \"name\": \"mluser2424\", \"partition\": 1}',) at monkTestAdmin@0\n"
       ]
      },
      {
       "output_type": "stream",
       "stream": "stdout",
       "text": [
        "[2015-01-16 13:03:06,452][8258 ][monk.network.producer][INFO    ][37  ][producer.py] : sending message ('{\"password\": \"\", \"op\": \"UpdateUser\", \"name\": \"mluser2426\", \"partition\": 1}',) at monkTestAdmin@0\n"
       ]
      },
      {
       "output_type": "stream",
       "stream": "stdout",
       "text": [
        "[2015-01-16 13:03:06,459][8258 ][monk.network.producer][INFO    ][37  ][producer.py] : sending message ('{\"password\": \"\", \"op\": \"UpdateUser\", \"name\": \"mluser2432\", \"partition\": 1}',) at monkTestAdmin@0\n"
       ]
      },
      {
       "output_type": "stream",
       "stream": "stdout",
       "text": [
        "[2015-01-16 13:03:06,465][8258 ][monk.network.producer][INFO    ][37  ][producer.py] : sending message ('{\"password\": \"\", \"op\": \"UpdateUser\", \"name\": \"mluser2434\", \"partition\": 1}',) at monkTestAdmin@0\n"
       ]
      },
      {
       "output_type": "stream",
       "stream": "stdout",
       "text": [
        "[2015-01-16 13:03:06,471][8258 ][monk.network.producer][INFO    ][37  ][producer.py] : sending message ('{\"password\": \"\", \"op\": \"UpdateUser\", \"name\": \"mluser2440\", \"partition\": 1}',) at monkTestAdmin@0\n"
       ]
      },
      {
       "output_type": "stream",
       "stream": "stdout",
       "text": [
        "[2015-01-16 13:03:06,477][8258 ][monk.network.producer][INFO    ][37  ][producer.py] : sending message ('{\"password\": \"\", \"op\": \"UpdateUser\", \"name\": \"mluser2442\", \"partition\": 1}',) at monkTestAdmin@0\n"
       ]
      },
      {
       "output_type": "stream",
       "stream": "stdout",
       "text": [
        "[2015-01-16 13:03:06,488][8258 ][monk.network.producer][INFO    ][37  ][producer.py] : sending message ('{\"password\": \"\", \"op\": \"UpdateUser\", \"name\": \"mluser2448\", \"partition\": 1}',) at monkTestAdmin@0\n"
       ]
      },
      {
       "output_type": "stream",
       "stream": "stdout",
       "text": [
        "[2015-01-16 13:03:06,495][8258 ][monk.network.producer][INFO    ][37  ][producer.py] : sending message ('{\"password\": \"\", \"op\": \"UpdateUser\", \"name\": \"mluser2450\", \"partition\": 1}',) at monkTestAdmin@0\n"
       ]
      },
      {
       "output_type": "stream",
       "stream": "stdout",
       "text": [
        "[2015-01-16 13:03:06,503][8258 ][monk.network.producer][INFO    ][37  ][producer.py] : sending message ('{\"password\": \"\", \"op\": \"UpdateUser\", \"name\": \"mluser2456\", \"partition\": 1}',) at monkTestAdmin@0\n"
       ]
      },
      {
       "output_type": "stream",
       "stream": "stdout",
       "text": [
        "[2015-01-16 13:03:06,518][8258 ][monk.network.producer][INFO    ][37  ][producer.py] : sending message ('{\"password\": \"\", \"op\": \"UpdateUser\", \"name\": \"mluser2458\", \"partition\": 1}',) at monkTestAdmin@0\n"
       ]
      },
      {
       "output_type": "stream",
       "stream": "stdout",
       "text": [
        "[2015-01-16 13:03:06,527][8258 ][monk.network.producer][INFO    ][37  ][producer.py] : sending message ('{\"password\": \"\", \"op\": \"UpdateUser\", \"name\": \"mluser2464\", \"partition\": 1}',) at monkTestAdmin@0\n"
       ]
      },
      {
       "output_type": "stream",
       "stream": "stdout",
       "text": [
        "[2015-01-16 13:03:06,539][8258 ][monk.network.producer][INFO    ][37  ][producer.py] : sending message ('{\"password\": \"\", \"op\": \"UpdateUser\", \"name\": \"mluser2466\", \"partition\": 1}',) at monkTestAdmin@0\n"
       ]
      },
      {
       "output_type": "stream",
       "stream": "stdout",
       "text": [
        "[2015-01-16 13:03:06,546][8258 ][monk.network.producer][INFO    ][37  ][producer.py] : sending message ('{\"password\": \"\", \"op\": \"UpdateUser\", \"name\": \"mluser2472\", \"partition\": 1}',) at monkTestAdmin@0\n"
       ]
      },
      {
       "output_type": "stream",
       "stream": "stdout",
       "text": [
        "[2015-01-16 13:03:06,555][8258 ][monk.network.producer][INFO    ][37  ][producer.py] : sending message ('{\"password\": \"\", \"op\": \"UpdateUser\", \"name\": \"mluser2474\", \"partition\": 1}',) at monkTestAdmin@0\n"
       ]
      },
      {
       "output_type": "stream",
       "stream": "stdout",
       "text": [
        "[2015-01-16 13:03:06,562][8258 ][monk.network.producer][INFO    ][37  ][producer.py] : sending message ('{\"password\": \"\", \"op\": \"UpdateUser\", \"name\": \"mluser2480\", \"partition\": 1}',) at monkTestAdmin@0\n"
       ]
      },
      {
       "output_type": "stream",
       "stream": "stdout",
       "text": [
        "[2015-01-16 13:03:06,572][8258 ][monk.network.producer][INFO    ][37  ][producer.py] : sending message ('{\"password\": \"\", \"op\": \"UpdateUser\", \"name\": \"mluser2482\", \"partition\": 1}',) at monkTestAdmin@0\n"
       ]
      },
      {
       "output_type": "stream",
       "stream": "stdout",
       "text": [
        "[2015-01-16 13:03:06,579][8258 ][monk.network.producer][INFO    ][37  ][producer.py] : sending message ('{\"password\": \"\", \"op\": \"UpdateUser\", \"name\": \"mluser2488\", \"partition\": 1}',) at monkTestAdmin@0\n"
       ]
      },
      {
       "output_type": "stream",
       "stream": "stdout",
       "text": [
        "[2015-01-16 13:03:06,590][8258 ][monk.network.producer][INFO    ][37  ][producer.py] : sending message ('{\"password\": \"\", \"op\": \"UpdateUser\", \"name\": \"mluser2490\", \"partition\": 1}',) at monkTestAdmin@0\n"
       ]
      },
      {
       "output_type": "stream",
       "stream": "stdout",
       "text": [
        "[2015-01-16 13:03:06,596][8258 ][monk.network.producer][INFO    ][37  ][producer.py] : sending message ('{\"password\": \"\", \"op\": \"UpdateUser\", \"name\": \"mluser2496\", \"partition\": 1}',) at monkTestAdmin@0\n"
       ]
      },
      {
       "output_type": "stream",
       "stream": "stdout",
       "text": [
        "[2015-01-16 13:03:06,606][8258 ][monk.network.producer][INFO    ][37  ][producer.py] : sending message ('{\"password\": \"\", \"op\": \"UpdateUser\", \"name\": \"mluser2498\", \"partition\": 1}',) at monkTestAdmin@0\n"
       ]
      },
      {
       "output_type": "stream",
       "stream": "stdout",
       "text": [
        "[2015-01-16 13:03:06,618][8258 ][monk.network.producer][INFO    ][37  ][producer.py] : sending message ('{\"password\": \"\", \"op\": \"UpdateUser\", \"name\": \"mluser2504\", \"partition\": 1}',) at monkTestAdmin@0\n"
       ]
      },
      {
       "output_type": "stream",
       "stream": "stdout",
       "text": [
        "[2015-01-16 13:03:06,624][8258 ][monk.network.producer][INFO    ][37  ][producer.py] : sending message ('{\"password\": \"\", \"op\": \"UpdateUser\", \"name\": \"mluser2506\", \"partition\": 1}',) at monkTestAdmin@0\n"
       ]
      },
      {
       "output_type": "stream",
       "stream": "stdout",
       "text": [
        "[2015-01-16 13:03:06,630][8258 ][monk.network.producer][INFO    ][37  ][producer.py] : sending message ('{\"password\": \"\", \"op\": \"UpdateUser\", \"name\": \"mluser2512\", \"partition\": 1}',) at monkTestAdmin@0\n"
       ]
      },
      {
       "output_type": "stream",
       "stream": "stdout",
       "text": [
        "[2015-01-16 13:03:06,641][8258 ][monk.network.producer][INFO    ][37  ][producer.py] : sending message ('{\"password\": \"\", \"op\": \"UpdateUser\", \"name\": \"mluser2514\", \"partition\": 1}',) at monkTestAdmin@0\n"
       ]
      },
      {
       "output_type": "stream",
       "stream": "stdout",
       "text": [
        "[2015-01-16 13:03:06,648][8258 ][monk.network.producer][INFO    ][37  ][producer.py] : sending message ('{\"password\": \"\", \"op\": \"UpdateUser\", \"name\": \"mluser2520\", \"partition\": 1}',) at monkTestAdmin@0\n"
       ]
      },
      {
       "output_type": "stream",
       "stream": "stdout",
       "text": [
        "[2015-01-16 13:03:06,657][8258 ][monk.network.producer][INFO    ][37  ][producer.py] : sending message ('{\"password\": \"\", \"op\": \"UpdateUser\", \"name\": \"mluser2522\", \"partition\": 1}',) at monkTestAdmin@0\n"
       ]
      },
      {
       "output_type": "stream",
       "stream": "stdout",
       "text": [
        "[2015-01-16 13:03:06,664][8258 ][monk.network.producer][INFO    ][37  ][producer.py] : sending message ('{\"password\": \"\", \"op\": \"UpdateUser\", \"name\": \"mluser2528\", \"partition\": 1}',) at monkTestAdmin@0\n"
       ]
      },
      {
       "output_type": "stream",
       "stream": "stdout",
       "text": [
        "[2015-01-16 13:03:06,672][8258 ][monk.network.producer][INFO    ][37  ][producer.py] : sending message ('{\"password\": \"\", \"op\": \"UpdateUser\", \"name\": \"mluser2530\", \"partition\": 1}',) at monkTestAdmin@0\n"
       ]
      },
      {
       "output_type": "stream",
       "stream": "stdout",
       "text": [
        "[2015-01-16 13:03:06,679][8258 ][monk.network.producer][INFO    ][37  ][producer.py] : sending message ('{\"password\": \"\", \"op\": \"UpdateUser\", \"name\": \"mluser2536\", \"partition\": 1}',) at monkTestAdmin@0\n"
       ]
      },
      {
       "output_type": "stream",
       "stream": "stdout",
       "text": [
        "[2015-01-16 13:03:06,685][8258 ][monk.network.producer][INFO    ][37  ][producer.py] : sending message ('{\"password\": \"\", \"op\": \"UpdateUser\", \"name\": \"mluser2538\", \"partition\": 1}',) at monkTestAdmin@0\n"
       ]
      },
      {
       "output_type": "stream",
       "stream": "stdout",
       "text": [
        "[2015-01-16 13:03:06,702][8258 ][monk.network.producer][INFO    ][37  ][producer.py] : sending message ('{\"password\": \"\", \"op\": \"UpdateUser\", \"name\": \"mluser2544\", \"partition\": 1}',) at monkTestAdmin@0\n"
       ]
      },
      {
       "output_type": "stream",
       "stream": "stdout",
       "text": [
        "[2015-01-16 13:03:06,721][8258 ][monk.network.producer][INFO    ][37  ][producer.py] : sending message ('{\"password\": \"\", \"op\": \"UpdateUser\", \"name\": \"mluser2546\", \"partition\": 1}',) at monkTestAdmin@0\n"
       ]
      },
      {
       "output_type": "stream",
       "stream": "stdout",
       "text": [
        "[2015-01-16 13:03:06,733][8258 ][monk.network.producer][INFO    ][37  ][producer.py] : sending message ('{\"password\": \"\", \"op\": \"UpdateUser\", \"name\": \"mluser2552\", \"partition\": 1}',) at monkTestAdmin@0\n"
       ]
      },
      {
       "output_type": "stream",
       "stream": "stdout",
       "text": [
        "[2015-01-16 13:03:06,743][8258 ][monk.network.producer][INFO    ][37  ][producer.py] : sending message ('{\"password\": \"\", \"op\": \"UpdateUser\", \"name\": \"mluser2554\", \"partition\": 1}',) at monkTestAdmin@0\n"
       ]
      },
      {
       "output_type": "stream",
       "stream": "stdout",
       "text": [
        "[2015-01-16 13:03:06,751][8258 ][monk.network.producer][INFO    ][37  ][producer.py] : sending message ('{\"password\": \"\", \"op\": \"UpdateUser\", \"name\": \"mluser2560\", \"partition\": 1}',) at monkTestAdmin@0\n"
       ]
      },
      {
       "output_type": "stream",
       "stream": "stdout",
       "text": [
        "[2015-01-16 13:03:06,768][8258 ][monk.network.producer][INFO    ][37  ][producer.py] : sending message ('{\"password\": \"\", \"op\": \"UpdateUser\", \"name\": \"mluser2562\", \"partition\": 1}',) at monkTestAdmin@0\n"
       ]
      },
      {
       "output_type": "stream",
       "stream": "stdout",
       "text": [
        "[2015-01-16 13:03:06,784][8258 ][monk.network.producer][INFO    ][37  ][producer.py] : sending message ('{\"password\": \"\", \"op\": \"UpdateUser\", \"name\": \"mluser2568\", \"partition\": 1}',) at monkTestAdmin@0\n"
       ]
      },
      {
       "output_type": "stream",
       "stream": "stdout",
       "text": [
        "[2015-01-16 13:03:06,797][8258 ][monk.network.producer][INFO    ][37  ][producer.py] : sending message ('{\"password\": \"\", \"op\": \"UpdateUser\", \"name\": \"mluser2570\", \"partition\": 1}',) at monkTestAdmin@0\n"
       ]
      },
      {
       "output_type": "stream",
       "stream": "stdout",
       "text": [
        "[2015-01-16 13:03:06,804][8258 ][monk.network.producer][INFO    ][37  ][producer.py] : sending message ('{\"password\": \"\", \"op\": \"UpdateUser\", \"name\": \"mluser2576\", \"partition\": 1}',) at monkTestAdmin@0\n"
       ]
      },
      {
       "output_type": "stream",
       "stream": "stdout",
       "text": [
        "[2015-01-16 13:03:06,814][8258 ][monk.network.producer][INFO    ][37  ][producer.py] : sending message ('{\"password\": \"\", \"op\": \"UpdateUser\", \"name\": \"mluser2578\", \"partition\": 1}',) at monkTestAdmin@0\n"
       ]
      },
      {
       "output_type": "stream",
       "stream": "stdout",
       "text": [
        "[2015-01-16 13:03:06,825][8258 ][monk.network.producer][INFO    ][37  ][producer.py] : sending message ('{\"password\": \"\", \"op\": \"UpdateUser\", \"name\": \"mluser2584\", \"partition\": 1}',) at monkTestAdmin@0\n"
       ]
      },
      {
       "output_type": "stream",
       "stream": "stdout",
       "text": [
        "[2015-01-16 13:03:06,833][8258 ][monk.network.producer][INFO    ][37  ][producer.py] : sending message ('{\"password\": \"\", \"op\": \"UpdateUser\", \"name\": \"mluser2586\", \"partition\": 1}',) at monkTestAdmin@0\n"
       ]
      },
      {
       "output_type": "stream",
       "stream": "stdout",
       "text": [
        "[2015-01-16 13:03:06,841][8258 ][monk.network.producer][INFO    ][37  ][producer.py] : sending message ('{\"password\": \"\", \"op\": \"UpdateUser\", \"name\": \"mluser2592\", \"partition\": 1}',) at monkTestAdmin@0\n"
       ]
      },
      {
       "output_type": "stream",
       "stream": "stdout",
       "text": [
        "[2015-01-16 13:03:06,850][8258 ][monk.network.producer][INFO    ][37  ][producer.py] : sending message ('{\"password\": \"\", \"op\": \"UpdateUser\", \"name\": \"mluser2594\", \"partition\": 1}',) at monkTestAdmin@0\n"
       ]
      },
      {
       "output_type": "stream",
       "stream": "stdout",
       "text": [
        "[2015-01-16 13:03:06,861][8258 ][monk.network.producer][INFO    ][37  ][producer.py] : sending message ('{\"password\": \"\", \"op\": \"UpdateUser\", \"name\": \"mluser2600\", \"partition\": 1}',) at monkTestAdmin@0\n"
       ]
      },
      {
       "output_type": "stream",
       "stream": "stdout",
       "text": [
        "[2015-01-16 13:03:06,868][8258 ][monk.network.producer][INFO    ][37  ][producer.py] : sending message ('{\"password\": \"\", \"op\": \"UpdateUser\", \"name\": \"mluser2602\", \"partition\": 1}',) at monkTestAdmin@0\n"
       ]
      },
      {
       "output_type": "stream",
       "stream": "stdout",
       "text": [
        "[2015-01-16 13:03:06,874][8258 ][monk.network.producer][INFO    ][37  ][producer.py] : sending message ('{\"password\": \"\", \"op\": \"UpdateUser\", \"name\": \"mluser2608\", \"partition\": 1}',) at monkTestAdmin@0\n"
       ]
      },
      {
       "output_type": "stream",
       "stream": "stdout",
       "text": [
        "[2015-01-16 13:03:06,881][8258 ][monk.network.producer][INFO    ][37  ][producer.py] : sending message ('{\"password\": \"\", \"op\": \"UpdateUser\", \"name\": \"mluser2610\", \"partition\": 1}',) at monkTestAdmin@0\n"
       ]
      },
      {
       "output_type": "stream",
       "stream": "stdout",
       "text": [
        "[2015-01-16 13:03:06,899][8258 ][monk.network.producer][INFO    ][37  ][producer.py] : sending message ('{\"password\": \"\", \"op\": \"UpdateUser\", \"name\": \"mluser2616\", \"partition\": 1}',) at monkTestAdmin@0\n"
       ]
      },
      {
       "output_type": "stream",
       "stream": "stdout",
       "text": [
        "[2015-01-16 13:03:06,905][8258 ][monk.network.producer][INFO    ][37  ][producer.py] : sending message ('{\"password\": \"\", \"op\": \"UpdateUser\", \"name\": \"mluser2618\", \"partition\": 1}',) at monkTestAdmin@0\n"
       ]
      },
      {
       "output_type": "stream",
       "stream": "stdout",
       "text": [
        "[2015-01-16 13:03:06,912][8258 ][monk.network.producer][INFO    ][37  ][producer.py] : sending message ('{\"password\": \"\", \"op\": \"UpdateUser\", \"name\": \"mluser2624\", \"partition\": 1}',) at monkTestAdmin@0\n"
       ]
      },
      {
       "output_type": "stream",
       "stream": "stdout",
       "text": [
        "[2015-01-16 13:03:06,919][8258 ][monk.network.producer][INFO    ][37  ][producer.py] : sending message ('{\"password\": \"\", \"op\": \"UpdateUser\", \"name\": \"mluser2626\", \"partition\": 1}',) at monkTestAdmin@0\n"
       ]
      },
      {
       "output_type": "stream",
       "stream": "stdout",
       "text": [
        "[2015-01-16 13:03:06,964][8258 ][monk.network.producer][INFO    ][37  ][producer.py] : sending message ('{\"password\": \"\", \"op\": \"UpdateUser\", \"name\": \"mluser2632\", \"partition\": 1}',) at monkTestAdmin@0\n"
       ]
      },
      {
       "output_type": "stream",
       "stream": "stdout",
       "text": [
        "[2015-01-16 13:03:06,993][8258 ][monk.network.producer][INFO    ][37  ][producer.py] : sending message ('{\"password\": \"\", \"op\": \"UpdateUser\", \"name\": \"mluser2634\", \"partition\": 1}',) at monkTestAdmin@0\n"
       ]
      },
      {
       "output_type": "stream",
       "stream": "stdout",
       "text": [
        "[2015-01-16 13:03:07,012][8258 ][monk.network.producer][INFO    ][37  ][producer.py] : sending message ('{\"password\": \"\", \"op\": \"UpdateUser\", \"name\": \"mluser2640\", \"partition\": 1}',) at monkTestAdmin@0\n"
       ]
      },
      {
       "output_type": "stream",
       "stream": "stdout",
       "text": [
        "[2015-01-16 13:03:07,029][8258 ][monk.network.producer][INFO    ][37  ][producer.py] : sending message ('{\"password\": \"\", \"op\": \"UpdateUser\", \"name\": \"mluser2642\", \"partition\": 1}',) at monkTestAdmin@0\n"
       ]
      },
      {
       "output_type": "stream",
       "stream": "stdout",
       "text": [
        "[2015-01-16 13:03:07,036][8258 ][monk.network.producer][INFO    ][37  ][producer.py] : sending message ('{\"password\": \"\", \"op\": \"UpdateUser\", \"name\": \"mluser2648\", \"partition\": 1}',) at monkTestAdmin@0\n"
       ]
      },
      {
       "output_type": "stream",
       "stream": "stdout",
       "text": [
        "[2015-01-16 13:03:07,054][8258 ][monk.network.producer][INFO    ][37  ][producer.py] : sending message ('{\"password\": \"\", \"op\": \"UpdateUser\", \"name\": \"mluser2650\", \"partition\": 1}',) at monkTestAdmin@0\n"
       ]
      },
      {
       "output_type": "stream",
       "stream": "stdout",
       "text": [
        "[2015-01-16 13:03:07,066][8258 ][monk.network.producer][INFO    ][37  ][producer.py] : sending message ('{\"password\": \"\", \"op\": \"UpdateUser\", \"name\": \"mluser2656\", \"partition\": 1}',) at monkTestAdmin@0\n"
       ]
      },
      {
       "output_type": "stream",
       "stream": "stdout",
       "text": [
        "[2015-01-16 13:03:07,087][8258 ][monk.network.producer][INFO    ][37  ][producer.py] : sending message ('{\"password\": \"\", \"op\": \"UpdateUser\", \"name\": \"mluser2658\", \"partition\": 1}',) at monkTestAdmin@0\n"
       ]
      },
      {
       "output_type": "stream",
       "stream": "stdout",
       "text": [
        "[2015-01-16 13:03:07,093][8258 ][monk.network.producer][INFO    ][37  ][producer.py] : sending message ('{\"password\": \"\", \"op\": \"UpdateUser\", \"name\": \"mluser2664\", \"partition\": 1}',) at monkTestAdmin@0\n"
       ]
      },
      {
       "output_type": "stream",
       "stream": "stdout",
       "text": [
        "[2015-01-16 13:03:07,103][8258 ][monk.network.producer][INFO    ][37  ][producer.py] : sending message ('{\"password\": \"\", \"op\": \"UpdateUser\", \"name\": \"mluser2666\", \"partition\": 1}',) at monkTestAdmin@0\n"
       ]
      },
      {
       "output_type": "stream",
       "stream": "stdout",
       "text": [
        "[2015-01-16 13:03:07,110][8258 ][monk.network.producer][INFO    ][37  ][producer.py] : sending message ('{\"password\": \"\", \"op\": \"UpdateUser\", \"name\": \"mluser2672\", \"partition\": 1}',) at monkTestAdmin@0\n"
       ]
      },
      {
       "output_type": "stream",
       "stream": "stdout",
       "text": [
        "[2015-01-16 13:03:07,129][8258 ][monk.network.producer][INFO    ][37  ][producer.py] : sending message ('{\"password\": \"\", \"op\": \"UpdateUser\", \"name\": \"mluser2674\", \"partition\": 1}',) at monkTestAdmin@0\n"
       ]
      },
      {
       "output_type": "stream",
       "stream": "stdout",
       "text": [
        "[2015-01-16 13:03:07,136][8258 ][monk.network.producer][INFO    ][37  ][producer.py] : sending message ('{\"password\": \"\", \"op\": \"UpdateUser\", \"name\": \"mluser2680\", \"partition\": 1}',) at monkTestAdmin@0\n"
       ]
      },
      {
       "output_type": "stream",
       "stream": "stdout",
       "text": [
        "[2015-01-16 13:03:07,151][8258 ][monk.network.producer][INFO    ][37  ][producer.py] : sending message ('{\"password\": \"\", \"op\": \"UpdateUser\", \"name\": \"mluser2682\", \"partition\": 1}',) at monkTestAdmin@0\n"
       ]
      },
      {
       "output_type": "stream",
       "stream": "stdout",
       "text": [
        "[2015-01-16 13:03:07,158][8258 ][monk.network.producer][INFO    ][37  ][producer.py] : sending message ('{\"password\": \"\", \"op\": \"UpdateUser\", \"name\": \"mluser2688\", \"partition\": 1}',) at monkTestAdmin@0\n"
       ]
      },
      {
       "output_type": "stream",
       "stream": "stdout",
       "text": [
        "[2015-01-16 13:03:07,169][8258 ][monk.network.producer][INFO    ][37  ][producer.py] : sending message ('{\"password\": \"\", \"op\": \"UpdateUser\", \"name\": \"mluser2690\", \"partition\": 1}',) at monkTestAdmin@0\n"
       ]
      },
      {
       "output_type": "stream",
       "stream": "stdout",
       "text": [
        "[2015-01-16 13:03:07,177][8258 ][monk.network.producer][INFO    ][37  ][producer.py] : sending message ('{\"password\": \"\", \"op\": \"UpdateUser\", \"name\": \"mluser2696\", \"partition\": 1}',) at monkTestAdmin@0\n"
       ]
      },
      {
       "output_type": "stream",
       "stream": "stdout",
       "text": [
        "[2015-01-16 13:03:07,183][8258 ][monk.network.producer][INFO    ][37  ][producer.py] : sending message ('{\"password\": \"\", \"op\": \"UpdateUser\", \"name\": \"mluser2698\", \"partition\": 1}',) at monkTestAdmin@0\n"
       ]
      },
      {
       "output_type": "stream",
       "stream": "stdout",
       "text": [
        "[2015-01-16 13:03:07,188][8258 ][monk.network.producer][INFO    ][37  ][producer.py] : sending message ('{\"password\": \"\", \"op\": \"UpdateUser\", \"name\": \"mluser2704\", \"partition\": 1}',) at monkTestAdmin@0\n"
       ]
      },
      {
       "output_type": "stream",
       "stream": "stdout",
       "text": [
        "[2015-01-16 13:03:07,195][8258 ][monk.network.producer][INFO    ][37  ][producer.py] : sending message ('{\"password\": \"\", \"op\": \"UpdateUser\", \"name\": \"mluser2706\", \"partition\": 1}',) at monkTestAdmin@0\n"
       ]
      },
      {
       "output_type": "stream",
       "stream": "stdout",
       "text": [
        "[2015-01-16 13:03:07,205][8258 ][monk.network.producer][INFO    ][37  ][producer.py] : sending message ('{\"password\": \"\", \"op\": \"UpdateUser\", \"name\": \"mluser2712\", \"partition\": 1}',) at monkTestAdmin@0\n"
       ]
      },
      {
       "output_type": "stream",
       "stream": "stdout",
       "text": [
        "[2015-01-16 13:03:07,211][8258 ][monk.network.producer][INFO    ][37  ][producer.py] : sending message ('{\"password\": \"\", \"op\": \"UpdateUser\", \"name\": \"mluser2714\", \"partition\": 1}',) at monkTestAdmin@0\n"
       ]
      },
      {
       "output_type": "stream",
       "stream": "stdout",
       "text": [
        "[2015-01-16 13:03:07,219][8258 ][monk.network.producer][INFO    ][37  ][producer.py] : sending message ('{\"password\": \"\", \"op\": \"UpdateUser\", \"name\": \"mluser2720\", \"partition\": 1}',) at monkTestAdmin@0\n"
       ]
      },
      {
       "output_type": "stream",
       "stream": "stdout",
       "text": [
        "[2015-01-16 13:03:07,225][8258 ][monk.network.producer][INFO    ][37  ][producer.py] : sending message ('{\"password\": \"\", \"op\": \"UpdateUser\", \"name\": \"mluser2722\", \"partition\": 1}',) at monkTestAdmin@0\n"
       ]
      },
      {
       "output_type": "stream",
       "stream": "stdout",
       "text": [
        "[2015-01-16 13:03:07,233][8258 ][monk.network.producer][INFO    ][37  ][producer.py] : sending message ('{\"password\": \"\", \"op\": \"UpdateUser\", \"name\": \"mluser2728\", \"partition\": 1}',) at monkTestAdmin@0\n"
       ]
      },
      {
       "output_type": "stream",
       "stream": "stdout",
       "text": [
        "[2015-01-16 13:03:07,239][8258 ][monk.network.producer][INFO    ][37  ][producer.py] : sending message ('{\"password\": \"\", \"op\": \"UpdateUser\", \"name\": \"mluser2730\", \"partition\": 1}',) at monkTestAdmin@0\n"
       ]
      },
      {
       "output_type": "stream",
       "stream": "stdout",
       "text": [
        "[2015-01-16 13:03:07,271][8258 ][monk.network.producer][INFO    ][37  ][producer.py] : sending message ('{\"password\": \"\", \"op\": \"UpdateUser\", \"name\": \"mluser2736\", \"partition\": 1}',) at monkTestAdmin@0\n"
       ]
      },
      {
       "output_type": "stream",
       "stream": "stdout",
       "text": [
        "[2015-01-16 13:03:07,279][8258 ][monk.network.producer][INFO    ][37  ][producer.py] : sending message ('{\"password\": \"\", \"op\": \"UpdateUser\", \"name\": \"mluser2738\", \"partition\": 1}',) at monkTestAdmin@0\n"
       ]
      },
      {
       "output_type": "stream",
       "stream": "stdout",
       "text": [
        "[2015-01-16 13:03:07,286][8258 ][monk.network.producer][INFO    ][37  ][producer.py] : sending message ('{\"password\": \"\", \"op\": \"UpdateUser\", \"name\": \"mluser2744\", \"partition\": 1}',) at monkTestAdmin@0\n"
       ]
      },
      {
       "output_type": "stream",
       "stream": "stdout",
       "text": [
        "[2015-01-16 13:03:07,292][8258 ][monk.network.producer][INFO    ][37  ][producer.py] : sending message ('{\"password\": \"\", \"op\": \"UpdateUser\", \"name\": \"mluser2746\", \"partition\": 1}',) at monkTestAdmin@0\n"
       ]
      },
      {
       "output_type": "stream",
       "stream": "stdout",
       "text": [
        "[2015-01-16 13:03:07,301][8258 ][monk.network.producer][INFO    ][37  ][producer.py] : sending message ('{\"password\": \"\", \"op\": \"UpdateUser\", \"name\": \"mluser2752\", \"partition\": 1}',) at monkTestAdmin@0\n"
       ]
      },
      {
       "output_type": "stream",
       "stream": "stdout",
       "text": [
        "[2015-01-16 13:03:07,315][8258 ][monk.network.producer][INFO    ][37  ][producer.py] : sending message ('{\"password\": \"\", \"op\": \"UpdateUser\", \"name\": \"mluser2754\", \"partition\": 1}',) at monkTestAdmin@0\n"
       ]
      },
      {
       "output_type": "stream",
       "stream": "stdout",
       "text": [
        "[2015-01-16 13:03:07,322][8258 ][monk.network.producer][INFO    ][37  ][producer.py] : sending message ('{\"password\": \"\", \"op\": \"UpdateUser\", \"name\": \"mluser2760\", \"partition\": 1}',) at monkTestAdmin@0\n"
       ]
      },
      {
       "output_type": "stream",
       "stream": "stdout",
       "text": [
        "[2015-01-16 13:03:07,330][8258 ][monk.network.producer][INFO    ][37  ][producer.py] : sending message ('{\"password\": \"\", \"op\": \"UpdateUser\", \"name\": \"mluser2762\", \"partition\": 1}',) at monkTestAdmin@0\n"
       ]
      },
      {
       "output_type": "stream",
       "stream": "stdout",
       "text": [
        "[2015-01-16 13:03:07,341][8258 ][monk.network.producer][INFO    ][37  ][producer.py] : sending message ('{\"password\": \"\", \"op\": \"UpdateUser\", \"name\": \"mluser2768\", \"partition\": 1}',) at monkTestAdmin@0\n"
       ]
      },
      {
       "output_type": "stream",
       "stream": "stdout",
       "text": [
        "[2015-01-16 13:03:07,353][8258 ][monk.network.producer][INFO    ][37  ][producer.py] : sending message ('{\"password\": \"\", \"op\": \"UpdateUser\", \"name\": \"mluser2770\", \"partition\": 1}',) at monkTestAdmin@0\n"
       ]
      },
      {
       "output_type": "stream",
       "stream": "stdout",
       "text": [
        "[2015-01-16 13:03:07,364][8258 ][monk.network.producer][INFO    ][37  ][producer.py] : sending message ('{\"password\": \"\", \"op\": \"UpdateUser\", \"name\": \"mluser2776\", \"partition\": 1}',) at monkTestAdmin@0\n"
       ]
      },
      {
       "output_type": "stream",
       "stream": "stdout",
       "text": [
        "[2015-01-16 13:03:07,373][8258 ][monk.network.producer][INFO    ][37  ][producer.py] : sending message ('{\"password\": \"\", \"op\": \"UpdateUser\", \"name\": \"mluser2778\", \"partition\": 1}',) at monkTestAdmin@0\n"
       ]
      },
      {
       "output_type": "stream",
       "stream": "stdout",
       "text": [
        "[2015-01-16 13:03:07,381][8258 ][monk.network.producer][INFO    ][37  ][producer.py] : sending message ('{\"password\": \"\", \"op\": \"UpdateUser\", \"name\": \"mluser2784\", \"partition\": 1}',) at monkTestAdmin@0\n"
       ]
      },
      {
       "output_type": "stream",
       "stream": "stdout",
       "text": [
        "[2015-01-16 13:03:07,389][8258 ][monk.network.producer][INFO    ][37  ][producer.py] : sending message ('{\"password\": \"\", \"op\": \"UpdateUser\", \"name\": \"mluser2786\", \"partition\": 1}',) at monkTestAdmin@0\n"
       ]
      },
      {
       "output_type": "stream",
       "stream": "stdout",
       "text": [
        "[2015-01-16 13:03:07,396][8258 ][monk.network.producer][INFO    ][37  ][producer.py] : sending message ('{\"password\": \"\", \"op\": \"UpdateUser\", \"name\": \"mluser2792\", \"partition\": 1}',) at monkTestAdmin@0\n"
       ]
      },
      {
       "output_type": "stream",
       "stream": "stdout",
       "text": [
        "[2015-01-16 13:03:07,403][8258 ][monk.network.producer][INFO    ][37  ][producer.py] : sending message ('{\"password\": \"\", \"op\": \"UpdateUser\", \"name\": \"mluser2794\", \"partition\": 1}',) at monkTestAdmin@0\n"
       ]
      },
      {
       "output_type": "stream",
       "stream": "stdout",
       "text": [
        "[2015-01-16 13:03:07,414][8258 ][monk.network.producer][INFO    ][37  ][producer.py] : sending message ('{\"password\": \"\", \"op\": \"UpdateUser\", \"name\": \"mluser2800\", \"partition\": 1}',) at monkTestAdmin@0\n"
       ]
      },
      {
       "output_type": "stream",
       "stream": "stdout",
       "text": [
        "[2015-01-16 13:03:07,424][8258 ][monk.network.producer][INFO    ][37  ][producer.py] : sending message ('{\"password\": \"\", \"op\": \"UpdateUser\", \"name\": \"mluser2802\", \"partition\": 1}',) at monkTestAdmin@0\n"
       ]
      },
      {
       "output_type": "stream",
       "stream": "stdout",
       "text": [
        "[2015-01-16 13:03:07,431][8258 ][monk.network.producer][INFO    ][37  ][producer.py] : sending message ('{\"password\": \"\", \"op\": \"UpdateUser\", \"name\": \"mluser2808\", \"partition\": 1}',) at monkTestAdmin@0\n"
       ]
      },
      {
       "output_type": "stream",
       "stream": "stdout",
       "text": [
        "[2015-01-16 13:03:07,439][8258 ][monk.network.producer][INFO    ][37  ][producer.py] : sending message ('{\"password\": \"\", \"op\": \"UpdateUser\", \"name\": \"mluser2810\", \"partition\": 1}',) at monkTestAdmin@0\n"
       ]
      },
      {
       "output_type": "stream",
       "stream": "stdout",
       "text": [
        "[2015-01-16 13:03:07,450][8258 ][monk.network.producer][INFO    ][37  ][producer.py] : sending message ('{\"password\": \"\", \"op\": \"UpdateUser\", \"name\": \"mluser2816\", \"partition\": 1}',) at monkTestAdmin@0\n"
       ]
      },
      {
       "output_type": "stream",
       "stream": "stdout",
       "text": [
        "[2015-01-16 13:03:07,464][8258 ][monk.network.producer][INFO    ][37  ][producer.py] : sending message ('{\"password\": \"\", \"op\": \"UpdateUser\", \"name\": \"mluser2818\", \"partition\": 1}',) at monkTestAdmin@0\n"
       ]
      },
      {
       "output_type": "stream",
       "stream": "stdout",
       "text": [
        "[2015-01-16 13:03:07,477][8258 ][monk.network.producer][INFO    ][37  ][producer.py] : sending message ('{\"password\": \"\", \"op\": \"UpdateUser\", \"name\": \"mluser2824\", \"partition\": 1}',) at monkTestAdmin@0\n"
       ]
      },
      {
       "output_type": "stream",
       "stream": "stdout",
       "text": [
        "[2015-01-16 13:03:07,494][8258 ][monk.network.producer][INFO    ][37  ][producer.py] : sending message ('{\"password\": \"\", \"op\": \"UpdateUser\", \"name\": \"mluser2826\", \"partition\": 1}',) at monkTestAdmin@0\n"
       ]
      },
      {
       "output_type": "stream",
       "stream": "stdout",
       "text": [
        "[2015-01-16 13:03:07,500][8258 ][monk.network.producer][INFO    ][37  ][producer.py] : sending message ('{\"password\": \"\", \"op\": \"UpdateUser\", \"name\": \"mluser2832\", \"partition\": 1}',) at monkTestAdmin@0\n"
       ]
      },
      {
       "output_type": "stream",
       "stream": "stdout",
       "text": [
        "[2015-01-16 13:03:07,508][8258 ][monk.network.producer][INFO    ][37  ][producer.py] : sending message ('{\"password\": \"\", \"op\": \"UpdateUser\", \"name\": \"mluser2834\", \"partition\": 1}',) at monkTestAdmin@0\n"
       ]
      },
      {
       "output_type": "stream",
       "stream": "stdout",
       "text": [
        "[2015-01-16 13:03:07,518][8258 ][monk.network.producer][INFO    ][37  ][producer.py] : sending message ('{\"password\": \"\", \"op\": \"UpdateUser\", \"name\": \"mluser2840\", \"partition\": 1}',) at monkTestAdmin@0\n"
       ]
      },
      {
       "output_type": "stream",
       "stream": "stdout",
       "text": [
        "[2015-01-16 13:03:07,526][8258 ][monk.network.producer][INFO    ][37  ][producer.py] : sending message ('{\"password\": \"\", \"op\": \"UpdateUser\", \"name\": \"mluser2842\", \"partition\": 1}',) at monkTestAdmin@0\n"
       ]
      },
      {
       "output_type": "stream",
       "stream": "stdout",
       "text": [
        "[2015-01-16 13:03:07,541][8258 ][monk.network.producer][INFO    ][37  ][producer.py] : sending message ('{\"password\": \"\", \"op\": \"UpdateUser\", \"name\": \"mluser2848\", \"partition\": 1}',) at monkTestAdmin@0\n"
       ]
      },
      {
       "output_type": "stream",
       "stream": "stdout",
       "text": [
        "[2015-01-16 13:03:07,549][8258 ][monk.network.producer][INFO    ][37  ][producer.py] : sending message ('{\"password\": \"\", \"op\": \"UpdateUser\", \"name\": \"mluser2850\", \"partition\": 1}',) at monkTestAdmin@0\n"
       ]
      },
      {
       "output_type": "stream",
       "stream": "stdout",
       "text": [
        "[2015-01-16 13:03:07,767][8258 ][monk.network.producer][INFO    ][37  ][producer.py] : sending message ('{\"password\": \"\", \"op\": \"UpdateUser\", \"name\": \"mluser2856\", \"partition\": 1}',) at monkTestAdmin@0\n"
       ]
      },
      {
       "output_type": "stream",
       "stream": "stdout",
       "text": [
        "[2015-01-16 13:03:07,773][8258 ][monk.network.producer][INFO    ][37  ][producer.py] : sending message ('{\"password\": \"\", \"op\": \"UpdateUser\", \"name\": \"mluser2858\", \"partition\": 1}',) at monkTestAdmin@0\n"
       ]
      },
      {
       "output_type": "stream",
       "stream": "stdout",
       "text": [
        "[2015-01-16 13:03:07,783][8258 ][monk.network.producer][INFO    ][37  ][producer.py] : sending message ('{\"password\": \"\", \"op\": \"UpdateUser\", \"name\": \"mluser2864\", \"partition\": 1}',) at monkTestAdmin@0\n"
       ]
      },
      {
       "output_type": "stream",
       "stream": "stdout",
       "text": [
        "[2015-01-16 13:03:07,790][8258 ][monk.network.producer][INFO    ][37  ][producer.py] : sending message ('{\"password\": \"\", \"op\": \"UpdateUser\", \"name\": \"mluser2866\", \"partition\": 1}',) at monkTestAdmin@0\n"
       ]
      },
      {
       "output_type": "stream",
       "stream": "stdout",
       "text": [
        "[2015-01-16 13:03:07,798][8258 ][monk.network.producer][INFO    ][37  ][producer.py] : sending message ('{\"password\": \"\", \"op\": \"UpdateUser\", \"name\": \"mluser2872\", \"partition\": 1}',) at monkTestAdmin@0\n"
       ]
      },
      {
       "output_type": "stream",
       "stream": "stdout",
       "text": [
        "[2015-01-16 13:03:07,804][8258 ][monk.network.producer][INFO    ][37  ][producer.py] : sending message ('{\"password\": \"\", \"op\": \"UpdateUser\", \"name\": \"mluser2874\", \"partition\": 1}',) at monkTestAdmin@0\n"
       ]
      },
      {
       "output_type": "stream",
       "stream": "stdout",
       "text": [
        "[2015-01-16 13:03:07,809][8258 ][monk.network.producer][INFO    ][37  ][producer.py] : sending message ('{\"password\": \"\", \"op\": \"UpdateUser\", \"name\": \"mluser2880\", \"partition\": 1}',) at monkTestAdmin@0\n"
       ]
      },
      {
       "output_type": "stream",
       "stream": "stdout",
       "text": [
        "[2015-01-16 13:03:07,818][8258 ][monk.network.producer][INFO    ][37  ][producer.py] : sending message ('{\"password\": \"\", \"op\": \"UpdateUser\", \"name\": \"mluser2882\", \"partition\": 1}',) at monkTestAdmin@0\n"
       ]
      },
      {
       "output_type": "stream",
       "stream": "stdout",
       "text": [
        "[2015-01-16 13:03:07,826][8258 ][monk.network.producer][INFO    ][37  ][producer.py] : sending message ('{\"password\": \"\", \"op\": \"UpdateUser\", \"name\": \"mluser2888\", \"partition\": 1}',) at monkTestAdmin@0\n"
       ]
      },
      {
       "output_type": "stream",
       "stream": "stdout",
       "text": [
        "[2015-01-16 13:03:07,832][8258 ][monk.network.producer][INFO    ][37  ][producer.py] : sending message ('{\"password\": \"\", \"op\": \"UpdateUser\", \"name\": \"mluser2890\", \"partition\": 1}',) at monkTestAdmin@0\n"
       ]
      },
      {
       "output_type": "stream",
       "stream": "stdout",
       "text": [
        "[2015-01-16 13:03:07,839][8258 ][monk.network.producer][INFO    ][37  ][producer.py] : sending message ('{\"password\": \"\", \"op\": \"UpdateUser\", \"name\": \"mluser2896\", \"partition\": 1}',) at monkTestAdmin@0\n"
       ]
      },
      {
       "output_type": "stream",
       "stream": "stdout",
       "text": [
        "[2015-01-16 13:03:07,846][8258 ][monk.network.producer][INFO    ][37  ][producer.py] : sending message ('{\"password\": \"\", \"op\": \"UpdateUser\", \"name\": \"mluser2898\", \"partition\": 1}',) at monkTestAdmin@0\n"
       ]
      },
      {
       "output_type": "stream",
       "stream": "stdout",
       "text": [
        "[2015-01-16 13:03:07,854][8258 ][monk.network.producer][INFO    ][37  ][producer.py] : sending message ('{\"password\": \"\", \"op\": \"UpdateUser\", \"name\": \"mluser2904\", \"partition\": 1}',) at monkTestAdmin@0\n"
       ]
      },
      {
       "output_type": "stream",
       "stream": "stdout",
       "text": [
        "[2015-01-16 13:03:07,885][8258 ][monk.network.producer][INFO    ][37  ][producer.py] : sending message ('{\"password\": \"\", \"op\": \"UpdateUser\", \"name\": \"mluser2906\", \"partition\": 1}',) at monkTestAdmin@0\n"
       ]
      },
      {
       "output_type": "stream",
       "stream": "stdout",
       "text": [
        "[2015-01-16 13:03:07,902][8258 ][monk.network.producer][INFO    ][37  ][producer.py] : sending message ('{\"password\": \"\", \"op\": \"UpdateUser\", \"name\": \"mluser2912\", \"partition\": 1}',) at monkTestAdmin@0\n"
       ]
      },
      {
       "output_type": "stream",
       "stream": "stdout",
       "text": [
        "[2015-01-16 13:03:07,916][8258 ][monk.network.producer][INFO    ][37  ][producer.py] : sending message ('{\"password\": \"\", \"op\": \"UpdateUser\", \"name\": \"mluser2914\", \"partition\": 1}',) at monkTestAdmin@0\n"
       ]
      },
      {
       "output_type": "stream",
       "stream": "stdout",
       "text": [
        "[2015-01-16 13:03:07,940][8258 ][monk.network.producer][INFO    ][37  ][producer.py] : sending message ('{\"password\": \"\", \"op\": \"UpdateUser\", \"name\": \"mluser2920\", \"partition\": 1}',) at monkTestAdmin@0\n"
       ]
      },
      {
       "output_type": "stream",
       "stream": "stdout",
       "text": [
        "[2015-01-16 13:03:07,973][8258 ][monk.network.producer][INFO    ][37  ][producer.py] : sending message ('{\"password\": \"\", \"op\": \"UpdateUser\", \"name\": \"mluser2922\", \"partition\": 1}',) at monkTestAdmin@0\n"
       ]
      },
      {
       "output_type": "stream",
       "stream": "stdout",
       "text": [
        "[2015-01-16 13:03:08,009][8258 ][monk.network.producer][INFO    ][37  ][producer.py] : sending message ('{\"password\": \"\", \"op\": \"UpdateUser\", \"name\": \"mluser2928\", \"partition\": 1}',) at monkTestAdmin@0\n"
       ]
      },
      {
       "output_type": "stream",
       "stream": "stdout",
       "text": [
        "[2015-01-16 13:03:08,016][8258 ][monk.network.producer][INFO    ][37  ][producer.py] : sending message ('{\"password\": \"\", \"op\": \"UpdateUser\", \"name\": \"mluser2930\", \"partition\": 1}',) at monkTestAdmin@0\n"
       ]
      },
      {
       "output_type": "stream",
       "stream": "stdout",
       "text": [
        "[2015-01-16 13:03:08,044][8258 ][monk.network.producer][INFO    ][37  ][producer.py] : sending message ('{\"password\": \"\", \"op\": \"UpdateUser\", \"name\": \"mluser2936\", \"partition\": 1}',) at monkTestAdmin@0\n"
       ]
      },
      {
       "output_type": "stream",
       "stream": "stdout",
       "text": [
        "[2015-01-16 13:03:08,051][8258 ][monk.network.producer][INFO    ][37  ][producer.py] : sending message ('{\"password\": \"\", \"op\": \"UpdateUser\", \"name\": \"mluser2938\", \"partition\": 1}',) at monkTestAdmin@0\n"
       ]
      },
      {
       "output_type": "stream",
       "stream": "stdout",
       "text": [
        "[2015-01-16 13:03:08,278][8258 ][monk.network.producer][INFO    ][37  ][producer.py] : sending message ('{\"password\": \"\", \"op\": \"UpdateUser\", \"name\": \"mluser2944\", \"partition\": 1}',) at monkTestAdmin@0\n"
       ]
      },
      {
       "output_type": "stream",
       "stream": "stdout",
       "text": [
        "[2015-01-16 13:03:08,284][8258 ][monk.network.producer][INFO    ][37  ][producer.py] : sending message ('{\"password\": \"\", \"op\": \"UpdateUser\", \"name\": \"mluser2946\", \"partition\": 1}',) at monkTestAdmin@0\n"
       ]
      },
      {
       "output_type": "stream",
       "stream": "stdout",
       "text": [
        "[2015-01-16 13:03:08,295][8258 ][monk.network.producer][INFO    ][37  ][producer.py] : sending message ('{\"password\": \"\", \"op\": \"UpdateUser\", \"name\": \"mluser2952\", \"partition\": 1}',) at monkTestAdmin@0\n"
       ]
      },
      {
       "output_type": "stream",
       "stream": "stdout",
       "text": [
        "[2015-01-16 13:03:08,302][8258 ][monk.network.producer][INFO    ][37  ][producer.py] : sending message ('{\"password\": \"\", \"op\": \"UpdateUser\", \"name\": \"mluser2954\", \"partition\": 1}',) at monkTestAdmin@0\n"
       ]
      },
      {
       "output_type": "stream",
       "stream": "stdout",
       "text": [
        "[2015-01-16 13:03:08,308][8258 ][monk.network.producer][INFO    ][37  ][producer.py] : sending message ('{\"password\": \"\", \"op\": \"UpdateUser\", \"name\": \"mluser2960\", \"partition\": 1}',) at monkTestAdmin@0\n"
       ]
      },
      {
       "output_type": "stream",
       "stream": "stdout",
       "text": [
        "[2015-01-16 13:03:08,320][8258 ][monk.network.producer][INFO    ][37  ][producer.py] : sending message ('{\"password\": \"\", \"op\": \"UpdateUser\", \"name\": \"mluser2962\", \"partition\": 1}',) at monkTestAdmin@0\n"
       ]
      },
      {
       "output_type": "stream",
       "stream": "stdout",
       "text": [
        "[2015-01-16 13:03:08,333][8258 ][monk.network.producer][INFO    ][37  ][producer.py] : sending message ('{\"password\": \"\", \"op\": \"UpdateUser\", \"name\": \"mluser2968\", \"partition\": 1}',) at monkTestAdmin@0\n"
       ]
      },
      {
       "output_type": "stream",
       "stream": "stdout",
       "text": [
        "[2015-01-16 13:03:08,338][8258 ][monk.network.producer][INFO    ][37  ][producer.py] : sending message ('{\"password\": \"\", \"op\": \"UpdateUser\", \"name\": \"mluser2970\", \"partition\": 1}',) at monkTestAdmin@0\n"
       ]
      },
      {
       "output_type": "stream",
       "stream": "stdout",
       "text": [
        "[2015-01-16 13:03:08,344][8258 ][monk.network.producer][INFO    ][37  ][producer.py] : sending message ('{\"password\": \"\", \"op\": \"UpdateUser\", \"name\": \"mluser2976\", \"partition\": 1}',) at monkTestAdmin@0\n"
       ]
      },
      {
       "output_type": "stream",
       "stream": "stdout",
       "text": [
        "[2015-01-16 13:03:08,350][8258 ][monk.network.producer][INFO    ][37  ][producer.py] : sending message ('{\"password\": \"\", \"op\": \"UpdateUser\", \"name\": \"mluser2978\", \"partition\": 1}',) at monkTestAdmin@0\n"
       ]
      },
      {
       "output_type": "stream",
       "stream": "stdout",
       "text": [
        "[2015-01-16 13:03:08,358][8258 ][monk.network.producer][INFO    ][37  ][producer.py] : sending message ('{\"password\": \"\", \"op\": \"UpdateUser\", \"name\": \"mluser2984\", \"partition\": 1}',) at monkTestAdmin@0\n"
       ]
      },
      {
       "output_type": "stream",
       "stream": "stdout",
       "text": [
        "[2015-01-16 13:03:08,365][8258 ][monk.network.producer][INFO    ][37  ][producer.py] : sending message ('{\"password\": \"\", \"op\": \"UpdateUser\", \"name\": \"mluser2986\", \"partition\": 1}',) at monkTestAdmin@0\n"
       ]
      },
      {
       "output_type": "stream",
       "stream": "stdout",
       "text": [
        "[2015-01-16 13:03:08,585][8258 ][monk.network.producer][INFO    ][37  ][producer.py] : sending message ('{\"password\": \"\", \"op\": \"UpdateUser\", \"name\": \"mluser2992\", \"partition\": 1}',) at monkTestAdmin@0\n"
       ]
      },
      {
       "output_type": "stream",
       "stream": "stdout",
       "text": [
        "[2015-01-16 13:03:08,591][8258 ][monk.network.producer][INFO    ][37  ][producer.py] : sending message ('{\"password\": \"\", \"op\": \"UpdateUser\", \"name\": \"mluser2994\", \"partition\": 1}',) at monkTestAdmin@0\n"
       ]
      },
      {
       "output_type": "stream",
       "stream": "stdout",
       "text": [
        "[2015-01-16 13:03:08,602][8258 ][monk.network.producer][INFO    ][37  ][producer.py] : sending message ('{\"password\": \"\", \"op\": \"UpdateUser\", \"name\": \"mluser3000\", \"partition\": 1}',) at monkTestAdmin@0\n"
       ]
      },
      {
       "output_type": "stream",
       "stream": "stdout",
       "text": [
        "[2015-01-16 13:03:08,609][8258 ][monk.network.producer][INFO    ][37  ][producer.py] : sending message ('{\"password\": \"\", \"op\": \"UpdateUser\", \"name\": \"mluser3002\", \"partition\": 1}',) at monkTestAdmin@0\n"
       ]
      },
      {
       "output_type": "stream",
       "stream": "stdout",
       "text": [
        "[2015-01-16 13:03:08,618][8258 ][monk.network.producer][INFO    ][37  ][producer.py] : sending message ('{\"password\": \"\", \"op\": \"UpdateUser\", \"name\": \"mluser3008\", \"partition\": 1}',) at monkTestAdmin@0\n"
       ]
      },
      {
       "output_type": "stream",
       "stream": "stdout",
       "text": [
        "[2015-01-16 13:03:08,623][8258 ][monk.network.producer][INFO    ][37  ][producer.py] : sending message ('{\"password\": \"\", \"op\": \"UpdateUser\", \"name\": \"mluser3010\", \"partition\": 1}',) at monkTestAdmin@0\n"
       ]
      },
      {
       "output_type": "stream",
       "stream": "stdout",
       "text": [
        "[2015-01-16 13:03:08,630][8258 ][monk.network.producer][INFO    ][37  ][producer.py] : sending message ('{\"password\": \"\", \"op\": \"UpdateUser\", \"name\": \"mluser3016\", \"partition\": 1}',) at monkTestAdmin@0\n"
       ]
      },
      {
       "output_type": "stream",
       "stream": "stdout",
       "text": [
        "[2015-01-16 13:03:08,639][8258 ][monk.network.producer][INFO    ][37  ][producer.py] : sending message ('{\"password\": \"\", \"op\": \"UpdateUser\", \"name\": \"mluser3018\", \"partition\": 1}',) at monkTestAdmin@0\n"
       ]
      },
      {
       "output_type": "stream",
       "stream": "stdout",
       "text": [
        "[2015-01-16 13:03:08,646][8258 ][monk.network.producer][INFO    ][37  ][producer.py] : sending message ('{\"password\": \"\", \"op\": \"UpdateUser\", \"name\": \"mluser3024\", \"partition\": 1}',) at monkTestAdmin@0\n"
       ]
      },
      {
       "output_type": "stream",
       "stream": "stdout",
       "text": [
        "[2015-01-16 13:03:08,652][8258 ][monk.network.producer][INFO    ][37  ][producer.py] : sending message ('{\"password\": \"\", \"op\": \"UpdateUser\", \"name\": \"mluser3026\", \"partition\": 1}',) at monkTestAdmin@0\n"
       ]
      },
      {
       "output_type": "stream",
       "stream": "stdout",
       "text": [
        "[2015-01-16 13:03:08,658][8258 ][monk.network.producer][INFO    ][37  ][producer.py] : sending message ('{\"password\": \"\", \"op\": \"UpdateUser\", \"name\": \"mluser3032\", \"partition\": 1}',) at monkTestAdmin@0\n"
       ]
      },
      {
       "output_type": "stream",
       "stream": "stdout",
       "text": [
        "[2015-01-16 13:03:08,667][8258 ][monk.network.producer][INFO    ][37  ][producer.py] : sending message ('{\"password\": \"\", \"op\": \"UpdateUser\", \"name\": \"mluser3034\", \"partition\": 1}',) at monkTestAdmin@0\n"
       ]
      },
      {
       "output_type": "stream",
       "stream": "stdout",
       "text": [
        "[2015-01-16 13:03:08,679][8258 ][monk.network.producer][INFO    ][37  ][producer.py] : sending message ('{\"password\": \"\", \"op\": \"UpdateUser\", \"name\": \"mluser3040\", \"partition\": 1}',) at monkTestAdmin@0\n"
       ]
      },
      {
       "output_type": "stream",
       "stream": "stdout",
       "text": [
        "[2015-01-16 13:03:08,689][8258 ][monk.network.producer][INFO    ][37  ][producer.py] : sending message ('{\"password\": \"\", \"op\": \"UpdateUser\", \"name\": \"mluser3042\", \"partition\": 1}',) at monkTestAdmin@0\n"
       ]
      },
      {
       "output_type": "stream",
       "stream": "stdout",
       "text": [
        "[2015-01-16 13:03:08,696][8258 ][monk.network.producer][INFO    ][37  ][producer.py] : sending message ('{\"password\": \"\", \"op\": \"UpdateUser\", \"name\": \"mluser3048\", \"partition\": 1}',) at monkTestAdmin@0\n"
       ]
      },
      {
       "output_type": "stream",
       "stream": "stdout",
       "text": [
        "[2015-01-16 13:03:08,704][8258 ][monk.network.producer][INFO    ][37  ][producer.py] : sending message ('{\"password\": \"\", \"op\": \"UpdateUser\", \"name\": \"mluser3050\", \"partition\": 1}',) at monkTestAdmin@0\n"
       ]
      },
      {
       "output_type": "stream",
       "stream": "stdout",
       "text": [
        "[2015-01-16 13:03:08,712][8258 ][monk.network.producer][INFO    ][37  ][producer.py] : sending message ('{\"password\": \"\", \"op\": \"UpdateUser\", \"name\": \"mluser3056\", \"partition\": 1}',) at monkTestAdmin@0\n"
       ]
      },
      {
       "output_type": "stream",
       "stream": "stdout",
       "text": [
        "[2015-01-16 13:03:08,720][8258 ][monk.network.producer][INFO    ][37  ][producer.py] : sending message ('{\"password\": \"\", \"op\": \"UpdateUser\", \"name\": \"mluser3058\", \"partition\": 1}',) at monkTestAdmin@0\n"
       ]
      },
      {
       "output_type": "stream",
       "stream": "stdout",
       "text": [
        "[2015-01-16 13:03:08,728][8258 ][monk.network.producer][INFO    ][37  ][producer.py] : sending message ('{\"password\": \"\", \"op\": \"UpdateUser\", \"name\": \"mluser3064\", \"partition\": 1}',) at monkTestAdmin@0\n"
       ]
      },
      {
       "output_type": "stream",
       "stream": "stdout",
       "text": [
        "[2015-01-16 13:03:08,734][8258 ][monk.network.producer][INFO    ][37  ][producer.py] : sending message ('{\"password\": \"\", \"op\": \"UpdateUser\", \"name\": \"mluser3066\", \"partition\": 1}',) at monkTestAdmin@0\n"
       ]
      },
      {
       "output_type": "stream",
       "stream": "stdout",
       "text": [
        "[2015-01-16 13:03:08,751][8258 ][monk.network.producer][INFO    ][37  ][producer.py] : sending message ('{\"password\": \"\", \"op\": \"UpdateUser\", \"name\": \"mluser3072\", \"partition\": 1}',) at monkTestAdmin@0\n"
       ]
      },
      {
       "output_type": "stream",
       "stream": "stdout",
       "text": [
        "[2015-01-16 13:03:08,763][8258 ][monk.network.producer][INFO    ][37  ][producer.py] : sending message ('{\"password\": \"\", \"op\": \"UpdateUser\", \"name\": \"mluser3074\", \"partition\": 1}',) at monkTestAdmin@0\n"
       ]
      },
      {
       "output_type": "stream",
       "stream": "stdout",
       "text": [
        "[2015-01-16 13:03:08,770][8258 ][monk.network.producer][INFO    ][37  ][producer.py] : sending message ('{\"password\": \"\", \"op\": \"UpdateUser\", \"name\": \"mluser3080\", \"partition\": 1}',) at monkTestAdmin@0\n"
       ]
      },
      {
       "output_type": "stream",
       "stream": "stdout",
       "text": [
        "[2015-01-16 13:03:08,781][8258 ][monk.network.producer][INFO    ][37  ][producer.py] : sending message ('{\"password\": \"\", \"op\": \"UpdateUser\", \"name\": \"mluser3082\", \"partition\": 1}',) at monkTestAdmin@0\n"
       ]
      },
      {
       "output_type": "stream",
       "stream": "stdout",
       "text": [
        "[2015-01-16 13:03:08,797][8258 ][monk.network.producer][INFO    ][37  ][producer.py] : sending message ('{\"password\": \"\", \"op\": \"UpdateUser\", \"name\": \"mluser3088\", \"partition\": 1}',) at monkTestAdmin@0\n"
       ]
      },
      {
       "output_type": "stream",
       "stream": "stdout",
       "text": [
        "[2015-01-16 13:03:08,808][8258 ][monk.network.producer][INFO    ][37  ][producer.py] : sending message ('{\"password\": \"\", \"op\": \"UpdateUser\", \"name\": \"mluser3090\", \"partition\": 1}',) at monkTestAdmin@0\n"
       ]
      },
      {
       "output_type": "stream",
       "stream": "stdout",
       "text": [
        "[2015-01-16 13:03:08,833][8258 ][monk.network.producer][INFO    ][37  ][producer.py] : sending message ('{\"password\": \"\", \"op\": \"UpdateUser\", \"name\": \"mluser3096\", \"partition\": 1}',) at monkTestAdmin@0\n"
       ]
      },
      {
       "output_type": "stream",
       "stream": "stdout",
       "text": [
        "[2015-01-16 13:03:08,844][8258 ][monk.network.producer][INFO    ][37  ][producer.py] : sending message ('{\"password\": \"\", \"op\": \"UpdateUser\", \"name\": \"mluser3098\", \"partition\": 1}',) at monkTestAdmin@0\n"
       ]
      },
      {
       "output_type": "stream",
       "stream": "stdout",
       "text": [
        "[2015-01-16 13:03:08,853][8258 ][monk.network.producer][INFO    ][37  ][producer.py] : sending message ('{\"password\": \"\", \"op\": \"UpdateUser\", \"name\": \"mluser3104\", \"partition\": 1}',) at monkTestAdmin@0\n"
       ]
      },
      {
       "output_type": "stream",
       "stream": "stdout",
       "text": [
        "[2015-01-16 13:03:08,873][8258 ][monk.network.producer][INFO    ][37  ][producer.py] : sending message ('{\"password\": \"\", \"op\": \"UpdateUser\", \"name\": \"mluser3106\", \"partition\": 1}',) at monkTestAdmin@0\n"
       ]
      },
      {
       "output_type": "stream",
       "stream": "stdout",
       "text": [
        "[2015-01-16 13:03:08,881][8258 ][monk.network.producer][INFO    ][37  ][producer.py] : sending message ('{\"password\": \"\", \"op\": \"UpdateUser\", \"name\": \"mluser3112\", \"partition\": 1}',) at monkTestAdmin@0\n"
       ]
      },
      {
       "output_type": "stream",
       "stream": "stdout",
       "text": [
        "[2015-01-16 13:03:08,893][8258 ][monk.network.producer][INFO    ][37  ][producer.py] : sending message ('{\"password\": \"\", \"op\": \"UpdateUser\", \"name\": \"mluser3114\", \"partition\": 1}',) at monkTestAdmin@0\n"
       ]
      },
      {
       "output_type": "stream",
       "stream": "stdout",
       "text": [
        "[2015-01-16 13:03:08,901][8258 ][monk.network.producer][INFO    ][37  ][producer.py] : sending message ('{\"password\": \"\", \"op\": \"UpdateUser\", \"name\": \"mluser3120\", \"partition\": 1}',) at monkTestAdmin@0\n"
       ]
      },
      {
       "output_type": "stream",
       "stream": "stdout",
       "text": [
        "[2015-01-16 13:03:08,909][8258 ][monk.network.producer][INFO    ][37  ][producer.py] : sending message ('{\"password\": \"\", \"op\": \"UpdateUser\", \"name\": \"mluser3122\", \"partition\": 1}',) at monkTestAdmin@0\n"
       ]
      },
      {
       "output_type": "stream",
       "stream": "stdout",
       "text": [
        "[2015-01-16 13:03:08,918][8258 ][monk.network.producer][INFO    ][37  ][producer.py] : sending message ('{\"password\": \"\", \"op\": \"UpdateUser\", \"name\": \"mluser3128\", \"partition\": 1}',) at monkTestAdmin@0\n"
       ]
      },
      {
       "output_type": "stream",
       "stream": "stdout",
       "text": [
        "[2015-01-16 13:03:08,927][8258 ][monk.network.producer][INFO    ][37  ][producer.py] : sending message ('{\"password\": \"\", \"op\": \"UpdateUser\", \"name\": \"mluser3130\", \"partition\": 1}',) at monkTestAdmin@0\n"
       ]
      },
      {
       "output_type": "stream",
       "stream": "stdout",
       "text": [
        "[2015-01-16 13:03:08,939][8258 ][monk.network.producer][INFO    ][37  ][producer.py] : sending message ('{\"password\": \"\", \"op\": \"UpdateUser\", \"name\": \"mluser3136\", \"partition\": 1}',) at monkTestAdmin@0\n"
       ]
      },
      {
       "output_type": "stream",
       "stream": "stdout",
       "text": [
        "[2015-01-16 13:03:08,960][8258 ][monk.network.producer][INFO    ][37  ][producer.py] : sending message ('{\"password\": \"\", \"op\": \"UpdateUser\", \"name\": \"mluser3138\", \"partition\": 1}',) at monkTestAdmin@0\n"
       ]
      },
      {
       "output_type": "stream",
       "stream": "stdout",
       "text": [
        "[2015-01-16 13:03:08,978][8258 ][monk.network.producer][INFO    ][37  ][producer.py] : sending message ('{\"password\": \"\", \"op\": \"UpdateUser\", \"name\": \"mluser3144\", \"partition\": 1}',) at monkTestAdmin@0\n"
       ]
      },
      {
       "output_type": "stream",
       "stream": "stdout",
       "text": [
        "[2015-01-16 13:03:08,995][8258 ][monk.network.producer][INFO    ][37  ][producer.py] : sending message ('{\"password\": \"\", \"op\": \"UpdateUser\", \"name\": \"mluser3146\", \"partition\": 1}',) at monkTestAdmin@0\n"
       ]
      },
      {
       "output_type": "stream",
       "stream": "stdout",
       "text": [
        "[2015-01-16 13:03:09,002][8258 ][monk.network.producer][INFO    ][37  ][producer.py] : sending message ('{\"password\": \"\", \"op\": \"UpdateUser\", \"name\": \"mluser3152\", \"partition\": 1}',) at monkTestAdmin@0\n"
       ]
      },
      {
       "output_type": "stream",
       "stream": "stdout",
       "text": [
        "[2015-01-16 13:03:09,013][8258 ][monk.network.producer][INFO    ][37  ][producer.py] : sending message ('{\"password\": \"\", \"op\": \"UpdateUser\", \"name\": \"mluser3154\", \"partition\": 1}',) at monkTestAdmin@0\n"
       ]
      },
      {
       "output_type": "stream",
       "stream": "stdout",
       "text": [
        "[2015-01-16 13:03:09,019][8258 ][monk.network.producer][INFO    ][37  ][producer.py] : sending message ('{\"password\": \"\", \"op\": \"UpdateUser\", \"name\": \"mluser3160\", \"partition\": 1}',) at monkTestAdmin@0\n"
       ]
      },
      {
       "output_type": "stream",
       "stream": "stdout",
       "text": [
        "[2015-01-16 13:03:09,025][8258 ][monk.network.producer][INFO    ][37  ][producer.py] : sending message ('{\"password\": \"\", \"op\": \"UpdateUser\", \"name\": \"mluser3162\", \"partition\": 1}',) at monkTestAdmin@0\n"
       ]
      },
      {
       "output_type": "stream",
       "stream": "stdout",
       "text": [
        "[2015-01-16 13:03:09,034][8258 ][monk.network.producer][INFO    ][37  ][producer.py] : sending message ('{\"password\": \"\", \"op\": \"UpdateUser\", \"name\": \"mluser3168\", \"partition\": 1}',) at monkTestAdmin@0\n"
       ]
      },
      {
       "output_type": "stream",
       "stream": "stdout",
       "text": [
        "[2015-01-16 13:03:09,048][8258 ][monk.network.producer][INFO    ][37  ][producer.py] : sending message ('{\"password\": \"\", \"op\": \"UpdateUser\", \"name\": \"mluser3170\", \"partition\": 1}',) at monkTestAdmin@0\n"
       ]
      },
      {
       "output_type": "stream",
       "stream": "stdout",
       "text": [
        "[2015-01-16 13:03:09,054][8258 ][monk.network.producer][INFO    ][37  ][producer.py] : sending message ('{\"password\": \"\", \"op\": \"UpdateUser\", \"name\": \"mluser3176\", \"partition\": 1}',) at monkTestAdmin@0\n"
       ]
      },
      {
       "output_type": "stream",
       "stream": "stdout",
       "text": [
        "[2015-01-16 13:03:09,061][8258 ][monk.network.producer][INFO    ][37  ][producer.py] : sending message ('{\"password\": \"\", \"op\": \"UpdateUser\", \"name\": \"mluser3178\", \"partition\": 1}',) at monkTestAdmin@0\n"
       ]
      },
      {
       "output_type": "stream",
       "stream": "stdout",
       "text": [
        "[2015-01-16 13:03:09,067][8258 ][monk.network.producer][INFO    ][37  ][producer.py] : sending message ('{\"password\": \"\", \"op\": \"UpdateUser\", \"name\": \"mluser3184\", \"partition\": 1}',) at monkTestAdmin@0\n"
       ]
      },
      {
       "output_type": "stream",
       "stream": "stdout",
       "text": [
        "[2015-01-16 13:03:09,075][8258 ][monk.network.producer][INFO    ][37  ][producer.py] : sending message ('{\"password\": \"\", \"op\": \"UpdateUser\", \"name\": \"mluser3186\", \"partition\": 1}',) at monkTestAdmin@0\n"
       ]
      },
      {
       "output_type": "stream",
       "stream": "stdout",
       "text": [
        "[2015-01-16 13:03:09,088][8258 ][monk.network.producer][INFO    ][37  ][producer.py] : sending message ('{\"password\": \"\", \"op\": \"UpdateUser\", \"name\": \"mluser3192\", \"partition\": 1}',) at monkTestAdmin@0\n"
       ]
      },
      {
       "output_type": "stream",
       "stream": "stdout",
       "text": [
        "[2015-01-16 13:03:09,099][8258 ][monk.network.producer][INFO    ][37  ][producer.py] : sending message ('{\"password\": \"\", \"op\": \"UpdateUser\", \"name\": \"mluser3194\", \"partition\": 1}',) at monkTestAdmin@0\n"
       ]
      },
      {
       "output_type": "stream",
       "stream": "stdout",
       "text": [
        "[2015-01-16 13:03:09,105][8258 ][monk.network.producer][INFO    ][37  ][producer.py] : sending message ('{\"password\": \"\", \"op\": \"UpdateUser\", \"name\": \"mluser3200\", \"partition\": 1}',) at monkTestAdmin@0\n"
       ]
      },
      {
       "output_type": "stream",
       "stream": "stdout",
       "text": [
        "[2015-01-16 13:03:09,123][8258 ][monk.network.producer][INFO    ][37  ][producer.py] : sending message ('{\"password\": \"\", \"op\": \"UpdateUser\", \"name\": \"mluser3202\", \"partition\": 1}',) at monkTestAdmin@0\n"
       ]
      },
      {
       "output_type": "stream",
       "stream": "stdout",
       "text": [
        "[2015-01-16 13:03:09,130][8258 ][monk.network.producer][INFO    ][37  ][producer.py] : sending message ('{\"password\": \"\", \"op\": \"UpdateUser\", \"name\": \"mluser3208\", \"partition\": 1}',) at monkTestAdmin@0\n"
       ]
      },
      {
       "output_type": "stream",
       "stream": "stdout",
       "text": [
        "[2015-01-16 13:03:09,136][8258 ][monk.network.producer][INFO    ][37  ][producer.py] : sending message ('{\"password\": \"\", \"op\": \"UpdateUser\", \"name\": \"mluser3210\", \"partition\": 1}',) at monkTestAdmin@0\n"
       ]
      },
      {
       "output_type": "stream",
       "stream": "stdout",
       "text": [
        "[2015-01-16 13:03:09,153][8258 ][monk.network.producer][INFO    ][37  ][producer.py] : sending message ('{\"password\": \"\", \"op\": \"UpdateUser\", \"name\": \"mluser3216\", \"partition\": 1}',) at monkTestAdmin@0\n"
       ]
      },
      {
       "output_type": "stream",
       "stream": "stdout",
       "text": [
        "[2015-01-16 13:03:09,159][8258 ][monk.network.producer][INFO    ][37  ][producer.py] : sending message ('{\"password\": \"\", \"op\": \"UpdateUser\", \"name\": \"mluser3218\", \"partition\": 1}',) at monkTestAdmin@0\n"
       ]
      },
      {
       "output_type": "stream",
       "stream": "stdout",
       "text": [
        "[2015-01-16 13:03:09,170][8258 ][monk.network.producer][INFO    ][37  ][producer.py] : sending message ('{\"password\": \"\", \"op\": \"UpdateUser\", \"name\": \"mluser3224\", \"partition\": 1}',) at monkTestAdmin@0\n"
       ]
      },
      {
       "output_type": "stream",
       "stream": "stdout",
       "text": [
        "[2015-01-16 13:03:09,179][8258 ][monk.network.producer][INFO    ][37  ][producer.py] : sending message ('{\"password\": \"\", \"op\": \"UpdateUser\", \"name\": \"mluser3226\", \"partition\": 1}',) at monkTestAdmin@0\n"
       ]
      },
      {
       "output_type": "stream",
       "stream": "stdout",
       "text": [
        "[2015-01-16 13:03:09,188][8258 ][monk.network.producer][INFO    ][37  ][producer.py] : sending message ('{\"password\": \"\", \"op\": \"UpdateUser\", \"name\": \"mluser3232\", \"partition\": 1}',) at monkTestAdmin@0\n"
       ]
      },
      {
       "output_type": "stream",
       "stream": "stdout",
       "text": [
        "[2015-01-16 13:03:09,199][8258 ][monk.network.producer][INFO    ][37  ][producer.py] : sending message ('{\"password\": \"\", \"op\": \"UpdateUser\", \"name\": \"mluser3234\", \"partition\": 1}',) at monkTestAdmin@0\n"
       ]
      },
      {
       "output_type": "stream",
       "stream": "stdout",
       "text": [
        "[2015-01-16 13:03:09,208][8258 ][monk.network.producer][INFO    ][37  ][producer.py] : sending message ('{\"password\": \"\", \"op\": \"UpdateUser\", \"name\": \"mluser3240\", \"partition\": 1}',) at monkTestAdmin@0\n"
       ]
      },
      {
       "output_type": "stream",
       "stream": "stdout",
       "text": [
        "[2015-01-16 13:03:09,216][8258 ][monk.network.producer][INFO    ][37  ][producer.py] : sending message ('{\"password\": \"\", \"op\": \"UpdateUser\", \"name\": \"mluser3242\", \"partition\": 1}',) at monkTestAdmin@0\n"
       ]
      },
      {
       "output_type": "stream",
       "stream": "stdout",
       "text": [
        "[2015-01-16 13:03:09,224][8258 ][monk.network.producer][INFO    ][37  ][producer.py] : sending message ('{\"password\": \"\", \"op\": \"UpdateUser\", \"name\": \"mluser3248\", \"partition\": 1}',) at monkTestAdmin@0\n"
       ]
      },
      {
       "output_type": "stream",
       "stream": "stdout",
       "text": [
        "[2015-01-16 13:03:09,230][8258 ][monk.network.producer][INFO    ][37  ][producer.py] : sending message ('{\"password\": \"\", \"op\": \"UpdateUser\", \"name\": \"mluser3250\", \"partition\": 1}',) at monkTestAdmin@0\n"
       ]
      },
      {
       "output_type": "stream",
       "stream": "stdout",
       "text": [
        "[2015-01-16 13:03:09,236][8258 ][monk.network.producer][INFO    ][37  ][producer.py] : sending message ('{\"password\": \"\", \"op\": \"UpdateUser\", \"name\": \"mluser3256\", \"partition\": 1}',) at monkTestAdmin@0\n"
       ]
      },
      {
       "output_type": "stream",
       "stream": "stdout",
       "text": [
        "[2015-01-16 13:03:09,244][8258 ][monk.network.producer][INFO    ][37  ][producer.py] : sending message ('{\"password\": \"\", \"op\": \"UpdateUser\", \"name\": \"mluser3258\", \"partition\": 1}',) at monkTestAdmin@0\n"
       ]
      },
      {
       "output_type": "stream",
       "stream": "stdout",
       "text": [
        "[2015-01-16 13:03:09,258][8258 ][monk.network.producer][INFO    ][37  ][producer.py] : sending message ('{\"password\": \"\", \"op\": \"UpdateUser\", \"name\": \"mluser3264\", \"partition\": 1}',) at monkTestAdmin@0\n"
       ]
      },
      {
       "output_type": "stream",
       "stream": "stdout",
       "text": [
        "[2015-01-16 13:03:09,272][8258 ][monk.network.producer][INFO    ][37  ][producer.py] : sending message ('{\"password\": \"\", \"op\": \"UpdateUser\", \"name\": \"mluser3266\", \"partition\": 1}',) at monkTestAdmin@0\n"
       ]
      },
      {
       "output_type": "stream",
       "stream": "stdout",
       "text": [
        "[2015-01-16 13:03:09,279][8258 ][monk.network.producer][INFO    ][37  ][producer.py] : sending message ('{\"password\": \"\", \"op\": \"UpdateUser\", \"name\": \"mluser3272\", \"partition\": 1}',) at monkTestAdmin@0\n"
       ]
      },
      {
       "output_type": "stream",
       "stream": "stdout",
       "text": [
        "[2015-01-16 13:03:09,496][8258 ][monk.network.producer][INFO    ][37  ][producer.py] : sending message ('{\"password\": \"\", \"op\": \"UpdateUser\", \"name\": \"mluser3274\", \"partition\": 1}',) at monkTestAdmin@0\n"
       ]
      },
      {
       "output_type": "stream",
       "stream": "stdout",
       "text": [
        "[2015-01-16 13:03:09,504][8258 ][monk.network.producer][INFO    ][37  ][producer.py] : sending message ('{\"password\": \"\", \"op\": \"UpdateUser\", \"name\": \"mluser3280\", \"partition\": 1}',) at monkTestAdmin@0\n"
       ]
      },
      {
       "output_type": "stream",
       "stream": "stdout",
       "text": [
        "[2015-01-16 13:03:09,513][8258 ][monk.network.producer][INFO    ][37  ][producer.py] : sending message ('{\"password\": \"\", \"op\": \"UpdateUser\", \"name\": \"mluser3282\", \"partition\": 1}',) at monkTestAdmin@0\n"
       ]
      },
      {
       "output_type": "stream",
       "stream": "stdout",
       "text": [
        "[2015-01-16 13:03:09,524][8258 ][monk.network.producer][INFO    ][37  ][producer.py] : sending message ('{\"password\": \"\", \"op\": \"UpdateUser\", \"name\": \"mluser3288\", \"partition\": 1}',) at monkTestAdmin@0\n"
       ]
      },
      {
       "output_type": "stream",
       "stream": "stdout",
       "text": [
        "[2015-01-16 13:03:09,532][8258 ][monk.network.producer][INFO    ][37  ][producer.py] : sending message ('{\"password\": \"\", \"op\": \"UpdateUser\", \"name\": \"mluser3290\", \"partition\": 1}',) at monkTestAdmin@0\n"
       ]
      },
      {
       "output_type": "stream",
       "stream": "stdout",
       "text": [
        "[2015-01-16 13:03:09,543][8258 ][monk.network.producer][INFO    ][37  ][producer.py] : sending message ('{\"password\": \"\", \"op\": \"UpdateUser\", \"name\": \"mluser3296\", \"partition\": 1}',) at monkTestAdmin@0\n"
       ]
      },
      {
       "output_type": "stream",
       "stream": "stdout",
       "text": [
        "[2015-01-16 13:03:09,550][8258 ][monk.network.producer][INFO    ][37  ][producer.py] : sending message ('{\"password\": \"\", \"op\": \"UpdateUser\", \"name\": \"mluser3298\", \"partition\": 1}',) at monkTestAdmin@0\n"
       ]
      },
      {
       "output_type": "stream",
       "stream": "stdout",
       "text": [
        "[2015-01-16 13:03:09,559][8258 ][monk.network.producer][INFO    ][37  ][producer.py] : sending message ('{\"password\": \"\", \"op\": \"UpdateUser\", \"name\": \"mluser3304\", \"partition\": 1}',) at monkTestAdmin@0\n"
       ]
      },
      {
       "output_type": "stream",
       "stream": "stdout",
       "text": [
        "[2015-01-16 13:03:09,568][8258 ][monk.network.producer][INFO    ][37  ][producer.py] : sending message ('{\"password\": \"\", \"op\": \"UpdateUser\", \"name\": \"mluser3306\", \"partition\": 1}',) at monkTestAdmin@0\n"
       ]
      },
      {
       "output_type": "stream",
       "stream": "stdout",
       "text": [
        "[2015-01-16 13:03:09,578][8258 ][monk.network.producer][INFO    ][37  ][producer.py] : sending message ('{\"password\": \"\", \"op\": \"UpdateUser\", \"name\": \"mluser3312\", \"partition\": 1}',) at monkTestAdmin@0\n"
       ]
      },
      {
       "output_type": "stream",
       "stream": "stdout",
       "text": [
        "[2015-01-16 13:03:09,588][8258 ][monk.network.producer][INFO    ][37  ][producer.py] : sending message ('{\"password\": \"\", \"op\": \"UpdateUser\", \"name\": \"mluser3314\", \"partition\": 1}',) at monkTestAdmin@0\n"
       ]
      },
      {
       "output_type": "stream",
       "stream": "stdout",
       "text": [
        "[2015-01-16 13:03:09,599][8258 ][monk.network.producer][INFO    ][37  ][producer.py] : sending message ('{\"password\": \"\", \"op\": \"UpdateUser\", \"name\": \"mluser3320\", \"partition\": 1}',) at monkTestAdmin@0\n"
       ]
      },
      {
       "output_type": "stream",
       "stream": "stdout",
       "text": [
        "[2015-01-16 13:03:09,611][8258 ][monk.network.producer][INFO    ][37  ][producer.py] : sending message ('{\"password\": \"\", \"op\": \"UpdateUser\", \"name\": \"mluser3322\", \"partition\": 1}',) at monkTestAdmin@0\n"
       ]
      },
      {
       "output_type": "stream",
       "stream": "stdout",
       "text": [
        "[2015-01-16 13:03:09,619][8258 ][monk.network.producer][INFO    ][37  ][producer.py] : sending message ('{\"password\": \"\", \"op\": \"UpdateUser\", \"name\": \"mluser3328\", \"partition\": 1}',) at monkTestAdmin@0\n"
       ]
      },
      {
       "output_type": "stream",
       "stream": "stdout",
       "text": [
        "[2015-01-16 13:03:09,627][8258 ][monk.network.producer][INFO    ][37  ][producer.py] : sending message ('{\"password\": \"\", \"op\": \"UpdateUser\", \"name\": \"mluser3330\", \"partition\": 1}',) at monkTestAdmin@0\n"
       ]
      },
      {
       "output_type": "stream",
       "stream": "stdout",
       "text": [
        "[2015-01-16 13:03:09,654][8258 ][monk.network.producer][INFO    ][37  ][producer.py] : sending message ('{\"password\": \"\", \"op\": \"UpdateUser\", \"name\": \"mluser3336\", \"partition\": 1}',) at monkTestAdmin@0\n"
       ]
      },
      {
       "output_type": "stream",
       "stream": "stdout",
       "text": [
        "[2015-01-16 13:03:09,661][8258 ][monk.network.producer][INFO    ][37  ][producer.py] : sending message ('{\"password\": \"\", \"op\": \"UpdateUser\", \"name\": \"mluser3338\", \"partition\": 1}',) at monkTestAdmin@0\n"
       ]
      },
      {
       "output_type": "stream",
       "stream": "stdout",
       "text": [
        "[2015-01-16 13:03:09,670][8258 ][monk.network.producer][INFO    ][37  ][producer.py] : sending message ('{\"password\": \"\", \"op\": \"UpdateUser\", \"name\": \"mluser3344\", \"partition\": 1}',) at monkTestAdmin@0\n"
       ]
      },
      {
       "output_type": "stream",
       "stream": "stdout",
       "text": [
        "[2015-01-16 13:03:09,683][8258 ][monk.network.producer][INFO    ][37  ][producer.py] : sending message ('{\"password\": \"\", \"op\": \"UpdateUser\", \"name\": \"mluser3346\", \"partition\": 1}',) at monkTestAdmin@0\n"
       ]
      },
      {
       "output_type": "stream",
       "stream": "stdout",
       "text": [
        "[2015-01-16 13:03:09,690][8258 ][monk.network.producer][INFO    ][37  ][producer.py] : sending message ('{\"password\": \"\", \"op\": \"UpdateUser\", \"name\": \"mluser3352\", \"partition\": 1}',) at monkTestAdmin@0\n"
       ]
      },
      {
       "output_type": "stream",
       "stream": "stdout",
       "text": [
        "[2015-01-16 13:03:09,697][8258 ][monk.network.producer][INFO    ][37  ][producer.py] : sending message ('{\"password\": \"\", \"op\": \"UpdateUser\", \"name\": \"mluser3354\", \"partition\": 1}',) at monkTestAdmin@0\n"
       ]
      },
      {
       "output_type": "stream",
       "stream": "stdout",
       "text": [
        "[2015-01-16 13:03:09,713][8258 ][monk.network.producer][INFO    ][37  ][producer.py] : sending message ('{\"password\": \"\", \"op\": \"UpdateUser\", \"name\": \"mluser3360\", \"partition\": 1}',) at monkTestAdmin@0\n"
       ]
      },
      {
       "output_type": "stream",
       "stream": "stdout",
       "text": [
        "[2015-01-16 13:03:09,719][8258 ][monk.network.producer][INFO    ][37  ][producer.py] : sending message ('{\"password\": \"\", \"op\": \"UpdateUser\", \"name\": \"mluser3362\", \"partition\": 1}',) at monkTestAdmin@0\n"
       ]
      },
      {
       "output_type": "stream",
       "stream": "stdout",
       "text": [
        "[2015-01-16 13:03:09,729][8258 ][monk.network.producer][INFO    ][37  ][producer.py] : sending message ('{\"password\": \"\", \"op\": \"UpdateUser\", \"name\": \"mluser3368\", \"partition\": 1}',) at monkTestAdmin@0\n"
       ]
      },
      {
       "output_type": "stream",
       "stream": "stdout",
       "text": [
        "[2015-01-16 13:03:09,738][8258 ][monk.network.producer][INFO    ][37  ][producer.py] : sending message ('{\"password\": \"\", \"op\": \"UpdateUser\", \"name\": \"mluser3370\", \"partition\": 1}',) at monkTestAdmin@0\n"
       ]
      },
      {
       "output_type": "stream",
       "stream": "stdout",
       "text": [
        "[2015-01-16 13:03:09,745][8258 ][monk.network.producer][INFO    ][37  ][producer.py] : sending message ('{\"password\": \"\", \"op\": \"UpdateUser\", \"name\": \"mluser3376\", \"partition\": 1}',) at monkTestAdmin@0\n"
       ]
      },
      {
       "output_type": "stream",
       "stream": "stdout",
       "text": [
        "[2015-01-16 13:03:09,756][8258 ][monk.network.producer][INFO    ][37  ][producer.py] : sending message ('{\"password\": \"\", \"op\": \"UpdateUser\", \"name\": \"mluser3378\", \"partition\": 1}',) at monkTestAdmin@0\n"
       ]
      },
      {
       "output_type": "stream",
       "stream": "stdout",
       "text": [
        "[2015-01-16 13:03:09,769][8258 ][monk.network.producer][INFO    ][37  ][producer.py] : sending message ('{\"password\": \"\", \"op\": \"UpdateUser\", \"name\": \"mluser3384\", \"partition\": 1}',) at monkTestAdmin@0\n"
       ]
      },
      {
       "output_type": "stream",
       "stream": "stdout",
       "text": [
        "[2015-01-16 13:03:09,776][8258 ][monk.network.producer][INFO    ][37  ][producer.py] : sending message ('{\"password\": \"\", \"op\": \"UpdateUser\", \"name\": \"mluser3386\", \"partition\": 1}',) at monkTestAdmin@0\n"
       ]
      },
      {
       "output_type": "stream",
       "stream": "stdout",
       "text": [
        "[2015-01-16 13:03:09,782][8258 ][monk.network.producer][INFO    ][37  ][producer.py] : sending message ('{\"password\": \"\", \"op\": \"UpdateUser\", \"name\": \"mluser3392\", \"partition\": 1}',) at monkTestAdmin@0\n"
       ]
      },
      {
       "output_type": "stream",
       "stream": "stdout",
       "text": [
        "[2015-01-16 13:03:09,792][8258 ][monk.network.producer][INFO    ][37  ][producer.py] : sending message ('{\"password\": \"\", \"op\": \"UpdateUser\", \"name\": \"mluser3394\", \"partition\": 1}',) at monkTestAdmin@0\n"
       ]
      },
      {
       "output_type": "stream",
       "stream": "stdout",
       "text": [
        "[2015-01-16 13:03:09,799][8258 ][monk.network.producer][INFO    ][37  ][producer.py] : sending message ('{\"password\": \"\", \"op\": \"UpdateUser\", \"name\": \"mluser3400\", \"partition\": 1}',) at monkTestAdmin@0\n"
       ]
      },
      {
       "output_type": "stream",
       "stream": "stdout",
       "text": [
        "[2015-01-16 13:03:09,815][8258 ][monk.network.producer][INFO    ][37  ][producer.py] : sending message ('{\"password\": \"\", \"op\": \"UpdateUser\", \"name\": \"mluser3402\", \"partition\": 1}',) at monkTestAdmin@0\n"
       ]
      },
      {
       "output_type": "stream",
       "stream": "stdout",
       "text": [
        "[2015-01-16 13:03:09,821][8258 ][monk.network.producer][INFO    ][37  ][producer.py] : sending message ('{\"password\": \"\", \"op\": \"UpdateUser\", \"name\": \"mluser3408\", \"partition\": 1}',) at monkTestAdmin@0\n"
       ]
      },
      {
       "output_type": "stream",
       "stream": "stdout",
       "text": [
        "[2015-01-16 13:03:09,834][8258 ][monk.network.producer][INFO    ][37  ][producer.py] : sending message ('{\"password\": \"\", \"op\": \"UpdateUser\", \"name\": \"mluser3410\", \"partition\": 1}',) at monkTestAdmin@0\n"
       ]
      },
      {
       "output_type": "stream",
       "stream": "stdout",
       "text": [
        "[2015-01-16 13:03:09,846][8258 ][monk.network.producer][INFO    ][37  ][producer.py] : sending message ('{\"password\": \"\", \"op\": \"UpdateUser\", \"name\": \"mluser3416\", \"partition\": 1}',) at monkTestAdmin@0\n"
       ]
      },
      {
       "output_type": "stream",
       "stream": "stdout",
       "text": [
        "[2015-01-16 13:03:09,853][8258 ][monk.network.producer][INFO    ][37  ][producer.py] : sending message ('{\"password\": \"\", \"op\": \"UpdateUser\", \"name\": \"mluser3418\", \"partition\": 1}',) at monkTestAdmin@0\n"
       ]
      },
      {
       "output_type": "stream",
       "stream": "stdout",
       "text": [
        "[2015-01-16 13:03:09,867][8258 ][monk.network.producer][INFO    ][37  ][producer.py] : sending message ('{\"password\": \"\", \"op\": \"UpdateUser\", \"name\": \"mluser3424\", \"partition\": 1}',) at monkTestAdmin@0\n"
       ]
      },
      {
       "output_type": "stream",
       "stream": "stdout",
       "text": [
        "[2015-01-16 13:03:09,896][8258 ][monk.network.producer][INFO    ][37  ][producer.py] : sending message ('{\"password\": \"\", \"op\": \"UpdateUser\", \"name\": \"mluser3426\", \"partition\": 1}',) at monkTestAdmin@0\n"
       ]
      },
      {
       "output_type": "stream",
       "stream": "stdout",
       "text": [
        "[2015-01-16 13:03:09,905][8258 ][monk.network.producer][INFO    ][37  ][producer.py] : sending message ('{\"password\": \"\", \"op\": \"UpdateUser\", \"name\": \"mluser3432\", \"partition\": 1}',) at monkTestAdmin@0\n"
       ]
      },
      {
       "output_type": "stream",
       "stream": "stdout",
       "text": [
        "[2015-01-16 13:03:09,917][8258 ][monk.network.producer][INFO    ][37  ][producer.py] : sending message ('{\"password\": \"\", \"op\": \"UpdateUser\", \"name\": \"mluser3434\", \"partition\": 1}',) at monkTestAdmin@0\n"
       ]
      },
      {
       "output_type": "stream",
       "stream": "stdout",
       "text": [
        "[2015-01-16 13:03:09,926][8258 ][monk.network.producer][INFO    ][37  ][producer.py] : sending message ('{\"password\": \"\", \"op\": \"UpdateUser\", \"name\": \"mluser3440\", \"partition\": 1}',) at monkTestAdmin@0\n"
       ]
      },
      {
       "output_type": "stream",
       "stream": "stdout",
       "text": [
        "[2015-01-16 13:03:09,934][8258 ][monk.network.producer][INFO    ][37  ][producer.py] : sending message ('{\"password\": \"\", \"op\": \"UpdateUser\", \"name\": \"mluser3442\", \"partition\": 1}',) at monkTestAdmin@0\n"
       ]
      },
      {
       "output_type": "stream",
       "stream": "stdout",
       "text": [
        "[2015-01-16 13:03:09,952][8258 ][monk.network.producer][INFO    ][37  ][producer.py] : sending message ('{\"password\": \"\", \"op\": \"UpdateUser\", \"name\": \"mluser3448\", \"partition\": 1}',) at monkTestAdmin@0\n"
       ]
      },
      {
       "output_type": "stream",
       "stream": "stdout",
       "text": [
        "[2015-01-16 13:03:09,961][8258 ][monk.network.producer][INFO    ][37  ][producer.py] : sending message ('{\"password\": \"\", \"op\": \"UpdateUser\", \"name\": \"mluser3450\", \"partition\": 1}',) at monkTestAdmin@0\n"
       ]
      },
      {
       "output_type": "stream",
       "stream": "stdout",
       "text": [
        "[2015-01-16 13:03:09,971][8258 ][monk.network.producer][INFO    ][37  ][producer.py] : sending message ('{\"password\": \"\", \"op\": \"UpdateUser\", \"name\": \"mluser3456\", \"partition\": 1}',) at monkTestAdmin@0\n"
       ]
      },
      {
       "output_type": "stream",
       "stream": "stdout",
       "text": [
        "[2015-01-16 13:03:09,982][8258 ][monk.network.producer][INFO    ][37  ][producer.py] : sending message ('{\"password\": \"\", \"op\": \"UpdateUser\", \"name\": \"mluser3458\", \"partition\": 1}',) at monkTestAdmin@0\n"
       ]
      },
      {
       "output_type": "stream",
       "stream": "stdout",
       "text": [
        "[2015-01-16 13:03:09,990][8258 ][monk.network.producer][INFO    ][37  ][producer.py] : sending message ('{\"password\": \"\", \"op\": \"UpdateUser\", \"name\": \"mluser3464\", \"partition\": 1}',) at monkTestAdmin@0\n"
       ]
      },
      {
       "output_type": "stream",
       "stream": "stdout",
       "text": [
        "[2015-01-16 13:03:09,998][8258 ][monk.network.producer][INFO    ][37  ][producer.py] : sending message ('{\"password\": \"\", \"op\": \"UpdateUser\", \"name\": \"mluser3466\", \"partition\": 1}',) at monkTestAdmin@0\n"
       ]
      },
      {
       "output_type": "stream",
       "stream": "stdout",
       "text": [
        "[2015-01-16 13:03:10,012][8258 ][monk.network.producer][INFO    ][37  ][producer.py] : sending message ('{\"password\": \"\", \"op\": \"UpdateUser\", \"name\": \"mluser3472\", \"partition\": 1}',) at monkTestAdmin@0\n"
       ]
      },
      {
       "output_type": "stream",
       "stream": "stdout",
       "text": [
        "[2015-01-16 13:03:10,029][8258 ][monk.network.producer][INFO    ][37  ][producer.py] : sending message ('{\"password\": \"\", \"op\": \"UpdateUser\", \"name\": \"mluser3474\", \"partition\": 1}',) at monkTestAdmin@0\n"
       ]
      },
      {
       "output_type": "stream",
       "stream": "stdout",
       "text": [
        "[2015-01-16 13:03:10,037][8258 ][monk.network.producer][INFO    ][37  ][producer.py] : sending message ('{\"password\": \"\", \"op\": \"UpdateUser\", \"name\": \"mluser3480\", \"partition\": 1}',) at monkTestAdmin@0\n"
       ]
      },
      {
       "output_type": "stream",
       "stream": "stdout",
       "text": [
        "[2015-01-16 13:03:10,056][8258 ][monk.network.producer][INFO    ][37  ][producer.py] : sending message ('{\"password\": \"\", \"op\": \"UpdateUser\", \"name\": \"mluser3482\", \"partition\": 1}',) at monkTestAdmin@0\n"
       ]
      },
      {
       "output_type": "stream",
       "stream": "stdout",
       "text": [
        "[2015-01-16 13:03:10,064][8258 ][monk.network.producer][INFO    ][37  ][producer.py] : sending message ('{\"password\": \"\", \"op\": \"UpdateUser\", \"name\": \"mluser3488\", \"partition\": 1}',) at monkTestAdmin@0\n"
       ]
      },
      {
       "output_type": "stream",
       "stream": "stdout",
       "text": [
        "[2015-01-16 13:03:10,080][8258 ][monk.network.producer][INFO    ][37  ][producer.py] : sending message ('{\"password\": \"\", \"op\": \"UpdateUser\", \"name\": \"mluser3490\", \"partition\": 1}',) at monkTestAdmin@0\n"
       ]
      },
      {
       "output_type": "stream",
       "stream": "stdout",
       "text": [
        "[2015-01-16 13:03:10,088][8258 ][monk.network.producer][INFO    ][37  ][producer.py] : sending message ('{\"password\": \"\", \"op\": \"UpdateUser\", \"name\": \"mluser3496\", \"partition\": 1}',) at monkTestAdmin@0\n"
       ]
      },
      {
       "output_type": "stream",
       "stream": "stdout",
       "text": [
        "[2015-01-16 13:03:10,097][8258 ][monk.network.producer][INFO    ][37  ][producer.py] : sending message ('{\"password\": \"\", \"op\": \"UpdateUser\", \"name\": \"mluser3498\", \"partition\": 1}',) at monkTestAdmin@0\n"
       ]
      },
      {
       "output_type": "stream",
       "stream": "stdout",
       "text": [
        "[2015-01-16 13:03:10,105][8258 ][monk.network.producer][INFO    ][37  ][producer.py] : sending message ('{\"password\": \"\", \"op\": \"UpdateUser\", \"name\": \"mluser3504\", \"partition\": 1}',) at monkTestAdmin@0\n"
       ]
      },
      {
       "output_type": "stream",
       "stream": "stdout",
       "text": [
        "[2015-01-16 13:03:10,328][8258 ][monk.network.producer][INFO    ][37  ][producer.py] : sending message ('{\"password\": \"\", \"op\": \"UpdateUser\", \"name\": \"mluser3506\", \"partition\": 1}',) at monkTestAdmin@0\n"
       ]
      },
      {
       "output_type": "stream",
       "stream": "stdout",
       "text": [
        "[2015-01-16 13:03:10,343][8258 ][monk.network.producer][INFO    ][37  ][producer.py] : sending message ('{\"password\": \"\", \"op\": \"UpdateUser\", \"name\": \"mluser3512\", \"partition\": 1}',) at monkTestAdmin@0\n"
       ]
      },
      {
       "output_type": "stream",
       "stream": "stdout",
       "text": [
        "[2015-01-16 13:03:10,356][8258 ][monk.network.producer][INFO    ][37  ][producer.py] : sending message ('{\"password\": \"\", \"op\": \"UpdateUser\", \"name\": \"mluser3514\", \"partition\": 1}',) at monkTestAdmin@0\n"
       ]
      },
      {
       "output_type": "stream",
       "stream": "stdout",
       "text": [
        "[2015-01-16 13:03:10,366][8258 ][monk.network.producer][INFO    ][37  ][producer.py] : sending message ('{\"password\": \"\", \"op\": \"UpdateUser\", \"name\": \"mluser3520\", \"partition\": 1}',) at monkTestAdmin@0\n"
       ]
      },
      {
       "output_type": "stream",
       "stream": "stdout",
       "text": [
        "[2015-01-16 13:03:10,371][8258 ][monk.network.producer][INFO    ][37  ][producer.py] : sending message ('{\"password\": \"\", \"op\": \"UpdateUser\", \"name\": \"mluser3522\", \"partition\": 1}',) at monkTestAdmin@0\n"
       ]
      },
      {
       "output_type": "stream",
       "stream": "stdout",
       "text": [
        "[2015-01-16 13:03:10,384][8258 ][monk.network.producer][INFO    ][37  ][producer.py] : sending message ('{\"password\": \"\", \"op\": \"UpdateUser\", \"name\": \"mluser3528\", \"partition\": 1}',) at monkTestAdmin@0\n"
       ]
      },
      {
       "output_type": "stream",
       "stream": "stdout",
       "text": [
        "[2015-01-16 13:03:10,391][8258 ][monk.network.producer][INFO    ][37  ][producer.py] : sending message ('{\"password\": \"\", \"op\": \"UpdateUser\", \"name\": \"mluser3530\", \"partition\": 1}',) at monkTestAdmin@0\n"
       ]
      },
      {
       "output_type": "stream",
       "stream": "stdout",
       "text": [
        "[2015-01-16 13:03:10,397][8258 ][monk.network.producer][INFO    ][37  ][producer.py] : sending message ('{\"password\": \"\", \"op\": \"UpdateUser\", \"name\": \"mluser3536\", \"partition\": 1}',) at monkTestAdmin@0\n"
       ]
      },
      {
       "output_type": "stream",
       "stream": "stdout",
       "text": [
        "[2015-01-16 13:03:10,404][8258 ][monk.network.producer][INFO    ][37  ][producer.py] : sending message ('{\"password\": \"\", \"op\": \"UpdateUser\", \"name\": \"mluser3538\", \"partition\": 1}',) at monkTestAdmin@0\n"
       ]
      },
      {
       "output_type": "stream",
       "stream": "stdout",
       "text": [
        "[2015-01-16 13:03:10,417][8258 ][monk.network.producer][INFO    ][37  ][producer.py] : sending message ('{\"password\": \"\", \"op\": \"UpdateUser\", \"name\": \"mluser3544\", \"partition\": 1}',) at monkTestAdmin@0\n"
       ]
      },
      {
       "output_type": "stream",
       "stream": "stdout",
       "text": [
        "[2015-01-16 13:03:10,429][8258 ][monk.network.producer][INFO    ][37  ][producer.py] : sending message ('{\"password\": \"\", \"op\": \"UpdateUser\", \"name\": \"mluser3546\", \"partition\": 1}',) at monkTestAdmin@0\n"
       ]
      },
      {
       "output_type": "stream",
       "stream": "stdout",
       "text": [
        "[2015-01-16 13:03:10,435][8258 ][monk.network.producer][INFO    ][37  ][producer.py] : sending message ('{\"password\": \"\", \"op\": \"UpdateUser\", \"name\": \"mluser3552\", \"partition\": 1}',) at monkTestAdmin@0\n"
       ]
      },
      {
       "output_type": "stream",
       "stream": "stdout",
       "text": [
        "[2015-01-16 13:03:10,446][8258 ][monk.network.producer][INFO    ][37  ][producer.py] : sending message ('{\"password\": \"\", \"op\": \"UpdateUser\", \"name\": \"mluser3554\", \"partition\": 1}',) at monkTestAdmin@0\n"
       ]
      },
      {
       "output_type": "stream",
       "stream": "stdout",
       "text": [
        "[2015-01-16 13:03:10,454][8258 ][monk.network.producer][INFO    ][37  ][producer.py] : sending message ('{\"password\": \"\", \"op\": \"UpdateUser\", \"name\": \"mluser3560\", \"partition\": 1}',) at monkTestAdmin@0\n"
       ]
      },
      {
       "output_type": "stream",
       "stream": "stdout",
       "text": [
        "[2015-01-16 13:03:10,463][8258 ][monk.network.producer][INFO    ][37  ][producer.py] : sending message ('{\"password\": \"\", \"op\": \"UpdateUser\", \"name\": \"mluser3562\", \"partition\": 1}',) at monkTestAdmin@0\n"
       ]
      },
      {
       "output_type": "stream",
       "stream": "stdout",
       "text": [
        "[2015-01-16 13:03:10,469][8258 ][monk.network.producer][INFO    ][37  ][producer.py] : sending message ('{\"password\": \"\", \"op\": \"UpdateUser\", \"name\": \"mluser3568\", \"partition\": 1}',) at monkTestAdmin@0\n"
       ]
      },
      {
       "output_type": "stream",
       "stream": "stdout",
       "text": [
        "[2015-01-16 13:03:10,475][8258 ][monk.network.producer][INFO    ][37  ][producer.py] : sending message ('{\"password\": \"\", \"op\": \"UpdateUser\", \"name\": \"mluser3570\", \"partition\": 1}',) at monkTestAdmin@0\n"
       ]
      },
      {
       "output_type": "stream",
       "stream": "stdout",
       "text": [
        "[2015-01-16 13:03:10,486][8258 ][monk.network.producer][INFO    ][37  ][producer.py] : sending message ('{\"password\": \"\", \"op\": \"UpdateUser\", \"name\": \"mluser3576\", \"partition\": 1}',) at monkTestAdmin@0\n"
       ]
      },
      {
       "output_type": "stream",
       "stream": "stdout",
       "text": [
        "[2015-01-16 13:03:10,494][8258 ][monk.network.producer][INFO    ][37  ][producer.py] : sending message ('{\"password\": \"\", \"op\": \"UpdateUser\", \"name\": \"mluser3578\", \"partition\": 1}',) at monkTestAdmin@0\n"
       ]
      },
      {
       "output_type": "stream",
       "stream": "stdout",
       "text": [
        "[2015-01-16 13:03:10,500][8258 ][monk.network.producer][INFO    ][37  ][producer.py] : sending message ('{\"password\": \"\", \"op\": \"UpdateUser\", \"name\": \"mluser3584\", \"partition\": 1}',) at monkTestAdmin@0\n"
       ]
      },
      {
       "output_type": "stream",
       "stream": "stdout",
       "text": [
        "[2015-01-16 13:03:10,510][8258 ][monk.network.producer][INFO    ][37  ][producer.py] : sending message ('{\"password\": \"\", \"op\": \"UpdateUser\", \"name\": \"mluser3586\", \"partition\": 1}',) at monkTestAdmin@0\n"
       ]
      },
      {
       "output_type": "stream",
       "stream": "stdout",
       "text": [
        "[2015-01-16 13:03:10,524][8258 ][monk.network.producer][INFO    ][37  ][producer.py] : sending message ('{\"password\": \"\", \"op\": \"UpdateUser\", \"name\": \"mluser3592\", \"partition\": 1}',) at monkTestAdmin@0\n"
       ]
      },
      {
       "output_type": "stream",
       "stream": "stdout",
       "text": [
        "[2015-01-16 13:03:10,556][8258 ][monk.network.producer][INFO    ][37  ][producer.py] : sending message ('{\"password\": \"\", \"op\": \"UpdateUser\", \"name\": \"mluser3594\", \"partition\": 1}',) at monkTestAdmin@0\n"
       ]
      },
      {
       "output_type": "stream",
       "stream": "stdout",
       "text": [
        "[2015-01-16 13:03:10,586][8258 ][monk.network.producer][INFO    ][37  ][producer.py] : sending message ('{\"password\": \"\", \"op\": \"UpdateUser\", \"name\": \"mluser3600\", \"partition\": 1}',) at monkTestAdmin@0\n"
       ]
      },
      {
       "output_type": "stream",
       "stream": "stdout",
       "text": [
        "[2015-01-16 13:03:10,641][8258 ][monk.network.producer][INFO    ][37  ][producer.py] : sending message ('{\"password\": \"\", \"op\": \"UpdateUser\", \"name\": \"mluser3602\", \"partition\": 1}',) at monkTestAdmin@0\n"
       ]
      },
      {
       "output_type": "stream",
       "stream": "stdout",
       "text": [
        "[2015-01-16 13:03:10,650][8258 ][monk.network.producer][INFO    ][37  ][producer.py] : sending message ('{\"password\": \"\", \"op\": \"UpdateUser\", \"name\": \"mluser3608\", \"partition\": 1}',) at monkTestAdmin@0\n"
       ]
      },
      {
       "output_type": "stream",
       "stream": "stdout",
       "text": [
        "[2015-01-16 13:03:10,658][8258 ][monk.network.producer][INFO    ][37  ][producer.py] : sending message ('{\"password\": \"\", \"op\": \"UpdateUser\", \"name\": \"mluser3610\", \"partition\": 1}',) at monkTestAdmin@0\n"
       ]
      },
      {
       "output_type": "stream",
       "stream": "stdout",
       "text": [
        "[2015-01-16 13:03:10,664][8258 ][monk.network.producer][INFO    ][37  ][producer.py] : sending message ('{\"password\": \"\", \"op\": \"UpdateUser\", \"name\": \"mluser3616\", \"partition\": 1}',) at monkTestAdmin@0\n"
       ]
      },
      {
       "output_type": "stream",
       "stream": "stdout",
       "text": [
        "[2015-01-16 13:03:10,677][8258 ][monk.network.producer][INFO    ][37  ][producer.py] : sending message ('{\"password\": \"\", \"op\": \"UpdateUser\", \"name\": \"mluser3618\", \"partition\": 1}',) at monkTestAdmin@0\n"
       ]
      },
      {
       "output_type": "stream",
       "stream": "stdout",
       "text": [
        "[2015-01-16 13:03:10,686][8258 ][monk.network.producer][INFO    ][37  ][producer.py] : sending message ('{\"password\": \"\", \"op\": \"UpdateUser\", \"name\": \"mluser3624\", \"partition\": 1}',) at monkTestAdmin@0\n"
       ]
      },
      {
       "output_type": "stream",
       "stream": "stdout",
       "text": [
        "[2015-01-16 13:03:10,694][8258 ][monk.network.producer][INFO    ][37  ][producer.py] : sending message ('{\"password\": \"\", \"op\": \"UpdateUser\", \"name\": \"mluser3626\", \"partition\": 1}',) at monkTestAdmin@0\n"
       ]
      },
      {
       "output_type": "stream",
       "stream": "stdout",
       "text": [
        "[2015-01-16 13:03:10,701][8258 ][monk.network.producer][INFO    ][37  ][producer.py] : sending message ('{\"password\": \"\", \"op\": \"UpdateUser\", \"name\": \"mluser3632\", \"partition\": 1}',) at monkTestAdmin@0\n"
       ]
      },
      {
       "output_type": "stream",
       "stream": "stdout",
       "text": [
        "[2015-01-16 13:03:10,707][8258 ][monk.network.producer][INFO    ][37  ][producer.py] : sending message ('{\"password\": \"\", \"op\": \"UpdateUser\", \"name\": \"mluser3634\", \"partition\": 1}',) at monkTestAdmin@0\n"
       ]
      },
      {
       "output_type": "stream",
       "stream": "stdout",
       "text": [
        "[2015-01-16 13:03:10,716][8258 ][monk.network.producer][INFO    ][37  ][producer.py] : sending message ('{\"password\": \"\", \"op\": \"UpdateUser\", \"name\": \"mluser3640\", \"partition\": 1}',) at monkTestAdmin@0\n"
       ]
      },
      {
       "output_type": "stream",
       "stream": "stdout",
       "text": [
        "[2015-01-16 13:03:10,728][8258 ][monk.network.producer][INFO    ][37  ][producer.py] : sending message ('{\"password\": \"\", \"op\": \"UpdateUser\", \"name\": \"mluser3642\", \"partition\": 1}',) at monkTestAdmin@0\n"
       ]
      },
      {
       "output_type": "stream",
       "stream": "stdout",
       "text": [
        "[2015-01-16 13:03:10,745][8258 ][monk.network.producer][INFO    ][37  ][producer.py] : sending message ('{\"password\": \"\", \"op\": \"UpdateUser\", \"name\": \"mluser3648\", \"partition\": 1}',) at monkTestAdmin@0\n"
       ]
      },
      {
       "output_type": "stream",
       "stream": "stdout",
       "text": [
        "[2015-01-16 13:03:10,753][8258 ][monk.network.producer][INFO    ][37  ][producer.py] : sending message ('{\"password\": \"\", \"op\": \"UpdateUser\", \"name\": \"mluser3650\", \"partition\": 1}',) at monkTestAdmin@0\n"
       ]
      },
      {
       "output_type": "stream",
       "stream": "stdout",
       "text": [
        "[2015-01-16 13:03:10,760][8258 ][monk.network.producer][INFO    ][37  ][producer.py] : sending message ('{\"password\": \"\", \"op\": \"UpdateUser\", \"name\": \"mluser3656\", \"partition\": 1}',) at monkTestAdmin@0\n"
       ]
      },
      {
       "output_type": "stream",
       "stream": "stdout",
       "text": [
        "[2015-01-16 13:03:10,769][8258 ][monk.network.producer][INFO    ][37  ][producer.py] : sending message ('{\"password\": \"\", \"op\": \"UpdateUser\", \"name\": \"mluser3658\", \"partition\": 1}',) at monkTestAdmin@0\n"
       ]
      },
      {
       "output_type": "stream",
       "stream": "stdout",
       "text": [
        "[2015-01-16 13:03:10,776][8258 ][monk.network.producer][INFO    ][37  ][producer.py] : sending message ('{\"password\": \"\", \"op\": \"UpdateUser\", \"name\": \"mluser3664\", \"partition\": 1}',) at monkTestAdmin@0\n"
       ]
      },
      {
       "output_type": "stream",
       "stream": "stdout",
       "text": [
        "[2015-01-16 13:03:10,788][8258 ][monk.network.producer][INFO    ][37  ][producer.py] : sending message ('{\"password\": \"\", \"op\": \"UpdateUser\", \"name\": \"mluser3666\", \"partition\": 1}',) at monkTestAdmin@0\n"
       ]
      },
      {
       "output_type": "stream",
       "stream": "stdout",
       "text": [
        "[2015-01-16 13:03:10,796][8258 ][monk.network.producer][INFO    ][37  ][producer.py] : sending message ('{\"password\": \"\", \"op\": \"UpdateUser\", \"name\": \"mluser3672\", \"partition\": 1}',) at monkTestAdmin@0\n"
       ]
      },
      {
       "output_type": "stream",
       "stream": "stdout",
       "text": [
        "[2015-01-16 13:03:10,804][8258 ][monk.network.producer][INFO    ][37  ][producer.py] : sending message ('{\"password\": \"\", \"op\": \"UpdateUser\", \"name\": \"mluser3674\", \"partition\": 1}',) at monkTestAdmin@0\n"
       ]
      },
      {
       "output_type": "stream",
       "stream": "stdout",
       "text": [
        "[2015-01-16 13:03:10,817][8258 ][monk.network.producer][INFO    ][37  ][producer.py] : sending message ('{\"password\": \"\", \"op\": \"UpdateUser\", \"name\": \"mluser3680\", \"partition\": 1}',) at monkTestAdmin@0\n"
       ]
      },
      {
       "output_type": "stream",
       "stream": "stdout",
       "text": [
        "[2015-01-16 13:03:10,823][8258 ][monk.network.producer][INFO    ][37  ][producer.py] : sending message ('{\"password\": \"\", \"op\": \"UpdateUser\", \"name\": \"mluser3682\", \"partition\": 1}',) at monkTestAdmin@0\n"
       ]
      },
      {
       "output_type": "stream",
       "stream": "stdout",
       "text": [
        "[2015-01-16 13:03:10,838][8258 ][monk.network.producer][INFO    ][37  ][producer.py] : sending message ('{\"password\": \"\", \"op\": \"UpdateUser\", \"name\": \"mluser3688\", \"partition\": 1}',) at monkTestAdmin@0\n"
       ]
      },
      {
       "output_type": "stream",
       "stream": "stdout",
       "text": [
        "[2015-01-16 13:03:10,846][8258 ][monk.network.producer][INFO    ][37  ][producer.py] : sending message ('{\"password\": \"\", \"op\": \"UpdateUser\", \"name\": \"mluser3690\", \"partition\": 1}',) at monkTestAdmin@0\n"
       ]
      },
      {
       "output_type": "stream",
       "stream": "stdout",
       "text": [
        "[2015-01-16 13:03:10,856][8258 ][monk.network.producer][INFO    ][37  ][producer.py] : sending message ('{\"password\": \"\", \"op\": \"UpdateUser\", \"name\": \"mluser3696\", \"partition\": 1}',) at monkTestAdmin@0\n"
       ]
      },
      {
       "output_type": "stream",
       "stream": "stdout",
       "text": [
        "[2015-01-16 13:03:10,872][8258 ][monk.network.producer][INFO    ][37  ][producer.py] : sending message ('{\"password\": \"\", \"op\": \"UpdateUser\", \"name\": \"mluser3698\", \"partition\": 1}',) at monkTestAdmin@0\n"
       ]
      },
      {
       "output_type": "stream",
       "stream": "stdout",
       "text": [
        "[2015-01-16 13:03:10,879][8258 ][monk.network.producer][INFO    ][37  ][producer.py] : sending message ('{\"password\": \"\", \"op\": \"UpdateUser\", \"name\": \"mluser3704\", \"partition\": 1}',) at monkTestAdmin@0\n"
       ]
      },
      {
       "output_type": "stream",
       "stream": "stdout",
       "text": [
        "[2015-01-16 13:03:10,890][8258 ][monk.network.producer][INFO    ][37  ][producer.py] : sending message ('{\"password\": \"\", \"op\": \"UpdateUser\", \"name\": \"mluser3706\", \"partition\": 1}',) at monkTestAdmin@0\n"
       ]
      },
      {
       "output_type": "stream",
       "stream": "stdout",
       "text": [
        "[2015-01-16 13:03:10,898][8258 ][monk.network.producer][INFO    ][37  ][producer.py] : sending message ('{\"password\": \"\", \"op\": \"UpdateUser\", \"name\": \"mluser3712\", \"partition\": 1}',) at monkTestAdmin@0\n"
       ]
      },
      {
       "output_type": "stream",
       "stream": "stdout",
       "text": [
        "[2015-01-16 13:03:10,906][8258 ][monk.network.producer][INFO    ][37  ][producer.py] : sending message ('{\"password\": \"\", \"op\": \"UpdateUser\", \"name\": \"mluser3714\", \"partition\": 1}',) at monkTestAdmin@0\n"
       ]
      },
      {
       "output_type": "stream",
       "stream": "stdout",
       "text": [
        "[2015-01-16 13:03:10,911][8258 ][monk.network.producer][INFO    ][37  ][producer.py] : sending message ('{\"password\": \"\", \"op\": \"UpdateUser\", \"name\": \"mluser3720\", \"partition\": 1}',) at monkTestAdmin@0\n"
       ]
      },
      {
       "output_type": "stream",
       "stream": "stdout",
       "text": [
        "[2015-01-16 13:03:10,918][8258 ][monk.network.producer][INFO    ][37  ][producer.py] : sending message ('{\"password\": \"\", \"op\": \"UpdateUser\", \"name\": \"mluser3722\", \"partition\": 1}',) at monkTestAdmin@0\n"
       ]
      },
      {
       "output_type": "stream",
       "stream": "stdout",
       "text": [
        "[2015-01-16 13:03:10,926][8258 ][monk.network.producer][INFO    ][37  ][producer.py] : sending message ('{\"password\": \"\", \"op\": \"UpdateUser\", \"name\": \"mluser3728\", \"partition\": 1}',) at monkTestAdmin@0\n"
       ]
      },
      {
       "output_type": "stream",
       "stream": "stdout",
       "text": [
        "[2015-01-16 13:03:10,941][8258 ][monk.network.producer][INFO    ][37  ][producer.py] : sending message ('{\"password\": \"\", \"op\": \"UpdateUser\", \"name\": \"mluser3730\", \"partition\": 1}',) at monkTestAdmin@0\n"
       ]
      },
      {
       "output_type": "stream",
       "stream": "stdout",
       "text": [
        "[2015-01-16 13:03:10,949][8258 ][monk.network.producer][INFO    ][37  ][producer.py] : sending message ('{\"password\": \"\", \"op\": \"UpdateUser\", \"name\": \"mluser3736\", \"partition\": 1}',) at monkTestAdmin@0\n"
       ]
      },
      {
       "output_type": "stream",
       "stream": "stdout",
       "text": [
        "[2015-01-16 13:03:10,961][8258 ][monk.network.producer][INFO    ][37  ][producer.py] : sending message ('{\"password\": \"\", \"op\": \"UpdateUser\", \"name\": \"mluser3738\", \"partition\": 1}',) at monkTestAdmin@0\n"
       ]
      },
      {
       "output_type": "stream",
       "stream": "stdout",
       "text": [
        "[2015-01-16 13:03:10,970][8258 ][monk.network.producer][INFO    ][37  ][producer.py] : sending message ('{\"password\": \"\", \"op\": \"UpdateUser\", \"name\": \"mluser3744\", \"partition\": 1}',) at monkTestAdmin@0\n"
       ]
      },
      {
       "output_type": "stream",
       "stream": "stdout",
       "text": [
        "[2015-01-16 13:03:10,976][8258 ][monk.network.producer][INFO    ][37  ][producer.py] : sending message ('{\"password\": \"\", \"op\": \"UpdateUser\", \"name\": \"mluser3746\", \"partition\": 1}',) at monkTestAdmin@0\n"
       ]
      },
      {
       "output_type": "stream",
       "stream": "stdout",
       "text": [
        "[2015-01-16 13:03:10,983][8258 ][monk.network.producer][INFO    ][37  ][producer.py] : sending message ('{\"password\": \"\", \"op\": \"UpdateUser\", \"name\": \"mluser3752\", \"partition\": 1}',) at monkTestAdmin@0\n"
       ]
      },
      {
       "output_type": "stream",
       "stream": "stdout",
       "text": [
        "[2015-01-16 13:03:10,994][8258 ][monk.network.producer][INFO    ][37  ][producer.py] : sending message ('{\"password\": \"\", \"op\": \"UpdateUser\", \"name\": \"mluser3754\", \"partition\": 1}',) at monkTestAdmin@0\n"
       ]
      },
      {
       "output_type": "stream",
       "stream": "stdout",
       "text": [
        "[2015-01-16 13:03:11,003][8258 ][monk.network.producer][INFO    ][37  ][producer.py] : sending message ('{\"password\": \"\", \"op\": \"UpdateUser\", \"name\": \"mluser3760\", \"partition\": 1}',) at monkTestAdmin@0\n"
       ]
      },
      {
       "output_type": "stream",
       "stream": "stdout",
       "text": [
        "[2015-01-16 13:03:11,015][8258 ][monk.network.producer][INFO    ][37  ][producer.py] : sending message ('{\"password\": \"\", \"op\": \"UpdateUser\", \"name\": \"mluser3762\", \"partition\": 1}',) at monkTestAdmin@0\n"
       ]
      },
      {
       "output_type": "stream",
       "stream": "stdout",
       "text": [
        "[2015-01-16 13:03:11,026][8258 ][monk.network.producer][INFO    ][37  ][producer.py] : sending message ('{\"password\": \"\", \"op\": \"UpdateUser\", \"name\": \"mluser3768\", \"partition\": 1}',) at monkTestAdmin@0\n"
       ]
      },
      {
       "output_type": "stream",
       "stream": "stdout",
       "text": [
        "[2015-01-16 13:03:11,044][8258 ][monk.network.producer][INFO    ][37  ][producer.py] : sending message ('{\"password\": \"\", \"op\": \"UpdateUser\", \"name\": \"mluser3770\", \"partition\": 1}',) at monkTestAdmin@0\n"
       ]
      },
      {
       "output_type": "stream",
       "stream": "stdout",
       "text": [
        "[2015-01-16 13:03:11,052][8258 ][monk.network.producer][INFO    ][37  ][producer.py] : sending message ('{\"password\": \"\", \"op\": \"UpdateUser\", \"name\": \"mluser3776\", \"partition\": 1}',) at monkTestAdmin@0\n"
       ]
      },
      {
       "output_type": "stream",
       "stream": "stdout",
       "text": [
        "[2015-01-16 13:03:11,060][8258 ][monk.network.producer][INFO    ][37  ][producer.py] : sending message ('{\"password\": \"\", \"op\": \"UpdateUser\", \"name\": \"mluser3778\", \"partition\": 1}',) at monkTestAdmin@0\n"
       ]
      },
      {
       "output_type": "stream",
       "stream": "stdout",
       "text": [
        "[2015-01-16 13:03:11,067][8258 ][monk.network.producer][INFO    ][37  ][producer.py] : sending message ('{\"password\": \"\", \"op\": \"UpdateUser\", \"name\": \"mluser3784\", \"partition\": 1}',) at monkTestAdmin@0\n"
       ]
      },
      {
       "output_type": "stream",
       "stream": "stdout",
       "text": [
        "[2015-01-16 13:03:11,074][8258 ][monk.network.producer][INFO    ][37  ][producer.py] : sending message ('{\"password\": \"\", \"op\": \"UpdateUser\", \"name\": \"mluser3786\", \"partition\": 1}',) at monkTestAdmin@0\n"
       ]
      },
      {
       "output_type": "stream",
       "stream": "stdout",
       "text": [
        "[2015-01-16 13:03:11,084][8258 ][monk.network.producer][INFO    ][37  ][producer.py] : sending message ('{\"password\": \"\", \"op\": \"UpdateUser\", \"name\": \"mluser3792\", \"partition\": 1}',) at monkTestAdmin@0\n"
       ]
      },
      {
       "output_type": "stream",
       "stream": "stdout",
       "text": [
        "[2015-01-16 13:03:11,098][8258 ][monk.network.producer][INFO    ][37  ][producer.py] : sending message ('{\"password\": \"\", \"op\": \"UpdateUser\", \"name\": \"mluser3794\", \"partition\": 1}',) at monkTestAdmin@0\n"
       ]
      },
      {
       "output_type": "stream",
       "stream": "stdout",
       "text": [
        "[2015-01-16 13:03:11,104][8258 ][monk.network.producer][INFO    ][37  ][producer.py] : sending message ('{\"password\": \"\", \"op\": \"UpdateUser\", \"name\": \"mluser3800\", \"partition\": 1}',) at monkTestAdmin@0\n"
       ]
      },
      {
       "output_type": "stream",
       "stream": "stdout",
       "text": [
        "[2015-01-16 13:03:11,118][8258 ][monk.network.producer][INFO    ][37  ][producer.py] : sending message ('{\"password\": \"\", \"op\": \"UpdateUser\", \"name\": \"mluser3802\", \"partition\": 1}',) at monkTestAdmin@0\n"
       ]
      },
      {
       "output_type": "stream",
       "stream": "stdout",
       "text": [
        "[2015-01-16 13:03:11,130][8258 ][monk.network.producer][INFO    ][37  ][producer.py] : sending message ('{\"password\": \"\", \"op\": \"UpdateUser\", \"name\": \"mluser3808\", \"partition\": 1}',) at monkTestAdmin@0\n"
       ]
      },
      {
       "output_type": "stream",
       "stream": "stdout",
       "text": [
        "[2015-01-16 13:03:11,146][8258 ][monk.network.producer][INFO    ][37  ][producer.py] : sending message ('{\"password\": \"\", \"op\": \"UpdateUser\", \"name\": \"mluser3810\", \"partition\": 1}',) at monkTestAdmin@0\n"
       ]
      },
      {
       "output_type": "stream",
       "stream": "stdout",
       "text": [
        "[2015-01-16 13:03:11,154][8258 ][monk.network.producer][INFO    ][37  ][producer.py] : sending message ('{\"password\": \"\", \"op\": \"UpdateUser\", \"name\": \"mluser3816\", \"partition\": 1}',) at monkTestAdmin@0\n"
       ]
      },
      {
       "output_type": "stream",
       "stream": "stdout",
       "text": [
        "[2015-01-16 13:03:11,163][8258 ][monk.network.producer][INFO    ][37  ][producer.py] : sending message ('{\"password\": \"\", \"op\": \"UpdateUser\", \"name\": \"mluser3818\", \"partition\": 1}',) at monkTestAdmin@0\n"
       ]
      },
      {
       "output_type": "stream",
       "stream": "stdout",
       "text": [
        "[2015-01-16 13:03:11,178][8258 ][monk.network.producer][INFO    ][37  ][producer.py] : sending message ('{\"password\": \"\", \"op\": \"UpdateUser\", \"name\": \"mluser3824\", \"partition\": 1}',) at monkTestAdmin@0\n"
       ]
      },
      {
       "output_type": "stream",
       "stream": "stdout",
       "text": [
        "[2015-01-16 13:03:11,186][8258 ][monk.network.producer][INFO    ][37  ][producer.py] : sending message ('{\"password\": \"\", \"op\": \"UpdateUser\", \"name\": \"mluser3826\", \"partition\": 1}',) at monkTestAdmin@0\n"
       ]
      },
      {
       "output_type": "stream",
       "stream": "stdout",
       "text": [
        "[2015-01-16 13:03:11,193][8258 ][monk.network.producer][INFO    ][37  ][producer.py] : sending message ('{\"password\": \"\", \"op\": \"UpdateUser\", \"name\": \"mluser3832\", \"partition\": 1}',) at monkTestAdmin@0\n"
       ]
      },
      {
       "output_type": "stream",
       "stream": "stdout",
       "text": [
        "[2015-01-16 13:03:11,204][8258 ][monk.network.producer][INFO    ][37  ][producer.py] : sending message ('{\"password\": \"\", \"op\": \"UpdateUser\", \"name\": \"mluser3834\", \"partition\": 1}',) at monkTestAdmin@0\n"
       ]
      },
      {
       "output_type": "stream",
       "stream": "stdout",
       "text": [
        "[2015-01-16 13:03:11,213][8258 ][monk.network.producer][INFO    ][37  ][producer.py] : sending message ('{\"password\": \"\", \"op\": \"UpdateUser\", \"name\": \"mluser3840\", \"partition\": 1}',) at monkTestAdmin@0\n"
       ]
      },
      {
       "output_type": "stream",
       "stream": "stdout",
       "text": [
        "[2015-01-16 13:03:11,219][8258 ][monk.network.producer][INFO    ][37  ][producer.py] : sending message ('{\"password\": \"\", \"op\": \"UpdateUser\", \"name\": \"mluser3842\", \"partition\": 1}',) at monkTestAdmin@0\n"
       ]
      },
      {
       "output_type": "stream",
       "stream": "stdout",
       "text": [
        "[2015-01-16 13:03:11,229][8258 ][monk.network.producer][INFO    ][37  ][producer.py] : sending message ('{\"password\": \"\", \"op\": \"UpdateUser\", \"name\": \"mluser3848\", \"partition\": 1}',) at monkTestAdmin@0\n"
       ]
      },
      {
       "output_type": "stream",
       "stream": "stdout",
       "text": [
        "[2015-01-16 13:03:11,241][8258 ][monk.network.producer][INFO    ][37  ][producer.py] : sending message ('{\"password\": \"\", \"op\": \"UpdateUser\", \"name\": \"mluser3850\", \"partition\": 1}',) at monkTestAdmin@0\n"
       ]
      },
      {
       "output_type": "stream",
       "stream": "stdout",
       "text": [
        "[2015-01-16 13:03:11,258][8258 ][monk.network.producer][INFO    ][37  ][producer.py] : sending message ('{\"password\": \"\", \"op\": \"UpdateUser\", \"name\": \"mluser3856\", \"partition\": 1}',) at monkTestAdmin@0\n"
       ]
      },
      {
       "output_type": "stream",
       "stream": "stdout",
       "text": [
        "[2015-01-16 13:03:11,268][8258 ][monk.network.producer][INFO    ][37  ][producer.py] : sending message ('{\"password\": \"\", \"op\": \"UpdateUser\", \"name\": \"mluser3858\", \"partition\": 1}',) at monkTestAdmin@0\n"
       ]
      },
      {
       "output_type": "stream",
       "stream": "stdout",
       "text": [
        "[2015-01-16 13:03:11,279][8258 ][monk.network.producer][INFO    ][37  ][producer.py] : sending message ('{\"password\": \"\", \"op\": \"UpdateUser\", \"name\": \"mluser3864\", \"partition\": 1}',) at monkTestAdmin@0\n"
       ]
      },
      {
       "output_type": "stream",
       "stream": "stdout",
       "text": [
        "[2015-01-16 13:03:11,286][8258 ][monk.network.producer][INFO    ][37  ][producer.py] : sending message ('{\"password\": \"\", \"op\": \"UpdateUser\", \"name\": \"mluser3866\", \"partition\": 1}',) at monkTestAdmin@0\n"
       ]
      },
      {
       "output_type": "stream",
       "stream": "stdout",
       "text": [
        "[2015-01-16 13:03:11,294][8258 ][monk.network.producer][INFO    ][37  ][producer.py] : sending message ('{\"password\": \"\", \"op\": \"UpdateUser\", \"name\": \"mluser3872\", \"partition\": 1}',) at monkTestAdmin@0\n"
       ]
      },
      {
       "output_type": "stream",
       "stream": "stdout",
       "text": [
        "[2015-01-16 13:03:11,307][8258 ][monk.network.producer][INFO    ][37  ][producer.py] : sending message ('{\"password\": \"\", \"op\": \"UpdateUser\", \"name\": \"mluser3874\", \"partition\": 1}',) at monkTestAdmin@0\n"
       ]
      },
      {
       "output_type": "stream",
       "stream": "stdout",
       "text": [
        "[2015-01-16 13:03:11,317][8258 ][monk.network.producer][INFO    ][37  ][producer.py] : sending message ('{\"password\": \"\", \"op\": \"UpdateUser\", \"name\": \"mluser3880\", \"partition\": 1}',) at monkTestAdmin@0\n"
       ]
      },
      {
       "output_type": "stream",
       "stream": "stdout",
       "text": [
        "[2015-01-16 13:03:11,329][8258 ][monk.network.producer][INFO    ][37  ][producer.py] : sending message ('{\"password\": \"\", \"op\": \"UpdateUser\", \"name\": \"mluser3882\", \"partition\": 1}',) at monkTestAdmin@0\n"
       ]
      },
      {
       "output_type": "stream",
       "stream": "stdout",
       "text": [
        "[2015-01-16 13:03:11,339][8258 ][monk.network.producer][INFO    ][37  ][producer.py] : sending message ('{\"password\": \"\", \"op\": \"UpdateUser\", \"name\": \"mluser3888\", \"partition\": 1}',) at monkTestAdmin@0\n"
       ]
      },
      {
       "output_type": "stream",
       "stream": "stdout",
       "text": [
        "[2015-01-16 13:03:11,351][8258 ][monk.network.producer][INFO    ][37  ][producer.py] : sending message ('{\"password\": \"\", \"op\": \"UpdateUser\", \"name\": \"mluser3890\", \"partition\": 1}',) at monkTestAdmin@0\n"
       ]
      },
      {
       "output_type": "stream",
       "stream": "stdout",
       "text": [
        "[2015-01-16 13:03:11,360][8258 ][monk.network.producer][INFO    ][37  ][producer.py] : sending message ('{\"password\": \"\", \"op\": \"UpdateUser\", \"name\": \"mluser3896\", \"partition\": 1}',) at monkTestAdmin@0\n"
       ]
      },
      {
       "output_type": "stream",
       "stream": "stdout",
       "text": [
        "[2015-01-16 13:03:11,376][8258 ][monk.network.producer][INFO    ][37  ][producer.py] : sending message ('{\"password\": \"\", \"op\": \"UpdateUser\", \"name\": \"mluser3898\", \"partition\": 1}',) at monkTestAdmin@0\n"
       ]
      },
      {
       "output_type": "stream",
       "stream": "stdout",
       "text": [
        "[2015-01-16 13:03:11,389][8258 ][monk.network.producer][INFO    ][37  ][producer.py] : sending message ('{\"password\": \"\", \"op\": \"UpdateUser\", \"name\": \"mluser3904\", \"partition\": 1}',) at monkTestAdmin@0\n"
       ]
      },
      {
       "output_type": "stream",
       "stream": "stdout",
       "text": [
        "[2015-01-16 13:03:11,402][8258 ][monk.network.producer][INFO    ][37  ][producer.py] : sending message ('{\"password\": \"\", \"op\": \"UpdateUser\", \"name\": \"mluser3906\", \"partition\": 1}',) at monkTestAdmin@0\n"
       ]
      },
      {
       "output_type": "stream",
       "stream": "stdout",
       "text": [
        "[2015-01-16 13:03:11,411][8258 ][monk.network.producer][INFO    ][37  ][producer.py] : sending message ('{\"password\": \"\", \"op\": \"UpdateUser\", \"name\": \"mluser3912\", \"partition\": 1}',) at monkTestAdmin@0\n"
       ]
      },
      {
       "output_type": "stream",
       "stream": "stdout",
       "text": [
        "[2015-01-16 13:03:11,424][8258 ][monk.network.producer][INFO    ][37  ][producer.py] : sending message ('{\"password\": \"\", \"op\": \"UpdateUser\", \"name\": \"mluser3914\", \"partition\": 1}',) at monkTestAdmin@0\n"
       ]
      },
      {
       "output_type": "stream",
       "stream": "stdout",
       "text": [
        "[2015-01-16 13:03:11,431][8258 ][monk.network.producer][INFO    ][37  ][producer.py] : sending message ('{\"password\": \"\", \"op\": \"UpdateUser\", \"name\": \"mluser3920\", \"partition\": 1}',) at monkTestAdmin@0\n"
       ]
      },
      {
       "output_type": "stream",
       "stream": "stdout",
       "text": [
        "[2015-01-16 13:03:11,443][8258 ][monk.network.producer][INFO    ][37  ][producer.py] : sending message ('{\"password\": \"\", \"op\": \"UpdateUser\", \"name\": \"mluser3922\", \"partition\": 1}',) at monkTestAdmin@0\n"
       ]
      },
      {
       "output_type": "stream",
       "stream": "stdout",
       "text": [
        "[2015-01-16 13:03:11,454][8258 ][monk.network.producer][INFO    ][37  ][producer.py] : sending message ('{\"password\": \"\", \"op\": \"UpdateUser\", \"name\": \"mluser3928\", \"partition\": 1}',) at monkTestAdmin@0\n"
       ]
      },
      {
       "output_type": "stream",
       "stream": "stdout",
       "text": [
        "[2015-01-16 13:03:11,461][8258 ][monk.network.producer][INFO    ][37  ][producer.py] : sending message ('{\"password\": \"\", \"op\": \"UpdateUser\", \"name\": \"mluser3930\", \"partition\": 1}',) at monkTestAdmin@0\n"
       ]
      },
      {
       "output_type": "stream",
       "stream": "stdout",
       "text": [
        "[2015-01-16 13:03:11,472][8258 ][monk.network.producer][INFO    ][37  ][producer.py] : sending message ('{\"password\": \"\", \"op\": \"UpdateUser\", \"name\": \"mluser3936\", \"partition\": 1}',) at monkTestAdmin@0\n"
       ]
      },
      {
       "output_type": "stream",
       "stream": "stdout",
       "text": [
        "[2015-01-16 13:03:11,492][8258 ][monk.network.producer][INFO    ][37  ][producer.py] : sending message ('{\"password\": \"\", \"op\": \"UpdateUser\", \"name\": \"mluser3938\", \"partition\": 1}',) at monkTestAdmin@0\n"
       ]
      },
      {
       "output_type": "stream",
       "stream": "stdout",
       "text": [
        "[2015-01-16 13:03:11,499][8258 ][monk.network.producer][INFO    ][37  ][producer.py] : sending message ('{\"password\": \"\", \"op\": \"UpdateUser\", \"name\": \"mluser3944\", \"partition\": 1}',) at monkTestAdmin@0\n"
       ]
      },
      {
       "output_type": "stream",
       "stream": "stdout",
       "text": [
        "[2015-01-16 13:03:11,511][8258 ][monk.network.producer][INFO    ][37  ][producer.py] : sending message ('{\"password\": \"\", \"op\": \"UpdateUser\", \"name\": \"mluser3946\", \"partition\": 1}',) at monkTestAdmin@0\n"
       ]
      },
      {
       "output_type": "stream",
       "stream": "stdout",
       "text": [
        "[2015-01-16 13:03:11,519][8258 ][monk.network.producer][INFO    ][37  ][producer.py] : sending message ('{\"password\": \"\", \"op\": \"UpdateUser\", \"name\": \"mluser3952\", \"partition\": 1}',) at monkTestAdmin@0\n"
       ]
      },
      {
       "output_type": "stream",
       "stream": "stdout",
       "text": [
        "[2015-01-16 13:03:11,526][8258 ][monk.network.producer][INFO    ][37  ][producer.py] : sending message ('{\"password\": \"\", \"op\": \"UpdateUser\", \"name\": \"mluser3954\", \"partition\": 1}',) at monkTestAdmin@0\n"
       ]
      },
      {
       "output_type": "stream",
       "stream": "stdout",
       "text": [
        "[2015-01-16 13:03:11,546][8258 ][monk.network.producer][INFO    ][37  ][producer.py] : sending message ('{\"password\": \"\", \"op\": \"UpdateUser\", \"name\": \"mluser3960\", \"partition\": 1}',) at monkTestAdmin@0\n"
       ]
      },
      {
       "output_type": "stream",
       "stream": "stdout",
       "text": [
        "[2015-01-16 13:03:11,556][8258 ][monk.network.producer][INFO    ][37  ][producer.py] : sending message ('{\"password\": \"\", \"op\": \"UpdateUser\", \"name\": \"mluser3962\", \"partition\": 1}',) at monkTestAdmin@0\n"
       ]
      },
      {
       "output_type": "stream",
       "stream": "stdout",
       "text": [
        "[2015-01-16 13:03:11,565][8258 ][monk.network.producer][INFO    ][37  ][producer.py] : sending message ('{\"password\": \"\", \"op\": \"UpdateUser\", \"name\": \"mluser3968\", \"partition\": 1}',) at monkTestAdmin@0\n"
       ]
      },
      {
       "output_type": "stream",
       "stream": "stdout",
       "text": [
        "[2015-01-16 13:03:11,572][8258 ][monk.network.producer][INFO    ][37  ][producer.py] : sending message ('{\"password\": \"\", \"op\": \"UpdateUser\", \"name\": \"mluser3970\", \"partition\": 1}',) at monkTestAdmin@0\n"
       ]
      },
      {
       "output_type": "stream",
       "stream": "stdout",
       "text": [
        "[2015-01-16 13:03:11,580][8258 ][monk.network.producer][INFO    ][37  ][producer.py] : sending message ('{\"password\": \"\", \"op\": \"UpdateUser\", \"name\": \"mluser3976\", \"partition\": 1}',) at monkTestAdmin@0\n"
       ]
      },
      {
       "output_type": "stream",
       "stream": "stdout",
       "text": [
        "[2015-01-16 13:03:11,586][8258 ][monk.network.producer][INFO    ][37  ][producer.py] : sending message ('{\"password\": \"\", \"op\": \"UpdateUser\", \"name\": \"mluser3978\", \"partition\": 1}',) at monkTestAdmin@0\n"
       ]
      },
      {
       "output_type": "stream",
       "stream": "stdout",
       "text": [
        "[2015-01-16 13:03:11,594][8258 ][monk.network.producer][INFO    ][37  ][producer.py] : sending message ('{\"password\": \"\", \"op\": \"UpdateUser\", \"name\": \"mluser3984\", \"partition\": 1}',) at monkTestAdmin@0\n"
       ]
      },
      {
       "output_type": "stream",
       "stream": "stdout",
       "text": [
        "[2015-01-16 13:03:11,609][8258 ][monk.network.producer][INFO    ][37  ][producer.py] : sending message ('{\"password\": \"\", \"op\": \"UpdateUser\", \"name\": \"mluser3986\", \"partition\": 1}',) at monkTestAdmin@0\n"
       ]
      },
      {
       "output_type": "stream",
       "stream": "stdout",
       "text": [
        "[2015-01-16 13:03:11,615][8258 ][monk.network.producer][INFO    ][37  ][producer.py] : sending message ('{\"password\": \"\", \"op\": \"UpdateUser\", \"name\": \"mluser3992\", \"partition\": 1}',) at monkTestAdmin@0\n"
       ]
      },
      {
       "output_type": "stream",
       "stream": "stdout",
       "text": [
        "[2015-01-16 13:03:11,626][8258 ][monk.network.producer][INFO    ][37  ][producer.py] : sending message ('{\"password\": \"\", \"op\": \"UpdateUser\", \"name\": \"mluser3994\", \"partition\": 1}',) at monkTestAdmin@0\n"
       ]
      },
      {
       "output_type": "stream",
       "stream": "stdout",
       "text": [
        "[2015-01-16 13:03:11,636][8258 ][monk.network.producer][INFO    ][37  ][producer.py] : sending message ('{\"password\": \"\", \"op\": \"UpdateUser\", \"name\": \"mluser4000\", \"partition\": 1}',) at monkTestAdmin@0\n"
       ]
      },
      {
       "output_type": "stream",
       "stream": "stdout",
       "text": [
        "[2015-01-16 13:03:11,647][8258 ][monk.network.producer][INFO    ][37  ][producer.py] : sending message ('{\"password\": \"\", \"op\": \"UpdateUser\", \"name\": \"mluser4002\", \"partition\": 1}',) at monkTestAdmin@0\n"
       ]
      },
      {
       "output_type": "stream",
       "stream": "stdout",
       "text": [
        "[2015-01-16 13:03:11,658][8258 ][monk.network.producer][INFO    ][37  ][producer.py] : sending message ('{\"password\": \"\", \"op\": \"UpdateUser\", \"name\": \"mluser4008\", \"partition\": 1}',) at monkTestAdmin@0\n"
       ]
      },
      {
       "output_type": "stream",
       "stream": "stdout",
       "text": [
        "[2015-01-16 13:03:11,668][8258 ][monk.network.producer][INFO    ][37  ][producer.py] : sending message ('{\"password\": \"\", \"op\": \"UpdateUser\", \"name\": \"mluser4010\", \"partition\": 1}',) at monkTestAdmin@0\n"
       ]
      },
      {
       "output_type": "stream",
       "stream": "stdout",
       "text": [
        "[2015-01-16 13:03:11,676][8258 ][monk.network.producer][INFO    ][37  ][producer.py] : sending message ('{\"password\": \"\", \"op\": \"UpdateUser\", \"name\": \"mluser4016\", \"partition\": 1}',) at monkTestAdmin@0\n"
       ]
      },
      {
       "output_type": "stream",
       "stream": "stdout",
       "text": [
        "[2015-01-16 13:03:11,682][8258 ][monk.network.producer][INFO    ][37  ][producer.py] : sending message ('{\"password\": \"\", \"op\": \"UpdateUser\", \"name\": \"mluser4018\", \"partition\": 1}',) at monkTestAdmin@0\n"
       ]
      },
      {
       "output_type": "stream",
       "stream": "stdout",
       "text": [
        "[2015-01-16 13:03:11,691][8258 ][monk.network.producer][INFO    ][37  ][producer.py] : sending message ('{\"password\": \"\", \"op\": \"UpdateUser\", \"name\": \"mluser4024\", \"partition\": 1}',) at monkTestAdmin@0\n"
       ]
      },
      {
       "output_type": "stream",
       "stream": "stdout",
       "text": [
        "[2015-01-16 13:03:11,699][8258 ][monk.network.producer][INFO    ][37  ][producer.py] : sending message ('{\"password\": \"\", \"op\": \"UpdateUser\", \"name\": \"mluser4026\", \"partition\": 1}',) at monkTestAdmin@0\n"
       ]
      },
      {
       "output_type": "stream",
       "stream": "stdout",
       "text": [
        "[2015-01-16 13:03:11,714][8258 ][monk.network.producer][INFO    ][37  ][producer.py] : sending message ('{\"password\": \"\", \"op\": \"UpdateUser\", \"name\": \"mluser4032\", \"partition\": 1}',) at monkTestAdmin@0\n"
       ]
      },
      {
       "output_type": "stream",
       "stream": "stdout",
       "text": [
        "[2015-01-16 13:03:11,722][8258 ][monk.network.producer][INFO    ][37  ][producer.py] : sending message ('{\"password\": \"\", \"op\": \"UpdateUser\", \"name\": \"mluser4034\", \"partition\": 1}',) at monkTestAdmin@0\n"
       ]
      },
      {
       "output_type": "stream",
       "stream": "stdout",
       "text": [
        "[2015-01-16 13:03:11,730][8258 ][monk.network.producer][INFO    ][37  ][producer.py] : sending message ('{\"password\": \"\", \"op\": \"UpdateUser\", \"name\": \"mluser4040\", \"partition\": 1}',) at monkTestAdmin@0\n"
       ]
      },
      {
       "output_type": "stream",
       "stream": "stdout",
       "text": [
        "[2015-01-16 13:03:11,738][8258 ][monk.network.producer][INFO    ][37  ][producer.py] : sending message ('{\"password\": \"\", \"op\": \"UpdateUser\", \"name\": \"mluser4042\", \"partition\": 1}',) at monkTestAdmin@0\n"
       ]
      },
      {
       "output_type": "stream",
       "stream": "stdout",
       "text": [
        "[2015-01-16 13:03:11,745][8258 ][monk.network.producer][INFO    ][37  ][producer.py] : sending message ('{\"password\": \"\", \"op\": \"UpdateUser\", \"name\": \"mluser4048\", \"partition\": 1}',) at monkTestAdmin@0\n"
       ]
      },
      {
       "output_type": "stream",
       "stream": "stdout",
       "text": [
        "[2015-01-16 13:03:11,777][8258 ][monk.network.producer][INFO    ][37  ][producer.py] : sending message ('{\"password\": \"\", \"op\": \"UpdateUser\", \"name\": \"mluser4050\", \"partition\": 1}',) at monkTestAdmin@0\n"
       ]
      },
      {
       "output_type": "stream",
       "stream": "stdout",
       "text": [
        "[2015-01-16 13:03:11,787][8258 ][monk.network.producer][INFO    ][37  ][producer.py] : sending message ('{\"password\": \"\", \"op\": \"UpdateUser\", \"name\": \"mluser4056\", \"partition\": 1}',) at monkTestAdmin@0\n"
       ]
      },
      {
       "output_type": "stream",
       "stream": "stdout",
       "text": [
        "[2015-01-16 13:03:11,796][8258 ][monk.network.producer][INFO    ][37  ][producer.py] : sending message ('{\"password\": \"\", \"op\": \"UpdateUser\", \"name\": \"mluser4058\", \"partition\": 1}',) at monkTestAdmin@0\n"
       ]
      },
      {
       "output_type": "stream",
       "stream": "stdout",
       "text": [
        "[2015-01-16 13:03:11,804][8258 ][monk.network.producer][INFO    ][37  ][producer.py] : sending message ('{\"password\": \"\", \"op\": \"UpdateUser\", \"name\": \"mluser4064\", \"partition\": 1}',) at monkTestAdmin@0\n"
       ]
      },
      {
       "output_type": "stream",
       "stream": "stdout",
       "text": [
        "[2015-01-16 13:03:11,827][8258 ][monk.network.producer][INFO    ][37  ][producer.py] : sending message ('{\"password\": \"\", \"op\": \"UpdateUser\", \"name\": \"mluser4066\", \"partition\": 1}',) at monkTestAdmin@0\n"
       ]
      },
      {
       "output_type": "stream",
       "stream": "stdout",
       "text": [
        "[2015-01-16 13:03:11,833][8258 ][monk.network.producer][INFO    ][37  ][producer.py] : sending message ('{\"password\": \"\", \"op\": \"UpdateUser\", \"name\": \"mluser4072\", \"partition\": 1}',) at monkTestAdmin@0\n"
       ]
      },
      {
       "output_type": "stream",
       "stream": "stdout",
       "text": [
        "[2015-01-16 13:03:11,846][8258 ][monk.network.producer][INFO    ][37  ][producer.py] : sending message ('{\"password\": \"\", \"op\": \"UpdateUser\", \"name\": \"mluser4074\", \"partition\": 1}',) at monkTestAdmin@0\n"
       ]
      },
      {
       "output_type": "stream",
       "stream": "stdout",
       "text": [
        "[2015-01-16 13:03:11,861][8258 ][monk.network.producer][INFO    ][37  ][producer.py] : sending message ('{\"password\": \"\", \"op\": \"UpdateUser\", \"name\": \"mluser4080\", \"partition\": 1}',) at monkTestAdmin@0\n"
       ]
      },
      {
       "output_type": "stream",
       "stream": "stdout",
       "text": [
        "[2015-01-16 13:03:11,868][8258 ][monk.network.producer][INFO    ][37  ][producer.py] : sending message ('{\"password\": \"\", \"op\": \"UpdateUser\", \"name\": \"mluser4082\", \"partition\": 1}',) at monkTestAdmin@0\n"
       ]
      },
      {
       "output_type": "stream",
       "stream": "stdout",
       "text": [
        "[2015-01-16 13:03:11,879][8258 ][monk.network.producer][INFO    ][37  ][producer.py] : sending message ('{\"password\": \"\", \"op\": \"UpdateUser\", \"name\": \"mluser4088\", \"partition\": 1}',) at monkTestAdmin@0\n"
       ]
      },
      {
       "output_type": "stream",
       "stream": "stdout",
       "text": [
        "[2015-01-16 13:03:11,887][8258 ][monk.network.producer][INFO    ][37  ][producer.py] : sending message ('{\"password\": \"\", \"op\": \"UpdateUser\", \"name\": \"mluser4090\", \"partition\": 1}',) at monkTestAdmin@0\n"
       ]
      },
      {
       "output_type": "stream",
       "stream": "stdout",
       "text": [
        "[2015-01-16 13:03:11,897][8258 ][monk.network.producer][INFO    ][37  ][producer.py] : sending message ('{\"password\": \"\", \"op\": \"UpdateUser\", \"name\": \"mluser4096\", \"partition\": 1}',) at monkTestAdmin@0\n"
       ]
      },
      {
       "output_type": "stream",
       "stream": "stdout",
       "text": [
        "[2015-01-16 13:03:11,906][8258 ][monk.network.producer][INFO    ][37  ][producer.py] : sending message ('{\"password\": \"\", \"op\": \"UpdateUser\", \"name\": \"mluser4098\", \"partition\": 1}',) at monkTestAdmin@0\n"
       ]
      },
      {
       "output_type": "stream",
       "stream": "stdout",
       "text": [
        "[2015-01-16 13:03:11,931][8258 ][monk.network.producer][INFO    ][37  ][producer.py] : sending message ('{\"password\": \"\", \"op\": \"UpdateUser\", \"name\": \"mluser4104\", \"partition\": 1}',) at monkTestAdmin@0\n"
       ]
      },
      {
       "output_type": "stream",
       "stream": "stdout",
       "text": [
        "[2015-01-16 13:03:11,939][8258 ][monk.network.producer][INFO    ][37  ][producer.py] : sending message ('{\"password\": \"\", \"op\": \"UpdateUser\", \"name\": \"mluser4106\", \"partition\": 1}',) at monkTestAdmin@0\n"
       ]
      },
      {
       "output_type": "stream",
       "stream": "stdout",
       "text": [
        "[2015-01-16 13:03:11,947][8258 ][monk.network.producer][INFO    ][37  ][producer.py] : sending message ('{\"password\": \"\", \"op\": \"UpdateUser\", \"name\": \"mluser4112\", \"partition\": 1}',) at monkTestAdmin@0\n"
       ]
      },
      {
       "output_type": "stream",
       "stream": "stdout",
       "text": [
        "[2015-01-16 13:03:11,956][8258 ][monk.network.producer][INFO    ][37  ][producer.py] : sending message ('{\"password\": \"\", \"op\": \"UpdateUser\", \"name\": \"mluser4114\", \"partition\": 1}',) at monkTestAdmin@0\n"
       ]
      },
      {
       "output_type": "stream",
       "stream": "stdout",
       "text": [
        "[2015-01-16 13:03:12,187][8258 ][monk.network.producer][INFO    ][37  ][producer.py] : sending message ('{\"password\": \"\", \"op\": \"UpdateUser\", \"name\": \"mluser4120\", \"partition\": 1}',) at monkTestAdmin@0\n"
       ]
      },
      {
       "output_type": "stream",
       "stream": "stdout",
       "text": [
        "[2015-01-16 13:03:12,203][8258 ][monk.network.producer][INFO    ][37  ][producer.py] : sending message ('{\"password\": \"\", \"op\": \"UpdateUser\", \"name\": \"mluser4122\", \"partition\": 1}',) at monkTestAdmin@0\n"
       ]
      },
      {
       "output_type": "stream",
       "stream": "stdout",
       "text": [
        "[2015-01-16 13:03:12,212][8258 ][monk.network.producer][INFO    ][37  ][producer.py] : sending message ('{\"password\": \"\", \"op\": \"UpdateUser\", \"name\": \"mluser4128\", \"partition\": 1}',) at monkTestAdmin@0\n"
       ]
      },
      {
       "output_type": "stream",
       "stream": "stdout",
       "text": [
        "[2015-01-16 13:03:12,222][8258 ][monk.network.producer][INFO    ][37  ][producer.py] : sending message ('{\"password\": \"\", \"op\": \"UpdateUser\", \"name\": \"mluser4130\", \"partition\": 1}',) at monkTestAdmin@0\n"
       ]
      },
      {
       "output_type": "stream",
       "stream": "stdout",
       "text": [
        "[2015-01-16 13:03:12,231][8258 ][monk.network.producer][INFO    ][37  ][producer.py] : sending message ('{\"password\": \"\", \"op\": \"UpdateUser\", \"name\": \"mluser4136\", \"partition\": 1}',) at monkTestAdmin@0\n"
       ]
      },
      {
       "output_type": "stream",
       "stream": "stdout",
       "text": [
        "[2015-01-16 13:03:12,239][8258 ][monk.network.producer][INFO    ][37  ][producer.py] : sending message ('{\"password\": \"\", \"op\": \"UpdateUser\", \"name\": \"mluser4138\", \"partition\": 1}',) at monkTestAdmin@0\n"
       ]
      },
      {
       "output_type": "stream",
       "stream": "stdout",
       "text": [
        "[2015-01-16 13:03:12,246][8258 ][monk.network.producer][INFO    ][37  ][producer.py] : sending message ('{\"password\": \"\", \"op\": \"UpdateUser\", \"name\": \"mluser4144\", \"partition\": 1}',) at monkTestAdmin@0\n"
       ]
      },
      {
       "output_type": "stream",
       "stream": "stdout",
       "text": [
        "[2015-01-16 13:03:12,257][8258 ][monk.network.producer][INFO    ][37  ][producer.py] : sending message ('{\"password\": \"\", \"op\": \"UpdateUser\", \"name\": \"mluser4146\", \"partition\": 1}',) at monkTestAdmin@0\n"
       ]
      },
      {
       "output_type": "stream",
       "stream": "stdout",
       "text": [
        "[2015-01-16 13:03:12,273][8258 ][monk.network.producer][INFO    ][37  ][producer.py] : sending message ('{\"password\": \"\", \"op\": \"UpdateUser\", \"name\": \"mluser4152\", \"partition\": 1}',) at monkTestAdmin@0\n"
       ]
      },
      {
       "output_type": "stream",
       "stream": "stdout",
       "text": [
        "[2015-01-16 13:03:12,289][8258 ][monk.network.producer][INFO    ][37  ][producer.py] : sending message ('{\"password\": \"\", \"op\": \"UpdateUser\", \"name\": \"mluser4154\", \"partition\": 1}',) at monkTestAdmin@0\n"
       ]
      },
      {
       "output_type": "stream",
       "stream": "stdout",
       "text": [
        "[2015-01-16 13:03:12,305][8258 ][monk.network.producer][INFO    ][37  ][producer.py] : sending message ('{\"password\": \"\", \"op\": \"UpdateUser\", \"name\": \"mluser4160\", \"partition\": 1}',) at monkTestAdmin@0\n"
       ]
      },
      {
       "output_type": "stream",
       "stream": "stdout",
       "text": [
        "[2015-01-16 13:03:12,312][8258 ][monk.network.producer][INFO    ][37  ][producer.py] : sending message ('{\"password\": \"\", \"op\": \"UpdateUser\", \"name\": \"mluser4162\", \"partition\": 1}',) at monkTestAdmin@0\n"
       ]
      },
      {
       "output_type": "stream",
       "stream": "stdout",
       "text": [
        "[2015-01-16 13:03:12,320][8258 ][monk.network.producer][INFO    ][37  ][producer.py] : sending message ('{\"password\": \"\", \"op\": \"UpdateUser\", \"name\": \"mluser4168\", \"partition\": 1}',) at monkTestAdmin@0\n"
       ]
      },
      {
       "output_type": "stream",
       "stream": "stdout",
       "text": [
        "[2015-01-16 13:03:12,331][8258 ][monk.network.producer][INFO    ][37  ][producer.py] : sending message ('{\"password\": \"\", \"op\": \"UpdateUser\", \"name\": \"mluser4170\", \"partition\": 1}',) at monkTestAdmin@0\n"
       ]
      },
      {
       "output_type": "stream",
       "stream": "stdout",
       "text": [
        "[2015-01-16 13:03:12,340][8258 ][monk.network.producer][INFO    ][37  ][producer.py] : sending message ('{\"password\": \"\", \"op\": \"UpdateUser\", \"name\": \"mluser4176\", \"partition\": 1}',) at monkTestAdmin@0\n"
       ]
      },
      {
       "output_type": "stream",
       "stream": "stdout",
       "text": [
        "[2015-01-16 13:03:12,356][8258 ][monk.network.producer][INFO    ][37  ][producer.py] : sending message ('{\"password\": \"\", \"op\": \"UpdateUser\", \"name\": \"mluser4178\", \"partition\": 1}',) at monkTestAdmin@0\n"
       ]
      },
      {
       "output_type": "stream",
       "stream": "stdout",
       "text": [
        "[2015-01-16 13:03:12,365][8258 ][monk.network.producer][INFO    ][37  ][producer.py] : sending message ('{\"password\": \"\", \"op\": \"UpdateUser\", \"name\": \"mluser4184\", \"partition\": 1}',) at monkTestAdmin@0\n"
       ]
      },
      {
       "output_type": "stream",
       "stream": "stdout",
       "text": [
        "[2015-01-16 13:03:12,375][8258 ][monk.network.producer][INFO    ][37  ][producer.py] : sending message ('{\"password\": \"\", \"op\": \"UpdateUser\", \"name\": \"mluser4186\", \"partition\": 1}',) at monkTestAdmin@0\n"
       ]
      },
      {
       "output_type": "stream",
       "stream": "stdout",
       "text": [
        "[2015-01-16 13:03:12,384][8258 ][monk.network.producer][INFO    ][37  ][producer.py] : sending message ('{\"password\": \"\", \"op\": \"UpdateUser\", \"name\": \"mluser4192\", \"partition\": 1}',) at monkTestAdmin@0\n"
       ]
      },
      {
       "output_type": "stream",
       "stream": "stdout",
       "text": [
        "[2015-01-16 13:03:12,391][8258 ][monk.network.producer][INFO    ][37  ][producer.py] : sending message ('{\"password\": \"\", \"op\": \"UpdateUser\", \"name\": \"mluser4194\", \"partition\": 1}',) at monkTestAdmin@0\n"
       ]
      },
      {
       "output_type": "stream",
       "stream": "stdout",
       "text": [
        "[2015-01-16 13:03:12,399][8258 ][monk.network.producer][INFO    ][37  ][producer.py] : sending message ('{\"password\": \"\", \"op\": \"UpdateUser\", \"name\": \"mluser4200\", \"partition\": 1}',) at monkTestAdmin@0\n"
       ]
      },
      {
       "output_type": "stream",
       "stream": "stdout",
       "text": [
        "[2015-01-16 13:03:12,411][8258 ][monk.network.producer][INFO    ][37  ][producer.py] : sending message ('{\"password\": \"\", \"op\": \"UpdateUser\", \"name\": \"mluser4202\", \"partition\": 1}',) at monkTestAdmin@0\n"
       ]
      },
      {
       "output_type": "stream",
       "stream": "stdout",
       "text": [
        "[2015-01-16 13:03:12,420][8258 ][monk.network.producer][INFO    ][37  ][producer.py] : sending message ('{\"password\": \"\", \"op\": \"UpdateUser\", \"name\": \"mluser4208\", \"partition\": 1}',) at monkTestAdmin@0\n"
       ]
      },
      {
       "output_type": "stream",
       "stream": "stdout",
       "text": [
        "[2015-01-16 13:03:12,433][8258 ][monk.network.producer][INFO    ][37  ][producer.py] : sending message ('{\"password\": \"\", \"op\": \"UpdateUser\", \"name\": \"mluser4210\", \"partition\": 1}',) at monkTestAdmin@0\n"
       ]
      },
      {
       "output_type": "stream",
       "stream": "stdout",
       "text": [
        "[2015-01-16 13:03:12,467][8258 ][monk.network.producer][INFO    ][37  ][producer.py] : sending message ('{\"password\": \"\", \"op\": \"UpdateUser\", \"name\": \"mluser4216\", \"partition\": 1}',) at monkTestAdmin@0\n"
       ]
      },
      {
       "output_type": "stream",
       "stream": "stdout",
       "text": [
        "[2015-01-16 13:03:12,483][8258 ][monk.network.producer][INFO    ][37  ][producer.py] : sending message ('{\"password\": \"\", \"op\": \"UpdateUser\", \"name\": \"mluser4218\", \"partition\": 1}',) at monkTestAdmin@0\n"
       ]
      },
      {
       "output_type": "stream",
       "stream": "stdout",
       "text": [
        "[2015-01-16 13:03:12,495][8258 ][monk.network.producer][INFO    ][37  ][producer.py] : sending message ('{\"password\": \"\", \"op\": \"UpdateUser\", \"name\": \"mluser4224\", \"partition\": 1}',) at monkTestAdmin@0\n"
       ]
      },
      {
       "output_type": "stream",
       "stream": "stdout",
       "text": [
        "[2015-01-16 13:03:12,509][8258 ][monk.network.producer][INFO    ][37  ][producer.py] : sending message ('{\"password\": \"\", \"op\": \"UpdateUser\", \"name\": \"mluser4226\", \"partition\": 1}',) at monkTestAdmin@0\n"
       ]
      },
      {
       "output_type": "stream",
       "stream": "stdout",
       "text": [
        "[2015-01-16 13:03:12,517][8258 ][monk.network.producer][INFO    ][37  ][producer.py] : sending message ('{\"password\": \"\", \"op\": \"UpdateUser\", \"name\": \"mluser4232\", \"partition\": 1}',) at monkTestAdmin@0\n"
       ]
      },
      {
       "output_type": "stream",
       "stream": "stdout",
       "text": [
        "[2015-01-16 13:03:12,535][8258 ][monk.network.producer][INFO    ][37  ][producer.py] : sending message ('{\"password\": \"\", \"op\": \"UpdateUser\", \"name\": \"mluser4234\", \"partition\": 1}',) at monkTestAdmin@0\n"
       ]
      },
      {
       "output_type": "stream",
       "stream": "stdout",
       "text": [
        "[2015-01-16 13:03:12,543][8258 ][monk.network.producer][INFO    ][37  ][producer.py] : sending message ('{\"password\": \"\", \"op\": \"UpdateUser\", \"name\": \"mluser4240\", \"partition\": 1}',) at monkTestAdmin@0\n"
       ]
      },
      {
       "output_type": "stream",
       "stream": "stdout",
       "text": [
        "[2015-01-16 13:03:12,550][8258 ][monk.network.producer][INFO    ][37  ][producer.py] : sending message ('{\"password\": \"\", \"op\": \"UpdateUser\", \"name\": \"mluser4242\", \"partition\": 1}',) at monkTestAdmin@0\n"
       ]
      },
      {
       "output_type": "stream",
       "stream": "stdout",
       "text": [
        "[2015-01-16 13:03:12,560][8258 ][monk.network.producer][INFO    ][37  ][producer.py] : sending message ('{\"password\": \"\", \"op\": \"UpdateUser\", \"name\": \"mluser4248\", \"partition\": 1}',) at monkTestAdmin@0\n"
       ]
      },
      {
       "output_type": "stream",
       "stream": "stdout",
       "text": [
        "[2015-01-16 13:03:12,569][8258 ][monk.network.producer][INFO    ][37  ][producer.py] : sending message ('{\"password\": \"\", \"op\": \"UpdateUser\", \"name\": \"mluser4250\", \"partition\": 1}',) at monkTestAdmin@0\n"
       ]
      },
      {
       "output_type": "stream",
       "stream": "stdout",
       "text": [
        "[2015-01-16 13:03:12,583][8258 ][monk.network.producer][INFO    ][37  ][producer.py] : sending message ('{\"password\": \"\", \"op\": \"UpdateUser\", \"name\": \"mluser4256\", \"partition\": 1}',) at monkTestAdmin@0\n"
       ]
      },
      {
       "output_type": "stream",
       "stream": "stdout",
       "text": [
        "[2015-01-16 13:03:12,596][8258 ][monk.network.producer][INFO    ][37  ][producer.py] : sending message ('{\"password\": \"\", \"op\": \"UpdateUser\", \"name\": \"mluser4258\", \"partition\": 1}',) at monkTestAdmin@0\n"
       ]
      },
      {
       "output_type": "stream",
       "stream": "stdout",
       "text": [
        "[2015-01-16 13:03:12,604][8258 ][monk.network.producer][INFO    ][37  ][producer.py] : sending message ('{\"password\": \"\", \"op\": \"UpdateUser\", \"name\": \"mluser4264\", \"partition\": 1}',) at monkTestAdmin@0\n"
       ]
      },
      {
       "output_type": "stream",
       "stream": "stdout",
       "text": [
        "[2015-01-16 13:03:12,611][8258 ][monk.network.producer][INFO    ][37  ][producer.py] : sending message ('{\"password\": \"\", \"op\": \"UpdateUser\", \"name\": \"mluser4266\", \"partition\": 1}',) at monkTestAdmin@0\n"
       ]
      },
      {
       "output_type": "stream",
       "stream": "stdout",
       "text": [
        "[2015-01-16 13:03:12,620][8258 ][monk.network.producer][INFO    ][37  ][producer.py] : sending message ('{\"password\": \"\", \"op\": \"UpdateUser\", \"name\": \"mluser4272\", \"partition\": 1}',) at monkTestAdmin@0\n"
       ]
      },
      {
       "output_type": "stream",
       "stream": "stdout",
       "text": [
        "[2015-01-16 13:03:12,632][8258 ][monk.network.producer][INFO    ][37  ][producer.py] : sending message ('{\"password\": \"\", \"op\": \"UpdateUser\", \"name\": \"mluser4274\", \"partition\": 1}',) at monkTestAdmin@0\n"
       ]
      },
      {
       "output_type": "stream",
       "stream": "stdout",
       "text": [
        "[2015-01-16 13:03:12,640][8258 ][monk.network.producer][INFO    ][37  ][producer.py] : sending message ('{\"password\": \"\", \"op\": \"UpdateUser\", \"name\": \"mluser4280\", \"partition\": 1}',) at monkTestAdmin@0\n"
       ]
      },
      {
       "output_type": "stream",
       "stream": "stdout",
       "text": [
        "[2015-01-16 13:03:12,647][8258 ][monk.network.producer][INFO    ][37  ][producer.py] : sending message ('{\"password\": \"\", \"op\": \"UpdateUser\", \"name\": \"mluser4282\", \"partition\": 1}',) at monkTestAdmin@0\n"
       ]
      },
      {
       "output_type": "stream",
       "stream": "stdout",
       "text": [
        "[2015-01-16 13:03:12,661][8258 ][monk.network.producer][INFO    ][37  ][producer.py] : sending message ('{\"password\": \"\", \"op\": \"UpdateUser\", \"name\": \"mluser4288\", \"partition\": 1}',) at monkTestAdmin@0\n"
       ]
      },
      {
       "output_type": "stream",
       "stream": "stdout",
       "text": [
        "[2015-01-16 13:03:12,670][8258 ][monk.network.producer][INFO    ][37  ][producer.py] : sending message ('{\"password\": \"\", \"op\": \"UpdateUser\", \"name\": \"mluser4290\", \"partition\": 1}',) at monkTestAdmin@0\n"
       ]
      },
      {
       "output_type": "stream",
       "stream": "stdout",
       "text": [
        "[2015-01-16 13:03:12,682][8258 ][monk.network.producer][INFO    ][37  ][producer.py] : sending message ('{\"password\": \"\", \"op\": \"UpdateUser\", \"name\": \"mluser4296\", \"partition\": 1}',) at monkTestAdmin@0\n"
       ]
      },
      {
       "output_type": "stream",
       "stream": "stdout",
       "text": [
        "[2015-01-16 13:03:12,689][8258 ][monk.network.producer][INFO    ][37  ][producer.py] : sending message ('{\"password\": \"\", \"op\": \"UpdateUser\", \"name\": \"mluser4298\", \"partition\": 1}',) at monkTestAdmin@0\n"
       ]
      },
      {
       "output_type": "stream",
       "stream": "stdout",
       "text": [
        "[2015-01-16 13:03:12,699][8258 ][monk.network.producer][INFO    ][37  ][producer.py] : sending message ('{\"password\": \"\", \"op\": \"UpdateUser\", \"name\": \"mluser4304\", \"partition\": 1}',) at monkTestAdmin@0\n"
       ]
      },
      {
       "output_type": "stream",
       "stream": "stdout",
       "text": [
        "[2015-01-16 13:03:12,706][8258 ][monk.network.producer][INFO    ][37  ][producer.py] : sending message ('{\"password\": \"\", \"op\": \"UpdateUser\", \"name\": \"mluser4306\", \"partition\": 1}',) at monkTestAdmin@0\n"
       ]
      },
      {
       "output_type": "stream",
       "stream": "stdout",
       "text": [
        "[2015-01-16 13:03:12,716][8258 ][monk.network.producer][INFO    ][37  ][producer.py] : sending message ('{\"password\": \"\", \"op\": \"UpdateUser\", \"name\": \"mluser4312\", \"partition\": 1}',) at monkTestAdmin@0\n"
       ]
      },
      {
       "output_type": "stream",
       "stream": "stdout",
       "text": [
        "[2015-01-16 13:03:12,725][8258 ][monk.network.producer][INFO    ][37  ][producer.py] : sending message ('{\"password\": \"\", \"op\": \"UpdateUser\", \"name\": \"mluser4314\", \"partition\": 1}',) at monkTestAdmin@0\n"
       ]
      },
      {
       "output_type": "stream",
       "stream": "stdout",
       "text": [
        "[2015-01-16 13:03:12,734][8258 ][monk.network.producer][INFO    ][37  ][producer.py] : sending message ('{\"password\": \"\", \"op\": \"UpdateUser\", \"name\": \"mluser4320\", \"partition\": 1}',) at monkTestAdmin@0\n"
       ]
      },
      {
       "output_type": "stream",
       "stream": "stdout",
       "text": [
        "[2015-01-16 13:03:12,741][8258 ][monk.network.producer][INFO    ][37  ][producer.py] : sending message ('{\"password\": \"\", \"op\": \"UpdateUser\", \"name\": \"mluser4322\", \"partition\": 1}',) at monkTestAdmin@0\n"
       ]
      },
      {
       "output_type": "stream",
       "stream": "stdout",
       "text": [
        "[2015-01-16 13:03:12,965][8258 ][monk.network.producer][INFO    ][37  ][producer.py] : sending message ('{\"password\": \"\", \"op\": \"UpdateUser\", \"name\": \"mluser4328\", \"partition\": 1}',) at monkTestAdmin@0\n"
       ]
      },
      {
       "output_type": "stream",
       "stream": "stdout",
       "text": [
        "[2015-01-16 13:03:12,977][8258 ][monk.network.producer][INFO    ][37  ][producer.py] : sending message ('{\"password\": \"\", \"op\": \"UpdateUser\", \"name\": \"mluser4330\", \"partition\": 1}',) at monkTestAdmin@0\n"
       ]
      },
      {
       "output_type": "stream",
       "stream": "stdout",
       "text": [
        "[2015-01-16 13:03:12,989][8258 ][monk.network.producer][INFO    ][37  ][producer.py] : sending message ('{\"password\": \"\", \"op\": \"UpdateUser\", \"name\": \"mluser4336\", \"partition\": 1}',) at monkTestAdmin@0\n"
       ]
      },
      {
       "output_type": "stream",
       "stream": "stdout",
       "text": [
        "[2015-01-16 13:03:12,996][8258 ][monk.network.producer][INFO    ][37  ][producer.py] : sending message ('{\"password\": \"\", \"op\": \"UpdateUser\", \"name\": \"mluser4338\", \"partition\": 1}',) at monkTestAdmin@0\n"
       ]
      },
      {
       "output_type": "stream",
       "stream": "stdout",
       "text": [
        "[2015-01-16 13:03:13,005][8258 ][monk.network.producer][INFO    ][37  ][producer.py] : sending message ('{\"password\": \"\", \"op\": \"UpdateUser\", \"name\": \"mluser4344\", \"partition\": 1}',) at monkTestAdmin@0\n"
       ]
      },
      {
       "output_type": "stream",
       "stream": "stdout",
       "text": [
        "[2015-01-16 13:03:13,013][8258 ][monk.network.producer][INFO    ][37  ][producer.py] : sending message ('{\"password\": \"\", \"op\": \"UpdateUser\", \"name\": \"mluser4346\", \"partition\": 1}',) at monkTestAdmin@0\n"
       ]
      },
      {
       "output_type": "stream",
       "stream": "stdout",
       "text": [
        "[2015-01-16 13:03:13,021][8258 ][monk.network.producer][INFO    ][37  ][producer.py] : sending message ('{\"password\": \"\", \"op\": \"UpdateUser\", \"name\": \"mluser4352\", \"partition\": 1}',) at monkTestAdmin@0\n"
       ]
      },
      {
       "output_type": "stream",
       "stream": "stdout",
       "text": [
        "[2015-01-16 13:03:13,028][8258 ][monk.network.producer][INFO    ][37  ][producer.py] : sending message ('{\"password\": \"\", \"op\": \"UpdateUser\", \"name\": \"mluser4354\", \"partition\": 1}',) at monkTestAdmin@0\n"
       ]
      },
      {
       "output_type": "stream",
       "stream": "stdout",
       "text": [
        "[2015-01-16 13:03:13,034][8258 ][monk.network.producer][INFO    ][37  ][producer.py] : sending message ('{\"password\": \"\", \"op\": \"UpdateUser\", \"name\": \"mluser4360\", \"partition\": 1}',) at monkTestAdmin@0\n"
       ]
      },
      {
       "output_type": "stream",
       "stream": "stdout",
       "text": [
        "[2015-01-16 13:03:13,041][8258 ][monk.network.producer][INFO    ][37  ][producer.py] : sending message ('{\"password\": \"\", \"op\": \"UpdateUser\", \"name\": \"mluser4362\", \"partition\": 1}',) at monkTestAdmin@0\n"
       ]
      },
      {
       "output_type": "stream",
       "stream": "stdout",
       "text": [
        "[2015-01-16 13:03:13,047][8258 ][monk.network.producer][INFO    ][37  ][producer.py] : sending message ('{\"password\": \"\", \"op\": \"UpdateUser\", \"name\": \"mluser4368\", \"partition\": 1}',) at monkTestAdmin@0\n"
       ]
      },
      {
       "output_type": "stream",
       "stream": "stdout",
       "text": [
        "[2015-01-16 13:03:13,056][8258 ][monk.network.producer][INFO    ][37  ][producer.py] : sending message ('{\"password\": \"\", \"op\": \"UpdateUser\", \"name\": \"mluser4370\", \"partition\": 1}',) at monkTestAdmin@0\n"
       ]
      },
      {
       "output_type": "stream",
       "stream": "stdout",
       "text": [
        "[2015-01-16 13:03:13,062][8258 ][monk.network.producer][INFO    ][37  ][producer.py] : sending message ('{\"password\": \"\", \"op\": \"UpdateUser\", \"name\": \"mluser4376\", \"partition\": 1}',) at monkTestAdmin@0\n"
       ]
      },
      {
       "output_type": "stream",
       "stream": "stdout",
       "text": [
        "[2015-01-16 13:03:13,070][8258 ][monk.network.producer][INFO    ][37  ][producer.py] : sending message ('{\"password\": \"\", \"op\": \"UpdateUser\", \"name\": \"mluser4378\", \"partition\": 1}',) at monkTestAdmin@0\n"
       ]
      },
      {
       "output_type": "stream",
       "stream": "stdout",
       "text": [
        "[2015-01-16 13:03:13,075][8258 ][monk.network.producer][INFO    ][37  ][producer.py] : sending message ('{\"password\": \"\", \"op\": \"UpdateUser\", \"name\": \"mluser4384\", \"partition\": 1}',) at monkTestAdmin@0\n"
       ]
      },
      {
       "output_type": "stream",
       "stream": "stdout",
       "text": [
        "[2015-01-16 13:03:13,083][8258 ][monk.network.producer][INFO    ][37  ][producer.py] : sending message ('{\"password\": \"\", \"op\": \"UpdateUser\", \"name\": \"mluser4386\", \"partition\": 1}',) at monkTestAdmin@0\n"
       ]
      },
      {
       "output_type": "stream",
       "stream": "stdout",
       "text": [
        "[2015-01-16 13:03:13,098][8258 ][monk.network.producer][INFO    ][37  ][producer.py] : sending message ('{\"password\": \"\", \"op\": \"UpdateUser\", \"name\": \"mluser4392\", \"partition\": 1}',) at monkTestAdmin@0\n"
       ]
      },
      {
       "output_type": "stream",
       "stream": "stdout",
       "text": [
        "[2015-01-16 13:03:13,108][8258 ][monk.network.producer][INFO    ][37  ][producer.py] : sending message ('{\"password\": \"\", \"op\": \"UpdateUser\", \"name\": \"mluser4394\", \"partition\": 1}',) at monkTestAdmin@0\n"
       ]
      },
      {
       "output_type": "stream",
       "stream": "stdout",
       "text": [
        "[2015-01-16 13:03:13,116][8258 ][monk.network.producer][INFO    ][37  ][producer.py] : sending message ('{\"password\": \"\", \"op\": \"UpdateUser\", \"name\": \"mluser4400\", \"partition\": 1}',) at monkTestAdmin@0\n"
       ]
      },
      {
       "output_type": "stream",
       "stream": "stdout",
       "text": [
        "[2015-01-16 13:03:13,126][8258 ][monk.network.producer][INFO    ][37  ][producer.py] : sending message ('{\"password\": \"\", \"op\": \"UpdateUser\", \"name\": \"mluser4402\", \"partition\": 1}',) at monkTestAdmin@0\n"
       ]
      },
      {
       "output_type": "stream",
       "stream": "stdout",
       "text": [
        "[2015-01-16 13:03:13,131][8258 ][monk.network.producer][INFO    ][37  ][producer.py] : sending message ('{\"password\": \"\", \"op\": \"UpdateUser\", \"name\": \"mluser4408\", \"partition\": 1}',) at monkTestAdmin@0\n"
       ]
      },
      {
       "output_type": "stream",
       "stream": "stdout",
       "text": [
        "[2015-01-16 13:03:13,139][8258 ][monk.network.producer][INFO    ][37  ][producer.py] : sending message ('{\"password\": \"\", \"op\": \"UpdateUser\", \"name\": \"mluser4410\", \"partition\": 1}',) at monkTestAdmin@0\n"
       ]
      },
      {
       "output_type": "stream",
       "stream": "stdout",
       "text": [
        "[2015-01-16 13:03:13,149][8258 ][monk.network.producer][INFO    ][37  ][producer.py] : sending message ('{\"password\": \"\", \"op\": \"UpdateUser\", \"name\": \"mluser4416\", \"partition\": 1}',) at monkTestAdmin@0\n"
       ]
      },
      {
       "output_type": "stream",
       "stream": "stdout",
       "text": [
        "[2015-01-16 13:03:13,158][8258 ][monk.network.producer][INFO    ][37  ][producer.py] : sending message ('{\"password\": \"\", \"op\": \"UpdateUser\", \"name\": \"mluser4418\", \"partition\": 1}',) at monkTestAdmin@0\n"
       ]
      },
      {
       "output_type": "stream",
       "stream": "stdout",
       "text": [
        "[2015-01-16 13:03:13,166][8258 ][monk.network.producer][INFO    ][37  ][producer.py] : sending message ('{\"password\": \"\", \"op\": \"UpdateUser\", \"name\": \"mluser4424\", \"partition\": 1}',) at monkTestAdmin@0\n"
       ]
      },
      {
       "output_type": "stream",
       "stream": "stdout",
       "text": [
        "[2015-01-16 13:03:13,178][8258 ][monk.network.producer][INFO    ][37  ][producer.py] : sending message ('{\"password\": \"\", \"op\": \"UpdateUser\", \"name\": \"mluser4426\", \"partition\": 1}',) at monkTestAdmin@0\n"
       ]
      },
      {
       "output_type": "stream",
       "stream": "stdout",
       "text": [
        "[2015-01-16 13:03:13,211][8258 ][monk.network.producer][INFO    ][37  ][producer.py] : sending message ('{\"password\": \"\", \"op\": \"UpdateUser\", \"name\": \"mluser4432\", \"partition\": 1}',) at monkTestAdmin@0\n"
       ]
      },
      {
       "output_type": "stream",
       "stream": "stdout",
       "text": [
        "[2015-01-16 13:03:13,226][8258 ][monk.network.producer][INFO    ][37  ][producer.py] : sending message ('{\"password\": \"\", \"op\": \"UpdateUser\", \"name\": \"mluser4434\", \"partition\": 1}',) at monkTestAdmin@0\n"
       ]
      },
      {
       "output_type": "stream",
       "stream": "stdout",
       "text": [
        "[2015-01-16 13:03:13,232][8258 ][monk.network.producer][INFO    ][37  ][producer.py] : sending message ('{\"password\": \"\", \"op\": \"UpdateUser\", \"name\": \"mluser4440\", \"partition\": 1}',) at monkTestAdmin@0\n"
       ]
      },
      {
       "output_type": "stream",
       "stream": "stdout",
       "text": [
        "[2015-01-16 13:03:13,239][8258 ][monk.network.producer][INFO    ][37  ][producer.py] : sending message ('{\"password\": \"\", \"op\": \"UpdateUser\", \"name\": \"mluser4442\", \"partition\": 1}',) at monkTestAdmin@0\n"
       ]
      },
      {
       "output_type": "stream",
       "stream": "stdout",
       "text": [
        "[2015-01-16 13:03:13,265][8258 ][monk.network.producer][INFO    ][37  ][producer.py] : sending message ('{\"password\": \"\", \"op\": \"UpdateUser\", \"name\": \"mluser4448\", \"partition\": 1}',) at monkTestAdmin@0\n"
       ]
      },
      {
       "output_type": "stream",
       "stream": "stdout",
       "text": [
        "[2015-01-16 13:03:13,277][8258 ][monk.network.producer][INFO    ][37  ][producer.py] : sending message ('{\"password\": \"\", \"op\": \"UpdateUser\", \"name\": \"mluser4450\", \"partition\": 1}',) at monkTestAdmin@0\n"
       ]
      },
      {
       "output_type": "stream",
       "stream": "stdout",
       "text": [
        "[2015-01-16 13:03:13,285][8258 ][monk.network.producer][INFO    ][37  ][producer.py] : sending message ('{\"password\": \"\", \"op\": \"UpdateUser\", \"name\": \"mluser4456\", \"partition\": 1}',) at monkTestAdmin@0\n"
       ]
      },
      {
       "output_type": "stream",
       "stream": "stdout",
       "text": [
        "[2015-01-16 13:03:13,293][8258 ][monk.network.producer][INFO    ][37  ][producer.py] : sending message ('{\"password\": \"\", \"op\": \"UpdateUser\", \"name\": \"mluser4458\", \"partition\": 1}',) at monkTestAdmin@0\n"
       ]
      },
      {
       "output_type": "stream",
       "stream": "stdout",
       "text": [
        "[2015-01-16 13:03:13,301][8258 ][monk.network.producer][INFO    ][37  ][producer.py] : sending message ('{\"password\": \"\", \"op\": \"UpdateUser\", \"name\": \"mluser4464\", \"partition\": 1}',) at monkTestAdmin@0\n"
       ]
      },
      {
       "output_type": "stream",
       "stream": "stdout",
       "text": [
        "[2015-01-16 13:03:13,313][8258 ][monk.network.producer][INFO    ][37  ][producer.py] : sending message ('{\"password\": \"\", \"op\": \"UpdateUser\", \"name\": \"mluser4466\", \"partition\": 1}',) at monkTestAdmin@0\n"
       ]
      },
      {
       "output_type": "stream",
       "stream": "stdout",
       "text": [
        "[2015-01-16 13:03:13,320][8258 ][monk.network.producer][INFO    ][37  ][producer.py] : sending message ('{\"password\": \"\", \"op\": \"UpdateUser\", \"name\": \"mluser4472\", \"partition\": 1}',) at monkTestAdmin@0\n"
       ]
      },
      {
       "output_type": "stream",
       "stream": "stdout",
       "text": [
        "[2015-01-16 13:03:13,332][8258 ][monk.network.producer][INFO    ][37  ][producer.py] : sending message ('{\"password\": \"\", \"op\": \"UpdateUser\", \"name\": \"mluser4474\", \"partition\": 1}',) at monkTestAdmin@0\n"
       ]
      },
      {
       "output_type": "stream",
       "stream": "stdout",
       "text": [
        "[2015-01-16 13:03:13,341][8258 ][monk.network.producer][INFO    ][37  ][producer.py] : sending message ('{\"password\": \"\", \"op\": \"UpdateUser\", \"name\": \"mluser4480\", \"partition\": 1}',) at monkTestAdmin@0\n"
       ]
      },
      {
       "output_type": "stream",
       "stream": "stdout",
       "text": [
        "[2015-01-16 13:03:13,352][8258 ][monk.network.producer][INFO    ][37  ][producer.py] : sending message ('{\"password\": \"\", \"op\": \"UpdateUser\", \"name\": \"mluser4482\", \"partition\": 1}',) at monkTestAdmin@0\n"
       ]
      },
      {
       "output_type": "stream",
       "stream": "stdout",
       "text": [
        "[2015-01-16 13:03:13,359][8258 ][monk.network.producer][INFO    ][37  ][producer.py] : sending message ('{\"password\": \"\", \"op\": \"UpdateUser\", \"name\": \"mluser4488\", \"partition\": 1}',) at monkTestAdmin@0\n"
       ]
      },
      {
       "output_type": "stream",
       "stream": "stdout",
       "text": [
        "[2015-01-16 13:03:13,369][8258 ][monk.network.producer][INFO    ][37  ][producer.py] : sending message ('{\"password\": \"\", \"op\": \"UpdateUser\", \"name\": \"mluser4490\", \"partition\": 1}',) at monkTestAdmin@0\n"
       ]
      },
      {
       "output_type": "stream",
       "stream": "stdout",
       "text": [
        "[2015-01-16 13:03:13,376][8258 ][monk.network.producer][INFO    ][37  ][producer.py] : sending message ('{\"password\": \"\", \"op\": \"UpdateUser\", \"name\": \"mluser4496\", \"partition\": 1}',) at monkTestAdmin@0\n"
       ]
      },
      {
       "output_type": "stream",
       "stream": "stdout",
       "text": [
        "[2015-01-16 13:03:13,382][8258 ][monk.network.producer][INFO    ][37  ][producer.py] : sending message ('{\"password\": \"\", \"op\": \"UpdateUser\", \"name\": \"mluser4498\", \"partition\": 1}',) at monkTestAdmin@0\n"
       ]
      },
      {
       "output_type": "stream",
       "stream": "stdout",
       "text": [
        "[2015-01-16 13:03:13,390][8258 ][monk.network.producer][INFO    ][37  ][producer.py] : sending message ('{\"password\": \"\", \"op\": \"UpdateUser\", \"name\": \"mluser4504\", \"partition\": 1}',) at monkTestAdmin@0\n"
       ]
      },
      {
       "output_type": "stream",
       "stream": "stdout",
       "text": [
        "[2015-01-16 13:03:13,418][8258 ][monk.network.producer][INFO    ][37  ][producer.py] : sending message ('{\"password\": \"\", \"op\": \"UpdateUser\", \"name\": \"mluser4506\", \"partition\": 1}',) at monkTestAdmin@0\n"
       ]
      },
      {
       "output_type": "stream",
       "stream": "stdout",
       "text": [
        "[2015-01-16 13:03:13,431][8258 ][monk.network.producer][INFO    ][37  ][producer.py] : sending message ('{\"password\": \"\", \"op\": \"UpdateUser\", \"name\": \"mluser4512\", \"partition\": 1}',) at monkTestAdmin@0\n"
       ]
      },
      {
       "output_type": "stream",
       "stream": "stdout",
       "text": [
        "[2015-01-16 13:03:13,439][8258 ][monk.network.producer][INFO    ][37  ][producer.py] : sending message ('{\"password\": \"\", \"op\": \"UpdateUser\", \"name\": \"mluser4514\", \"partition\": 1}',) at monkTestAdmin@0\n"
       ]
      },
      {
       "output_type": "stream",
       "stream": "stdout",
       "text": [
        "[2015-01-16 13:03:13,446][8258 ][monk.network.producer][INFO    ][37  ][producer.py] : sending message ('{\"password\": \"\", \"op\": \"UpdateUser\", \"name\": \"mluser4520\", \"partition\": 1}',) at monkTestAdmin@0\n"
       ]
      },
      {
       "output_type": "stream",
       "stream": "stdout",
       "text": [
        "[2015-01-16 13:03:13,458][8258 ][monk.network.producer][INFO    ][37  ][producer.py] : sending message ('{\"password\": \"\", \"op\": \"UpdateUser\", \"name\": \"mluser4522\", \"partition\": 1}',) at monkTestAdmin@0\n"
       ]
      },
      {
       "output_type": "stream",
       "stream": "stdout",
       "text": [
        "[2015-01-16 13:03:13,472][8258 ][monk.network.producer][INFO    ][37  ][producer.py] : sending message ('{\"password\": \"\", \"op\": \"UpdateUser\", \"name\": \"mluser4528\", \"partition\": 1}',) at monkTestAdmin@0\n"
       ]
      },
      {
       "output_type": "stream",
       "stream": "stdout",
       "text": [
        "[2015-01-16 13:03:13,479][8258 ][monk.network.producer][INFO    ][37  ][producer.py] : sending message ('{\"password\": \"\", \"op\": \"UpdateUser\", \"name\": \"mluser4530\", \"partition\": 1}',) at monkTestAdmin@0\n"
       ]
      },
      {
       "output_type": "stream",
       "stream": "stdout",
       "text": [
        "[2015-01-16 13:03:13,494][8258 ][monk.network.producer][INFO    ][37  ][producer.py] : sending message ('{\"password\": \"\", \"op\": \"UpdateUser\", \"name\": \"mluser4536\", \"partition\": 1}',) at monkTestAdmin@0\n"
       ]
      },
      {
       "output_type": "stream",
       "stream": "stdout",
       "text": [
        "[2015-01-16 13:03:13,508][8258 ][monk.network.producer][INFO    ][37  ][producer.py] : sending message ('{\"password\": \"\", \"op\": \"UpdateUser\", \"name\": \"mluser4538\", \"partition\": 1}',) at monkTestAdmin@0\n"
       ]
      },
      {
       "output_type": "stream",
       "stream": "stdout",
       "text": [
        "[2015-01-16 13:03:13,518][8258 ][monk.network.producer][INFO    ][37  ][producer.py] : sending message ('{\"password\": \"\", \"op\": \"UpdateUser\", \"name\": \"mluser4544\", \"partition\": 1}',) at monkTestAdmin@0\n"
       ]
      },
      {
       "output_type": "stream",
       "stream": "stdout",
       "text": [
        "[2015-01-16 13:03:13,537][8258 ][monk.network.producer][INFO    ][37  ][producer.py] : sending message ('{\"password\": \"\", \"op\": \"UpdateUser\", \"name\": \"mluser4546\", \"partition\": 1}',) at monkTestAdmin@0\n"
       ]
      },
      {
       "output_type": "stream",
       "stream": "stdout",
       "text": [
        "[2015-01-16 13:03:13,548][8258 ][monk.network.producer][INFO    ][37  ][producer.py] : sending message ('{\"password\": \"\", \"op\": \"UpdateUser\", \"name\": \"mluser4552\", \"partition\": 1}',) at monkTestAdmin@0\n"
       ]
      },
      {
       "output_type": "stream",
       "stream": "stdout",
       "text": [
        "[2015-01-16 13:03:13,559][8258 ][monk.network.producer][INFO    ][37  ][producer.py] : sending message ('{\"password\": \"\", \"op\": \"UpdateUser\", \"name\": \"mluser4554\", \"partition\": 1}',) at monkTestAdmin@0\n"
       ]
      },
      {
       "output_type": "stream",
       "stream": "stdout",
       "text": [
        "[2015-01-16 13:03:13,567][8258 ][monk.network.producer][INFO    ][37  ][producer.py] : sending message ('{\"password\": \"\", \"op\": \"UpdateUser\", \"name\": \"mluser4560\", \"partition\": 1}',) at monkTestAdmin@0\n"
       ]
      },
      {
       "output_type": "stream",
       "stream": "stdout",
       "text": [
        "[2015-01-16 13:03:13,574][8258 ][monk.network.producer][INFO    ][37  ][producer.py] : sending message ('{\"password\": \"\", \"op\": \"UpdateUser\", \"name\": \"mluser4562\", \"partition\": 1}',) at monkTestAdmin@0\n"
       ]
      },
      {
       "output_type": "stream",
       "stream": "stdout",
       "text": [
        "[2015-01-16 13:03:13,582][8258 ][monk.network.producer][INFO    ][37  ][producer.py] : sending message ('{\"password\": \"\", \"op\": \"UpdateUser\", \"name\": \"mluser4568\", \"partition\": 1}',) at monkTestAdmin@0\n"
       ]
      },
      {
       "output_type": "stream",
       "stream": "stdout",
       "text": [
        "[2015-01-16 13:03:13,591][8258 ][monk.network.producer][INFO    ][37  ][producer.py] : sending message ('{\"password\": \"\", \"op\": \"UpdateUser\", \"name\": \"mluser4570\", \"partition\": 1}',) at monkTestAdmin@0\n"
       ]
      },
      {
       "output_type": "stream",
       "stream": "stdout",
       "text": [
        "[2015-01-16 13:03:13,605][8258 ][monk.network.producer][INFO    ][37  ][producer.py] : sending message ('{\"password\": \"\", \"op\": \"UpdateUser\", \"name\": \"mluser4576\", \"partition\": 1}',) at monkTestAdmin@0\n"
       ]
      },
      {
       "output_type": "stream",
       "stream": "stdout",
       "text": [
        "[2015-01-16 13:03:13,613][8258 ][monk.network.producer][INFO    ][37  ][producer.py] : sending message ('{\"password\": \"\", \"op\": \"UpdateUser\", \"name\": \"mluser4578\", \"partition\": 1}',) at monkTestAdmin@0\n"
       ]
      },
      {
       "output_type": "stream",
       "stream": "stdout",
       "text": [
        "[2015-01-16 13:03:13,628][8258 ][monk.network.producer][INFO    ][37  ][producer.py] : sending message ('{\"password\": \"\", \"op\": \"UpdateUser\", \"name\": \"mluser4584\", \"partition\": 1}',) at monkTestAdmin@0\n"
       ]
      },
      {
       "output_type": "stream",
       "stream": "stdout",
       "text": [
        "[2015-01-16 13:03:13,636][8258 ][monk.network.producer][INFO    ][37  ][producer.py] : sending message ('{\"password\": \"\", \"op\": \"UpdateUser\", \"name\": \"mluser4586\", \"partition\": 1}',) at monkTestAdmin@0\n"
       ]
      },
      {
       "output_type": "stream",
       "stream": "stdout",
       "text": [
        "[2015-01-16 13:03:13,643][8258 ][monk.network.producer][INFO    ][37  ][producer.py] : sending message ('{\"password\": \"\", \"op\": \"UpdateUser\", \"name\": \"mluser4592\", \"partition\": 1}',) at monkTestAdmin@0\n"
       ]
      },
      {
       "output_type": "stream",
       "stream": "stdout",
       "text": [
        "[2015-01-16 13:03:13,650][8258 ][monk.network.producer][INFO    ][37  ][producer.py] : sending message ('{\"password\": \"\", \"op\": \"UpdateUser\", \"name\": \"mluser4594\", \"partition\": 1}',) at monkTestAdmin@0\n"
       ]
      },
      {
       "output_type": "stream",
       "stream": "stdout",
       "text": [
        "[2015-01-16 13:03:13,656][8258 ][monk.network.producer][INFO    ][37  ][producer.py] : sending message ('{\"password\": \"\", \"op\": \"UpdateUser\", \"name\": \"mluser4600\", \"partition\": 1}',) at monkTestAdmin@0\n"
       ]
      },
      {
       "output_type": "stream",
       "stream": "stdout",
       "text": [
        "[2015-01-16 13:03:13,667][8258 ][monk.network.producer][INFO    ][37  ][producer.py] : sending message ('{\"password\": \"\", \"op\": \"UpdateUser\", \"name\": \"mluser4602\", \"partition\": 1}',) at monkTestAdmin@0\n"
       ]
      },
      {
       "output_type": "stream",
       "stream": "stdout",
       "text": [
        "[2015-01-16 13:03:13,676][8258 ][monk.network.producer][INFO    ][37  ][producer.py] : sending message ('{\"password\": \"\", \"op\": \"UpdateUser\", \"name\": \"mluser4608\", \"partition\": 1}',) at monkTestAdmin@0\n"
       ]
      },
      {
       "output_type": "stream",
       "stream": "stdout",
       "text": [
        "[2015-01-16 13:03:13,685][8258 ][monk.network.producer][INFO    ][37  ][producer.py] : sending message ('{\"password\": \"\", \"op\": \"UpdateUser\", \"name\": \"mluser4610\", \"partition\": 1}',) at monkTestAdmin@0\n"
       ]
      },
      {
       "output_type": "stream",
       "stream": "stdout",
       "text": [
        "[2015-01-16 13:03:13,691][8258 ][monk.network.producer][INFO    ][37  ][producer.py] : sending message ('{\"password\": \"\", \"op\": \"UpdateUser\", \"name\": \"mluser4616\", \"partition\": 1}',) at monkTestAdmin@0\n"
       ]
      },
      {
       "output_type": "stream",
       "stream": "stdout",
       "text": [
        "[2015-01-16 13:03:13,707][8258 ][monk.network.producer][INFO    ][37  ][producer.py] : sending message ('{\"password\": \"\", \"op\": \"UpdateUser\", \"name\": \"mluser4618\", \"partition\": 1}',) at monkTestAdmin@0\n"
       ]
      },
      {
       "output_type": "stream",
       "stream": "stdout",
       "text": [
        "[2015-01-16 13:03:13,715][8258 ][monk.network.producer][INFO    ][37  ][producer.py] : sending message ('{\"password\": \"\", \"op\": \"UpdateUser\", \"name\": \"mluser4624\", \"partition\": 1}',) at monkTestAdmin@0\n"
       ]
      },
      {
       "output_type": "stream",
       "stream": "stdout",
       "text": [
        "[2015-01-16 13:03:13,722][8258 ][monk.network.producer][INFO    ][37  ][producer.py] : sending message ('{\"password\": \"\", \"op\": \"UpdateUser\", \"name\": \"mluser4626\", \"partition\": 1}',) at monkTestAdmin@0\n"
       ]
      },
      {
       "output_type": "stream",
       "stream": "stdout",
       "text": [
        "[2015-01-16 13:03:13,730][8258 ][monk.network.producer][INFO    ][37  ][producer.py] : sending message ('{\"password\": \"\", \"op\": \"UpdateUser\", \"name\": \"mluser4632\", \"partition\": 1}',) at monkTestAdmin@0\n"
       ]
      },
      {
       "output_type": "stream",
       "stream": "stdout",
       "text": [
        "[2015-01-16 13:03:13,744][8258 ][monk.network.producer][INFO    ][37  ][producer.py] : sending message ('{\"password\": \"\", \"op\": \"UpdateUser\", \"name\": \"mluser4634\", \"partition\": 1}',) at monkTestAdmin@0\n"
       ]
      },
      {
       "output_type": "stream",
       "stream": "stdout",
       "text": [
        "[2015-01-16 13:03:13,750][8258 ][monk.network.producer][INFO    ][37  ][producer.py] : sending message ('{\"password\": \"\", \"op\": \"UpdateUser\", \"name\": \"mluser4640\", \"partition\": 1}',) at monkTestAdmin@0\n"
       ]
      },
      {
       "output_type": "stream",
       "stream": "stdout",
       "text": [
        "[2015-01-16 13:03:13,758][8258 ][monk.network.producer][INFO    ][37  ][producer.py] : sending message ('{\"password\": \"\", \"op\": \"UpdateUser\", \"name\": \"mluser4642\", \"partition\": 1}',) at monkTestAdmin@0\n"
       ]
      },
      {
       "output_type": "stream",
       "stream": "stdout",
       "text": [
        "[2015-01-16 13:03:13,765][8258 ][monk.network.producer][INFO    ][37  ][producer.py] : sending message ('{\"password\": \"\", \"op\": \"UpdateUser\", \"name\": \"mluser4648\", \"partition\": 1}',) at monkTestAdmin@0\n"
       ]
      },
      {
       "output_type": "stream",
       "stream": "stdout",
       "text": [
        "[2015-01-16 13:03:13,773][8258 ][monk.network.producer][INFO    ][37  ][producer.py] : sending message ('{\"password\": \"\", \"op\": \"UpdateUser\", \"name\": \"mluser4650\", \"partition\": 1}',) at monkTestAdmin@0\n"
       ]
      },
      {
       "output_type": "stream",
       "stream": "stdout",
       "text": [
        "[2015-01-16 13:03:13,778][8258 ][monk.network.producer][INFO    ][37  ][producer.py] : sending message ('{\"password\": \"\", \"op\": \"UpdateUser\", \"name\": \"mluser4656\", \"partition\": 1}',) at monkTestAdmin@0\n"
       ]
      },
      {
       "output_type": "stream",
       "stream": "stdout",
       "text": [
        "[2015-01-16 13:03:13,788][8258 ][monk.network.producer][INFO    ][37  ][producer.py] : sending message ('{\"password\": \"\", \"op\": \"UpdateUser\", \"name\": \"mluser4658\", \"partition\": 1}',) at monkTestAdmin@0\n"
       ]
      },
      {
       "output_type": "stream",
       "stream": "stdout",
       "text": [
        "[2015-01-16 13:03:13,808][8258 ][monk.network.producer][INFO    ][37  ][producer.py] : sending message ('{\"password\": \"\", \"op\": \"UpdateUser\", \"name\": \"mluser4664\", \"partition\": 1}',) at monkTestAdmin@0\n"
       ]
      },
      {
       "output_type": "stream",
       "stream": "stdout",
       "text": [
        "[2015-01-16 13:03:13,814][8258 ][monk.network.producer][INFO    ][37  ][producer.py] : sending message ('{\"password\": \"\", \"op\": \"UpdateUser\", \"name\": \"mluser4666\", \"partition\": 1}',) at monkTestAdmin@0\n"
       ]
      },
      {
       "output_type": "stream",
       "stream": "stdout",
       "text": [
        "[2015-01-16 13:03:13,826][8258 ][monk.network.producer][INFO    ][37  ][producer.py] : sending message ('{\"password\": \"\", \"op\": \"UpdateUser\", \"name\": \"mluser4672\", \"partition\": 1}',) at monkTestAdmin@0\n"
       ]
      },
      {
       "output_type": "stream",
       "stream": "stdout",
       "text": [
        "[2015-01-16 13:03:13,840][8258 ][monk.network.producer][INFO    ][37  ][producer.py] : sending message ('{\"password\": \"\", \"op\": \"UpdateUser\", \"name\": \"mluser4674\", \"partition\": 1}',) at monkTestAdmin@0\n"
       ]
      },
      {
       "output_type": "stream",
       "stream": "stdout",
       "text": [
        "[2015-01-16 13:03:13,848][8258 ][monk.network.producer][INFO    ][37  ][producer.py] : sending message ('{\"password\": \"\", \"op\": \"UpdateUser\", \"name\": \"mluser4680\", \"partition\": 1}',) at monkTestAdmin@0\n"
       ]
      },
      {
       "output_type": "stream",
       "stream": "stdout",
       "text": [
        "[2015-01-16 13:03:13,863][8258 ][monk.network.producer][INFO    ][37  ][producer.py] : sending message ('{\"password\": \"\", \"op\": \"UpdateUser\", \"name\": \"mluser4682\", \"partition\": 1}',) at monkTestAdmin@0\n"
       ]
      },
      {
       "output_type": "stream",
       "stream": "stdout",
       "text": [
        "[2015-01-16 13:03:13,870][8258 ][monk.network.producer][INFO    ][37  ][producer.py] : sending message ('{\"password\": \"\", \"op\": \"UpdateUser\", \"name\": \"mluser4688\", \"partition\": 1}',) at monkTestAdmin@0\n"
       ]
      },
      {
       "output_type": "stream",
       "stream": "stdout",
       "text": [
        "[2015-01-16 13:03:13,886][8258 ][monk.network.producer][INFO    ][37  ][producer.py] : sending message ('{\"password\": \"\", \"op\": \"UpdateUser\", \"name\": \"mluser4690\", \"partition\": 1}',) at monkTestAdmin@0\n"
       ]
      },
      {
       "output_type": "stream",
       "stream": "stdout",
       "text": [
        "[2015-01-16 13:03:13,899][8258 ][monk.network.producer][INFO    ][37  ][producer.py] : sending message ('{\"password\": \"\", \"op\": \"UpdateUser\", \"name\": \"mluser4696\", \"partition\": 1}',) at monkTestAdmin@0\n"
       ]
      },
      {
       "output_type": "stream",
       "stream": "stdout",
       "text": [
        "[2015-01-16 13:03:13,909][8258 ][monk.network.producer][INFO    ][37  ][producer.py] : sending message ('{\"password\": \"\", \"op\": \"UpdateUser\", \"name\": \"mluser4698\", \"partition\": 1}',) at monkTestAdmin@0\n"
       ]
      },
      {
       "output_type": "stream",
       "stream": "stdout",
       "text": [
        "[2015-01-16 13:03:13,927][8258 ][monk.network.producer][INFO    ][37  ][producer.py] : sending message ('{\"password\": \"\", \"op\": \"UpdateUser\", \"name\": \"mluser4704\", \"partition\": 1}',) at monkTestAdmin@0\n"
       ]
      },
      {
       "output_type": "stream",
       "stream": "stdout",
       "text": [
        "[2015-01-16 13:03:13,935][8258 ][monk.network.producer][INFO    ][37  ][producer.py] : sending message ('{\"password\": \"\", \"op\": \"UpdateUser\", \"name\": \"mluser4706\", \"partition\": 1}',) at monkTestAdmin@0\n"
       ]
      },
      {
       "output_type": "stream",
       "stream": "stdout",
       "text": [
        "[2015-01-16 13:03:13,943][8258 ][monk.network.producer][INFO    ][37  ][producer.py] : sending message ('{\"password\": \"\", \"op\": \"UpdateUser\", \"name\": \"mluser4712\", \"partition\": 1}',) at monkTestAdmin@0\n"
       ]
      },
      {
       "output_type": "stream",
       "stream": "stdout",
       "text": [
        "[2015-01-16 13:03:13,952][8258 ][monk.network.producer][INFO    ][37  ][producer.py] : sending message ('{\"password\": \"\", \"op\": \"UpdateUser\", \"name\": \"mluser4714\", \"partition\": 1}',) at monkTestAdmin@0\n"
       ]
      },
      {
       "output_type": "stream",
       "stream": "stdout",
       "text": [
        "[2015-01-16 13:03:13,962][8258 ][monk.network.producer][INFO    ][37  ][producer.py] : sending message ('{\"password\": \"\", \"op\": \"UpdateUser\", \"name\": \"mluser4720\", \"partition\": 1}',) at monkTestAdmin@0\n"
       ]
      },
      {
       "output_type": "stream",
       "stream": "stdout",
       "text": [
        "[2015-01-16 13:03:13,969][8258 ][monk.network.producer][INFO    ][37  ][producer.py] : sending message ('{\"password\": \"\", \"op\": \"UpdateUser\", \"name\": \"mluser4722\", \"partition\": 1}',) at monkTestAdmin@0\n"
       ]
      },
      {
       "output_type": "stream",
       "stream": "stdout",
       "text": [
        "[2015-01-16 13:03:13,978][8258 ][monk.network.producer][INFO    ][37  ][producer.py] : sending message ('{\"password\": \"\", \"op\": \"UpdateUser\", \"name\": \"mluser4728\", \"partition\": 1}',) at monkTestAdmin@0\n"
       ]
      },
      {
       "output_type": "stream",
       "stream": "stdout",
       "text": [
        "[2015-01-16 13:03:13,986][8258 ][monk.network.producer][INFO    ][37  ][producer.py] : sending message ('{\"password\": \"\", \"op\": \"UpdateUser\", \"name\": \"mluser4730\", \"partition\": 1}',) at monkTestAdmin@0\n"
       ]
      },
      {
       "output_type": "stream",
       "stream": "stdout",
       "text": [
        "[2015-01-16 13:03:13,994][8258 ][monk.network.producer][INFO    ][37  ][producer.py] : sending message ('{\"password\": \"\", \"op\": \"UpdateUser\", \"name\": \"mluser4736\", \"partition\": 1}',) at monkTestAdmin@0\n"
       ]
      },
      {
       "output_type": "stream",
       "stream": "stdout",
       "text": [
        "[2015-01-16 13:03:14,209][8258 ][monk.network.producer][INFO    ][37  ][producer.py] : sending message ('{\"password\": \"\", \"op\": \"UpdateUser\", \"name\": \"mluser4738\", \"partition\": 1}',) at monkTestAdmin@0\n"
       ]
      },
      {
       "output_type": "stream",
       "stream": "stdout",
       "text": [
        "[2015-01-16 13:03:14,225][8258 ][monk.network.producer][INFO    ][37  ][producer.py] : sending message ('{\"password\": \"\", \"op\": \"UpdateUser\", \"name\": \"mluser4744\", \"partition\": 1}',) at monkTestAdmin@0\n"
       ]
      },
      {
       "output_type": "stream",
       "stream": "stdout",
       "text": [
        "[2015-01-16 13:03:14,234][8258 ][monk.network.producer][INFO    ][37  ][producer.py] : sending message ('{\"password\": \"\", \"op\": \"UpdateUser\", \"name\": \"mluser4746\", \"partition\": 1}',) at monkTestAdmin@0\n"
       ]
      },
      {
       "output_type": "stream",
       "stream": "stdout",
       "text": [
        "[2015-01-16 13:03:14,242][8258 ][monk.network.producer][INFO    ][37  ][producer.py] : sending message ('{\"password\": \"\", \"op\": \"UpdateUser\", \"name\": \"mluser4752\", \"partition\": 1}',) at monkTestAdmin@0\n"
       ]
      },
      {
       "output_type": "stream",
       "stream": "stdout",
       "text": [
        "[2015-01-16 13:03:14,251][8258 ][monk.network.producer][INFO    ][37  ][producer.py] : sending message ('{\"password\": \"\", \"op\": \"UpdateUser\", \"name\": \"mluser4754\", \"partition\": 1}',) at monkTestAdmin@0\n"
       ]
      },
      {
       "output_type": "stream",
       "stream": "stdout",
       "text": [
        "[2015-01-16 13:03:14,259][8258 ][monk.network.producer][INFO    ][37  ][producer.py] : sending message ('{\"password\": \"\", \"op\": \"UpdateUser\", \"name\": \"mluser4760\", \"partition\": 1}',) at monkTestAdmin@0\n"
       ]
      },
      {
       "output_type": "stream",
       "stream": "stdout",
       "text": [
        "[2015-01-16 13:03:14,271][8258 ][monk.network.producer][INFO    ][37  ][producer.py] : sending message ('{\"password\": \"\", \"op\": \"UpdateUser\", \"name\": \"mluser4762\", \"partition\": 1}',) at monkTestAdmin@0\n"
       ]
      },
      {
       "output_type": "stream",
       "stream": "stdout",
       "text": [
        "[2015-01-16 13:03:14,277][8258 ][monk.network.producer][INFO    ][37  ][producer.py] : sending message ('{\"password\": \"\", \"op\": \"UpdateUser\", \"name\": \"mluser4768\", \"partition\": 1}',) at monkTestAdmin@0\n"
       ]
      },
      {
       "output_type": "stream",
       "stream": "stdout",
       "text": [
        "[2015-01-16 13:03:14,286][8258 ][monk.network.producer][INFO    ][37  ][producer.py] : sending message ('{\"password\": \"\", \"op\": \"UpdateUser\", \"name\": \"mluser4770\", \"partition\": 1}',) at monkTestAdmin@0\n"
       ]
      },
      {
       "output_type": "stream",
       "stream": "stdout",
       "text": [
        "[2015-01-16 13:03:14,291][8258 ][monk.network.producer][INFO    ][37  ][producer.py] : sending message ('{\"password\": \"\", \"op\": \"UpdateUser\", \"name\": \"mluser4776\", \"partition\": 1}',) at monkTestAdmin@0\n"
       ]
      },
      {
       "output_type": "stream",
       "stream": "stdout",
       "text": [
        "[2015-01-16 13:03:14,297][8258 ][monk.network.producer][INFO    ][37  ][producer.py] : sending message ('{\"password\": \"\", \"op\": \"UpdateUser\", \"name\": \"mluser4778\", \"partition\": 1}',) at monkTestAdmin@0\n"
       ]
      },
      {
       "output_type": "stream",
       "stream": "stdout",
       "text": [
        "[2015-01-16 13:03:14,303][8258 ][monk.network.producer][INFO    ][37  ][producer.py] : sending message ('{\"password\": \"\", \"op\": \"UpdateUser\", \"name\": \"mluser4784\", \"partition\": 1}',) at monkTestAdmin@0\n"
       ]
      },
      {
       "output_type": "stream",
       "stream": "stdout",
       "text": [
        "[2015-01-16 13:03:14,310][8258 ][monk.network.producer][INFO    ][37  ][producer.py] : sending message ('{\"password\": \"\", \"op\": \"UpdateUser\", \"name\": \"mluser4786\", \"partition\": 1}',) at monkTestAdmin@0\n"
       ]
      },
      {
       "output_type": "stream",
       "stream": "stdout",
       "text": [
        "[2015-01-16 13:03:14,320][8258 ][monk.network.producer][INFO    ][37  ][producer.py] : sending message ('{\"password\": \"\", \"op\": \"UpdateUser\", \"name\": \"mluser4792\", \"partition\": 1}',) at monkTestAdmin@0\n"
       ]
      },
      {
       "output_type": "stream",
       "stream": "stdout",
       "text": [
        "[2015-01-16 13:03:14,329][8258 ][monk.network.producer][INFO    ][37  ][producer.py] : sending message ('{\"password\": \"\", \"op\": \"UpdateUser\", \"name\": \"mluser4794\", \"partition\": 1}',) at monkTestAdmin@0\n"
       ]
      },
      {
       "output_type": "stream",
       "stream": "stdout",
       "text": [
        "[2015-01-16 13:03:14,337][8258 ][monk.network.producer][INFO    ][37  ][producer.py] : sending message ('{\"password\": \"\", \"op\": \"UpdateUser\", \"name\": \"mluser4800\", \"partition\": 1}',) at monkTestAdmin@0\n"
       ]
      },
      {
       "output_type": "stream",
       "stream": "stdout",
       "text": [
        "[2015-01-16 13:03:14,344][8258 ][monk.network.producer][INFO    ][37  ][producer.py] : sending message ('{\"password\": \"\", \"op\": \"UpdateUser\", \"name\": \"mluser4802\", \"partition\": 1}',) at monkTestAdmin@0\n"
       ]
      },
      {
       "output_type": "stream",
       "stream": "stdout",
       "text": [
        "[2015-01-16 13:03:14,353][8258 ][monk.network.producer][INFO    ][37  ][producer.py] : sending message ('{\"password\": \"\", \"op\": \"UpdateUser\", \"name\": \"mluser4808\", \"partition\": 1}',) at monkTestAdmin@0\n"
       ]
      },
      {
       "output_type": "stream",
       "stream": "stdout",
       "text": [
        "[2015-01-16 13:03:14,360][8258 ][monk.network.producer][INFO    ][37  ][producer.py] : sending message ('{\"password\": \"\", \"op\": \"UpdateUser\", \"name\": \"mluser4810\", \"partition\": 1}',) at monkTestAdmin@0\n"
       ]
      },
      {
       "output_type": "stream",
       "stream": "stdout",
       "text": [
        "[2015-01-16 13:03:14,368][8258 ][monk.network.producer][INFO    ][37  ][producer.py] : sending message ('{\"password\": \"\", \"op\": \"UpdateUser\", \"name\": \"mluser4816\", \"partition\": 1}',) at monkTestAdmin@0\n"
       ]
      },
      {
       "output_type": "stream",
       "stream": "stdout",
       "text": [
        "[2015-01-16 13:03:14,381][8258 ][monk.network.producer][INFO    ][37  ][producer.py] : sending message ('{\"password\": \"\", \"op\": \"UpdateUser\", \"name\": \"mluser4818\", \"partition\": 1}',) at monkTestAdmin@0\n"
       ]
      },
      {
       "output_type": "stream",
       "stream": "stdout",
       "text": [
        "[2015-01-16 13:03:14,396][8258 ][monk.network.producer][INFO    ][37  ][producer.py] : sending message ('{\"password\": \"\", \"op\": \"UpdateUser\", \"name\": \"mluser4824\", \"partition\": 1}',) at monkTestAdmin@0\n"
       ]
      },
      {
       "output_type": "stream",
       "stream": "stdout",
       "text": [
        "[2015-01-16 13:03:14,412][8258 ][monk.network.producer][INFO    ][37  ][producer.py] : sending message ('{\"password\": \"\", \"op\": \"UpdateUser\", \"name\": \"mluser4826\", \"partition\": 1}',) at monkTestAdmin@0\n"
       ]
      },
      {
       "output_type": "stream",
       "stream": "stdout",
       "text": [
        "[2015-01-16 13:03:14,422][8258 ][monk.network.producer][INFO    ][37  ][producer.py] : sending message ('{\"password\": \"\", \"op\": \"UpdateUser\", \"name\": \"mluser4832\", \"partition\": 1}',) at monkTestAdmin@0\n"
       ]
      },
      {
       "output_type": "stream",
       "stream": "stdout",
       "text": [
        "[2015-01-16 13:03:14,431][8258 ][monk.network.producer][INFO    ][37  ][producer.py] : sending message ('{\"password\": \"\", \"op\": \"UpdateUser\", \"name\": \"mluser4834\", \"partition\": 1}',) at monkTestAdmin@0\n"
       ]
      },
      {
       "output_type": "stream",
       "stream": "stdout",
       "text": [
        "[2015-01-16 13:03:14,440][8258 ][monk.network.producer][INFO    ][37  ][producer.py] : sending message ('{\"password\": \"\", \"op\": \"UpdateUser\", \"name\": \"mluser4840\", \"partition\": 1}',) at monkTestAdmin@0\n"
       ]
      },
      {
       "output_type": "stream",
       "stream": "stdout",
       "text": [
        "[2015-01-16 13:03:14,455][8258 ][monk.network.producer][INFO    ][37  ][producer.py] : sending message ('{\"password\": \"\", \"op\": \"UpdateUser\", \"name\": \"mluser4842\", \"partition\": 1}',) at monkTestAdmin@0\n"
       ]
      },
      {
       "output_type": "stream",
       "stream": "stdout",
       "text": [
        "[2015-01-16 13:03:14,462][8258 ][monk.network.producer][INFO    ][37  ][producer.py] : sending message ('{\"password\": \"\", \"op\": \"UpdateUser\", \"name\": \"mluser4848\", \"partition\": 1}',) at monkTestAdmin@0\n"
       ]
      },
      {
       "output_type": "stream",
       "stream": "stdout",
       "text": [
        "[2015-01-16 13:03:14,469][8258 ][monk.network.producer][INFO    ][37  ][producer.py] : sending message ('{\"password\": \"\", \"op\": \"UpdateUser\", \"name\": \"mluser4850\", \"partition\": 1}',) at monkTestAdmin@0\n"
       ]
      },
      {
       "output_type": "stream",
       "stream": "stdout",
       "text": [
        "[2015-01-16 13:03:14,482][8258 ][monk.network.producer][INFO    ][37  ][producer.py] : sending message ('{\"password\": \"\", \"op\": \"UpdateUser\", \"name\": \"mluser4856\", \"partition\": 1}',) at monkTestAdmin@0\n"
       ]
      },
      {
       "output_type": "stream",
       "stream": "stdout",
       "text": [
        "[2015-01-16 13:03:14,496][8258 ][monk.network.producer][INFO    ][37  ][producer.py] : sending message ('{\"password\": \"\", \"op\": \"UpdateUser\", \"name\": \"mluser4858\", \"partition\": 1}',) at monkTestAdmin@0\n"
       ]
      },
      {
       "output_type": "stream",
       "stream": "stdout",
       "text": [
        "[2015-01-16 13:03:14,503][8258 ][monk.network.producer][INFO    ][37  ][producer.py] : sending message ('{\"password\": \"\", \"op\": \"UpdateUser\", \"name\": \"mluser4864\", \"partition\": 1}',) at monkTestAdmin@0\n"
       ]
      },
      {
       "output_type": "stream",
       "stream": "stdout",
       "text": [
        "[2015-01-16 13:03:14,510][8258 ][monk.network.producer][INFO    ][37  ][producer.py] : sending message ('{\"password\": \"\", \"op\": \"UpdateUser\", \"name\": \"mluser4866\", \"partition\": 1}',) at monkTestAdmin@0\n"
       ]
      },
      {
       "output_type": "stream",
       "stream": "stdout",
       "text": [
        "[2015-01-16 13:03:14,517][8258 ][monk.network.producer][INFO    ][37  ][producer.py] : sending message ('{\"password\": \"\", \"op\": \"UpdateUser\", \"name\": \"mluser4872\", \"partition\": 1}',) at monkTestAdmin@0\n"
       ]
      },
      {
       "output_type": "stream",
       "stream": "stdout",
       "text": [
        "[2015-01-16 13:03:14,526][8258 ][monk.network.producer][INFO    ][37  ][producer.py] : sending message ('{\"password\": \"\", \"op\": \"UpdateUser\", \"name\": \"mluser4874\", \"partition\": 1}',) at monkTestAdmin@0\n"
       ]
      },
      {
       "output_type": "stream",
       "stream": "stdout",
       "text": [
        "[2015-01-16 13:03:14,533][8258 ][monk.network.producer][INFO    ][37  ][producer.py] : sending message ('{\"password\": \"\", \"op\": \"UpdateUser\", \"name\": \"mluser4880\", \"partition\": 1}',) at monkTestAdmin@0\n"
       ]
      },
      {
       "output_type": "stream",
       "stream": "stdout",
       "text": [
        "[2015-01-16 13:03:14,542][8258 ][monk.network.producer][INFO    ][37  ][producer.py] : sending message ('{\"password\": \"\", \"op\": \"UpdateUser\", \"name\": \"mluser4882\", \"partition\": 1}',) at monkTestAdmin@0\n"
       ]
      },
      {
       "output_type": "stream",
       "stream": "stdout",
       "text": [
        "[2015-01-16 13:03:14,549][8258 ][monk.network.producer][INFO    ][37  ][producer.py] : sending message ('{\"password\": \"\", \"op\": \"UpdateUser\", \"name\": \"mluser4888\", \"partition\": 1}',) at monkTestAdmin@0\n"
       ]
      },
      {
       "output_type": "stream",
       "stream": "stdout",
       "text": [
        "[2015-01-16 13:03:14,557][8258 ][monk.network.producer][INFO    ][37  ][producer.py] : sending message ('{\"password\": \"\", \"op\": \"UpdateUser\", \"name\": \"mluser4890\", \"partition\": 1}',) at monkTestAdmin@0\n"
       ]
      },
      {
       "output_type": "stream",
       "stream": "stdout",
       "text": [
        "[2015-01-16 13:03:14,563][8258 ][monk.network.producer][INFO    ][37  ][producer.py] : sending message ('{\"password\": \"\", \"op\": \"UpdateUser\", \"name\": \"mluser4896\", \"partition\": 1}',) at monkTestAdmin@0\n"
       ]
      },
      {
       "output_type": "stream",
       "stream": "stdout",
       "text": [
        "[2015-01-16 13:03:14,579][8258 ][monk.network.producer][INFO    ][37  ][producer.py] : sending message ('{\"password\": \"\", \"op\": \"UpdateUser\", \"name\": \"mluser4898\", \"partition\": 1}',) at monkTestAdmin@0\n"
       ]
      },
      {
       "output_type": "stream",
       "stream": "stdout",
       "text": [
        "[2015-01-16 13:03:14,585][8258 ][monk.network.producer][INFO    ][37  ][producer.py] : sending message ('{\"password\": \"\", \"op\": \"UpdateUser\", \"name\": \"mluser4904\", \"partition\": 1}',) at monkTestAdmin@0\n"
       ]
      },
      {
       "output_type": "stream",
       "stream": "stdout",
       "text": [
        "[2015-01-16 13:03:14,594][8258 ][monk.network.producer][INFO    ][37  ][producer.py] : sending message ('{\"password\": \"\", \"op\": \"UpdateUser\", \"name\": \"mluser4906\", \"partition\": 1}',) at monkTestAdmin@0\n"
       ]
      },
      {
       "output_type": "stream",
       "stream": "stdout",
       "text": [
        "[2015-01-16 13:03:14,609][8258 ][monk.network.producer][INFO    ][37  ][producer.py] : sending message ('{\"password\": \"\", \"op\": \"UpdateUser\", \"name\": \"mluser4912\", \"partition\": 1}',) at monkTestAdmin@0\n"
       ]
      },
      {
       "output_type": "stream",
       "stream": "stdout",
       "text": [
        "[2015-01-16 13:03:14,655][8258 ][monk.network.producer][INFO    ][37  ][producer.py] : sending message ('{\"password\": \"\", \"op\": \"UpdateUser\", \"name\": \"mluser4914\", \"partition\": 1}',) at monkTestAdmin@0\n"
       ]
      },
      {
       "output_type": "stream",
       "stream": "stdout",
       "text": [
        "[2015-01-16 13:03:14,672][8258 ][monk.network.producer][INFO    ][37  ][producer.py] : sending message ('{\"password\": \"\", \"op\": \"UpdateUser\", \"name\": \"mluser4920\", \"partition\": 1}',) at monkTestAdmin@0\n"
       ]
      },
      {
       "output_type": "stream",
       "stream": "stdout",
       "text": [
        "[2015-01-16 13:03:14,681][8258 ][monk.network.producer][INFO    ][37  ][producer.py] : sending message ('{\"password\": \"\", \"op\": \"UpdateUser\", \"name\": \"mluser4922\", \"partition\": 1}',) at monkTestAdmin@0\n"
       ]
      },
      {
       "output_type": "stream",
       "stream": "stdout",
       "text": [
        "[2015-01-16 13:03:14,695][8258 ][monk.network.producer][INFO    ][37  ][producer.py] : sending message ('{\"password\": \"\", \"op\": \"UpdateUser\", \"name\": \"mluser4928\", \"partition\": 1}',) at monkTestAdmin@0\n"
       ]
      },
      {
       "output_type": "stream",
       "stream": "stdout",
       "text": [
        "[2015-01-16 13:03:14,703][8258 ][monk.network.producer][INFO    ][37  ][producer.py] : sending message ('{\"password\": \"\", \"op\": \"UpdateUser\", \"name\": \"mluser4930\", \"partition\": 1}',) at monkTestAdmin@0\n"
       ]
      },
      {
       "output_type": "stream",
       "stream": "stdout",
       "text": [
        "[2015-01-16 13:03:14,711][8258 ][monk.network.producer][INFO    ][37  ][producer.py] : sending message ('{\"password\": \"\", \"op\": \"UpdateUser\", \"name\": \"mluser4936\", \"partition\": 1}',) at monkTestAdmin@0\n"
       ]
      },
      {
       "output_type": "stream",
       "stream": "stdout",
       "text": [
        "[2015-01-16 13:03:14,721][8258 ][monk.network.producer][INFO    ][37  ][producer.py] : sending message ('{\"password\": \"\", \"op\": \"UpdateUser\", \"name\": \"mluser4938\", \"partition\": 1}',) at monkTestAdmin@0\n"
       ]
      },
      {
       "output_type": "stream",
       "stream": "stdout",
       "text": [
        "[2015-01-16 13:03:14,746][8258 ][monk.network.producer][INFO    ][37  ][producer.py] : sending message ('{\"password\": \"\", \"op\": \"UpdateUser\", \"name\": \"mluser4944\", \"partition\": 1}',) at monkTestAdmin@0\n"
       ]
      },
      {
       "output_type": "stream",
       "stream": "stdout",
       "text": [
        "[2015-01-16 13:03:14,754][8258 ][monk.network.producer][INFO    ][37  ][producer.py] : sending message ('{\"password\": \"\", \"op\": \"UpdateUser\", \"name\": \"mluser4946\", \"partition\": 1}',) at monkTestAdmin@0\n"
       ]
      },
      {
       "output_type": "stream",
       "stream": "stdout",
       "text": [
        "[2015-01-16 13:03:14,762][8258 ][monk.network.producer][INFO    ][37  ][producer.py] : sending message ('{\"password\": \"\", \"op\": \"UpdateUser\", \"name\": \"mluser4952\", \"partition\": 1}',) at monkTestAdmin@0\n"
       ]
      },
      {
       "output_type": "stream",
       "stream": "stdout",
       "text": [
        "[2015-01-16 13:03:14,769][8258 ][monk.network.producer][INFO    ][37  ][producer.py] : sending message ('{\"password\": \"\", \"op\": \"UpdateUser\", \"name\": \"mluser4954\", \"partition\": 1}',) at monkTestAdmin@0\n"
       ]
      },
      {
       "output_type": "stream",
       "stream": "stdout",
       "text": [
        "[2015-01-16 13:03:14,775][8258 ][monk.network.producer][INFO    ][37  ][producer.py] : sending message ('{\"password\": \"\", \"op\": \"UpdateUser\", \"name\": \"mluser4960\", \"partition\": 1}',) at monkTestAdmin@0\n"
       ]
      },
      {
       "output_type": "stream",
       "stream": "stdout",
       "text": [
        "[2015-01-16 13:03:14,790][8258 ][monk.network.producer][INFO    ][37  ][producer.py] : sending message ('{\"password\": \"\", \"op\": \"UpdateUser\", \"name\": \"mluser4962\", \"partition\": 1}',) at monkTestAdmin@0\n"
       ]
      },
      {
       "output_type": "stream",
       "stream": "stdout",
       "text": [
        "[2015-01-16 13:03:14,798][8258 ][monk.network.producer][INFO    ][37  ][producer.py] : sending message ('{\"password\": \"\", \"op\": \"UpdateUser\", \"name\": \"mluser4968\", \"partition\": 1}',) at monkTestAdmin@0\n"
       ]
      },
      {
       "output_type": "stream",
       "stream": "stdout",
       "text": [
        "[2015-01-16 13:03:14,806][8258 ][monk.network.producer][INFO    ][37  ][producer.py] : sending message ('{\"password\": \"\", \"op\": \"UpdateUser\", \"name\": \"mluser4970\", \"partition\": 1}',) at monkTestAdmin@0\n"
       ]
      },
      {
       "output_type": "stream",
       "stream": "stdout",
       "text": [
        "[2015-01-16 13:03:14,816][8258 ][monk.network.producer][INFO    ][37  ][producer.py] : sending message ('{\"password\": \"\", \"op\": \"UpdateUser\", \"name\": \"mluser4976\", \"partition\": 1}',) at monkTestAdmin@0\n"
       ]
      },
      {
       "output_type": "stream",
       "stream": "stdout",
       "text": [
        "[2015-01-16 13:03:14,831][8258 ][monk.network.producer][INFO    ][37  ][producer.py] : sending message ('{\"password\": \"\", \"op\": \"UpdateUser\", \"name\": \"mluser4978\", \"partition\": 1}',) at monkTestAdmin@0\n"
       ]
      },
      {
       "output_type": "stream",
       "stream": "stdout",
       "text": [
        "[2015-01-16 13:03:14,839][8258 ][monk.network.producer][INFO    ][37  ][producer.py] : sending message ('{\"password\": \"\", \"op\": \"UpdateUser\", \"name\": \"mluser4984\", \"partition\": 1}',) at monkTestAdmin@0\n"
       ]
      },
      {
       "output_type": "stream",
       "stream": "stdout",
       "text": [
        "[2015-01-16 13:03:14,852][8258 ][monk.network.producer][INFO    ][37  ][producer.py] : sending message ('{\"password\": \"\", \"op\": \"UpdateUser\", \"name\": \"mluser4986\", \"partition\": 1}',) at monkTestAdmin@0\n"
       ]
      },
      {
       "output_type": "stream",
       "stream": "stdout",
       "text": [
        "[2015-01-16 13:03:14,866][8258 ][monk.network.producer][INFO    ][37  ][producer.py] : sending message ('{\"password\": \"\", \"op\": \"UpdateUser\", \"name\": \"mluser4992\", \"partition\": 1}',) at monkTestAdmin@0\n"
       ]
      },
      {
       "output_type": "stream",
       "stream": "stdout",
       "text": [
        "[2015-01-16 13:03:14,877][8258 ][monk.network.producer][INFO    ][37  ][producer.py] : sending message ('{\"password\": \"\", \"op\": \"UpdateUser\", \"name\": \"mluser4994\", \"partition\": 1}',) at monkTestAdmin@0\n"
       ]
      },
      {
       "output_type": "stream",
       "stream": "stdout",
       "text": [
        "[2015-01-16 13:03:14,886][8258 ][monk.network.producer][INFO    ][37  ][producer.py] : sending message ('{\"password\": \"\", \"op\": \"UpdateUser\", \"name\": \"mluser5000\", \"partition\": 1}',) at monkTestAdmin@0\n"
       ]
      },
      {
       "output_type": "stream",
       "stream": "stdout",
       "text": [
        "[2015-01-16 13:03:14,892][8258 ][monk.network.producer][INFO    ][37  ][producer.py] : sending message ('{\"password\": \"\", \"op\": \"UpdateUser\", \"name\": \"mluser5002\", \"partition\": 1}',) at monkTestAdmin@0\n"
       ]
      },
      {
       "output_type": "stream",
       "stream": "stdout",
       "text": [
        "[2015-01-16 13:03:14,906][8258 ][monk.network.producer][INFO    ][37  ][producer.py] : sending message ('{\"password\": \"\", \"op\": \"UpdateUser\", \"name\": \"mluser5008\", \"partition\": 1}',) at monkTestAdmin@0\n"
       ]
      },
      {
       "output_type": "stream",
       "stream": "stdout",
       "text": [
        "[2015-01-16 13:03:14,936][8258 ][monk.network.producer][INFO    ][37  ][producer.py] : sending message ('{\"password\": \"\", \"op\": \"UpdateUser\", \"name\": \"mluser5010\", \"partition\": 1}',) at monkTestAdmin@0\n"
       ]
      },
      {
       "output_type": "stream",
       "stream": "stdout",
       "text": [
        "[2015-01-16 13:03:14,943][8258 ][monk.network.producer][INFO    ][37  ][producer.py] : sending message ('{\"password\": \"\", \"op\": \"UpdateUser\", \"name\": \"mluser5016\", \"partition\": 1}',) at monkTestAdmin@0\n"
       ]
      },
      {
       "output_type": "stream",
       "stream": "stdout",
       "text": [
        "[2015-01-16 13:03:14,951][8258 ][monk.network.producer][INFO    ][37  ][producer.py] : sending message ('{\"password\": \"\", \"op\": \"UpdateUser\", \"name\": \"mluser5018\", \"partition\": 1}',) at monkTestAdmin@0\n"
       ]
      },
      {
       "output_type": "stream",
       "stream": "stdout",
       "text": [
        "[2015-01-16 13:03:14,959][8258 ][monk.network.producer][INFO    ][37  ][producer.py] : sending message ('{\"password\": \"\", \"op\": \"UpdateUser\", \"name\": \"mluser5024\", \"partition\": 1}',) at monkTestAdmin@0\n"
       ]
      },
      {
       "output_type": "stream",
       "stream": "stdout",
       "text": [
        "[2015-01-16 13:03:14,968][8258 ][monk.network.producer][INFO    ][37  ][producer.py] : sending message ('{\"password\": \"\", \"op\": \"UpdateUser\", \"name\": \"mluser5026\", \"partition\": 1}',) at monkTestAdmin@0\n"
       ]
      },
      {
       "output_type": "stream",
       "stream": "stdout",
       "text": [
        "[2015-01-16 13:03:14,975][8258 ][monk.network.producer][INFO    ][37  ][producer.py] : sending message ('{\"password\": \"\", \"op\": \"UpdateUser\", \"name\": \"mluser5032\", \"partition\": 1}',) at monkTestAdmin@0\n"
       ]
      },
      {
       "output_type": "stream",
       "stream": "stdout",
       "text": [
        "[2015-01-16 13:03:14,982][8258 ][monk.network.producer][INFO    ][37  ][producer.py] : sending message ('{\"password\": \"\", \"op\": \"UpdateUser\", \"name\": \"mluser5034\", \"partition\": 1}',) at monkTestAdmin@0\n"
       ]
      },
      {
       "output_type": "stream",
       "stream": "stdout",
       "text": [
        "[2015-01-16 13:03:14,991][8258 ][monk.network.producer][INFO    ][37  ][producer.py] : sending message ('{\"password\": \"\", \"op\": \"UpdateUser\", \"name\": \"mluser5040\", \"partition\": 1}',) at monkTestAdmin@0\n"
       ]
      },
      {
       "output_type": "stream",
       "stream": "stdout",
       "text": [
        "[2015-01-16 13:03:15,001][8258 ][monk.network.producer][INFO    ][37  ][producer.py] : sending message ('{\"password\": \"\", \"op\": \"UpdateUser\", \"name\": \"mluser5042\", \"partition\": 1}',) at monkTestAdmin@0\n"
       ]
      },
      {
       "output_type": "stream",
       "stream": "stdout",
       "text": [
        "[2015-01-16 13:03:15,018][8258 ][monk.network.producer][INFO    ][37  ][producer.py] : sending message ('{\"password\": \"\", \"op\": \"UpdateUser\", \"name\": \"mluser5048\", \"partition\": 1}',) at monkTestAdmin@0\n"
       ]
      },
      {
       "output_type": "stream",
       "stream": "stdout",
       "text": [
        "[2015-01-16 13:03:15,046][8258 ][monk.network.producer][INFO    ][37  ][producer.py] : sending message ('{\"password\": \"\", \"op\": \"UpdateUser\", \"name\": \"mluser5050\", \"partition\": 1}',) at monkTestAdmin@0\n"
       ]
      },
      {
       "output_type": "stream",
       "stream": "stdout",
       "text": [
        "[2015-01-16 13:03:15,054][8258 ][monk.network.producer][INFO    ][37  ][producer.py] : sending message ('{\"password\": \"\", \"op\": \"UpdateUser\", \"name\": \"mluser5056\", \"partition\": 1}',) at monkTestAdmin@0\n"
       ]
      },
      {
       "output_type": "stream",
       "stream": "stdout",
       "text": [
        "[2015-01-16 13:03:15,061][8258 ][monk.network.producer][INFO    ][37  ][producer.py] : sending message ('{\"password\": \"\", \"op\": \"UpdateUser\", \"name\": \"mluser5058\", \"partition\": 1}',) at monkTestAdmin@0\n"
       ]
      },
      {
       "output_type": "stream",
       "stream": "stdout",
       "text": [
        "[2015-01-16 13:03:15,068][8258 ][monk.network.producer][INFO    ][37  ][producer.py] : sending message ('{\"password\": \"\", \"op\": \"UpdateUser\", \"name\": \"mluser5064\", \"partition\": 1}',) at monkTestAdmin@0\n"
       ]
      },
      {
       "output_type": "stream",
       "stream": "stdout",
       "text": [
        "[2015-01-16 13:03:15,077][8258 ][monk.network.producer][INFO    ][37  ][producer.py] : sending message ('{\"password\": \"\", \"op\": \"UpdateUser\", \"name\": \"mluser5066\", \"partition\": 1}',) at monkTestAdmin@0\n"
       ]
      },
      {
       "output_type": "stream",
       "stream": "stdout",
       "text": [
        "[2015-01-16 13:03:15,088][8258 ][monk.network.producer][INFO    ][37  ][producer.py] : sending message ('{\"password\": \"\", \"op\": \"UpdateUser\", \"name\": \"mluser5072\", \"partition\": 1}',) at monkTestAdmin@0\n"
       ]
      },
      {
       "output_type": "stream",
       "stream": "stdout",
       "text": [
        "[2015-01-16 13:03:15,095][8258 ][monk.network.producer][INFO    ][37  ][producer.py] : sending message ('{\"password\": \"\", \"op\": \"UpdateUser\", \"name\": \"mluser5074\", \"partition\": 1}',) at monkTestAdmin@0\n"
       ]
      },
      {
       "output_type": "stream",
       "stream": "stdout",
       "text": [
        "[2015-01-16 13:03:15,104][8258 ][monk.network.producer][INFO    ][37  ][producer.py] : sending message ('{\"password\": \"\", \"op\": \"UpdateUser\", \"name\": \"mluser5080\", \"partition\": 1}',) at monkTestAdmin@0\n"
       ]
      },
      {
       "output_type": "stream",
       "stream": "stdout",
       "text": [
        "[2015-01-16 13:03:15,110][8258 ][monk.network.producer][INFO    ][37  ][producer.py] : sending message ('{\"password\": \"\", \"op\": \"UpdateUser\", \"name\": \"mluser5082\", \"partition\": 1}',) at monkTestAdmin@0\n"
       ]
      },
      {
       "output_type": "stream",
       "stream": "stdout",
       "text": [
        "[2015-01-16 13:03:15,122][8258 ][monk.network.producer][INFO    ][37  ][producer.py] : sending message ('{\"password\": \"\", \"op\": \"UpdateUser\", \"name\": \"mluser5088\", \"partition\": 1}',) at monkTestAdmin@0\n"
       ]
      },
      {
       "output_type": "stream",
       "stream": "stdout",
       "text": [
        "[2015-01-16 13:03:15,129][8258 ][monk.network.producer][INFO    ][37  ][producer.py] : sending message ('{\"password\": \"\", \"op\": \"UpdateUser\", \"name\": \"mluser5090\", \"partition\": 1}',) at monkTestAdmin@0\n"
       ]
      },
      {
       "output_type": "stream",
       "stream": "stdout",
       "text": [
        "[2015-01-16 13:03:15,141][8258 ][monk.network.producer][INFO    ][37  ][producer.py] : sending message ('{\"password\": \"\", \"op\": \"UpdateUser\", \"name\": \"mluser5096\", \"partition\": 1}',) at monkTestAdmin@0\n"
       ]
      },
      {
       "output_type": "stream",
       "stream": "stdout",
       "text": [
        "[2015-01-16 13:03:15,147][8258 ][monk.network.producer][INFO    ][37  ][producer.py] : sending message ('{\"password\": \"\", \"op\": \"UpdateUser\", \"name\": \"mluser5098\", \"partition\": 1}',) at monkTestAdmin@0\n"
       ]
      },
      {
       "output_type": "stream",
       "stream": "stdout",
       "text": [
        "[2015-01-16 13:03:15,156][8258 ][monk.network.producer][INFO    ][37  ][producer.py] : sending message ('{\"password\": \"\", \"op\": \"UpdateUser\", \"name\": \"mluser5104\", \"partition\": 1}',) at monkTestAdmin@0\n"
       ]
      },
      {
       "output_type": "stream",
       "stream": "stdout",
       "text": [
        "[2015-01-16 13:03:15,163][8258 ][monk.network.producer][INFO    ][37  ][producer.py] : sending message ('{\"password\": \"\", \"op\": \"UpdateUser\", \"name\": \"mluser5106\", \"partition\": 1}',) at monkTestAdmin@0\n"
       ]
      },
      {
       "output_type": "stream",
       "stream": "stdout",
       "text": [
        "[2015-01-16 13:03:15,171][8258 ][monk.network.producer][INFO    ][37  ][producer.py] : sending message ('{\"password\": \"\", \"op\": \"UpdateUser\", \"name\": \"mluser5112\", \"partition\": 1}',) at monkTestAdmin@0\n"
       ]
      },
      {
       "output_type": "stream",
       "stream": "stdout",
       "text": [
        "[2015-01-16 13:03:15,177][8258 ][monk.network.producer][INFO    ][37  ][producer.py] : sending message ('{\"password\": \"\", \"op\": \"UpdateUser\", \"name\": \"mluser5114\", \"partition\": 1}',) at monkTestAdmin@0\n"
       ]
      },
      {
       "output_type": "stream",
       "stream": "stdout",
       "text": [
        "[2015-01-16 13:03:15,182][8258 ][monk.network.producer][INFO    ][37  ][producer.py] : sending message ('{\"password\": \"\", \"op\": \"UpdateUser\", \"name\": \"mluser5120\", \"partition\": 1}',) at monkTestAdmin@0\n"
       ]
      },
      {
       "output_type": "stream",
       "stream": "stdout",
       "text": [
        "[2015-01-16 13:03:15,191][8258 ][monk.network.producer][INFO    ][37  ][producer.py] : sending message ('{\"password\": \"\", \"op\": \"UpdateUser\", \"name\": \"mluser5122\", \"partition\": 1}',) at monkTestAdmin@0\n"
       ]
      },
      {
       "output_type": "stream",
       "stream": "stdout",
       "text": [
        "[2015-01-16 13:03:15,197][8258 ][monk.network.producer][INFO    ][37  ][producer.py] : sending message ('{\"password\": \"\", \"op\": \"UpdateUser\", \"name\": \"mluser5128\", \"partition\": 1}',) at monkTestAdmin@0\n"
       ]
      },
      {
       "output_type": "stream",
       "stream": "stdout",
       "text": [
        "[2015-01-16 13:03:15,205][8258 ][monk.network.producer][INFO    ][37  ][producer.py] : sending message ('{\"password\": \"\", \"op\": \"UpdateUser\", \"name\": \"mluser5130\", \"partition\": 1}',) at monkTestAdmin@0\n"
       ]
      },
      {
       "output_type": "stream",
       "stream": "stdout",
       "text": [
        "[2015-01-16 13:03:15,211][8258 ][monk.network.producer][INFO    ][37  ][producer.py] : sending message ('{\"password\": \"\", \"op\": \"UpdateUser\", \"name\": \"mluser5136\", \"partition\": 1}',) at monkTestAdmin@0\n"
       ]
      },
      {
       "output_type": "stream",
       "stream": "stdout",
       "text": [
        "[2015-01-16 13:03:15,219][8258 ][monk.network.producer][INFO    ][37  ][producer.py] : sending message ('{\"password\": \"\", \"op\": \"UpdateUser\", \"name\": \"mluser5138\", \"partition\": 1}',) at monkTestAdmin@0\n"
       ]
      },
      {
       "output_type": "stream",
       "stream": "stdout",
       "text": [
        "[2015-01-16 13:03:15,225][8258 ][monk.network.producer][INFO    ][37  ][producer.py] : sending message ('{\"password\": \"\", \"op\": \"UpdateUser\", \"name\": \"mluser5144\", \"partition\": 1}',) at monkTestAdmin@0\n"
       ]
      },
      {
       "output_type": "stream",
       "stream": "stdout",
       "text": [
        "[2015-01-16 13:03:15,241][8258 ][monk.network.producer][INFO    ][37  ][producer.py] : sending message ('{\"password\": \"\", \"op\": \"UpdateUser\", \"name\": \"mluser5146\", \"partition\": 1}',) at monkTestAdmin@0\n"
       ]
      },
      {
       "output_type": "stream",
       "stream": "stdout",
       "text": [
        "[2015-01-16 13:03:15,248][8258 ][monk.network.producer][INFO    ][37  ][producer.py] : sending message ('{\"password\": \"\", \"op\": \"UpdateUser\", \"name\": \"mluser5152\", \"partition\": 1}',) at monkTestAdmin@0\n"
       ]
      },
      {
       "output_type": "stream",
       "stream": "stdout",
       "text": [
        "[2015-01-16 13:03:15,258][8258 ][monk.network.producer][INFO    ][37  ][producer.py] : sending message ('{\"password\": \"\", \"op\": \"UpdateUser\", \"name\": \"mluser5154\", \"partition\": 1}',) at monkTestAdmin@0\n"
       ]
      },
      {
       "output_type": "stream",
       "stream": "stdout",
       "text": [
        "[2015-01-16 13:03:15,266][8258 ][monk.network.producer][INFO    ][37  ][producer.py] : sending message ('{\"password\": \"\", \"op\": \"UpdateUser\", \"name\": \"mluser5160\", \"partition\": 1}',) at monkTestAdmin@0\n"
       ]
      },
      {
       "output_type": "stream",
       "stream": "stdout",
       "text": [
        "[2015-01-16 13:03:15,272][8258 ][monk.network.producer][INFO    ][37  ][producer.py] : sending message ('{\"password\": \"\", \"op\": \"UpdateUser\", \"name\": \"mluser5162\", \"partition\": 1}',) at monkTestAdmin@0\n"
       ]
      },
      {
       "output_type": "stream",
       "stream": "stdout",
       "text": [
        "[2015-01-16 13:03:15,279][8258 ][monk.network.producer][INFO    ][37  ][producer.py] : sending message ('{\"password\": \"\", \"op\": \"UpdateUser\", \"name\": \"mluser5168\", \"partition\": 1}',) at monkTestAdmin@0\n"
       ]
      },
      {
       "output_type": "stream",
       "stream": "stdout",
       "text": [
        "[2015-01-16 13:03:15,286][8258 ][monk.network.producer][INFO    ][37  ][producer.py] : sending message ('{\"password\": \"\", \"op\": \"UpdateUser\", \"name\": \"mluser5170\", \"partition\": 1}',) at monkTestAdmin@0\n"
       ]
      },
      {
       "output_type": "stream",
       "stream": "stdout",
       "text": [
        "[2015-01-16 13:03:15,293][8258 ][monk.network.producer][INFO    ][37  ][producer.py] : sending message ('{\"password\": \"\", \"op\": \"UpdateUser\", \"name\": \"mluser5176\", \"partition\": 1}',) at monkTestAdmin@0\n"
       ]
      },
      {
       "output_type": "stream",
       "stream": "stdout",
       "text": [
        "[2015-01-16 13:03:15,299][8258 ][monk.network.producer][INFO    ][37  ][producer.py] : sending message ('{\"password\": \"\", \"op\": \"UpdateUser\", \"name\": \"mluser5178\", \"partition\": 1}',) at monkTestAdmin@0\n"
       ]
      },
      {
       "output_type": "stream",
       "stream": "stdout",
       "text": [
        "[2015-01-16 13:03:15,305][8258 ][monk.network.producer][INFO    ][37  ][producer.py] : sending message ('{\"password\": \"\", \"op\": \"UpdateUser\", \"name\": \"mluser5184\", \"partition\": 1}',) at monkTestAdmin@0\n"
       ]
      },
      {
       "output_type": "stream",
       "stream": "stdout",
       "text": [
        "[2015-01-16 13:03:15,321][8258 ][monk.network.producer][INFO    ][37  ][producer.py] : sending message ('{\"password\": \"\", \"op\": \"UpdateUser\", \"name\": \"mluser5186\", \"partition\": 1}',) at monkTestAdmin@0\n"
       ]
      },
      {
       "output_type": "stream",
       "stream": "stdout",
       "text": [
        "[2015-01-16 13:03:15,328][8258 ][monk.network.producer][INFO    ][37  ][producer.py] : sending message ('{\"password\": \"\", \"op\": \"UpdateUser\", \"name\": \"mluser5192\", \"partition\": 1}',) at monkTestAdmin@0\n"
       ]
      },
      {
       "output_type": "stream",
       "stream": "stdout",
       "text": [
        "[2015-01-16 13:03:15,333][8258 ][monk.network.producer][INFO    ][37  ][producer.py] : sending message ('{\"password\": \"\", \"op\": \"UpdateUser\", \"name\": \"mluser5194\", \"partition\": 1}',) at monkTestAdmin@0\n"
       ]
      },
      {
       "output_type": "stream",
       "stream": "stdout",
       "text": [
        "[2015-01-16 13:03:15,344][8258 ][monk.network.producer][INFO    ][37  ][producer.py] : sending message ('{\"password\": \"\", \"op\": \"UpdateUser\", \"name\": \"mluser5200\", \"partition\": 1}',) at monkTestAdmin@0\n"
       ]
      },
      {
       "output_type": "stream",
       "stream": "stdout",
       "text": [
        "[2015-01-16 13:03:15,350][8258 ][monk.network.producer][INFO    ][37  ][producer.py] : sending message ('{\"password\": \"\", \"op\": \"UpdateUser\", \"name\": \"mluser5202\", \"partition\": 1}',) at monkTestAdmin@0\n"
       ]
      },
      {
       "output_type": "stream",
       "stream": "stdout",
       "text": [
        "[2015-01-16 13:03:15,360][8258 ][monk.network.producer][INFO    ][37  ][producer.py] : sending message ('{\"password\": \"\", \"op\": \"UpdateUser\", \"name\": \"mluser5208\", \"partition\": 1}',) at monkTestAdmin@0\n"
       ]
      },
      {
       "output_type": "stream",
       "stream": "stdout",
       "text": [
        "[2015-01-16 13:03:15,368][8258 ][monk.network.producer][INFO    ][37  ][producer.py] : sending message ('{\"password\": \"\", \"op\": \"UpdateUser\", \"name\": \"mluser5210\", \"partition\": 1}',) at monkTestAdmin@0\n"
       ]
      },
      {
       "output_type": "stream",
       "stream": "stdout",
       "text": [
        "[2015-01-16 13:03:15,376][8258 ][monk.network.producer][INFO    ][37  ][producer.py] : sending message ('{\"password\": \"\", \"op\": \"UpdateUser\", \"name\": \"mluser5216\", \"partition\": 1}',) at monkTestAdmin@0\n"
       ]
      },
      {
       "output_type": "stream",
       "stream": "stdout",
       "text": [
        "[2015-01-16 13:03:15,389][8258 ][monk.network.producer][INFO    ][37  ][producer.py] : sending message ('{\"password\": \"\", \"op\": \"UpdateUser\", \"name\": \"mluser5218\", \"partition\": 1}',) at monkTestAdmin@0\n"
       ]
      },
      {
       "output_type": "stream",
       "stream": "stdout",
       "text": [
        "[2015-01-16 13:03:15,397][8258 ][monk.network.producer][INFO    ][37  ][producer.py] : sending message ('{\"password\": \"\", \"op\": \"UpdateUser\", \"name\": \"mluser5224\", \"partition\": 1}',) at monkTestAdmin@0\n"
       ]
      },
      {
       "output_type": "stream",
       "stream": "stdout",
       "text": [
        "[2015-01-16 13:03:15,403][8258 ][monk.network.producer][INFO    ][37  ][producer.py] : sending message ('{\"password\": \"\", \"op\": \"UpdateUser\", \"name\": \"mluser5226\", \"partition\": 1}',) at monkTestAdmin@0\n"
       ]
      },
      {
       "output_type": "stream",
       "stream": "stdout",
       "text": [
        "[2015-01-16 13:03:15,410][8258 ][monk.network.producer][INFO    ][37  ][producer.py] : sending message ('{\"password\": \"\", \"op\": \"UpdateUser\", \"name\": \"mluser5232\", \"partition\": 1}',) at monkTestAdmin@0\n"
       ]
      },
      {
       "output_type": "stream",
       "stream": "stdout",
       "text": [
        "[2015-01-16 13:03:15,417][8258 ][monk.network.producer][INFO    ][37  ][producer.py] : sending message ('{\"password\": \"\", \"op\": \"UpdateUser\", \"name\": \"mluser5234\", \"partition\": 1}',) at monkTestAdmin@0\n"
       ]
      },
      {
       "output_type": "stream",
       "stream": "stdout",
       "text": [
        "[2015-01-16 13:03:15,425][8258 ][monk.network.producer][INFO    ][37  ][producer.py] : sending message ('{\"password\": \"\", \"op\": \"UpdateUser\", \"name\": \"mluser5240\", \"partition\": 1}',) at monkTestAdmin@0\n"
       ]
      },
      {
       "output_type": "stream",
       "stream": "stdout",
       "text": [
        "[2015-01-16 13:03:15,435][8258 ][monk.network.producer][INFO    ][37  ][producer.py] : sending message ('{\"password\": \"\", \"op\": \"UpdateUser\", \"name\": \"mluser5242\", \"partition\": 1}',) at monkTestAdmin@0\n"
       ]
      },
      {
       "output_type": "stream",
       "stream": "stdout",
       "text": [
        "[2015-01-16 13:03:15,442][8258 ][monk.network.producer][INFO    ][37  ][producer.py] : sending message ('{\"password\": \"\", \"op\": \"UpdateUser\", \"name\": \"mluser5248\", \"partition\": 1}',) at monkTestAdmin@0\n"
       ]
      },
      {
       "output_type": "stream",
       "stream": "stdout",
       "text": [
        "[2015-01-16 13:03:15,448][8258 ][monk.network.producer][INFO    ][37  ][producer.py] : sending message ('{\"password\": \"\", \"op\": \"UpdateUser\", \"name\": \"mluser5250\", \"partition\": 1}',) at monkTestAdmin@0\n"
       ]
      },
      {
       "output_type": "stream",
       "stream": "stdout",
       "text": [
        "[2015-01-16 13:03:15,454][8258 ][monk.network.producer][INFO    ][37  ][producer.py] : sending message ('{\"password\": \"\", \"op\": \"UpdateUser\", \"name\": \"mluser5256\", \"partition\": 1}',) at monkTestAdmin@0\n"
       ]
      },
      {
       "output_type": "stream",
       "stream": "stdout",
       "text": [
        "[2015-01-16 13:03:15,462][8258 ][monk.network.producer][INFO    ][37  ][producer.py] : sending message ('{\"password\": \"\", \"op\": \"UpdateUser\", \"name\": \"mluser5258\", \"partition\": 1}',) at monkTestAdmin@0\n"
       ]
      },
      {
       "output_type": "stream",
       "stream": "stdout",
       "text": [
        "[2015-01-16 13:03:15,471][8258 ][monk.network.producer][INFO    ][37  ][producer.py] : sending message ('{\"password\": \"\", \"op\": \"UpdateUser\", \"name\": \"mluser5264\", \"partition\": 1}',) at monkTestAdmin@0\n"
       ]
      },
      {
       "output_type": "stream",
       "stream": "stdout",
       "text": [
        "[2015-01-16 13:03:15,478][8258 ][monk.network.producer][INFO    ][37  ][producer.py] : sending message ('{\"password\": \"\", \"op\": \"UpdateUser\", \"name\": \"mluser5266\", \"partition\": 1}',) at monkTestAdmin@0\n"
       ]
      },
      {
       "output_type": "stream",
       "stream": "stdout",
       "text": [
        "[2015-01-16 13:03:15,484][8258 ][monk.network.producer][INFO    ][37  ][producer.py] : sending message ('{\"password\": \"\", \"op\": \"UpdateUser\", \"name\": \"mluser5272\", \"partition\": 1}',) at monkTestAdmin@0\n"
       ]
      },
      {
       "output_type": "stream",
       "stream": "stdout",
       "text": [
        "[2015-01-16 13:03:15,489][8258 ][monk.network.producer][INFO    ][37  ][producer.py] : sending message ('{\"password\": \"\", \"op\": \"UpdateUser\", \"name\": \"mluser5274\", \"partition\": 1}',) at monkTestAdmin@0\n"
       ]
      },
      {
       "output_type": "stream",
       "stream": "stdout",
       "text": [
        "[2015-01-16 13:03:15,496][8258 ][monk.network.producer][INFO    ][37  ][producer.py] : sending message ('{\"password\": \"\", \"op\": \"UpdateUser\", \"name\": \"mluser5280\", \"partition\": 1}',) at monkTestAdmin@0\n"
       ]
      },
      {
       "output_type": "stream",
       "stream": "stdout",
       "text": [
        "[2015-01-16 13:03:15,504][8258 ][monk.network.producer][INFO    ][37  ][producer.py] : sending message ('{\"password\": \"\", \"op\": \"UpdateUser\", \"name\": \"mluser5282\", \"partition\": 1}',) at monkTestAdmin@0\n"
       ]
      },
      {
       "output_type": "stream",
       "stream": "stdout",
       "text": [
        "[2015-01-16 13:03:15,510][8258 ][monk.network.producer][INFO    ][37  ][producer.py] : sending message ('{\"password\": \"\", \"op\": \"UpdateUser\", \"name\": \"mluser5288\", \"partition\": 1}',) at monkTestAdmin@0\n"
       ]
      },
      {
       "output_type": "stream",
       "stream": "stdout",
       "text": [
        "[2015-01-16 13:03:15,518][8258 ][monk.network.producer][INFO    ][37  ][producer.py] : sending message ('{\"password\": \"\", \"op\": \"UpdateUser\", \"name\": \"mluser5290\", \"partition\": 1}',) at monkTestAdmin@0\n"
       ]
      },
      {
       "output_type": "stream",
       "stream": "stdout",
       "text": [
        "[2015-01-16 13:03:15,528][8258 ][monk.network.producer][INFO    ][37  ][producer.py] : sending message ('{\"password\": \"\", \"op\": \"UpdateUser\", \"name\": \"mluser5296\", \"partition\": 1}',) at monkTestAdmin@0\n"
       ]
      },
      {
       "output_type": "stream",
       "stream": "stdout",
       "text": [
        "[2015-01-16 13:03:15,537][8258 ][monk.network.producer][INFO    ][37  ][producer.py] : sending message ('{\"password\": \"\", \"op\": \"UpdateUser\", \"name\": \"mluser5298\", \"partition\": 1}',) at monkTestAdmin@0\n"
       ]
      },
      {
       "output_type": "stream",
       "stream": "stdout",
       "text": [
        "[2015-01-16 13:03:15,549][8258 ][monk.network.producer][INFO    ][37  ][producer.py] : sending message ('{\"password\": \"\", \"op\": \"UpdateUser\", \"name\": \"mluser5304\", \"partition\": 1}',) at monkTestAdmin@0\n"
       ]
      },
      {
       "output_type": "stream",
       "stream": "stdout",
       "text": [
        "[2015-01-16 13:03:15,555][8258 ][monk.network.producer][INFO    ][37  ][producer.py] : sending message ('{\"password\": \"\", \"op\": \"UpdateUser\", \"name\": \"mluser5306\", \"partition\": 1}',) at monkTestAdmin@0\n"
       ]
      },
      {
       "output_type": "stream",
       "stream": "stdout",
       "text": [
        "[2015-01-16 13:03:15,565][8258 ][monk.network.producer][INFO    ][37  ][producer.py] : sending message ('{\"password\": \"\", \"op\": \"UpdateUser\", \"name\": \"mluser5312\", \"partition\": 1}',) at monkTestAdmin@0\n"
       ]
      },
      {
       "output_type": "stream",
       "stream": "stdout",
       "text": [
        "[2015-01-16 13:03:15,573][8258 ][monk.network.producer][INFO    ][37  ][producer.py] : sending message ('{\"password\": \"\", \"op\": \"UpdateUser\", \"name\": \"mluser5314\", \"partition\": 1}',) at monkTestAdmin@0\n"
       ]
      },
      {
       "output_type": "stream",
       "stream": "stdout",
       "text": [
        "[2015-01-16 13:03:15,579][8258 ][monk.network.producer][INFO    ][37  ][producer.py] : sending message ('{\"password\": \"\", \"op\": \"UpdateUser\", \"name\": \"mluser5320\", \"partition\": 1}',) at monkTestAdmin@0\n"
       ]
      },
      {
       "output_type": "stream",
       "stream": "stdout",
       "text": [
        "[2015-01-16 13:03:15,587][8258 ][monk.network.producer][INFO    ][37  ][producer.py] : sending message ('{\"password\": \"\", \"op\": \"UpdateUser\", \"name\": \"mluser5322\", \"partition\": 1}',) at monkTestAdmin@0\n"
       ]
      },
      {
       "output_type": "stream",
       "stream": "stdout",
       "text": [
        "[2015-01-16 13:03:15,593][8258 ][monk.network.producer][INFO    ][37  ][producer.py] : sending message ('{\"password\": \"\", \"op\": \"UpdateUser\", \"name\": \"mluser5328\", \"partition\": 1}',) at monkTestAdmin@0\n"
       ]
      },
      {
       "output_type": "stream",
       "stream": "stdout",
       "text": [
        "[2015-01-16 13:03:15,603][8258 ][monk.network.producer][INFO    ][37  ][producer.py] : sending message ('{\"password\": \"\", \"op\": \"UpdateUser\", \"name\": \"mluser5330\", \"partition\": 1}',) at monkTestAdmin@0\n"
       ]
      },
      {
       "output_type": "stream",
       "stream": "stdout",
       "text": [
        "[2015-01-16 13:03:15,608][8258 ][monk.network.producer][INFO    ][37  ][producer.py] : sending message ('{\"password\": \"\", \"op\": \"UpdateUser\", \"name\": \"mluser5336\", \"partition\": 1}',) at monkTestAdmin@0\n"
       ]
      },
      {
       "output_type": "stream",
       "stream": "stdout",
       "text": [
        "[2015-01-16 13:03:15,619][8258 ][monk.network.producer][INFO    ][37  ][producer.py] : sending message ('{\"password\": \"\", \"op\": \"UpdateUser\", \"name\": \"mluser5338\", \"partition\": 1}',) at monkTestAdmin@0\n"
       ]
      },
      {
       "output_type": "stream",
       "stream": "stdout",
       "text": [
        "[2015-01-16 13:03:15,625][8258 ][monk.network.producer][INFO    ][37  ][producer.py] : sending message ('{\"password\": \"\", \"op\": \"UpdateUser\", \"name\": \"mluser5344\", \"partition\": 1}',) at monkTestAdmin@0\n"
       ]
      },
      {
       "output_type": "stream",
       "stream": "stdout",
       "text": [
        "[2015-01-16 13:03:15,641][8258 ][monk.network.producer][INFO    ][37  ][producer.py] : sending message ('{\"password\": \"\", \"op\": \"UpdateUser\", \"name\": \"mluser5346\", \"partition\": 1}',) at monkTestAdmin@0\n"
       ]
      },
      {
       "output_type": "stream",
       "stream": "stdout",
       "text": [
        "[2015-01-16 13:03:15,651][8258 ][monk.network.producer][INFO    ][37  ][producer.py] : sending message ('{\"password\": \"\", \"op\": \"UpdateUser\", \"name\": \"mluser5352\", \"partition\": 1}',) at monkTestAdmin@0\n"
       ]
      },
      {
       "output_type": "stream",
       "stream": "stdout",
       "text": [
        "[2015-01-16 13:03:15,657][8258 ][monk.network.producer][INFO    ][37  ][producer.py] : sending message ('{\"password\": \"\", \"op\": \"UpdateUser\", \"name\": \"mluser5354\", \"partition\": 1}',) at monkTestAdmin@0\n"
       ]
      },
      {
       "output_type": "stream",
       "stream": "stdout",
       "text": [
        "[2015-01-16 13:03:15,668][8258 ][monk.network.producer][INFO    ][37  ][producer.py] : sending message ('{\"password\": \"\", \"op\": \"UpdateUser\", \"name\": \"mluser5360\", \"partition\": 1}',) at monkTestAdmin@0\n"
       ]
      },
      {
       "output_type": "stream",
       "stream": "stdout",
       "text": [
        "[2015-01-16 13:03:15,675][8258 ][monk.network.producer][INFO    ][37  ][producer.py] : sending message ('{\"password\": \"\", \"op\": \"UpdateUser\", \"name\": \"mluser5362\", \"partition\": 1}',) at monkTestAdmin@0\n"
       ]
      },
      {
       "output_type": "stream",
       "stream": "stdout",
       "text": [
        "[2015-01-16 13:03:15,683][8258 ][monk.network.producer][INFO    ][37  ][producer.py] : sending message ('{\"password\": \"\", \"op\": \"UpdateUser\", \"name\": \"mluser5368\", \"partition\": 1}',) at monkTestAdmin@0\n"
       ]
      },
      {
       "output_type": "stream",
       "stream": "stdout",
       "text": [
        "[2015-01-16 13:03:15,693][8258 ][monk.network.producer][INFO    ][37  ][producer.py] : sending message ('{\"password\": \"\", \"op\": \"UpdateUser\", \"name\": \"mluser5370\", \"partition\": 1}',) at monkTestAdmin@0\n"
       ]
      },
      {
       "output_type": "stream",
       "stream": "stdout",
       "text": [
        "[2015-01-16 13:03:15,704][8258 ][monk.network.producer][INFO    ][37  ][producer.py] : sending message ('{\"password\": \"\", \"op\": \"UpdateUser\", \"name\": \"mluser5376\", \"partition\": 1}',) at monkTestAdmin@0\n"
       ]
      },
      {
       "output_type": "stream",
       "stream": "stdout",
       "text": [
        "[2015-01-16 13:03:15,712][8258 ][monk.network.producer][INFO    ][37  ][producer.py] : sending message ('{\"password\": \"\", \"op\": \"UpdateUser\", \"name\": \"mluser5378\", \"partition\": 1}',) at monkTestAdmin@0\n"
       ]
      },
      {
       "output_type": "stream",
       "stream": "stdout",
       "text": [
        "[2015-01-16 13:03:15,718][8258 ][monk.network.producer][INFO    ][37  ][producer.py] : sending message ('{\"password\": \"\", \"op\": \"UpdateUser\", \"name\": \"mluser5384\", \"partition\": 1}',) at monkTestAdmin@0\n"
       ]
      },
      {
       "output_type": "stream",
       "stream": "stdout",
       "text": [
        "[2015-01-16 13:03:15,724][8258 ][monk.network.producer][INFO    ][37  ][producer.py] : sending message ('{\"password\": \"\", \"op\": \"UpdateUser\", \"name\": \"mluser5386\", \"partition\": 1}',) at monkTestAdmin@0\n"
       ]
      },
      {
       "output_type": "stream",
       "stream": "stdout",
       "text": [
        "[2015-01-16 13:03:15,732][8258 ][monk.network.producer][INFO    ][37  ][producer.py] : sending message ('{\"password\": \"\", \"op\": \"UpdateUser\", \"name\": \"mluser5392\", \"partition\": 1}',) at monkTestAdmin@0\n"
       ]
      },
      {
       "output_type": "stream",
       "stream": "stdout",
       "text": [
        "[2015-01-16 13:03:15,737][8258 ][monk.network.producer][INFO    ][37  ][producer.py] : sending message ('{\"password\": \"\", \"op\": \"UpdateUser\", \"name\": \"mluser5394\", \"partition\": 1}',) at monkTestAdmin@0\n"
       ]
      },
      {
       "output_type": "stream",
       "stream": "stdout",
       "text": [
        "[2015-01-16 13:03:15,760][8258 ][monk.network.producer][INFO    ][37  ][producer.py] : sending message ('{\"password\": \"\", \"op\": \"UpdateUser\", \"name\": \"mluser5400\", \"partition\": 1}',) at monkTestAdmin@0\n"
       ]
      },
      {
       "output_type": "stream",
       "stream": "stdout",
       "text": [
        "[2015-01-16 13:03:15,770][8258 ][monk.network.producer][INFO    ][37  ][producer.py] : sending message ('{\"password\": \"\", \"op\": \"UpdateUser\", \"name\": \"mluser5402\", \"partition\": 1}',) at monkTestAdmin@0\n"
       ]
      },
      {
       "output_type": "stream",
       "stream": "stdout",
       "text": [
        "[2015-01-16 13:03:15,983][8258 ][monk.network.producer][INFO    ][37  ][producer.py] : sending message ('{\"password\": \"\", \"op\": \"UpdateUser\", \"name\": \"mluser5408\", \"partition\": 1}',) at monkTestAdmin@0\n"
       ]
      },
      {
       "output_type": "stream",
       "stream": "stdout",
       "text": [
        "[2015-01-16 13:03:15,994][8258 ][monk.network.producer][INFO    ][37  ][producer.py] : sending message ('{\"password\": \"\", \"op\": \"UpdateUser\", \"name\": \"mluser5410\", \"partition\": 1}',) at monkTestAdmin@0\n"
       ]
      },
      {
       "output_type": "stream",
       "stream": "stdout",
       "text": [
        "[2015-01-16 13:03:16,000][8258 ][monk.network.producer][INFO    ][37  ][producer.py] : sending message ('{\"password\": \"\", \"op\": \"UpdateUser\", \"name\": \"mluser5416\", \"partition\": 1}',) at monkTestAdmin@0\n"
       ]
      },
      {
       "output_type": "stream",
       "stream": "stdout",
       "text": [
        "[2015-01-16 13:03:16,007][8258 ][monk.network.producer][INFO    ][37  ][producer.py] : sending message ('{\"password\": \"\", \"op\": \"UpdateUser\", \"name\": \"mluser5418\", \"partition\": 1}',) at monkTestAdmin@0\n"
       ]
      },
      {
       "output_type": "stream",
       "stream": "stdout",
       "text": [
        "[2015-01-16 13:03:16,017][8258 ][monk.network.producer][INFO    ][37  ][producer.py] : sending message ('{\"password\": \"\", \"op\": \"UpdateUser\", \"name\": \"mluser5424\", \"partition\": 1}',) at monkTestAdmin@0\n"
       ]
      },
      {
       "output_type": "stream",
       "stream": "stdout",
       "text": [
        "[2015-01-16 13:03:16,039][8258 ][monk.network.producer][INFO    ][37  ][producer.py] : sending message ('{\"password\": \"\", \"op\": \"UpdateUser\", \"name\": \"mluser5426\", \"partition\": 1}',) at monkTestAdmin@0\n"
       ]
      },
      {
       "output_type": "stream",
       "stream": "stdout",
       "text": [
        "[2015-01-16 13:03:16,046][8258 ][monk.network.producer][INFO    ][37  ][producer.py] : sending message ('{\"password\": \"\", \"op\": \"UpdateUser\", \"name\": \"mluser5432\", \"partition\": 1}',) at monkTestAdmin@0\n"
       ]
      },
      {
       "output_type": "stream",
       "stream": "stdout",
       "text": [
        "[2015-01-16 13:03:16,060][8258 ][monk.network.producer][INFO    ][37  ][producer.py] : sending message ('{\"password\": \"\", \"op\": \"UpdateUser\", \"name\": \"mluser5434\", \"partition\": 1}',) at monkTestAdmin@0\n"
       ]
      },
      {
       "output_type": "stream",
       "stream": "stdout",
       "text": [
        "[2015-01-16 13:03:16,066][8258 ][monk.network.producer][INFO    ][37  ][producer.py] : sending message ('{\"password\": \"\", \"op\": \"UpdateUser\", \"name\": \"mluser5440\", \"partition\": 1}',) at monkTestAdmin@0\n"
       ]
      },
      {
       "output_type": "stream",
       "stream": "stdout",
       "text": [
        "[2015-01-16 13:03:16,077][8258 ][monk.network.producer][INFO    ][37  ][producer.py] : sending message ('{\"password\": \"\", \"op\": \"UpdateUser\", \"name\": \"mluser5442\", \"partition\": 1}',) at monkTestAdmin@0\n"
       ]
      },
      {
       "output_type": "stream",
       "stream": "stdout",
       "text": [
        "[2015-01-16 13:03:16,085][8258 ][monk.network.producer][INFO    ][37  ][producer.py] : sending message ('{\"password\": \"\", \"op\": \"UpdateUser\", \"name\": \"mluser5448\", \"partition\": 1}',) at monkTestAdmin@0\n"
       ]
      },
      {
       "output_type": "stream",
       "stream": "stdout",
       "text": [
        "[2015-01-16 13:03:16,092][8258 ][monk.network.producer][INFO    ][37  ][producer.py] : sending message ('{\"password\": \"\", \"op\": \"UpdateUser\", \"name\": \"mluser5450\", \"partition\": 1}',) at monkTestAdmin@0\n"
       ]
      },
      {
       "output_type": "stream",
       "stream": "stdout",
       "text": [
        "[2015-01-16 13:03:16,099][8258 ][monk.network.producer][INFO    ][37  ][producer.py] : sending message ('{\"password\": \"\", \"op\": \"UpdateUser\", \"name\": \"mluser5456\", \"partition\": 1}',) at monkTestAdmin@0\n"
       ]
      },
      {
       "output_type": "stream",
       "stream": "stdout",
       "text": [
        "[2015-01-16 13:03:16,105][8258 ][monk.network.producer][INFO    ][37  ][producer.py] : sending message ('{\"password\": \"\", \"op\": \"UpdateUser\", \"name\": \"mluser5458\", \"partition\": 1}',) at monkTestAdmin@0\n"
       ]
      },
      {
       "output_type": "stream",
       "stream": "stdout",
       "text": [
        "[2015-01-16 13:03:16,113][8258 ][monk.network.producer][INFO    ][37  ][producer.py] : sending message ('{\"password\": \"\", \"op\": \"UpdateUser\", \"name\": \"mluser5464\", \"partition\": 1}',) at monkTestAdmin@0\n"
       ]
      },
      {
       "output_type": "stream",
       "stream": "stdout",
       "text": [
        "[2015-01-16 13:03:16,119][8258 ][monk.network.producer][INFO    ][37  ][producer.py] : sending message ('{\"password\": \"\", \"op\": \"UpdateUser\", \"name\": \"mluser5466\", \"partition\": 1}',) at monkTestAdmin@0\n"
       ]
      },
      {
       "output_type": "stream",
       "stream": "stdout",
       "text": [
        "[2015-01-16 13:03:16,125][8258 ][monk.network.producer][INFO    ][37  ][producer.py] : sending message ('{\"password\": \"\", \"op\": \"UpdateUser\", \"name\": \"mluser5472\", \"partition\": 1}',) at monkTestAdmin@0\n"
       ]
      },
      {
       "output_type": "stream",
       "stream": "stdout",
       "text": [
        "[2015-01-16 13:03:16,135][8258 ][monk.network.producer][INFO    ][37  ][producer.py] : sending message ('{\"password\": \"\", \"op\": \"UpdateUser\", \"name\": \"mluser5474\", \"partition\": 1}',) at monkTestAdmin@0\n"
       ]
      },
      {
       "output_type": "stream",
       "stream": "stdout",
       "text": [
        "[2015-01-16 13:03:16,142][8258 ][monk.network.producer][INFO    ][37  ][producer.py] : sending message ('{\"password\": \"\", \"op\": \"UpdateUser\", \"name\": \"mluser5480\", \"partition\": 1}',) at monkTestAdmin@0\n"
       ]
      },
      {
       "output_type": "stream",
       "stream": "stdout",
       "text": [
        "[2015-01-16 13:03:16,148][8258 ][monk.network.producer][INFO    ][37  ][producer.py] : sending message ('{\"password\": \"\", \"op\": \"UpdateUser\", \"name\": \"mluser5482\", \"partition\": 1}',) at monkTestAdmin@0\n"
       ]
      },
      {
       "output_type": "stream",
       "stream": "stdout",
       "text": [
        "[2015-01-16 13:03:16,170][8258 ][monk.network.producer][INFO    ][37  ][producer.py] : sending message ('{\"password\": \"\", \"op\": \"UpdateUser\", \"name\": \"mluser5488\", \"partition\": 1}',) at monkTestAdmin@0\n"
       ]
      },
      {
       "output_type": "stream",
       "stream": "stdout",
       "text": [
        "[2015-01-16 13:03:16,179][8258 ][monk.network.producer][INFO    ][37  ][producer.py] : sending message ('{\"password\": \"\", \"op\": \"UpdateUser\", \"name\": \"mluser5490\", \"partition\": 1}',) at monkTestAdmin@0\n"
       ]
      },
      {
       "output_type": "stream",
       "stream": "stdout",
       "text": [
        "[2015-01-16 13:03:16,187][8258 ][monk.network.producer][INFO    ][37  ][producer.py] : sending message ('{\"password\": \"\", \"op\": \"UpdateUser\", \"name\": \"mluser5496\", \"partition\": 1}',) at monkTestAdmin@0\n"
       ]
      },
      {
       "output_type": "stream",
       "stream": "stdout",
       "text": [
        "[2015-01-16 13:03:16,195][8258 ][monk.network.producer][INFO    ][37  ][producer.py] : sending message ('{\"password\": \"\", \"op\": \"UpdateUser\", \"name\": \"mluser5498\", \"partition\": 1}',) at monkTestAdmin@0\n"
       ]
      },
      {
       "output_type": "stream",
       "stream": "stdout",
       "text": [
        "[2015-01-16 13:03:16,201][8258 ][monk.network.producer][INFO    ][37  ][producer.py] : sending message ('{\"password\": \"\", \"op\": \"UpdateUser\", \"name\": \"mluser5504\", \"partition\": 1}',) at monkTestAdmin@0\n"
       ]
      },
      {
       "output_type": "stream",
       "stream": "stdout",
       "text": [
        "[2015-01-16 13:03:16,207][8258 ][monk.network.producer][INFO    ][37  ][producer.py] : sending message ('{\"password\": \"\", \"op\": \"UpdateUser\", \"name\": \"mluser5506\", \"partition\": 1}',) at monkTestAdmin@0\n"
       ]
      },
      {
       "output_type": "stream",
       "stream": "stdout",
       "text": [
        "[2015-01-16 13:03:16,215][8258 ][monk.network.producer][INFO    ][37  ][producer.py] : sending message ('{\"password\": \"\", \"op\": \"UpdateUser\", \"name\": \"mluser5512\", \"partition\": 1}',) at monkTestAdmin@0\n"
       ]
      },
      {
       "output_type": "stream",
       "stream": "stdout",
       "text": [
        "[2015-01-16 13:03:16,221][8258 ][monk.network.producer][INFO    ][37  ][producer.py] : sending message ('{\"password\": \"\", \"op\": \"UpdateUser\", \"name\": \"mluser5514\", \"partition\": 1}',) at monkTestAdmin@0\n"
       ]
      },
      {
       "output_type": "stream",
       "stream": "stdout",
       "text": [
        "[2015-01-16 13:03:16,227][8258 ][monk.network.producer][INFO    ][37  ][producer.py] : sending message ('{\"password\": \"\", \"op\": \"UpdateUser\", \"name\": \"mluser5520\", \"partition\": 1}',) at monkTestAdmin@0\n"
       ]
      },
      {
       "output_type": "stream",
       "stream": "stdout",
       "text": [
        "[2015-01-16 13:03:16,235][8258 ][monk.network.producer][INFO    ][37  ][producer.py] : sending message ('{\"password\": \"\", \"op\": \"UpdateUser\", \"name\": \"mluser5522\", \"partition\": 1}',) at monkTestAdmin@0\n"
       ]
      },
      {
       "output_type": "stream",
       "stream": "stdout",
       "text": [
        "[2015-01-16 13:03:16,241][8258 ][monk.network.producer][INFO    ][37  ][producer.py] : sending message ('{\"password\": \"\", \"op\": \"UpdateUser\", \"name\": \"mluser5528\", \"partition\": 1}',) at monkTestAdmin@0\n"
       ]
      },
      {
       "output_type": "stream",
       "stream": "stdout",
       "text": [
        "[2015-01-16 13:03:16,249][8258 ][monk.network.producer][INFO    ][37  ][producer.py] : sending message ('{\"password\": \"\", \"op\": \"UpdateUser\", \"name\": \"mluser5530\", \"partition\": 1}',) at monkTestAdmin@0\n"
       ]
      },
      {
       "output_type": "stream",
       "stream": "stdout",
       "text": [
        "[2015-01-16 13:03:16,255][8258 ][monk.network.producer][INFO    ][37  ][producer.py] : sending message ('{\"password\": \"\", \"op\": \"UpdateUser\", \"name\": \"mluser5536\", \"partition\": 1}',) at monkTestAdmin@0\n"
       ]
      },
      {
       "output_type": "stream",
       "stream": "stdout",
       "text": [
        "[2015-01-16 13:03:16,265][8258 ][monk.network.producer][INFO    ][37  ][producer.py] : sending message ('{\"password\": \"\", \"op\": \"UpdateUser\", \"name\": \"mluser5538\", \"partition\": 1}',) at monkTestAdmin@0\n"
       ]
      },
      {
       "output_type": "stream",
       "stream": "stdout",
       "text": [
        "[2015-01-16 13:03:16,271][8258 ][monk.network.producer][INFO    ][37  ][producer.py] : sending message ('{\"password\": \"\", \"op\": \"UpdateUser\", \"name\": \"mluser5544\", \"partition\": 1}',) at monkTestAdmin@0\n"
       ]
      },
      {
       "output_type": "stream",
       "stream": "stdout",
       "text": [
        "[2015-01-16 13:03:16,282][8258 ][monk.network.producer][INFO    ][37  ][producer.py] : sending message ('{\"password\": \"\", \"op\": \"UpdateUser\", \"name\": \"mluser5546\", \"partition\": 1}',) at monkTestAdmin@0\n"
       ]
      },
      {
       "output_type": "stream",
       "stream": "stdout",
       "text": [
        "[2015-01-16 13:03:16,289][8258 ][monk.network.producer][INFO    ][37  ][producer.py] : sending message ('{\"password\": \"\", \"op\": \"UpdateUser\", \"name\": \"mluser5552\", \"partition\": 1}',) at monkTestAdmin@0\n"
       ]
      },
      {
       "output_type": "stream",
       "stream": "stdout",
       "text": [
        "[2015-01-16 13:03:16,297][8258 ][monk.network.producer][INFO    ][37  ][producer.py] : sending message ('{\"password\": \"\", \"op\": \"UpdateUser\", \"name\": \"mluser5554\", \"partition\": 1}',) at monkTestAdmin@0\n"
       ]
      },
      {
       "output_type": "stream",
       "stream": "stdout",
       "text": [
        "[2015-01-16 13:03:16,303][8258 ][monk.network.producer][INFO    ][37  ][producer.py] : sending message ('{\"password\": \"\", \"op\": \"UpdateUser\", \"name\": \"mluser5560\", \"partition\": 1}',) at monkTestAdmin@0\n"
       ]
      },
      {
       "output_type": "stream",
       "stream": "stdout",
       "text": [
        "[2015-01-16 13:03:16,309][8258 ][monk.network.producer][INFO    ][37  ][producer.py] : sending message ('{\"password\": \"\", \"op\": \"UpdateUser\", \"name\": \"mluser5562\", \"partition\": 1}',) at monkTestAdmin@0\n"
       ]
      },
      {
       "output_type": "stream",
       "stream": "stdout",
       "text": [
        "[2015-01-16 13:03:16,318][8258 ][monk.network.producer][INFO    ][37  ][producer.py] : sending message ('{\"password\": \"\", \"op\": \"UpdateUser\", \"name\": \"mluser5568\", \"partition\": 1}',) at monkTestAdmin@0\n"
       ]
      },
      {
       "output_type": "stream",
       "stream": "stdout",
       "text": [
        "[2015-01-16 13:03:16,324][8258 ][monk.network.producer][INFO    ][37  ][producer.py] : sending message ('{\"password\": \"\", \"op\": \"UpdateUser\", \"name\": \"mluser5570\", \"partition\": 1}',) at monkTestAdmin@0\n"
       ]
      },
      {
       "output_type": "stream",
       "stream": "stdout",
       "text": [
        "[2015-01-16 13:03:16,330][8258 ][monk.network.producer][INFO    ][37  ][producer.py] : sending message ('{\"password\": \"\", \"op\": \"UpdateUser\", \"name\": \"mluser5576\", \"partition\": 1}',) at monkTestAdmin@0\n"
       ]
      },
      {
       "output_type": "stream",
       "stream": "stdout",
       "text": [
        "[2015-01-16 13:03:16,337][8258 ][monk.network.producer][INFO    ][37  ][producer.py] : sending message ('{\"password\": \"\", \"op\": \"UpdateUser\", \"name\": \"mluser5578\", \"partition\": 1}',) at monkTestAdmin@0\n"
       ]
      },
      {
       "output_type": "stream",
       "stream": "stdout",
       "text": [
        "[2015-01-16 13:03:16,344][8258 ][monk.network.producer][INFO    ][37  ][producer.py] : sending message ('{\"password\": \"\", \"op\": \"UpdateUser\", \"name\": \"mluser5584\", \"partition\": 1}',) at monkTestAdmin@0\n"
       ]
      },
      {
       "output_type": "stream",
       "stream": "stdout",
       "text": [
        "[2015-01-16 13:03:16,351][8258 ][monk.network.producer][INFO    ][37  ][producer.py] : sending message ('{\"password\": \"\", \"op\": \"UpdateUser\", \"name\": \"mluser5586\", \"partition\": 1}',) at monkTestAdmin@0\n"
       ]
      },
      {
       "output_type": "stream",
       "stream": "stdout",
       "text": [
        "[2015-01-16 13:03:16,358][8258 ][monk.network.producer][INFO    ][37  ][producer.py] : sending message ('{\"password\": \"\", \"op\": \"UpdateUser\", \"name\": \"mluser5592\", \"partition\": 1}',) at monkTestAdmin@0\n"
       ]
      },
      {
       "output_type": "stream",
       "stream": "stdout",
       "text": [
        "[2015-01-16 13:03:16,565][8258 ][monk.network.producer][INFO    ][37  ][producer.py] : sending message ('{\"password\": \"\", \"op\": \"UpdateUser\", \"name\": \"mluser5594\", \"partition\": 1}',) at monkTestAdmin@0\n"
       ]
      },
      {
       "output_type": "stream",
       "stream": "stdout",
       "text": [
        "[2015-01-16 13:03:16,581][8258 ][monk.network.producer][INFO    ][37  ][producer.py] : sending message ('{\"password\": \"\", \"op\": \"UpdateUser\", \"name\": \"mluser5600\", \"partition\": 1}',) at monkTestAdmin@0\n"
       ]
      },
      {
       "output_type": "stream",
       "stream": "stdout",
       "text": [
        "[2015-01-16 13:03:16,589][8258 ][monk.network.producer][INFO    ][37  ][producer.py] : sending message ('{\"password\": \"\", \"op\": \"UpdateUser\", \"name\": \"mluser5602\", \"partition\": 1}',) at monkTestAdmin@0\n"
       ]
      },
      {
       "output_type": "stream",
       "stream": "stdout",
       "text": [
        "[2015-01-16 13:03:16,598][8258 ][monk.network.producer][INFO    ][37  ][producer.py] : sending message ('{\"password\": \"\", \"op\": \"UpdateUser\", \"name\": \"mluser5608\", \"partition\": 1}',) at monkTestAdmin@0\n"
       ]
      },
      {
       "output_type": "stream",
       "stream": "stdout",
       "text": [
        "[2015-01-16 13:03:16,605][8258 ][monk.network.producer][INFO    ][37  ][producer.py] : sending message ('{\"password\": \"\", \"op\": \"UpdateUser\", \"name\": \"mluser5610\", \"partition\": 1}',) at monkTestAdmin@0\n"
       ]
      },
      {
       "output_type": "stream",
       "stream": "stdout",
       "text": [
        "[2015-01-16 13:03:16,612][8258 ][monk.network.producer][INFO    ][37  ][producer.py] : sending message ('{\"password\": \"\", \"op\": \"UpdateUser\", \"name\": \"mluser5616\", \"partition\": 1}',) at monkTestAdmin@0\n"
       ]
      },
      {
       "output_type": "stream",
       "stream": "stdout",
       "text": [
        "[2015-01-16 13:03:16,620][8258 ][monk.network.producer][INFO    ][37  ][producer.py] : sending message ('{\"password\": \"\", \"op\": \"UpdateUser\", \"name\": \"mluser5618\", \"partition\": 1}',) at monkTestAdmin@0\n"
       ]
      },
      {
       "output_type": "stream",
       "stream": "stdout",
       "text": [
        "[2015-01-16 13:03:16,640][8258 ][monk.network.producer][INFO    ][37  ][producer.py] : sending message ('{\"password\": \"\", \"op\": \"UpdateUser\", \"name\": \"mluser5624\", \"partition\": 1}',) at monkTestAdmin@0\n"
       ]
      },
      {
       "output_type": "stream",
       "stream": "stdout",
       "text": [
        "[2015-01-16 13:03:16,645][8258 ][monk.network.producer][INFO    ][37  ][producer.py] : sending message ('{\"password\": \"\", \"op\": \"UpdateUser\", \"name\": \"mluser5626\", \"partition\": 1}',) at monkTestAdmin@0\n"
       ]
      },
      {
       "output_type": "stream",
       "stream": "stdout",
       "text": [
        "[2015-01-16 13:03:16,653][8258 ][monk.network.producer][INFO    ][37  ][producer.py] : sending message ('{\"password\": \"\", \"op\": \"UpdateUser\", \"name\": \"mluser5632\", \"partition\": 1}',) at monkTestAdmin@0\n"
       ]
      },
      {
       "output_type": "stream",
       "stream": "stdout",
       "text": [
        "[2015-01-16 13:03:16,660][8258 ][monk.network.producer][INFO    ][37  ][producer.py] : sending message ('{\"password\": \"\", \"op\": \"UpdateUser\", \"name\": \"mluser5634\", \"partition\": 1}',) at monkTestAdmin@0\n"
       ]
      },
      {
       "output_type": "stream",
       "stream": "stdout",
       "text": [
        "[2015-01-16 13:03:16,675][8258 ][monk.network.producer][INFO    ][37  ][producer.py] : sending message ('{\"password\": \"\", \"op\": \"UpdateUser\", \"name\": \"mluser5640\", \"partition\": 1}',) at monkTestAdmin@0\n"
       ]
      },
      {
       "output_type": "stream",
       "stream": "stdout",
       "text": [
        "[2015-01-16 13:03:16,681][8258 ][monk.network.producer][INFO    ][37  ][producer.py] : sending message ('{\"password\": \"\", \"op\": \"UpdateUser\", \"name\": \"mluser5642\", \"partition\": 1}',) at monkTestAdmin@0\n"
       ]
      },
      {
       "output_type": "stream",
       "stream": "stdout",
       "text": [
        "[2015-01-16 13:03:16,691][8258 ][monk.network.producer][INFO    ][37  ][producer.py] : sending message ('{\"password\": \"\", \"op\": \"UpdateUser\", \"name\": \"mluser5648\", \"partition\": 1}',) at monkTestAdmin@0\n"
       ]
      },
      {
       "output_type": "stream",
       "stream": "stdout",
       "text": [
        "[2015-01-16 13:03:16,699][8258 ][monk.network.producer][INFO    ][37  ][producer.py] : sending message ('{\"password\": \"\", \"op\": \"UpdateUser\", \"name\": \"mluser5650\", \"partition\": 1}',) at monkTestAdmin@0\n"
       ]
      },
      {
       "output_type": "stream",
       "stream": "stdout",
       "text": [
        "[2015-01-16 13:03:16,705][8258 ][monk.network.producer][INFO    ][37  ][producer.py] : sending message ('{\"password\": \"\", \"op\": \"UpdateUser\", \"name\": \"mluser5656\", \"partition\": 1}',) at monkTestAdmin@0\n"
       ]
      },
      {
       "output_type": "stream",
       "stream": "stdout",
       "text": [
        "[2015-01-16 13:03:16,714][8258 ][monk.network.producer][INFO    ][37  ][producer.py] : sending message ('{\"password\": \"\", \"op\": \"UpdateUser\", \"name\": \"mluser5658\", \"partition\": 1}',) at monkTestAdmin@0\n"
       ]
      },
      {
       "output_type": "stream",
       "stream": "stdout",
       "text": [
        "[2015-01-16 13:03:16,720][8258 ][monk.network.producer][INFO    ][37  ][producer.py] : sending message ('{\"password\": \"\", \"op\": \"UpdateUser\", \"name\": \"mluser5664\", \"partition\": 1}',) at monkTestAdmin@0\n"
       ]
      },
      {
       "output_type": "stream",
       "stream": "stdout",
       "text": [
        "[2015-01-16 13:03:16,727][8258 ][monk.network.producer][INFO    ][37  ][producer.py] : sending message ('{\"password\": \"\", \"op\": \"UpdateUser\", \"name\": \"mluser5666\", \"partition\": 1}',) at monkTestAdmin@0\n"
       ]
      },
      {
       "output_type": "stream",
       "stream": "stdout",
       "text": [
        "[2015-01-16 13:03:16,734][8258 ][monk.network.producer][INFO    ][37  ][producer.py] : sending message ('{\"password\": \"\", \"op\": \"UpdateUser\", \"name\": \"mluser5672\", \"partition\": 1}',) at monkTestAdmin@0\n"
       ]
      },
      {
       "output_type": "stream",
       "stream": "stdout",
       "text": [
        "[2015-01-16 13:03:16,741][8258 ][monk.network.producer][INFO    ][37  ][producer.py] : sending message ('{\"password\": \"\", \"op\": \"UpdateUser\", \"name\": \"mluser5674\", \"partition\": 1}',) at monkTestAdmin@0\n"
       ]
      },
      {
       "output_type": "stream",
       "stream": "stdout",
       "text": [
        "[2015-01-16 13:03:16,749][8258 ][monk.network.producer][INFO    ][37  ][producer.py] : sending message ('{\"password\": \"\", \"op\": \"UpdateUser\", \"name\": \"mluser5680\", \"partition\": 1}',) at monkTestAdmin@0\n"
       ]
      },
      {
       "output_type": "stream",
       "stream": "stdout",
       "text": [
        "[2015-01-16 13:03:16,756][8258 ][monk.network.producer][INFO    ][37  ][producer.py] : sending message ('{\"password\": \"\", \"op\": \"UpdateUser\", \"name\": \"mluser5682\", \"partition\": 1}',) at monkTestAdmin@0\n"
       ]
      },
      {
       "output_type": "stream",
       "stream": "stdout",
       "text": [
        "[2015-01-16 13:03:16,762][8258 ][monk.network.producer][INFO    ][37  ][producer.py] : sending message ('{\"password\": \"\", \"op\": \"UpdateUser\", \"name\": \"mluser5688\", \"partition\": 1}',) at monkTestAdmin@0\n"
       ]
      },
      {
       "output_type": "stream",
       "stream": "stdout",
       "text": [
        "[2015-01-16 13:03:16,778][8258 ][monk.network.producer][INFO    ][37  ][producer.py] : sending message ('{\"password\": \"\", \"op\": \"UpdateUser\", \"name\": \"mluser5690\", \"partition\": 1}',) at monkTestAdmin@0\n"
       ]
      },
      {
       "output_type": "stream",
       "stream": "stdout",
       "text": [
        "[2015-01-16 13:03:16,784][8258 ][monk.network.producer][INFO    ][37  ][producer.py] : sending message ('{\"password\": \"\", \"op\": \"UpdateUser\", \"name\": \"mluser5696\", \"partition\": 1}',) at monkTestAdmin@0\n"
       ]
      },
      {
       "output_type": "stream",
       "stream": "stdout",
       "text": [
        "[2015-01-16 13:03:16,794][8258 ][monk.network.producer][INFO    ][37  ][producer.py] : sending message ('{\"password\": \"\", \"op\": \"UpdateUser\", \"name\": \"mluser5698\", \"partition\": 1}',) at monkTestAdmin@0\n"
       ]
      },
      {
       "output_type": "stream",
       "stream": "stdout",
       "text": [
        "[2015-01-16 13:03:16,802][8258 ][monk.network.producer][INFO    ][37  ][producer.py] : sending message ('{\"password\": \"\", \"op\": \"UpdateUser\", \"name\": \"mluser5704\", \"partition\": 1}',) at monkTestAdmin@0\n"
       ]
      },
      {
       "output_type": "stream",
       "stream": "stdout",
       "text": [
        "[2015-01-16 13:03:16,808][8258 ][monk.network.producer][INFO    ][37  ][producer.py] : sending message ('{\"password\": \"\", \"op\": \"UpdateUser\", \"name\": \"mluser5706\", \"partition\": 1}',) at monkTestAdmin@0\n"
       ]
      },
      {
       "output_type": "stream",
       "stream": "stdout",
       "text": [
        "[2015-01-16 13:03:16,815][8258 ][monk.network.producer][INFO    ][37  ][producer.py] : sending message ('{\"password\": \"\", \"op\": \"UpdateUser\", \"name\": \"mluser5712\", \"partition\": 1}',) at monkTestAdmin@0\n"
       ]
      },
      {
       "output_type": "stream",
       "stream": "stdout",
       "text": [
        "[2015-01-16 13:03:16,821][8258 ][monk.network.producer][INFO    ][37  ][producer.py] : sending message ('{\"password\": \"\", \"op\": \"UpdateUser\", \"name\": \"mluser5714\", \"partition\": 1}',) at monkTestAdmin@0\n"
       ]
      },
      {
       "output_type": "stream",
       "stream": "stdout",
       "text": [
        "[2015-01-16 13:03:16,830][8258 ][monk.network.producer][INFO    ][37  ][producer.py] : sending message ('{\"password\": \"\", \"op\": \"UpdateUser\", \"name\": \"mluser5720\", \"partition\": 1}',) at monkTestAdmin@0\n"
       ]
      },
      {
       "output_type": "stream",
       "stream": "stdout",
       "text": [
        "[2015-01-16 13:03:16,853][8258 ][monk.network.producer][INFO    ][37  ][producer.py] : sending message ('{\"password\": \"\", \"op\": \"UpdateUser\", \"name\": \"mluser5722\", \"partition\": 1}',) at monkTestAdmin@0\n"
       ]
      },
      {
       "output_type": "stream",
       "stream": "stdout",
       "text": [
        "[2015-01-16 13:03:16,862][8258 ][monk.network.producer][INFO    ][37  ][producer.py] : sending message ('{\"password\": \"\", \"op\": \"UpdateUser\", \"name\": \"mluser5728\", \"partition\": 1}',) at monkTestAdmin@0\n"
       ]
      },
      {
       "output_type": "stream",
       "stream": "stdout",
       "text": [
        "[2015-01-16 13:03:16,868][8258 ][monk.network.producer][INFO    ][37  ][producer.py] : sending message ('{\"password\": \"\", \"op\": \"UpdateUser\", \"name\": \"mluser5730\", \"partition\": 1}',) at monkTestAdmin@0\n"
       ]
      },
      {
       "output_type": "stream",
       "stream": "stdout",
       "text": [
        "[2015-01-16 13:03:16,874][8258 ][monk.network.producer][INFO    ][37  ][producer.py] : sending message ('{\"password\": \"\", \"op\": \"UpdateUser\", \"name\": \"mluser5736\", \"partition\": 1}',) at monkTestAdmin@0\n"
       ]
      },
      {
       "output_type": "stream",
       "stream": "stdout",
       "text": [
        "[2015-01-16 13:03:16,904][8258 ][monk.network.producer][INFO    ][37  ][producer.py] : sending message ('{\"password\": \"\", \"op\": \"UpdateUser\", \"name\": \"mluser5738\", \"partition\": 1}',) at monkTestAdmin@0\n"
       ]
      },
      {
       "output_type": "stream",
       "stream": "stdout",
       "text": [
        "[2015-01-16 13:03:16,923][8258 ][monk.network.producer][INFO    ][37  ][producer.py] : sending message ('{\"password\": \"\", \"op\": \"UpdateUser\", \"name\": \"mluser5744\", \"partition\": 1}',) at monkTestAdmin@0\n"
       ]
      },
      {
       "output_type": "stream",
       "stream": "stdout",
       "text": [
        "[2015-01-16 13:03:16,932][8258 ][monk.network.producer][INFO    ][37  ][producer.py] : sending message ('{\"password\": \"\", \"op\": \"UpdateUser\", \"name\": \"mluser5746\", \"partition\": 1}',) at monkTestAdmin@0\n"
       ]
      },
      {
       "output_type": "stream",
       "stream": "stdout",
       "text": [
        "[2015-01-16 13:03:16,938][8258 ][monk.network.producer][INFO    ][37  ][producer.py] : sending message ('{\"password\": \"\", \"op\": \"UpdateUser\", \"name\": \"mluser5752\", \"partition\": 1}',) at monkTestAdmin@0\n"
       ]
      },
      {
       "output_type": "stream",
       "stream": "stdout",
       "text": [
        "[2015-01-16 13:03:16,946][8258 ][monk.network.producer][INFO    ][37  ][producer.py] : sending message ('{\"password\": \"\", \"op\": \"UpdateUser\", \"name\": \"mluser5754\", \"partition\": 1}',) at monkTestAdmin@0\n"
       ]
      },
      {
       "output_type": "stream",
       "stream": "stdout",
       "text": [
        "[2015-01-16 13:03:16,960][8258 ][monk.network.producer][INFO    ][37  ][producer.py] : sending message ('{\"password\": \"\", \"op\": \"UpdateUser\", \"name\": \"mluser5760\", \"partition\": 1}',) at monkTestAdmin@0\n"
       ]
      },
      {
       "output_type": "stream",
       "stream": "stdout",
       "text": [
        "[2015-01-16 13:03:16,966][8258 ][monk.network.producer][INFO    ][37  ][producer.py] : sending message ('{\"password\": \"\", \"op\": \"UpdateUser\", \"name\": \"mluser5762\", \"partition\": 1}',) at monkTestAdmin@0\n"
       ]
      },
      {
       "output_type": "stream",
       "stream": "stdout",
       "text": [
        "[2015-01-16 13:03:16,973][8258 ][monk.network.producer][INFO    ][37  ][producer.py] : sending message ('{\"password\": \"\", \"op\": \"UpdateUser\", \"name\": \"mluser5768\", \"partition\": 1}',) at monkTestAdmin@0\n"
       ]
      },
      {
       "output_type": "stream",
       "stream": "stdout",
       "text": [
        "[2015-01-16 13:03:16,979][8258 ][monk.network.producer][INFO    ][37  ][producer.py] : sending message ('{\"password\": \"\", \"op\": \"UpdateUser\", \"name\": \"mluser5770\", \"partition\": 1}',) at monkTestAdmin@0\n"
       ]
      },
      {
       "output_type": "stream",
       "stream": "stdout",
       "text": [
        "[2015-01-16 13:03:16,987][8258 ][monk.network.producer][INFO    ][37  ][producer.py] : sending message ('{\"password\": \"\", \"op\": \"UpdateUser\", \"name\": \"mluser5776\", \"partition\": 1}',) at monkTestAdmin@0\n"
       ]
      },
      {
       "output_type": "stream",
       "stream": "stdout",
       "text": [
        "[2015-01-16 13:03:16,992][8258 ][monk.network.producer][INFO    ][37  ][producer.py] : sending message ('{\"password\": \"\", \"op\": \"UpdateUser\", \"name\": \"mluser5778\", \"partition\": 1}',) at monkTestAdmin@0\n"
       ]
      },
      {
       "output_type": "stream",
       "stream": "stdout",
       "text": [
        "[2015-01-16 13:03:16,999][8258 ][monk.network.producer][INFO    ][37  ][producer.py] : sending message ('{\"password\": \"\", \"op\": \"UpdateUser\", \"name\": \"mluser5784\", \"partition\": 1}',) at monkTestAdmin@0\n"
       ]
      },
      {
       "output_type": "stream",
       "stream": "stdout",
       "text": [
        "[2015-01-16 13:03:17,006][8258 ][monk.network.producer][INFO    ][37  ][producer.py] : sending message ('{\"password\": \"\", \"op\": \"UpdateUser\", \"name\": \"mluser5786\", \"partition\": 1}',) at monkTestAdmin@0\n"
       ]
      },
      {
       "output_type": "stream",
       "stream": "stdout",
       "text": [
        "[2015-01-16 13:03:17,013][8258 ][monk.network.producer][INFO    ][37  ][producer.py] : sending message ('{\"password\": \"\", \"op\": \"UpdateUser\", \"name\": \"mluser5792\", \"partition\": 1}',) at monkTestAdmin@0\n"
       ]
      },
      {
       "output_type": "stream",
       "stream": "stdout",
       "text": [
        "[2015-01-16 13:03:17,019][8258 ][monk.network.producer][INFO    ][37  ][producer.py] : sending message ('{\"password\": \"\", \"op\": \"UpdateUser\", \"name\": \"mluser5794\", \"partition\": 1}',) at monkTestAdmin@0\n"
       ]
      },
      {
       "output_type": "stream",
       "stream": "stdout",
       "text": [
        "[2015-01-16 13:03:17,229][8258 ][monk.network.producer][INFO    ][37  ][producer.py] : sending message ('{\"password\": \"\", \"op\": \"UpdateUser\", \"name\": \"mluser5800\", \"partition\": 1}',) at monkTestAdmin@0\n"
       ]
      },
      {
       "output_type": "stream",
       "stream": "stdout",
       "text": [
        "[2015-01-16 13:03:17,240][8258 ][monk.network.producer][INFO    ][37  ][producer.py] : sending message ('{\"password\": \"\", \"op\": \"UpdateUser\", \"name\": \"mluser5802\", \"partition\": 1}',) at monkTestAdmin@0\n"
       ]
      },
      {
       "output_type": "stream",
       "stream": "stdout",
       "text": [
        "[2015-01-16 13:03:17,251][8258 ][monk.network.producer][INFO    ][37  ][producer.py] : sending message ('{\"password\": \"\", \"op\": \"UpdateUser\", \"name\": \"mluser5808\", \"partition\": 1}',) at monkTestAdmin@0\n"
       ]
      },
      {
       "output_type": "stream",
       "stream": "stdout",
       "text": [
        "[2015-01-16 13:03:17,259][8258 ][monk.network.producer][INFO    ][37  ][producer.py] : sending message ('{\"password\": \"\", \"op\": \"UpdateUser\", \"name\": \"mluser5810\", \"partition\": 1}',) at monkTestAdmin@0\n"
       ]
      },
      {
       "output_type": "stream",
       "stream": "stdout",
       "text": [
        "[2015-01-16 13:03:17,267][8258 ][monk.network.producer][INFO    ][37  ][producer.py] : sending message ('{\"password\": \"\", \"op\": \"UpdateUser\", \"name\": \"mluser5816\", \"partition\": 1}',) at monkTestAdmin@0\n"
       ]
      },
      {
       "output_type": "stream",
       "stream": "stdout",
       "text": [
        "[2015-01-16 13:03:17,272][8258 ][monk.network.producer][INFO    ][37  ][producer.py] : sending message ('{\"password\": \"\", \"op\": \"UpdateUser\", \"name\": \"mluser5818\", \"partition\": 1}',) at monkTestAdmin@0\n"
       ]
      },
      {
       "output_type": "stream",
       "stream": "stdout",
       "text": [
        "[2015-01-16 13:03:17,278][8258 ][monk.network.producer][INFO    ][37  ][producer.py] : sending message ('{\"password\": \"\", \"op\": \"UpdateUser\", \"name\": \"mluser5824\", \"partition\": 1}',) at monkTestAdmin@0\n"
       ]
      },
      {
       "output_type": "stream",
       "stream": "stdout",
       "text": [
        "[2015-01-16 13:03:17,494][8258 ][monk.network.producer][INFO    ][37  ][producer.py] : sending message ('{\"password\": \"\", \"op\": \"UpdateUser\", \"name\": \"mluser5826\", \"partition\": 1}',) at monkTestAdmin@0\n"
       ]
      },
      {
       "output_type": "stream",
       "stream": "stdout",
       "text": [
        "[2015-01-16 13:03:17,501][8258 ][monk.network.producer][INFO    ][37  ][producer.py] : sending message ('{\"password\": \"\", \"op\": \"UpdateUser\", \"name\": \"mluser5832\", \"partition\": 1}',) at monkTestAdmin@0\n"
       ]
      },
      {
       "output_type": "stream",
       "stream": "stdout",
       "text": [
        "[2015-01-16 13:03:17,511][8258 ][monk.network.producer][INFO    ][37  ][producer.py] : sending message ('{\"password\": \"\", \"op\": \"UpdateUser\", \"name\": \"mluser5834\", \"partition\": 1}',) at monkTestAdmin@0\n"
       ]
      },
      {
       "output_type": "stream",
       "stream": "stdout",
       "text": [
        "[2015-01-16 13:03:17,519][8258 ][monk.network.producer][INFO    ][37  ][producer.py] : sending message ('{\"password\": \"\", \"op\": \"UpdateUser\", \"name\": \"mluser5840\", \"partition\": 1}',) at monkTestAdmin@0\n"
       ]
      },
      {
       "output_type": "stream",
       "stream": "stdout",
       "text": [
        "[2015-01-16 13:03:17,527][8258 ][monk.network.producer][INFO    ][37  ][producer.py] : sending message ('{\"password\": \"\", \"op\": \"UpdateUser\", \"name\": \"mluser5842\", \"partition\": 1}',) at monkTestAdmin@0\n"
       ]
      },
      {
       "output_type": "stream",
       "stream": "stdout",
       "text": [
        "[2015-01-16 13:03:17,534][8258 ][monk.network.producer][INFO    ][37  ][producer.py] : sending message ('{\"password\": \"\", \"op\": \"UpdateUser\", \"name\": \"mluser5848\", \"partition\": 1}',) at monkTestAdmin@0\n"
       ]
      },
      {
       "output_type": "stream",
       "stream": "stdout",
       "text": [
        "[2015-01-16 13:03:17,540][8258 ][monk.network.producer][INFO    ][37  ][producer.py] : sending message ('{\"password\": \"\", \"op\": \"UpdateUser\", \"name\": \"mluser5850\", \"partition\": 1}',) at monkTestAdmin@0\n"
       ]
      },
      {
       "output_type": "stream",
       "stream": "stdout",
       "text": [
        "[2015-01-16 13:03:17,551][8258 ][monk.network.producer][INFO    ][37  ][producer.py] : sending message ('{\"password\": \"\", \"op\": \"UpdateUser\", \"name\": \"mluser5856\", \"partition\": 1}',) at monkTestAdmin@0\n"
       ]
      },
      {
       "output_type": "stream",
       "stream": "stdout",
       "text": [
        "[2015-01-16 13:03:17,557][8258 ][monk.network.producer][INFO    ][37  ][producer.py] : sending message ('{\"password\": \"\", \"op\": \"UpdateUser\", \"name\": \"mluser5858\", \"partition\": 1}',) at monkTestAdmin@0\n"
       ]
      },
      {
       "output_type": "stream",
       "stream": "stdout",
       "text": [
        "[2015-01-16 13:03:17,566][8258 ][monk.network.producer][INFO    ][37  ][producer.py] : sending message ('{\"password\": \"\", \"op\": \"UpdateUser\", \"name\": \"mluser5864\", \"partition\": 1}',) at monkTestAdmin@0\n"
       ]
      },
      {
       "output_type": "stream",
       "stream": "stdout",
       "text": [
        "[2015-01-16 13:03:17,573][8258 ][monk.network.producer][INFO    ][37  ][producer.py] : sending message ('{\"password\": \"\", \"op\": \"UpdateUser\", \"name\": \"mluser5866\", \"partition\": 1}',) at monkTestAdmin@0\n"
       ]
      },
      {
       "output_type": "stream",
       "stream": "stdout",
       "text": [
        "[2015-01-16 13:03:17,580][8258 ][monk.network.producer][INFO    ][37  ][producer.py] : sending message ('{\"password\": \"\", \"op\": \"UpdateUser\", \"name\": \"mluser5872\", \"partition\": 1}',) at monkTestAdmin@0\n"
       ]
      },
      {
       "output_type": "stream",
       "stream": "stdout",
       "text": [
        "[2015-01-16 13:03:17,593][8258 ][monk.network.producer][INFO    ][37  ][producer.py] : sending message ('{\"password\": \"\", \"op\": \"UpdateUser\", \"name\": \"mluser5874\", \"partition\": 1}',) at monkTestAdmin@0\n"
       ]
      },
      {
       "output_type": "stream",
       "stream": "stdout",
       "text": [
        "[2015-01-16 13:03:17,606][8258 ][monk.network.producer][INFO    ][37  ][producer.py] : sending message ('{\"password\": \"\", \"op\": \"UpdateUser\", \"name\": \"mluser5880\", \"partition\": 1}',) at monkTestAdmin@0\n"
       ]
      },
      {
       "output_type": "stream",
       "stream": "stdout",
       "text": [
        "[2015-01-16 13:03:17,613][8258 ][monk.network.producer][INFO    ][37  ][producer.py] : sending message ('{\"password\": \"\", \"op\": \"UpdateUser\", \"name\": \"mluser5882\", \"partition\": 1}',) at monkTestAdmin@0\n"
       ]
      },
      {
       "output_type": "stream",
       "stream": "stdout",
       "text": [
        "[2015-01-16 13:03:17,621][8258 ][monk.network.producer][INFO    ][37  ][producer.py] : sending message ('{\"password\": \"\", \"op\": \"UpdateUser\", \"name\": \"mluser5888\", \"partition\": 1}',) at monkTestAdmin@0\n"
       ]
      },
      {
       "output_type": "stream",
       "stream": "stdout",
       "text": [
        "[2015-01-16 13:03:17,626][8258 ][monk.network.producer][INFO    ][37  ][producer.py] : sending message ('{\"password\": \"\", \"op\": \"UpdateUser\", \"name\": \"mluser5890\", \"partition\": 1}',) at monkTestAdmin@0\n"
       ]
      },
      {
       "output_type": "stream",
       "stream": "stdout",
       "text": [
        "[2015-01-16 13:03:17,634][8258 ][monk.network.producer][INFO    ][37  ][producer.py] : sending message ('{\"password\": \"\", \"op\": \"UpdateUser\", \"name\": \"mluser5896\", \"partition\": 1}',) at monkTestAdmin@0\n"
       ]
      },
      {
       "output_type": "stream",
       "stream": "stdout",
       "text": [
        "[2015-01-16 13:03:17,641][8258 ][monk.network.producer][INFO    ][37  ][producer.py] : sending message ('{\"password\": \"\", \"op\": \"UpdateUser\", \"name\": \"mluser5898\", \"partition\": 1}',) at monkTestAdmin@0\n"
       ]
      },
      {
       "output_type": "stream",
       "stream": "stdout",
       "text": [
        "[2015-01-16 13:03:17,649][8258 ][monk.network.producer][INFO    ][37  ][producer.py] : sending message ('{\"password\": \"\", \"op\": \"UpdateUser\", \"name\": \"mluser5904\", \"partition\": 1}',) at monkTestAdmin@0\n"
       ]
      },
      {
       "output_type": "stream",
       "stream": "stdout",
       "text": [
        "[2015-01-16 13:03:17,655][8258 ][monk.network.producer][INFO    ][37  ][producer.py] : sending message ('{\"password\": \"\", \"op\": \"UpdateUser\", \"name\": \"mluser5906\", \"partition\": 1}',) at monkTestAdmin@0\n"
       ]
      },
      {
       "output_type": "stream",
       "stream": "stdout",
       "text": [
        "[2015-01-16 13:03:17,663][8258 ][monk.network.producer][INFO    ][37  ][producer.py] : sending message ('{\"password\": \"\", \"op\": \"UpdateUser\", \"name\": \"mluser5912\", \"partition\": 1}',) at monkTestAdmin@0\n"
       ]
      },
      {
       "output_type": "stream",
       "stream": "stdout",
       "text": [
        "[2015-01-16 13:03:17,668][8258 ][monk.network.producer][INFO    ][37  ][producer.py] : sending message ('{\"password\": \"\", \"op\": \"UpdateUser\", \"name\": \"mluser5914\", \"partition\": 1}',) at monkTestAdmin@0\n"
       ]
      },
      {
       "output_type": "stream",
       "stream": "stdout",
       "text": [
        "[2015-01-16 13:03:17,677][8258 ][monk.network.producer][INFO    ][37  ][producer.py] : sending message ('{\"password\": \"\", \"op\": \"UpdateUser\", \"name\": \"mluser5920\", \"partition\": 1}',) at monkTestAdmin@0\n"
       ]
      },
      {
       "output_type": "stream",
       "stream": "stdout",
       "text": [
        "[2015-01-16 13:03:17,683][8258 ][monk.network.producer][INFO    ][37  ][producer.py] : sending message ('{\"password\": \"\", \"op\": \"UpdateUser\", \"name\": \"mluser5922\", \"partition\": 1}',) at monkTestAdmin@0\n"
       ]
      },
      {
       "output_type": "stream",
       "stream": "stdout",
       "text": [
        "[2015-01-16 13:03:17,690][8258 ][monk.network.producer][INFO    ][37  ][producer.py] : sending message ('{\"password\": \"\", \"op\": \"UpdateUser\", \"name\": \"mluser5928\", \"partition\": 1}',) at monkTestAdmin@0\n"
       ]
      },
      {
       "output_type": "stream",
       "stream": "stdout",
       "text": [
        "[2015-01-16 13:03:17,701][8258 ][monk.network.producer][INFO    ][37  ][producer.py] : sending message ('{\"password\": \"\", \"op\": \"UpdateUser\", \"name\": \"mluser5930\", \"partition\": 1}',) at monkTestAdmin@0\n"
       ]
      },
      {
       "output_type": "stream",
       "stream": "stdout",
       "text": [
        "[2015-01-16 13:03:17,707][8258 ][monk.network.producer][INFO    ][37  ][producer.py] : sending message ('{\"password\": \"\", \"op\": \"UpdateUser\", \"name\": \"mluser5936\", \"partition\": 1}',) at monkTestAdmin@0\n"
       ]
      },
      {
       "output_type": "stream",
       "stream": "stdout",
       "text": [
        "[2015-01-16 13:03:17,715][8258 ][monk.network.producer][INFO    ][37  ][producer.py] : sending message ('{\"password\": \"\", \"op\": \"UpdateUser\", \"name\": \"mluser5938\", \"partition\": 1}',) at monkTestAdmin@0\n"
       ]
      },
      {
       "output_type": "stream",
       "stream": "stdout",
       "text": [
        "[2015-01-16 13:03:17,723][8258 ][monk.network.producer][INFO    ][37  ][producer.py] : sending message ('{\"password\": \"\", \"op\": \"UpdateUser\", \"name\": \"mluser5944\", \"partition\": 1}',) at monkTestAdmin@0\n"
       ]
      },
      {
       "output_type": "stream",
       "stream": "stdout",
       "text": [
        "[2015-01-16 13:03:17,731][8258 ][monk.network.producer][INFO    ][37  ][producer.py] : sending message ('{\"password\": \"\", \"op\": \"UpdateUser\", \"name\": \"mluser5946\", \"partition\": 1}',) at monkTestAdmin@0\n"
       ]
      },
      {
       "output_type": "stream",
       "stream": "stdout",
       "text": [
        "[2015-01-16 13:03:17,737][8258 ][monk.network.producer][INFO    ][37  ][producer.py] : sending message ('{\"password\": \"\", \"op\": \"UpdateUser\", \"name\": \"mluser5952\", \"partition\": 1}',) at monkTestAdmin@0\n"
       ]
      },
      {
       "output_type": "stream",
       "stream": "stdout",
       "text": [
        "[2015-01-16 13:03:17,743][8258 ][monk.network.producer][INFO    ][37  ][producer.py] : sending message ('{\"password\": \"\", \"op\": \"UpdateUser\", \"name\": \"mluser5954\", \"partition\": 1}',) at monkTestAdmin@0\n"
       ]
      },
      {
       "output_type": "stream",
       "stream": "stdout",
       "text": [
        "[2015-01-16 13:03:17,752][8258 ][monk.network.producer][INFO    ][37  ][producer.py] : sending message ('{\"password\": \"\", \"op\": \"UpdateUser\", \"name\": \"mluser5960\", \"partition\": 1}',) at monkTestAdmin@0\n"
       ]
      },
      {
       "output_type": "stream",
       "stream": "stdout",
       "text": [
        "[2015-01-16 13:03:17,757][8258 ][monk.network.producer][INFO    ][37  ][producer.py] : sending message ('{\"password\": \"\", \"op\": \"UpdateUser\", \"name\": \"mluser5962\", \"partition\": 1}',) at monkTestAdmin@0\n"
       ]
      },
      {
       "output_type": "stream",
       "stream": "stdout",
       "text": [
        "[2015-01-16 13:03:17,766][8258 ][monk.network.producer][INFO    ][37  ][producer.py] : sending message ('{\"password\": \"\", \"op\": \"UpdateUser\", \"name\": \"mluser5968\", \"partition\": 1}',) at monkTestAdmin@0\n"
       ]
      },
      {
       "output_type": "stream",
       "stream": "stdout",
       "text": [
        "[2015-01-16 13:03:17,772][8258 ][monk.network.producer][INFO    ][37  ][producer.py] : sending message ('{\"password\": \"\", \"op\": \"UpdateUser\", \"name\": \"mluser5970\", \"partition\": 1}',) at monkTestAdmin@0\n"
       ]
      },
      {
       "output_type": "stream",
       "stream": "stdout",
       "text": [
        "[2015-01-16 13:03:17,779][8258 ][monk.network.producer][INFO    ][37  ][producer.py] : sending message ('{\"password\": \"\", \"op\": \"UpdateUser\", \"name\": \"mluser5976\", \"partition\": 1}',) at monkTestAdmin@0\n"
       ]
      },
      {
       "output_type": "stream",
       "stream": "stdout",
       "text": [
        "[2015-01-16 13:03:17,786][8258 ][monk.network.producer][INFO    ][37  ][producer.py] : sending message ('{\"password\": \"\", \"op\": \"UpdateUser\", \"name\": \"mluser5978\", \"partition\": 1}',) at monkTestAdmin@0\n"
       ]
      },
      {
       "output_type": "stream",
       "stream": "stdout",
       "text": [
        "[2015-01-16 13:03:17,801][8258 ][monk.network.producer][INFO    ][37  ][producer.py] : sending message ('{\"password\": \"\", \"op\": \"UpdateUser\", \"name\": \"mluser5984\", \"partition\": 1}',) at monkTestAdmin@0\n"
       ]
      },
      {
       "output_type": "stream",
       "stream": "stdout",
       "text": [
        "[2015-01-16 13:03:17,807][8258 ][monk.network.producer][INFO    ][37  ][producer.py] : sending message ('{\"password\": \"\", \"op\": \"UpdateUser\", \"name\": \"mluser5986\", \"partition\": 1}',) at monkTestAdmin@0\n"
       ]
      },
      {
       "output_type": "stream",
       "stream": "stdout",
       "text": [
        "[2015-01-16 13:03:17,818][8258 ][monk.network.producer][INFO    ][37  ][producer.py] : sending message ('{\"password\": \"\", \"op\": \"UpdateUser\", \"name\": \"mluser5992\", \"partition\": 1}',) at monkTestAdmin@0\n"
       ]
      },
      {
       "output_type": "stream",
       "stream": "stdout",
       "text": [
        "[2015-01-16 13:03:17,825][8258 ][monk.network.producer][INFO    ][37  ][producer.py] : sending message ('{\"password\": \"\", \"op\": \"UpdateUser\", \"name\": \"mluser5994\", \"partition\": 1}',) at monkTestAdmin@0\n"
       ]
      },
      {
       "output_type": "stream",
       "stream": "stdout",
       "text": [
        "[2015-01-16 13:03:17,831][8258 ][monk.network.producer][INFO    ][37  ][producer.py] : sending message ('{\"password\": \"\", \"op\": \"UpdateUser\", \"name\": \"mluser6000\", \"partition\": 1}',) at monkTestAdmin@0\n"
       ]
      },
      {
       "output_type": "stream",
       "stream": "stdout",
       "text": [
        "[2015-01-16 13:03:17,839][8258 ][monk.network.producer][INFO    ][37  ][producer.py] : sending message ('{\"password\": \"\", \"op\": \"UpdateUser\", \"name\": \"mluser6002\", \"partition\": 1}',) at monkTestAdmin@0\n"
       ]
      },
      {
       "output_type": "stream",
       "stream": "stdout",
       "text": [
        "[2015-01-16 13:03:17,845][8258 ][monk.network.producer][INFO    ][37  ][producer.py] : sending message ('{\"password\": \"\", \"op\": \"UpdateUser\", \"name\": \"mluser6008\", \"partition\": 1}',) at monkTestAdmin@0\n"
       ]
      },
      {
       "output_type": "stream",
       "stream": "stdout",
       "text": [
        "[2015-01-16 13:03:17,854][8258 ][monk.network.producer][INFO    ][37  ][producer.py] : sending message ('{\"password\": \"\", \"op\": \"UpdateUser\", \"name\": \"mluser6010\", \"partition\": 1}',) at monkTestAdmin@0\n"
       ]
      },
      {
       "output_type": "stream",
       "stream": "stdout",
       "text": [
        "[2015-01-16 13:03:17,860][8258 ][monk.network.producer][INFO    ][37  ][producer.py] : sending message ('{\"password\": \"\", \"op\": \"UpdateUser\", \"name\": \"mluser6016\", \"partition\": 1}',) at monkTestAdmin@0\n"
       ]
      },
      {
       "output_type": "stream",
       "stream": "stdout",
       "text": [
        "[2015-01-16 13:03:17,868][8258 ][monk.network.producer][INFO    ][37  ][producer.py] : sending message ('{\"password\": \"\", \"op\": \"UpdateUser\", \"name\": \"mluser6018\", \"partition\": 1}',) at monkTestAdmin@0\n"
       ]
      },
      {
       "output_type": "stream",
       "stream": "stdout",
       "text": [
        "[2015-01-16 13:03:17,874][8258 ][monk.network.producer][INFO    ][37  ][producer.py] : sending message ('{\"password\": \"\", \"op\": \"UpdateUser\", \"name\": \"mluser6024\", \"partition\": 1}',) at monkTestAdmin@0\n"
       ]
      },
      {
       "output_type": "stream",
       "stream": "stdout",
       "text": [
        "[2015-01-16 13:03:17,882][8258 ][monk.network.producer][INFO    ][37  ][producer.py] : sending message ('{\"password\": \"\", \"op\": \"UpdateUser\", \"name\": \"mluser6026\", \"partition\": 1}',) at monkTestAdmin@0\n"
       ]
      },
      {
       "output_type": "stream",
       "stream": "stdout",
       "text": [
        "[2015-01-16 13:03:17,887][8258 ][monk.network.producer][INFO    ][37  ][producer.py] : sending message ('{\"password\": \"\", \"op\": \"UpdateUser\", \"name\": \"mluser6032\", \"partition\": 1}',) at monkTestAdmin@0\n"
       ]
      },
      {
       "output_type": "stream",
       "stream": "stdout",
       "text": [
        "[2015-01-16 13:03:17,893][8258 ][monk.network.producer][INFO    ][37  ][producer.py] : sending message ('{\"password\": \"\", \"op\": \"UpdateUser\", \"name\": \"mluser6034\", \"partition\": 1}',) at monkTestAdmin@0\n"
       ]
      },
      {
       "output_type": "stream",
       "stream": "stdout",
       "text": [
        "[2015-01-16 13:03:17,900][8258 ][monk.network.producer][INFO    ][37  ][producer.py] : sending message ('{\"password\": \"\", \"op\": \"UpdateUser\", \"name\": \"mluser6040\", \"partition\": 1}',) at monkTestAdmin@0\n"
       ]
      },
      {
       "output_type": "stream",
       "stream": "stdout",
       "text": [
        "[2015-01-16 13:03:17,908][8258 ][monk.network.producer][INFO    ][37  ][producer.py] : sending message ('{\"password\": \"\", \"op\": \"UpdateUser\", \"name\": \"mluser6042\", \"partition\": 1}',) at monkTestAdmin@0\n"
       ]
      },
      {
       "output_type": "stream",
       "stream": "stdout",
       "text": [
        "[2015-01-16 13:03:17,914][8258 ][monk.network.producer][INFO    ][37  ][producer.py] : sending message ('{\"password\": \"\", \"op\": \"UpdateUser\", \"name\": \"mluser6048\", \"partition\": 1}',) at monkTestAdmin@0\n"
       ]
      },
      {
       "output_type": "stream",
       "stream": "stdout",
       "text": [
        "[2015-01-16 13:03:17,920][8258 ][monk.network.producer][INFO    ][37  ][producer.py] : sending message ('{\"password\": \"\", \"op\": \"UpdateUser\", \"name\": \"mluser6050\", \"partition\": 1}',) at monkTestAdmin@0\n"
       ]
      },
      {
       "output_type": "stream",
       "stream": "stdout",
       "text": [
        "[2015-01-16 13:03:17,928][8258 ][monk.network.producer][INFO    ][37  ][producer.py] : sending message ('{\"password\": \"\", \"op\": \"UpdateUser\", \"name\": \"mluser6056\", \"partition\": 1}',) at monkTestAdmin@0\n"
       ]
      },
      {
       "output_type": "stream",
       "stream": "stdout",
       "text": [
        "[2015-01-16 13:03:17,938][8258 ][monk.network.producer][INFO    ][37  ][producer.py] : sending message ('{\"password\": \"\", \"op\": \"UpdateUser\", \"name\": \"mluser6058\", \"partition\": 1}',) at monkTestAdmin@0\n"
       ]
      },
      {
       "output_type": "stream",
       "stream": "stdout",
       "text": [
        "[2015-01-16 13:03:17,943][8258 ][monk.network.producer][INFO    ][37  ][producer.py] : sending message ('{\"password\": \"\", \"op\": \"UpdateUser\", \"name\": \"mluser6064\", \"partition\": 1}',) at monkTestAdmin@0\n"
       ]
      },
      {
       "output_type": "stream",
       "stream": "stdout",
       "text": [
        "[2015-01-16 13:03:17,949][8258 ][monk.network.producer][INFO    ][37  ][producer.py] : sending message ('{\"password\": \"\", \"op\": \"UpdateUser\", \"name\": \"mluser6066\", \"partition\": 1}',) at monkTestAdmin@0\n"
       ]
      },
      {
       "output_type": "stream",
       "stream": "stdout",
       "text": [
        "[2015-01-16 13:03:17,956][8258 ][monk.network.producer][INFO    ][37  ][producer.py] : sending message ('{\"password\": \"\", \"op\": \"UpdateUser\", \"name\": \"mluser6072\", \"partition\": 1}',) at monkTestAdmin@0\n"
       ]
      },
      {
       "output_type": "stream",
       "stream": "stdout",
       "text": [
        "[2015-01-16 13:03:17,961][8258 ][monk.network.producer][INFO    ][37  ][producer.py] : sending message ('{\"password\": \"\", \"op\": \"UpdateUser\", \"name\": \"mluser6074\", \"partition\": 1}',) at monkTestAdmin@0\n"
       ]
      },
      {
       "output_type": "stream",
       "stream": "stdout",
       "text": [
        "[2015-01-16 13:03:17,970][8258 ][monk.network.producer][INFO    ][37  ][producer.py] : sending message ('{\"password\": \"\", \"op\": \"UpdateUser\", \"name\": \"mluser6080\", \"partition\": 1}',) at monkTestAdmin@0\n"
       ]
      },
      {
       "output_type": "stream",
       "stream": "stdout",
       "text": [
        "[2015-01-16 13:03:17,976][8258 ][monk.network.producer][INFO    ][37  ][producer.py] : sending message ('{\"password\": \"\", \"op\": \"UpdateUser\", \"name\": \"mluser6082\", \"partition\": 1}',) at monkTestAdmin@0\n"
       ]
      },
      {
       "output_type": "stream",
       "stream": "stdout",
       "text": [
        "[2015-01-16 13:03:17,986][8258 ][monk.network.producer][INFO    ][37  ][producer.py] : sending message ('{\"password\": \"\", \"op\": \"UpdateUser\", \"name\": \"mluser6088\", \"partition\": 1}',) at monkTestAdmin@0\n"
       ]
      },
      {
       "output_type": "stream",
       "stream": "stdout",
       "text": [
        "[2015-01-16 13:03:17,995][8258 ][monk.network.producer][INFO    ][37  ][producer.py] : sending message ('{\"password\": \"\", \"op\": \"UpdateUser\", \"name\": \"mluser6090\", \"partition\": 1}',) at monkTestAdmin@0\n"
       ]
      },
      {
       "output_type": "stream",
       "stream": "stdout",
       "text": [
        "[2015-01-16 13:03:18,002][8258 ][monk.network.producer][INFO    ][37  ][producer.py] : sending message ('{\"password\": \"\", \"op\": \"UpdateUser\", \"name\": \"mluser6096\", \"partition\": 1}',) at monkTestAdmin@0\n"
       ]
      },
      {
       "output_type": "stream",
       "stream": "stdout",
       "text": [
        "[2015-01-16 13:03:18,013][8258 ][monk.network.producer][INFO    ][37  ][producer.py] : sending message ('{\"password\": \"\", \"op\": \"UpdateUser\", \"name\": \"mluser6098\", \"partition\": 1}',) at monkTestAdmin@0\n"
       ]
      }
     ],
     "prompt_number": 41
    },
    {
     "cell_type": "code",
     "collapsed": false,
     "input": [],
     "language": "python",
     "metadata": {},
     "outputs": []
    },
    {
     "cell_type": "code",
     "collapsed": false,
     "input": [],
     "language": "python",
     "metadata": {},
     "outputs": []
    }
   ],
   "metadata": {}
  }
 ]
}