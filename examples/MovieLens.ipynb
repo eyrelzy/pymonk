{
 "metadata": {
  "name": "",
  "signature": "sha256:4555c557d226c24b908ef3e151ac59fda44d3d7a1c72f60be398864ef3f9f80a"
 },
 "nbformat": 3,
 "nbformat_minor": 0,
 "worksheets": [
  {
   "cells": [
    {
     "cell_type": "code",
     "collapsed": false,
     "input": [
      "import monk.core.api as monkapi"
     ],
     "language": "python",
     "metadata": {},
     "outputs": [],
     "prompt_number": 229
    },
    {
     "cell_type": "code",
     "collapsed": false,
     "input": [
      "from monk.roles.configuration import get_config"
     ],
     "language": "python",
     "metadata": {},
     "outputs": [],
     "prompt_number": 230
    },
    {
     "cell_type": "code",
     "collapsed": false,
     "input": [
      "config = get_config('monk_config.yml', 'console', '')"
     ],
     "language": "python",
     "metadata": {},
     "outputs": [
      {
       "output_type": "stream",
       "stream": "stdout",
       "text": [
        "[2015-01-24 16:12:56,915][6666 ][monk.roles.configuration][INFO    ][93  ][configuration.py] : configuration done\n"
       ]
      }
     ],
     "prompt_number": 231
    },
    {
     "cell_type": "code",
     "collapsed": true,
     "input": [
      "from monk.roles.administrator import AdminBroker as AB"
     ],
     "language": "python",
     "metadata": {},
     "outputs": [],
     "prompt_number": 232
    },
    {
     "cell_type": "code",
     "collapsed": false,
     "input": [
      "import monk.roles.worker as mrw\n",
      "import monk.network.partitioner as mnp\n",
      "import monk.network.broker as mnb"
     ],
     "language": "python",
     "metadata": {},
     "outputs": [],
     "prompt_number": 233
    },
    {
     "cell_type": "code",
     "collapsed": false,
     "input": [
      "reload(mnp)"
     ],
     "language": "python",
     "metadata": {},
     "outputs": [
      {
       "metadata": {},
       "output_type": "pyout",
       "prompt_number": 144,
       "text": [
        "<module 'monk.network.partitioner' from '/home/xm/Workspace/pymonk/monk/network/partitioner.pyc'>"
       ]
      }
     ],
     "prompt_number": 144
    },
    {
     "cell_type": "code",
     "collapsed": false,
     "input": [
      "reload(mrw)"
     ],
     "language": "python",
     "metadata": {},
     "outputs": [
      {
       "metadata": {},
       "output_type": "pyout",
       "prompt_number": 145,
       "text": [
        "<module 'monk.roles.worker' from '/home/xm/Workspace/pymonk/monk/roles/worker.pyc'>"
       ]
      }
     ],
     "prompt_number": 145
    },
    {
     "cell_type": "code",
     "collapsed": false,
     "input": [
      "reload(mnb)"
     ],
     "language": "python",
     "metadata": {},
     "outputs": [
      {
       "metadata": {},
       "output_type": "pyout",
       "prompt_number": 246,
       "text": [
        "<module 'monk.network.broker' from '/home/xm/Workspace/pymonk/monk/network/broker.py'>"
       ]
      }
     ],
     "prompt_number": 246
    },
    {
     "cell_type": "code",
     "collapsed": false,
     "input": [
      "from monk.roles.worker import WorkerBroker as WB"
     ],
     "language": "python",
     "metadata": {},
     "outputs": [],
     "prompt_number": 247
    },
    {
     "cell_type": "code",
     "collapsed": false,
     "input": [],
     "language": "python",
     "metadata": {},
     "outputs": []
    },
    {
     "cell_type": "code",
     "collapsed": false,
     "input": [
      "from monk.roles.monitor import MonitorBroker as MB"
     ],
     "language": "python",
     "metadata": {},
     "outputs": [],
     "prompt_number": 235
    },
    {
     "cell_type": "code",
     "collapsed": false,
     "input": [
      "ab = AB(config.kafkaConnectionString, config.administratorGroup, config.administratorTopic, producerType=AB.FIXED_PRODUCER, producerPartitions=[0])"
     ],
     "language": "python",
     "metadata": {},
     "outputs": [],
     "prompt_number": 236
    },
    {
     "cell_type": "code",
     "collapsed": false,
     "input": [
      "wb = WB(config.kafkaConnectionString, config.workerGroup, config.workerTopic, producerType=WB.USER_PRODUCER)"
     ],
     "language": "python",
     "metadata": {},
     "outputs": [],
     "prompt_number": 248
    },
    {
     "cell_type": "code",
     "collapsed": false,
     "input": [
      "wb.reconnect()"
     ],
     "language": "python",
     "metadata": {},
     "outputs": [],
     "prompt_number": 249
    },
    {
     "cell_type": "code",
     "collapsed": false,
     "input": [
      "mb = MB(config.kafkaConnectionString, config.monitorGroup, config.monitorTopic, producerType=MB.FIXED_PRODUCER, producerPartitions=[0])"
     ],
     "language": "python",
     "metadata": {},
     "outputs": [],
     "prompt_number": 238
    },
    {
     "cell_type": "code",
     "collapsed": false,
     "input": [
      "ls"
     ],
     "language": "python",
     "metadata": {},
     "outputs": [
      {
       "output_type": "stream",
       "stream": "stdout",
       "text": [
        "exper.py   log_config.yml    ml-1m-0.train.txt  monk_config.yml   MONK tutorial.ipynb  \u001b[0m\u001b[01;34mturtle_scripts\u001b[0m/\r\n",
        "exper.pyc  ml-1m-0.test.txt  ml1m-bmf-80.model  monk.console.log  MovieLens.ipynb      xumiao.ipynb\r\n"
       ]
      }
     ],
     "prompt_number": 11
    },
    {
     "cell_type": "code",
     "collapsed": false,
     "input": [
      "import exper"
     ],
     "language": "python",
     "metadata": {},
     "outputs": [],
     "prompt_number": 12
    },
    {
     "cell_type": "code",
     "collapsed": false,
     "input": [
      "userFactors, itemFactors = exper.readModel(\"ml1m-bmf-80.model\")"
     ],
     "language": "python",
     "metadata": {},
     "outputs": [],
     "prompt_number": 13
    },
    {
     "cell_type": "code",
     "collapsed": false,
     "input": [
      "userFactors.shape"
     ],
     "language": "python",
     "metadata": {},
     "outputs": [
      {
       "metadata": {},
       "output_type": "pyout",
       "prompt_number": 14,
       "text": [
        "(6040, 80)"
       ]
      }
     ],
     "prompt_number": 14
    },
    {
     "cell_type": "code",
     "collapsed": false,
     "input": [
      "itemFactors.shape"
     ],
     "language": "python",
     "metadata": {},
     "outputs": [
      {
       "metadata": {},
       "output_type": "pyout",
       "prompt_number": 15,
       "text": [
        "(3685, 80)"
       ]
      }
     ],
     "prompt_number": 15
    },
    {
     "cell_type": "code",
     "collapsed": false,
     "input": [
      "monkapi.exits()"
     ],
     "language": "python",
     "metadata": {},
     "outputs": [
      {
       "output_type": "stream",
       "stream": "stdout",
       "text": [
        "[2015-01-24 16:13:34,430][6666 ][monk.api    ][INFO    ][48  ][api.py  ] : ------end-----------\n"
       ]
      },
      {
       "metadata": {},
       "output_type": "pyout",
       "prompt_number": 241,
       "text": [
        "True"
       ]
      }
     ],
     "prompt_number": 241
    },
    {
     "cell_type": "code",
     "collapsed": false,
     "input": [
      "monkapi.initialize(config)"
     ],
     "language": "python",
     "metadata": {},
     "outputs": [
      {
       "output_type": "stream",
       "stream": "stdout",
       "text": [
        "[2015-01-24 16:13:35,253][6666 ][monk.api    ][INFO    ][40  ][api.py  ] : ------start up------\n"
       ]
      },
      {
       "output_type": "stream",
       "stream": "stdout",
       "text": [
        "[2015-01-24 16:13:35,419][6666 ][monk.uid    ][INFO    ][32  ][uid.py  ] : initializing uid store\n"
       ]
      },
      {
       "output_type": "stream",
       "stream": "stdout",
       "text": [
        "[2015-01-24 16:13:35,421][6666 ][monk.crane  ][INFO    ][48  ][crane.py] : initializing EntityStore \n"
       ]
      },
      {
       "output_type": "stream",
       "stream": "stdout",
       "text": [
        "[2015-01-24 16:13:35,422][6666 ][monk.crane  ][INFO    ][48  ][crane.py] : initializing UserStore \n"
       ]
      },
      {
       "output_type": "stream",
       "stream": "stdout",
       "text": [
        "[2015-01-24 16:13:35,424][6666 ][monk.crane  ][INFO    ][48  ][crane.py] : initializing EngineStore \n"
       ]
      },
      {
       "output_type": "stream",
       "stream": "stdout",
       "text": [
        "[2015-01-24 16:13:35,427][6666 ][monk.crane  ][INFO    ][48  ][crane.py] : initializing PandaStore \n"
       ]
      },
      {
       "output_type": "stream",
       "stream": "stdout",
       "text": [
        "[2015-01-24 16:13:35,428][6666 ][monk.crane  ][INFO    ][48  ][crane.py] : initializing MantisStore \n"
       ]
      },
      {
       "output_type": "stream",
       "stream": "stdout",
       "text": [
        "[2015-01-24 16:13:35,430][6666 ][monk.crane  ][INFO    ][48  ][crane.py] : initializing TurtleStore \n"
       ]
      },
      {
       "output_type": "stream",
       "stream": "stdout",
       "text": [
        "[2015-01-24 16:13:35,432][6666 ][monk.crane  ][INFO    ][48  ][crane.py] : initializing TigressStore \n"
       ]
      },
      {
       "metadata": {},
       "output_type": "pyout",
       "prompt_number": 242,
       "text": [
        "True"
       ]
      }
     ],
     "prompt_number": 242
    },
    {
     "cell_type": "code",
     "collapsed": false,
     "input": [
      "users = monkapi.crane.userStore.load_all({}, ['name', 'partition'])"
     ],
     "language": "python",
     "metadata": {},
     "outputs": [],
     "prompt_number": 217
    },
    {
     "cell_type": "code",
     "collapsed": false,
     "input": [
      "partitions = set()\n",
      "for user in users:\n",
      "    partitions.add(user[u'partition'])\n",
      "print partitions"
     ],
     "language": "python",
     "metadata": {},
     "outputs": [
      {
       "output_type": "stream",
       "stream": "stdout",
       "text": [
        "set([1, 2, 3, 4, 5, 6, 7])\n"
       ]
      }
     ],
     "prompt_number": 218
    },
    {
     "cell_type": "code",
     "collapsed": false,
     "input": [
      "ab.reconnect()"
     ],
     "language": "python",
     "metadata": {},
     "outputs": [],
     "prompt_number": 20
    },
    {
     "cell_type": "code",
     "collapsed": false,
     "input": [
      "mlTurtle = monkapi.yaml2json('movielens-turtle.yml')"
     ],
     "language": "python",
     "metadata": {},
     "outputs": [],
     "prompt_number": 25
    },
    {
     "cell_type": "code",
     "collapsed": false,
     "input": [
      "mlTurtle = monkapi.load_turtle('movielens-binary', 'monk')"
     ],
     "language": "python",
     "metadata": {},
     "outputs": [],
     "prompt_number": 243
    },
    {
     "cell_type": "code",
     "collapsed": false,
     "input": [
      "mlTurtle.generic()"
     ],
     "language": "python",
     "metadata": {},
     "outputs": [
      {
       "metadata": {},
       "output_type": "pyout",
       "prompt_number": 244,
       "text": [
        "{'createdTime': datetime.datetime(2015, 1, 18, 11, 56, 22, 126000),\n",
        " 'creator': u'monk',\n",
        " 'description': u'classify if the user likes the movie (rating > 3 is like, otherwise unlike)',\n",
        " 'entityCollectionName': '',\n",
        " 'followers': [u'mluser1'],\n",
        " 'lastModified': datetime.datetime(2015, 1, 24, 16, 13, 44, 786689),\n",
        " 'leader': None,\n",
        " 'mapping': {u'like': [1]},\n",
        " 'monkType': u'SingleTurtle',\n",
        " 'name': u'movielens-binary',\n",
        " 'pEPS': 1e-06,\n",
        " 'pMaxInferenceSteps': 1000,\n",
        " 'pMaxPathLength': 1,\n",
        " 'pMergeClock': 0,\n",
        " 'pPartialBarrier': 50,\n",
        " 'pPenalty': 1.0,\n",
        " 'pTrainClock': 0,\n",
        " 'pandas': [{'creator': u'monk', 'name': u'movielens'}],\n",
        " 'requires': {u'uids': u'range(1,81)'},\n",
        " 'tigress': {'creator': u'monk', 'name': u'movielens-binary'}}"
       ]
      }
     ],
     "prompt_number": 244
    },
    {
     "cell_type": "code",
     "collapsed": false,
     "input": [
      "wb.reconnect()"
     ],
     "language": "python",
     "metadata": {},
     "outputs": [],
     "prompt_number": 251
    },
    {
     "cell_type": "code",
     "collapsed": false,
     "input": [
      "reload(mnp)"
     ],
     "language": "python",
     "metadata": {},
     "outputs": [
      {
       "metadata": {},
       "output_type": "pyout",
       "prompt_number": 87,
       "text": [
        "<module 'monk.network.partitioner' from '/home/xm/Workspace/pymonk/monk/network/partitioner.py'>"
       ]
      }
     ],
     "prompt_number": 87
    },
    {
     "cell_type": "code",
     "collapsed": false,
     "input": [
      "wb.add_clone(mlTurtle.creator, mlTurtle.name, 'mluser2')"
     ],
     "language": "python",
     "metadata": {},
     "outputs": [
      {
       "output_type": "stream",
       "stream": "stdout",
       "text": [
        "[2015-01-24 16:20:55,372][6666 ][monk.network.broker][DEBUG   ][116 ][broker.py] : Sending {\"turtleName\": \"movielens-binary\", \"follower\": \"mluser2\", \"name\": \"monk\", \"op\": \"AddClone\"} to monk at monkTestWorker\n"
       ]
      },
      {
       "output_type": "stream",
       "stream": "stdout",
       "text": [
        "[2015-01-24 16:20:55,372][6666 ][monk.network.partitioner][DEBUG   ][36  ][partitioner.py] : user is monk\n"
       ]
      },
      {
       "output_type": "stream",
       "stream": "stdout",
       "text": [
        "[2015-01-24 16:20:55,549][6666 ][monk.network.partitioner][DEBUG   ][41  ][partitioner.py] : found partition 2\n"
       ]
      },
      {
       "output_type": "stream",
       "stream": "stdout",
       "text": [
        "[2015-01-24 16:20:55,550][6666 ][monk.network.broker][WARNING ][123 ][broker.py] : Exception the key must be type bytes\n"
       ]
      },
      {
       "output_type": "stream",
       "stream": "stdout",
       "text": [
        "[2015-01-24 16:20:55,551][6666 ][monk.network.broker][DEBUG   ][124 ][broker.py] : Traceback (most recent call last):\n",
        "  File \"/home/xm/Workspace/pymonk/monk/network/broker.py\", line 117, in produce\n",
        "    self.producer.send(self.kafkaTopic, name, encodedMessage)\n",
        "  File \"build/bdist.linux-x86_64/egg/kafka/producer/keyed.py\", line 63, in send\n",
        "    return self._send_messages(topic, partition, msg, key=key)\n",
        "  File \"build/bdist.linux-x86_64/egg/kafka/producer/base.py\", line 187, in _send_messages\n",
        "    raise TypeError(\"the key must be type bytes\")\n",
        "TypeError: the key must be type bytes\n",
        "\n"
       ]
      }
     ],
     "prompt_number": 252
    },
    {
     "cell_type": "code",
     "collapsed": false,
     "input": [
      "ab.reconnect()"
     ],
     "language": "python",
     "metadata": {},
     "outputs": [],
     "prompt_number": 222
    },
    {
     "cell_type": "code",
     "collapsed": false,
     "input": [
      "ab.echo('notebook')"
     ],
     "language": "python",
     "metadata": {},
     "outputs": [
      {
       "output_type": "stream",
       "stream": "stdout",
       "text": [
        "[2015-01-21 18:45:54,884][6666 ][monk.network.producer][INFO    ][37  ][producer.py] : sending message ('{\"message\": \"notebook\", \"name\": \"testing\", \"op\": \"Echo\"}',) at monkTestAdmin@0\n"
       ]
      }
     ],
     "prompt_number": 224
    },
    {
     "cell_type": "code",
     "collapsed": false,
     "input": [
      "ab.add_user('monk')"
     ],
     "language": "python",
     "metadata": {},
     "outputs": [
      {
       "output_type": "stream",
       "stream": "stdout",
       "text": [
        "[2015-01-21 18:46:06,948][6666 ][monk.network.producer][INFO    ][37  ][producer.py] : sending message ('{\"password\": \"\", \"name\": \"monk\", \"op\": \"AddUser\"}',) at monkTestAdmin@0\n"
       ]
      }
     ],
     "prompt_number": 225
    },
    {
     "cell_type": "code",
     "collapsed": false,
     "input": [
      "monkapi.load_user('monk')"
     ],
     "language": "python",
     "metadata": {},
     "outputs": [
      {
       "metadata": {},
       "output_type": "pyout",
       "prompt_number": 226,
       "text": [
        "<monk.core.user.User at 0x7f648f8a42d0>"
       ]
      }
     ],
     "prompt_number": 226
    },
    {
     "cell_type": "code",
     "collapsed": false,
     "input": [
      "t1 = monkapi.load_turtle(mlTurtle.name, 'mluser1')"
     ],
     "language": "python",
     "metadata": {},
     "outputs": [],
     "prompt_number": 227
    },
    {
     "cell_type": "code",
     "collapsed": false,
     "input": [
      "t1"
     ],
     "language": "python",
     "metadata": {},
     "outputs": [
      {
       "metadata": {},
       "output_type": "pyout",
       "prompt_number": 228,
       "text": [
        "<monk.core.turtle.SingleTurtle at 0x7f649037c8d0>"
       ]
      }
     ],
     "prompt_number": 228
    },
    {
     "cell_type": "code",
     "collapsed": false,
     "input": [
      "t2 = monkapi.load_turtle(mlTurtle.name, 'mluser2')"
     ],
     "language": "python",
     "metadata": {},
     "outputs": [],
     "prompt_number": 172
    },
    {
     "cell_type": "code",
     "collapsed": false,
     "input": [
      "monkapi.clone_turtle(mlTurtle.name, mlTurtle.creator, 'mluser1')"
     ],
     "language": "python",
     "metadata": {},
     "outputs": [
      {
       "metadata": {},
       "output_type": "pyout",
       "prompt_number": 154,
       "text": [
        "<monk.core.turtle.SingleTurtle at 0x7f648f89e450>"
       ]
      }
     ],
     "prompt_number": 154
    },
    {
     "cell_type": "code",
     "collapsed": false,
     "input": [
      "monkapi.follow_turtle(mlTurtle.name, mlTurtle.creator, follower='mluser1')"
     ],
     "language": "python",
     "metadata": {},
     "outputs": [
      {
       "metadata": {},
       "output_type": "pyout",
       "prompt_number": 166,
       "text": [
        "True"
       ]
      }
     ],
     "prompt_number": 166
    },
    {
     "cell_type": "code",
     "collapsed": false,
     "input": [
      "t1.generic()"
     ],
     "language": "python",
     "metadata": {},
     "outputs": [
      {
       "metadata": {},
       "output_type": "pyout",
       "prompt_number": 168,
       "text": [
        "{'createdTime': datetime.datetime(2015, 1, 19, 8, 4, 48, 645000),\n",
        " 'creator': u'mluser1',\n",
        " 'description': u'classify if the user likes the movie (rating > 3 is like, otherwise unlike)',\n",
        " 'entityCollectionName': '',\n",
        " 'followers': [],\n",
        " 'lastModified': datetime.datetime(2015, 1, 19, 8, 17, 6, 5241),\n",
        " 'leader': u'monk',\n",
        " 'mapping': {u'like': [1]},\n",
        " 'monkType': u'SingleTurtle',\n",
        " 'name': u'movielens-binary',\n",
        " 'pEPS': 1e-06,\n",
        " 'pMaxInferenceSteps': 1000,\n",
        " 'pMaxPathLength': 1,\n",
        " 'pMergeClock': 0,\n",
        " 'pPartialBarrier': 50,\n",
        " 'pPenalty': 1.0,\n",
        " 'pTrainClock': 0,\n",
        " 'pandas': [{'creator': u'mluser1', 'name': u'movielens'}],\n",
        " 'requires': {u'uids': u'range(1,81)'},\n",
        " 'tigress': {'creator': u'mluser1', 'name': u'movielens-binary'}}"
       ]
      }
     ],
     "prompt_number": 168
    },
    {
     "cell_type": "code",
     "collapsed": false,
     "input": [
      "t0=monkapi.load_turtle(mlTurtle.name, mlTurtle.creator)"
     ],
     "language": "python",
     "metadata": {},
     "outputs": [],
     "prompt_number": 169
    },
    {
     "cell_type": "code",
     "collapsed": false,
     "input": [
      "t0.generic()"
     ],
     "language": "python",
     "metadata": {},
     "outputs": [
      {
       "metadata": {},
       "output_type": "pyout",
       "prompt_number": 170,
       "text": [
        "{'createdTime': datetime.datetime(2015, 1, 18, 11, 56, 22, 126000),\n",
        " 'creator': u'monk',\n",
        " 'description': u'classify if the user likes the movie (rating > 3 is like, otherwise unlike)',\n",
        " 'entityCollectionName': '',\n",
        " 'followers': ['mluser1'],\n",
        " 'lastModified': datetime.datetime(2015, 1, 19, 8, 17, 51, 971101),\n",
        " 'leader': None,\n",
        " 'mapping': {u'like': [1]},\n",
        " 'monkType': u'SingleTurtle',\n",
        " 'name': u'movielens-binary',\n",
        " 'pEPS': 1e-06,\n",
        " 'pMaxInferenceSteps': 1000,\n",
        " 'pMaxPathLength': 1,\n",
        " 'pMergeClock': 0,\n",
        " 'pPartialBarrier': 50,\n",
        " 'pPenalty': 1.0,\n",
        " 'pTrainClock': 0,\n",
        " 'pandas': [{'creator': u'monk', 'name': u'movielens'}],\n",
        " 'requires': {u'uids': u'range(1,81)'},\n",
        " 'tigress': {'creator': u'monk', 'name': u'movielens-binary'}}"
       ]
      }
     ],
     "prompt_number": 170
    },
    {
     "cell_type": "code",
     "collapsed": false,
     "input": [
      "monkapi.load_user('testing')"
     ],
     "language": "python",
     "metadata": {},
     "outputs": [
      {
       "output_type": "stream",
       "stream": "stdout",
       "text": [
        "[2015-01-19 10:22:38,660][6666 ][monk.api    ][ERROR   ][158 ][api.py  ] : user testing does not exists\n"
       ]
      }
     ],
     "prompt_number": 192
    },
    {
     "cell_type": "code",
     "collapsed": false,
     "input": [
      "wb.reconnect()"
     ],
     "language": "python",
     "metadata": {},
     "outputs": [],
     "prompt_number": 185
    },
    {
     "cell_type": "code",
     "collapsed": false,
     "input": [
      "wb.echo('notebook')"
     ],
     "language": "python",
     "metadata": {},
     "outputs": [
      {
       "output_type": "stream",
       "stream": "stdout",
       "text": [
        "[2015-01-19 10:22:08,359][6666 ][monk.network.broker][DEBUG   ][116 ][broker.py] : Sending {\"message\": \"notebook\", \"name\": \"testing\", \"op\": \"Echo\"} to testing at monkTestWorker\n"
       ]
      },
      {
       "output_type": "stream",
       "stream": "stdout",
       "text": [
        "[2015-01-19 10:22:08,360][6666 ][monk.network.partitioner][DEBUG   ][36  ][partitioner.py] : user is testing\n"
       ]
      },
      {
       "output_type": "stream",
       "stream": "stdout",
       "text": [
        "[2015-01-19 10:22:08,411][6666 ][monk.api    ][ERROR   ][158 ][api.py  ] : user testing does not exists\n"
       ]
      }
     ],
     "prompt_number": 189
    },
    {
     "cell_type": "code",
     "collapsed": false,
     "input": [
      "ab.reconnect()"
     ],
     "language": "python",
     "metadata": {},
     "outputs": [],
     "prompt_number": 196
    },
    {
     "cell_type": "code",
     "collapsed": false,
     "input": [
      "ab.add_user('mluser8000')"
     ],
     "language": "python",
     "metadata": {},
     "outputs": [
      {
       "output_type": "stream",
       "stream": "stdout",
       "text": [
        "[2015-01-19 10:43:23,439][6666 ][monk.network.producer][INFO    ][37  ][producer.py] : sending message ('{\"password\": \"\", \"name\": \"mluser8000\", \"op\": \"AddUser\"}',) at monkTestAdmin@0\n"
       ]
      }
     ],
     "prompt_number": 197
    },
    {
     "cell_type": "code",
     "collapsed": false,
     "input": [],
     "language": "python",
     "metadata": {},
     "outputs": []
    }
   ],
   "metadata": {}
  }
 ]
}