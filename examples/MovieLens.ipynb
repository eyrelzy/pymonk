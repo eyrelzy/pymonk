{
 "metadata": {
  "name": "",
  "signature": "sha256:7485a2c19e134a7409d279c625cb7d4d76c1ed13a522f9799b63385dc502235b"
 },
 "nbformat": 3,
 "nbformat_minor": 0,
 "worksheets": [
  {
   "cells": [
    {
     "cell_type": "code",
     "collapsed": false,
     "input": [
      "import monk.core.api as monkapi"
     ],
     "language": "python",
     "metadata": {},
     "outputs": [],
     "prompt_number": 1
    },
    {
     "cell_type": "code",
     "collapsed": false,
     "input": [
      "from monk.roles.configuration import get_config"
     ],
     "language": "python",
     "metadata": {},
     "outputs": [],
     "prompt_number": 2
    },
    {
     "cell_type": "code",
     "collapsed": false,
     "input": [
      "config = get_config('monk_config.yml', 'console', '')"
     ],
     "language": "python",
     "metadata": {},
     "outputs": [
      {
       "output_type": "stream",
       "stream": "stdout",
       "text": [
        "[2015-01-18 23:10:05,444][6666 ][monk.roles.configuration][INFO    ][93  ][configuration.py] : configuration done\n"
       ]
      }
     ],
     "prompt_number": 68
    },
    {
     "cell_type": "code",
     "collapsed": true,
     "input": [
      "from monk.roles.administrator import AdminBroker as AB"
     ],
     "language": "python",
     "metadata": {},
     "outputs": [],
     "prompt_number": 4
    },
    {
     "cell_type": "code",
     "collapsed": false,
     "input": [
      "import monk.roles.worker as mrw\n",
      "import monk.network.partitioner as mnp\n",
      "import monk.network.broker as mnb"
     ],
     "language": "python",
     "metadata": {},
     "outputs": [],
     "prompt_number": 143
    },
    {
     "cell_type": "code",
     "collapsed": false,
     "input": [
      "reload(mnp)"
     ],
     "language": "python",
     "metadata": {},
     "outputs": [
      {
       "metadata": {},
       "output_type": "pyout",
       "prompt_number": 144,
       "text": [
        "<module 'monk.network.partitioner' from '/home/xm/Workspace/pymonk/monk/network/partitioner.pyc'>"
       ]
      }
     ],
     "prompt_number": 144
    },
    {
     "cell_type": "code",
     "collapsed": false,
     "input": [
      "reload(mrw)"
     ],
     "language": "python",
     "metadata": {},
     "outputs": [
      {
       "metadata": {},
       "output_type": "pyout",
       "prompt_number": 145,
       "text": [
        "<module 'monk.roles.worker' from '/home/xm/Workspace/pymonk/monk/roles/worker.pyc'>"
       ]
      }
     ],
     "prompt_number": 145
    },
    {
     "cell_type": "code",
     "collapsed": false,
     "input": [
      "reload(mnb)"
     ],
     "language": "python",
     "metadata": {},
     "outputs": [
      {
       "metadata": {},
       "output_type": "pyout",
       "prompt_number": 146,
       "text": [
        "<module 'monk.network.broker' from '/home/xm/Workspace/pymonk/monk/network/broker.pyc'>"
       ]
      }
     ],
     "prompt_number": 146
    },
    {
     "cell_type": "code",
     "collapsed": false,
     "input": [
      "from monk.roles.worker import WorkerBroker as WB"
     ],
     "language": "python",
     "metadata": {},
     "outputs": [],
     "prompt_number": 147
    },
    {
     "cell_type": "code",
     "collapsed": false,
     "input": [],
     "language": "python",
     "metadata": {},
     "outputs": []
    },
    {
     "cell_type": "code",
     "collapsed": false,
     "input": [
      "from monk.roles.monitor import MonitorBroker as MB"
     ],
     "language": "python",
     "metadata": {},
     "outputs": [],
     "prompt_number": 6
    },
    {
     "cell_type": "code",
     "collapsed": false,
     "input": [
      "ab = AB(config.kafkaConnectionString, config.administratorGroup, config.administratorTopic, producerType=AB.FIXED_PRODUCER, producerPartitions=[0])"
     ],
     "language": "python",
     "metadata": {},
     "outputs": [],
     "prompt_number": 7
    },
    {
     "cell_type": "code",
     "collapsed": false,
     "input": [
      "wb = WB(config.kafkaConnectionString, config.workerGroup, config.workerTopic, producerType=WB.USER_PRODUCER)"
     ],
     "language": "python",
     "metadata": {},
     "outputs": [],
     "prompt_number": 149
    },
    {
     "cell_type": "code",
     "collapsed": false,
     "input": [
      "wb.reconnect()"
     ],
     "language": "python",
     "metadata": {},
     "outputs": [],
     "prompt_number": 150
    },
    {
     "cell_type": "code",
     "collapsed": false,
     "input": [
      "mb = MB(config.kafkaConnectionString, config.monitorGroup, config.monitorTopic, producerType=MB.FIXED_PRODUCER, producerPartitions=[0])"
     ],
     "language": "python",
     "metadata": {},
     "outputs": [],
     "prompt_number": 10
    },
    {
     "cell_type": "code",
     "collapsed": false,
     "input": [
      "ls"
     ],
     "language": "python",
     "metadata": {},
     "outputs": [
      {
       "output_type": "stream",
       "stream": "stdout",
       "text": [
        "exper.py   log_config.yml    ml-1m-0.train.txt  monk_config.yml   MONK tutorial.ipynb  \u001b[0m\u001b[01;34mturtle_scripts\u001b[0m/\r\n",
        "exper.pyc  ml-1m-0.test.txt  ml1m-bmf-80.model  monk.console.log  MovieLens.ipynb      xumiao.ipynb\r\n"
       ]
      }
     ],
     "prompt_number": 11
    },
    {
     "cell_type": "code",
     "collapsed": false,
     "input": [
      "import exper"
     ],
     "language": "python",
     "metadata": {},
     "outputs": [],
     "prompt_number": 12
    },
    {
     "cell_type": "code",
     "collapsed": false,
     "input": [
      "userFactors, itemFactors = exper.readModel(\"ml1m-bmf-80.model\")"
     ],
     "language": "python",
     "metadata": {},
     "outputs": [],
     "prompt_number": 13
    },
    {
     "cell_type": "code",
     "collapsed": false,
     "input": [
      "userFactors.shape"
     ],
     "language": "python",
     "metadata": {},
     "outputs": [
      {
       "metadata": {},
       "output_type": "pyout",
       "prompt_number": 14,
       "text": [
        "(6040, 80)"
       ]
      }
     ],
     "prompt_number": 14
    },
    {
     "cell_type": "code",
     "collapsed": false,
     "input": [
      "itemFactors.shape"
     ],
     "language": "python",
     "metadata": {},
     "outputs": [
      {
       "metadata": {},
       "output_type": "pyout",
       "prompt_number": 15,
       "text": [
        "(3685, 80)"
       ]
      }
     ],
     "prompt_number": 15
    },
    {
     "cell_type": "code",
     "collapsed": false,
     "input": [
      "monkapi.exits()"
     ],
     "language": "python",
     "metadata": {},
     "outputs": [
      {
       "output_type": "stream",
       "stream": "stdout",
       "text": [
        "[2015-01-19 10:22:28,621][6666 ][monk.api    ][INFO    ][48  ][api.py  ] : ------end-----------\n"
       ]
      },
      {
       "metadata": {},
       "output_type": "pyout",
       "prompt_number": 190,
       "text": [
        "True"
       ]
      }
     ],
     "prompt_number": 190
    },
    {
     "cell_type": "code",
     "collapsed": false,
     "input": [
      "monkapi.initialize(config)"
     ],
     "language": "python",
     "metadata": {},
     "outputs": [
      {
       "output_type": "stream",
       "stream": "stdout",
       "text": [
        "[2015-01-19 10:22:29,677][6666 ][monk.api    ][INFO    ][40  ][api.py  ] : ------start up------\n"
       ]
      },
      {
       "output_type": "stream",
       "stream": "stdout",
       "text": [
        "[2015-01-19 10:22:29,859][6666 ][monk.uid    ][INFO    ][32  ][uid.py  ] : initializing uid store\n"
       ]
      },
      {
       "output_type": "stream",
       "stream": "stdout",
       "text": [
        "[2015-01-19 10:22:29,860][6666 ][monk.crane  ][INFO    ][48  ][crane.py] : initializing EntityStore \n"
       ]
      },
      {
       "output_type": "stream",
       "stream": "stdout",
       "text": [
        "[2015-01-19 10:22:29,862][6666 ][monk.crane  ][INFO    ][48  ][crane.py] : initializing UserStore \n"
       ]
      },
      {
       "output_type": "stream",
       "stream": "stdout",
       "text": [
        "[2015-01-19 10:22:29,864][6666 ][monk.crane  ][INFO    ][48  ][crane.py] : initializing EngineStore \n"
       ]
      },
      {
       "output_type": "stream",
       "stream": "stdout",
       "text": [
        "[2015-01-19 10:22:29,866][6666 ][monk.crane  ][INFO    ][48  ][crane.py] : initializing PandaStore \n"
       ]
      },
      {
       "output_type": "stream",
       "stream": "stdout",
       "text": [
        "[2015-01-19 10:22:29,867][6666 ][monk.crane  ][INFO    ][48  ][crane.py] : initializing MantisStore \n"
       ]
      },
      {
       "output_type": "stream",
       "stream": "stdout",
       "text": [
        "[2015-01-19 10:22:29,868][6666 ][monk.crane  ][INFO    ][48  ][crane.py] : initializing TurtleStore \n"
       ]
      },
      {
       "output_type": "stream",
       "stream": "stdout",
       "text": [
        "[2015-01-19 10:22:29,868][6666 ][monk.crane  ][INFO    ][48  ][crane.py] : initializing TigressStore \n"
       ]
      },
      {
       "metadata": {},
       "output_type": "pyout",
       "prompt_number": 191,
       "text": [
        "True"
       ]
      }
     ],
     "prompt_number": 191
    },
    {
     "cell_type": "code",
     "collapsed": false,
     "input": [
      "users = monkapi.crane.userStore.load_all({}, ['name', 'partition'])"
     ],
     "language": "python",
     "metadata": {},
     "outputs": [],
     "prompt_number": 22
    },
    {
     "cell_type": "code",
     "collapsed": false,
     "input": [
      "partitions = set()\n",
      "for user in users:\n",
      "    partitions.add(user[u'partition'])\n",
      "print partitions"
     ],
     "language": "python",
     "metadata": {},
     "outputs": [
      {
       "output_type": "stream",
       "stream": "stdout",
       "text": [
        "set([1, 2, 3, 4, 5, 6, 7])\n"
       ]
      }
     ],
     "prompt_number": 23
    },
    {
     "cell_type": "code",
     "collapsed": false,
     "input": [
      "ab.reconnect()"
     ],
     "language": "python",
     "metadata": {},
     "outputs": [],
     "prompt_number": 20
    },
    {
     "cell_type": "code",
     "collapsed": false,
     "input": [
      "mlTurtle = monkapi.yaml2json('movielens-turtle.yml')"
     ],
     "language": "python",
     "metadata": {},
     "outputs": [],
     "prompt_number": 25
    },
    {
     "cell_type": "code",
     "collapsed": false,
     "input": [
      "mlTurtle = monkapi.load_turtle('movielens-binary', 'monk')"
     ],
     "language": "python",
     "metadata": {},
     "outputs": [],
     "prompt_number": 31
    },
    {
     "cell_type": "code",
     "collapsed": false,
     "input": [
      "mlTurtle.generic()"
     ],
     "language": "python",
     "metadata": {},
     "outputs": [
      {
       "metadata": {},
       "output_type": "pyout",
       "prompt_number": 111,
       "text": [
        "{'createdTime': datetime.datetime(2015, 1, 18, 11, 56, 22, 126810),\n",
        " 'creator': 'monk',\n",
        " 'description': 'classify if the user likes the movie (rating > 3 is like, otherwise unlike)',\n",
        " 'entityCollectionName': '',\n",
        " 'followers': [],\n",
        " 'lastModified': datetime.datetime(2015, 1, 19, 7, 43, 23, 315531),\n",
        " 'leader': None,\n",
        " 'mapping': {'like': [1]},\n",
        " 'monkType': 'SingleTurtle',\n",
        " 'name': 'movielens-binary',\n",
        " 'pEPS': 1e-06,\n",
        " 'pMaxInferenceSteps': 1000,\n",
        " 'pMaxPathLength': 1,\n",
        " 'pMergeClock': 0,\n",
        " 'pPartialBarrier': 50,\n",
        " 'pPenalty': 1.0,\n",
        " 'pTrainClock': 0,\n",
        " 'pandas': [{'creator': 'monk', 'name': 'movielens'}],\n",
        " 'requires': {'uids': 'range(1,81)'},\n",
        " 'tigress': {'creator': 'monk', 'name': 'movielens-binary'}}"
       ]
      }
     ],
     "prompt_number": 111
    },
    {
     "cell_type": "code",
     "collapsed": false,
     "input": [
      "wb.reconnect()"
     ],
     "language": "python",
     "metadata": {},
     "outputs": [],
     "prompt_number": 183
    },
    {
     "cell_type": "code",
     "collapsed": false,
     "input": [
      "reload(mnp)"
     ],
     "language": "python",
     "metadata": {},
     "outputs": [
      {
       "metadata": {},
       "output_type": "pyout",
       "prompt_number": 87,
       "text": [
        "<module 'monk.network.partitioner' from '/home/xm/Workspace/pymonk/monk/network/partitioner.py'>"
       ]
      }
     ],
     "prompt_number": 87
    },
    {
     "cell_type": "code",
     "collapsed": false,
     "input": [
      "wb.add_clone(mlTurtle.creator, mlTurtle.name, 'mluser2')"
     ],
     "language": "python",
     "metadata": {},
     "outputs": [
      {
       "output_type": "stream",
       "stream": "stdout",
       "text": [
        "[2015-01-19 10:05:54,318][6666 ][monk.network.broker][DEBUG   ][116 ][broker.py] : Sending {\"turtleName\": \"movielens-binary\", \"follower\": \"mluser2\", \"name\": \"monk\", \"op\": \"AddClone\"} to monk at monkTestWorker\n"
       ]
      },
      {
       "output_type": "stream",
       "stream": "stdout",
       "text": [
        "[2015-01-19 10:05:54,319][6666 ][monk.network.partitioner][DEBUG   ][36  ][partitioner.py] : user is monk\n"
       ]
      },
      {
       "output_type": "stream",
       "stream": "stdout",
       "text": [
        "[2015-01-19 10:05:54,369][6666 ][monk.network.partitioner][DEBUG   ][41  ][partitioner.py] : found partition 2\n"
       ]
      }
     ],
     "prompt_number": 180
    },
    {
     "cell_type": "code",
     "collapsed": false,
     "input": [
      "ab.reconnect()"
     ],
     "language": "python",
     "metadata": {},
     "outputs": [],
     "prompt_number": 181
    },
    {
     "cell_type": "code",
     "collapsed": false,
     "input": [
      "ab.echo('notebook')"
     ],
     "language": "python",
     "metadata": {},
     "outputs": [
      {
       "output_type": "stream",
       "stream": "stdout",
       "text": [
        "[2015-01-19 10:19:43,919][6666 ][monk.network.producer][INFO    ][37  ][producer.py] : sending message ('{\"message\": \"notebook\", \"name\": \"testing\", \"op\": \"Echo\"}',) at monkTestAdmin@0\n"
       ]
      }
     ],
     "prompt_number": 182
    },
    {
     "cell_type": "code",
     "collapsed": false,
     "input": [
      "ab.add_user('monk')"
     ],
     "language": "python",
     "metadata": {},
     "outputs": [
      {
       "output_type": "stream",
       "stream": "stdout",
       "text": [
        "[2015-01-18 23:08:05,473][6666 ][monk.network.producer][INFO    ][37  ][producer.py] : sending message ('{\"password\": \"\", \"name\": \"monk\", \"op\": \"AddUser\"}',) at monkTestAdmin@0\n"
       ]
      }
     ],
     "prompt_number": 60
    },
    {
     "cell_type": "code",
     "collapsed": false,
     "input": [
      "monkapi.load_user('monk')"
     ],
     "language": "python",
     "metadata": {},
     "outputs": []
    },
    {
     "cell_type": "code",
     "collapsed": false,
     "input": [
      "t1 = monkapi.load_turtle(mlTurtle.name, 'mluser1')"
     ],
     "language": "python",
     "metadata": {},
     "outputs": [],
     "prompt_number": 164
    },
    {
     "cell_type": "code",
     "collapsed": false,
     "input": [
      "t2 = monkapi.load_turtle(mlTurtle.name, 'mluser2')"
     ],
     "language": "python",
     "metadata": {},
     "outputs": [],
     "prompt_number": 172
    },
    {
     "cell_type": "code",
     "collapsed": false,
     "input": [
      "monkapi.clone_turtle(mlTurtle.name, mlTurtle.creator, 'mluser1')"
     ],
     "language": "python",
     "metadata": {},
     "outputs": [
      {
       "metadata": {},
       "output_type": "pyout",
       "prompt_number": 154,
       "text": [
        "<monk.core.turtle.SingleTurtle at 0x7f648f89e450>"
       ]
      }
     ],
     "prompt_number": 154
    },
    {
     "cell_type": "code",
     "collapsed": false,
     "input": [
      "monkapi.follow_turtle(mlTurtle.name, mlTurtle.creator, follower='mluser1')"
     ],
     "language": "python",
     "metadata": {},
     "outputs": [
      {
       "metadata": {},
       "output_type": "pyout",
       "prompt_number": 166,
       "text": [
        "True"
       ]
      }
     ],
     "prompt_number": 166
    },
    {
     "cell_type": "code",
     "collapsed": false,
     "input": [
      "t1.generic()"
     ],
     "language": "python",
     "metadata": {},
     "outputs": [
      {
       "metadata": {},
       "output_type": "pyout",
       "prompt_number": 168,
       "text": [
        "{'createdTime': datetime.datetime(2015, 1, 19, 8, 4, 48, 645000),\n",
        " 'creator': u'mluser1',\n",
        " 'description': u'classify if the user likes the movie (rating > 3 is like, otherwise unlike)',\n",
        " 'entityCollectionName': '',\n",
        " 'followers': [],\n",
        " 'lastModified': datetime.datetime(2015, 1, 19, 8, 17, 6, 5241),\n",
        " 'leader': u'monk',\n",
        " 'mapping': {u'like': [1]},\n",
        " 'monkType': u'SingleTurtle',\n",
        " 'name': u'movielens-binary',\n",
        " 'pEPS': 1e-06,\n",
        " 'pMaxInferenceSteps': 1000,\n",
        " 'pMaxPathLength': 1,\n",
        " 'pMergeClock': 0,\n",
        " 'pPartialBarrier': 50,\n",
        " 'pPenalty': 1.0,\n",
        " 'pTrainClock': 0,\n",
        " 'pandas': [{'creator': u'mluser1', 'name': u'movielens'}],\n",
        " 'requires': {u'uids': u'range(1,81)'},\n",
        " 'tigress': {'creator': u'mluser1', 'name': u'movielens-binary'}}"
       ]
      }
     ],
     "prompt_number": 168
    },
    {
     "cell_type": "code",
     "collapsed": false,
     "input": [
      "t0=monkapi.load_turtle(mlTurtle.name, mlTurtle.creator)"
     ],
     "language": "python",
     "metadata": {},
     "outputs": [],
     "prompt_number": 169
    },
    {
     "cell_type": "code",
     "collapsed": false,
     "input": [
      "t0.generic()"
     ],
     "language": "python",
     "metadata": {},
     "outputs": [
      {
       "metadata": {},
       "output_type": "pyout",
       "prompt_number": 170,
       "text": [
        "{'createdTime': datetime.datetime(2015, 1, 18, 11, 56, 22, 126000),\n",
        " 'creator': u'monk',\n",
        " 'description': u'classify if the user likes the movie (rating > 3 is like, otherwise unlike)',\n",
        " 'entityCollectionName': '',\n",
        " 'followers': ['mluser1'],\n",
        " 'lastModified': datetime.datetime(2015, 1, 19, 8, 17, 51, 971101),\n",
        " 'leader': None,\n",
        " 'mapping': {u'like': [1]},\n",
        " 'monkType': u'SingleTurtle',\n",
        " 'name': u'movielens-binary',\n",
        " 'pEPS': 1e-06,\n",
        " 'pMaxInferenceSteps': 1000,\n",
        " 'pMaxPathLength': 1,\n",
        " 'pMergeClock': 0,\n",
        " 'pPartialBarrier': 50,\n",
        " 'pPenalty': 1.0,\n",
        " 'pTrainClock': 0,\n",
        " 'pandas': [{'creator': u'monk', 'name': u'movielens'}],\n",
        " 'requires': {u'uids': u'range(1,81)'},\n",
        " 'tigress': {'creator': u'monk', 'name': u'movielens-binary'}}"
       ]
      }
     ],
     "prompt_number": 170
    },
    {
     "cell_type": "code",
     "collapsed": false,
     "input": [
      "monkapi.load_user('testing')"
     ],
     "language": "python",
     "metadata": {},
     "outputs": [
      {
       "output_type": "stream",
       "stream": "stdout",
       "text": [
        "[2015-01-19 10:22:38,660][6666 ][monk.api    ][ERROR   ][158 ][api.py  ] : user testing does not exists\n"
       ]
      }
     ],
     "prompt_number": 192
    },
    {
     "cell_type": "code",
     "collapsed": false,
     "input": [
      "wb.reconnect()"
     ],
     "language": "python",
     "metadata": {},
     "outputs": [],
     "prompt_number": 185
    },
    {
     "cell_type": "code",
     "collapsed": false,
     "input": [
      "wb.echo('notebook')"
     ],
     "language": "python",
     "metadata": {},
     "outputs": [
      {
       "output_type": "stream",
       "stream": "stdout",
       "text": [
        "[2015-01-19 10:22:08,359][6666 ][monk.network.broker][DEBUG   ][116 ][broker.py] : Sending {\"message\": \"notebook\", \"name\": \"testing\", \"op\": \"Echo\"} to testing at monkTestWorker\n"
       ]
      },
      {
       "output_type": "stream",
       "stream": "stdout",
       "text": [
        "[2015-01-19 10:22:08,360][6666 ][monk.network.partitioner][DEBUG   ][36  ][partitioner.py] : user is testing\n"
       ]
      },
      {
       "output_type": "stream",
       "stream": "stdout",
       "text": [
        "[2015-01-19 10:22:08,411][6666 ][monk.api    ][ERROR   ][158 ][api.py  ] : user testing does not exists\n"
       ]
      }
     ],
     "prompt_number": 189
    },
    {
     "cell_type": "code",
     "collapsed": false,
     "input": [
      "ab.reconnect()"
     ],
     "language": "python",
     "metadata": {},
     "outputs": [],
     "prompt_number": 196
    },
    {
     "cell_type": "code",
     "collapsed": false,
     "input": [
      "ab.add_user('mluser8000')"
     ],
     "language": "python",
     "metadata": {},
     "outputs": [
      {
       "output_type": "stream",
       "stream": "stdout",
       "text": [
        "[2015-01-19 10:43:23,439][6666 ][monk.network.producer][INFO    ][37  ][producer.py] : sending message ('{\"password\": \"\", \"name\": \"mluser8000\", \"op\": \"AddUser\"}',) at monkTestAdmin@0\n"
       ]
      }
     ],
     "prompt_number": 197
    },
    {
     "cell_type": "code",
     "collapsed": false,
     "input": [],
     "language": "python",
     "metadata": {},
     "outputs": []
    }
   ],
   "metadata": {}
  }
 ]
}