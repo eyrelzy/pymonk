{
 "metadata": {
  "name": "",
  "signature": "sha256:58c7ee555e98c7d6efebeb4879868b4183298c786edbe002362b302633f4cc4c"
 },
 "nbformat": 3,
 "nbformat_minor": 0,
 "worksheets": [
  {
   "cells": [
    {
     "cell_type": "code",
     "collapsed": false,
     "input": [
      "import monk.core.api as monkapi"
     ],
     "language": "python",
     "metadata": {},
     "outputs": [],
     "prompt_number": 1
    },
    {
     "cell_type": "code",
     "collapsed": false,
     "input": [
      "from monk.roles.configuration import get_config"
     ],
     "language": "python",
     "metadata": {},
     "outputs": [],
     "prompt_number": 2
    },
    {
     "cell_type": "code",
     "collapsed": false,
     "input": [
      "config = get_config('monk_config.yml', 'console', '')"
     ],
     "language": "python",
     "metadata": {},
     "outputs": [
      {
       "output_type": "stream",
       "stream": "stdout",
       "text": [
        "[2015-01-18 23:10:05,444][6666 ][monk.roles.configuration][INFO    ][93  ][configuration.py] : configuration done\n"
       ]
      }
     ],
     "prompt_number": 68
    },
    {
     "cell_type": "code",
     "collapsed": true,
     "input": [
      "from monk.roles.administrator import AdminBroker as AB"
     ],
     "language": "python",
     "metadata": {},
     "outputs": [],
     "prompt_number": 4
    },
    {
     "cell_type": "code",
     "collapsed": false,
     "input": [
      "import monk.roles.worker as mrw\n",
      "import monk.network.partitioner as mnp\n",
      "import monk.network.broker as mnb"
     ],
     "language": "python",
     "metadata": {},
     "outputs": [],
     "prompt_number": 143
    },
    {
     "cell_type": "code",
     "collapsed": false,
     "input": [
      "reload(mnp)"
     ],
     "language": "python",
     "metadata": {},
     "outputs": [
      {
       "metadata": {},
       "output_type": "pyout",
       "prompt_number": 144,
       "text": [
        "<module 'monk.network.partitioner' from '/home/xm/Workspace/pymonk/monk/network/partitioner.pyc'>"
       ]
      }
     ],
     "prompt_number": 144
    },
    {
     "cell_type": "code",
     "collapsed": false,
     "input": [
      "reload(mrw)"
     ],
     "language": "python",
     "metadata": {},
     "outputs": [
      {
       "metadata": {},
       "output_type": "pyout",
       "prompt_number": 145,
       "text": [
        "<module 'monk.roles.worker' from '/home/xm/Workspace/pymonk/monk/roles/worker.pyc'>"
       ]
      }
     ],
     "prompt_number": 145
    },
    {
     "cell_type": "code",
     "collapsed": false,
     "input": [
      "reload(mnb)"
     ],
     "language": "python",
     "metadata": {},
     "outputs": [
      {
       "metadata": {},
       "output_type": "pyout",
       "prompt_number": 146,
       "text": [
        "<module 'monk.network.broker' from '/home/xm/Workspace/pymonk/monk/network/broker.pyc'>"
       ]
      }
     ],
     "prompt_number": 146
    },
    {
     "cell_type": "code",
     "collapsed": false,
     "input": [
      "from monk.roles.worker import WorkerBroker as WB"
     ],
     "language": "python",
     "metadata": {},
     "outputs": [],
     "prompt_number": 147
    },
    {
     "cell_type": "code",
     "collapsed": false,
     "input": [],
     "language": "python",
     "metadata": {},
     "outputs": []
    },
    {
     "cell_type": "code",
     "collapsed": false,
     "input": [
      "from monk.roles.monitor import MonitorBroker as MB"
     ],
     "language": "python",
     "metadata": {},
     "outputs": [],
     "prompt_number": 6
    },
    {
     "cell_type": "code",
     "collapsed": false,
     "input": [
      "ab = AB(config.kafkaConnectionString, config.administratorGroup, config.administratorTopic, producerType=AB.FIXED_PRODUCER, producerPartitions=[0])"
     ],
     "language": "python",
     "metadata": {},
     "outputs": [],
     "prompt_number": 7
    },
    {
     "cell_type": "code",
     "collapsed": false,
     "input": [
      "wb = WB(config.kafkaConnectionString, config.workerGroup, config.workerTopic, producerType=WB.USER_PRODUCER)"
     ],
     "language": "python",
     "metadata": {},
     "outputs": [],
     "prompt_number": 149
    },
    {
     "cell_type": "code",
     "collapsed": false,
     "input": [
      "wb.reconnect()"
     ],
     "language": "python",
     "metadata": {},
     "outputs": [],
     "prompt_number": 150
    },
    {
     "cell_type": "code",
     "collapsed": false,
     "input": [
      "mb = MB(config.kafkaConnectionString, config.monitorGroup, config.monitorTopic, producerType=MB.FIXED_PRODUCER, producerPartitions=[0])"
     ],
     "language": "python",
     "metadata": {},
     "outputs": [],
     "prompt_number": 10
    },
    {
     "cell_type": "code",
     "collapsed": false,
     "input": [
      "ls"
     ],
     "language": "python",
     "metadata": {},
     "outputs": [
      {
       "output_type": "stream",
       "stream": "stdout",
       "text": [
        "exper.py   log_config.yml    ml-1m-0.train.txt  monk_config.yml   MONK tutorial.ipynb  \u001b[0m\u001b[01;34mturtle_scripts\u001b[0m/\r\n",
        "exper.pyc  ml-1m-0.test.txt  ml1m-bmf-80.model  monk.console.log  MovieLens.ipynb      xumiao.ipynb\r\n"
       ]
      }
     ],
     "prompt_number": 11
    },
    {
     "cell_type": "code",
     "collapsed": false,
     "input": [
      "import exper"
     ],
     "language": "python",
     "metadata": {},
     "outputs": [],
     "prompt_number": 12
    },
    {
     "cell_type": "code",
     "collapsed": false,
     "input": [
      "userFactors, itemFactors = exper.readModel(\"ml1m-bmf-80.model\")"
     ],
     "language": "python",
     "metadata": {},
     "outputs": [],
     "prompt_number": 13
    },
    {
     "cell_type": "code",
     "collapsed": false,
     "input": [
      "userFactors.shape"
     ],
     "language": "python",
     "metadata": {},
     "outputs": [
      {
       "metadata": {},
       "output_type": "pyout",
       "prompt_number": 14,
       "text": [
        "(6040, 80)"
       ]
      }
     ],
     "prompt_number": 14
    },
    {
     "cell_type": "code",
     "collapsed": false,
     "input": [
      "itemFactors.shape"
     ],
     "language": "python",
     "metadata": {},
     "outputs": [
      {
       "metadata": {},
       "output_type": "pyout",
       "prompt_number": 15,
       "text": [
        "(3685, 80)"
       ]
      }
     ],
     "prompt_number": 15
    },
    {
     "cell_type": "code",
     "collapsed": false,
     "input": [
      "monkapi.exits()"
     ],
     "language": "python",
     "metadata": {},
     "outputs": [
      {
       "output_type": "stream",
       "stream": "stdout",
       "text": [
        "[2015-01-19 07:57:29,938][6666 ][monk.api    ][INFO    ][48  ][api.py  ] : ------end-----------\n"
       ]
      },
      {
       "metadata": {},
       "output_type": "pyout",
       "prompt_number": 134,
       "text": [
        "True"
       ]
      }
     ],
     "prompt_number": 134
    },
    {
     "cell_type": "code",
     "collapsed": false,
     "input": [
      "monkapi.initialize(config)"
     ],
     "language": "python",
     "metadata": {},
     "outputs": [
      {
       "output_type": "stream",
       "stream": "stdout",
       "text": [
        "[2015-01-19 07:57:30,906][6666 ][monk.api    ][INFO    ][40  ][api.py  ] : ------start up------\n"
       ]
      },
      {
       "output_type": "stream",
       "stream": "stdout",
       "text": [
        "[2015-01-19 07:57:31,427][6666 ][monk.uid    ][INFO    ][32  ][uid.py  ] : initializing uid store\n"
       ]
      },
      {
       "output_type": "stream",
       "stream": "stdout",
       "text": [
        "[2015-01-19 07:57:31,428][6666 ][monk.crane  ][INFO    ][48  ][crane.py] : initializing EntityStore \n"
       ]
      },
      {
       "output_type": "stream",
       "stream": "stdout",
       "text": [
        "[2015-01-19 07:57:31,429][6666 ][monk.crane  ][INFO    ][48  ][crane.py] : initializing UserStore \n"
       ]
      },
      {
       "output_type": "stream",
       "stream": "stdout",
       "text": [
        "[2015-01-19 07:57:31,430][6666 ][monk.crane  ][INFO    ][48  ][crane.py] : initializing EngineStore \n"
       ]
      },
      {
       "output_type": "stream",
       "stream": "stdout",
       "text": [
        "[2015-01-19 07:57:31,430][6666 ][monk.crane  ][INFO    ][48  ][crane.py] : initializing PandaStore \n"
       ]
      },
      {
       "output_type": "stream",
       "stream": "stdout",
       "text": [
        "[2015-01-19 07:57:31,431][6666 ][monk.crane  ][INFO    ][48  ][crane.py] : initializing MantisStore \n"
       ]
      },
      {
       "output_type": "stream",
       "stream": "stdout",
       "text": [
        "[2015-01-19 07:57:31,432][6666 ][monk.crane  ][INFO    ][48  ][crane.py] : initializing TurtleStore \n"
       ]
      },
      {
       "output_type": "stream",
       "stream": "stdout",
       "text": [
        "[2015-01-19 07:57:31,433][6666 ][monk.crane  ][INFO    ][48  ][crane.py] : initializing TigressStore \n"
       ]
      },
      {
       "metadata": {},
       "output_type": "pyout",
       "prompt_number": 135,
       "text": [
        "True"
       ]
      }
     ],
     "prompt_number": 135
    },
    {
     "cell_type": "code",
     "collapsed": false,
     "input": [
      "users = monkapi.crane.userStore.load_all({}, ['name', 'partition'])"
     ],
     "language": "python",
     "metadata": {},
     "outputs": [],
     "prompt_number": 22
    },
    {
     "cell_type": "code",
     "collapsed": false,
     "input": [
      "partitions = set()\n",
      "for user in users:\n",
      "    partitions.add(user[u'partition'])\n",
      "print partitions"
     ],
     "language": "python",
     "metadata": {},
     "outputs": [
      {
       "output_type": "stream",
       "stream": "stdout",
       "text": [
        "set([1, 2, 3, 4, 5, 6, 7])\n"
       ]
      }
     ],
     "prompt_number": 23
    },
    {
     "cell_type": "code",
     "collapsed": false,
     "input": [
      "ab.reconnect()"
     ],
     "language": "python",
     "metadata": {},
     "outputs": [],
     "prompt_number": 20
    },
    {
     "cell_type": "code",
     "collapsed": false,
     "input": [
      "mlTurtle = monkapi.yaml2json('movielens-turtle.yml')"
     ],
     "language": "python",
     "metadata": {},
     "outputs": [],
     "prompt_number": 25
    },
    {
     "cell_type": "code",
     "collapsed": false,
     "input": [
      "mlTurtle = monkapi.load_turtle('movielens-binary', 'monk')"
     ],
     "language": "python",
     "metadata": {},
     "outputs": [],
     "prompt_number": 31
    },
    {
     "cell_type": "code",
     "collapsed": false,
     "input": [
      "mlTurtle.generic()"
     ],
     "language": "python",
     "metadata": {},
     "outputs": [
      {
       "metadata": {},
       "output_type": "pyout",
       "prompt_number": 111,
       "text": [
        "{'createdTime': datetime.datetime(2015, 1, 18, 11, 56, 22, 126810),\n",
        " 'creator': 'monk',\n",
        " 'description': 'classify if the user likes the movie (rating > 3 is like, otherwise unlike)',\n",
        " 'entityCollectionName': '',\n",
        " 'followers': [],\n",
        " 'lastModified': datetime.datetime(2015, 1, 19, 7, 43, 23, 315531),\n",
        " 'leader': None,\n",
        " 'mapping': {'like': [1]},\n",
        " 'monkType': 'SingleTurtle',\n",
        " 'name': 'movielens-binary',\n",
        " 'pEPS': 1e-06,\n",
        " 'pMaxInferenceSteps': 1000,\n",
        " 'pMaxPathLength': 1,\n",
        " 'pMergeClock': 0,\n",
        " 'pPartialBarrier': 50,\n",
        " 'pPenalty': 1.0,\n",
        " 'pTrainClock': 0,\n",
        " 'pandas': [{'creator': 'monk', 'name': 'movielens'}],\n",
        " 'requires': {'uids': 'range(1,81)'},\n",
        " 'tigress': {'creator': 'monk', 'name': 'movielens-binary'}}"
       ]
      }
     ],
     "prompt_number": 111
    },
    {
     "cell_type": "code",
     "collapsed": false,
     "input": [
      "wb.reconnect()"
     ],
     "language": "python",
     "metadata": {},
     "outputs": [],
     "prompt_number": 85
    },
    {
     "cell_type": "code",
     "collapsed": false,
     "input": [
      "reload(mnp)"
     ],
     "language": "python",
     "metadata": {},
     "outputs": [
      {
       "metadata": {},
       "output_type": "pyout",
       "prompt_number": 87,
       "text": [
        "<module 'monk.network.partitioner' from '/home/xm/Workspace/pymonk/monk/network/partitioner.py'>"
       ]
      }
     ],
     "prompt_number": 87
    },
    {
     "cell_type": "code",
     "collapsed": false,
     "input": [
      "wb.add_clone(mlTurtle.creator, mlTurtle.name, 'mluser1')"
     ],
     "language": "python",
     "metadata": {},
     "outputs": [
      {
       "output_type": "stream",
       "stream": "stdout",
       "text": [
        "[2015-01-19 07:59:36,156][6666 ][monk.network.broker][DEBUG   ][116 ][broker.py] : Sending {\"turtleName\": \"movielens-binary\", \"follower\": \"mluser1\", \"name\": \"monk\", \"op\": \"AddClone\"} to monk at monkTestWorker\n"
       ]
      },
      {
       "output_type": "stream",
       "stream": "stdout",
       "text": [
        "[2015-01-19 07:59:36,156][6666 ][monk.network.partitioner][DEBUG   ][36  ][partitioner.py] : user is monk\n"
       ]
      },
      {
       "output_type": "stream",
       "stream": "stdout",
       "text": [
        "[2015-01-19 07:59:36,326][6666 ][monk.network.partitioner][DEBUG   ][41  ][partitioner.py] : found partition 2\n"
       ]
      }
     ],
     "prompt_number": 151
    },
    {
     "cell_type": "code",
     "collapsed": false,
     "input": [
      "ab.reconnect()"
     ],
     "language": "python",
     "metadata": {},
     "outputs": [],
     "prompt_number": 59
    },
    {
     "cell_type": "code",
     "collapsed": false,
     "input": [
      "ab.add_user('monk')"
     ],
     "language": "python",
     "metadata": {},
     "outputs": [
      {
       "output_type": "stream",
       "stream": "stdout",
       "text": [
        "[2015-01-18 23:08:05,473][6666 ][monk.network.producer][INFO    ][37  ][producer.py] : sending message ('{\"password\": \"\", \"name\": \"monk\", \"op\": \"AddUser\"}',) at monkTestAdmin@0\n"
       ]
      }
     ],
     "prompt_number": 60
    },
    {
     "cell_type": "code",
     "collapsed": false,
     "input": [
      "monkapi.load_user('monk')"
     ],
     "language": "python",
     "metadata": {},
     "outputs": [
      {
       "metadata": {},
       "output_type": "pyout",
       "prompt_number": 64,
       "text": [
        "<monk.core.user.User at 0x7f648f828590>"
       ]
      }
     ],
     "prompt_number": 64
    },
    {
     "cell_type": "code",
     "collapsed": false,
     "input": [
      "t1 = monkapi.load_turtle('mluser1', mlTurtle.name)"
     ],
     "language": "python",
     "metadata": {},
     "outputs": [],
     "prompt_number": 152
    },
    {
     "cell_type": "code",
     "collapsed": false,
     "input": [
      "monkapi.clone_turtle(mlTurtle.name, mlTurtle.creator, 'mluser1')"
     ],
     "language": "python",
     "metadata": {},
     "outputs": [
      {
       "metadata": {},
       "output_type": "pyout",
       "prompt_number": 154,
       "text": [
        "<monk.core.turtle.SingleTurtle at 0x7f648f89e450>"
       ]
      }
     ],
     "prompt_number": 154
    },
    {
     "cell_type": "code",
     "collapsed": false,
     "input": [
      "monkapi.follow_turtle_leader(mlTurtle.name, mlTurtle.creator, 'mluser1')"
     ],
     "language": "python",
     "metadata": {},
     "outputs": [
      {
       "ename": "AttributeError",
       "evalue": "'module' object has no attribute 'follow_turtle_leader'",
       "output_type": "pyerr",
       "traceback": [
        "\u001b[1;31m---------------------------------------------------------------------------\u001b[0m\n\u001b[1;31mAttributeError\u001b[0m                            Traceback (most recent call last)",
        "\u001b[1;32m<ipython-input-156-4778b7683386>\u001b[0m in \u001b[0;36m<module>\u001b[1;34m()\u001b[0m\n\u001b[1;32m----> 1\u001b[1;33m \u001b[0mmonkapi\u001b[0m\u001b[1;33m.\u001b[0m\u001b[0mfollow_turtle_leader\u001b[0m\u001b[1;33m(\u001b[0m\u001b[0mmlTurtle\u001b[0m\u001b[1;33m.\u001b[0m\u001b[0mname\u001b[0m\u001b[1;33m,\u001b[0m \u001b[0mmlTurtle\u001b[0m\u001b[1;33m.\u001b[0m\u001b[0mcreator\u001b[0m\u001b[1;33m,\u001b[0m \u001b[1;34m'mluser1'\u001b[0m\u001b[1;33m)\u001b[0m\u001b[1;33m\u001b[0m\u001b[0m\n\u001b[0m",
        "\u001b[1;31mAttributeError\u001b[0m: 'module' object has no attribute 'follow_turtle_leader'"
       ]
      }
     ],
     "prompt_number": 156
    },
    {
     "cell_type": "code",
     "collapsed": false,
     "input": [],
     "language": "python",
     "metadata": {},
     "outputs": []
    }
   ],
   "metadata": {}
  }
 ]
}