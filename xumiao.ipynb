{
 "metadata": {
  "name": ""
 },
 "nbformat": 3,
 "nbformat_minor": 0,
 "worksheets": [
  {
   "cells": [
    {
     "cell_type": "code",
     "collapsed": false,
     "input": [
      "import monk.roles.scientist as ms"
     ],
     "language": "python",
     "metadata": {},
     "outputs": [],
     "prompt_number": 49
    },
    {
     "cell_type": "code",
     "collapsed": false,
     "input": [
      "reload(ms)\n",
      "ms.login('xumiao')"
     ],
     "language": "python",
     "metadata": {},
     "outputs": [
      {
       "metadata": {},
       "output_type": "pyout",
       "prompt_number": 81,
       "text": [
        "<module 'monk.roles.scientist' from 'monk\\roles\\scientist.pyc'>"
       ]
      }
     ],
     "prompt_number": 81
    },
    {
     "cell_type": "code",
     "collapsed": false,
     "input": [
      "ms.reloads()"
     ],
     "language": "python",
     "metadata": {},
     "outputs": [
      {
       "output_type": "stream",
       "stream": "stdout",
       "text": [
        "[monk.api    ][INFO    ][320] : ------end-----------\n"
       ]
      },
      {
       "output_type": "stream",
       "stream": "stdout",
       "text": [
        "[monk.api    ][INFO    ][320] : ------start up------\n"
       ]
      },
      {
       "output_type": "stream",
       "stream": "stdout",
       "text": [
        "[monk.uid    ][INFO    ][320] : initializing uid store\n"
       ]
      },
      {
       "output_type": "stream",
       "stream": "stdout",
       "text": [
        "[monk.crane  ][INFO    ][320] : initializing EntityStore \n"
       ]
      },
      {
       "output_type": "stream",
       "stream": "stdout",
       "text": [
        "[monk.crane  ][INFO    ][320] : initializing PandaStore \n"
       ]
      },
      {
       "output_type": "stream",
       "stream": "stdout",
       "text": [
        "[monk.crane  ][INFO    ][320] : initializing MantisStore \n"
       ]
      },
      {
       "output_type": "stream",
       "stream": "stdout",
       "text": [
        "[monk.crane  ][INFO    ][320] : initializing TurtleStore \n"
       ]
      },
      {
       "output_type": "stream",
       "stream": "stdout",
       "text": [
        "[monk.crane  ][INFO    ][320] : initializing TigressStore \n"
       ]
      }
     ],
     "prompt_number": 82
    },
    {
     "cell_type": "code",
     "collapsed": false,
     "input": [
      "ents = ms.monkapi.load_entities(None,None,'activitytags')"
     ],
     "language": "python",
     "metadata": {},
     "outputs": [],
     "prompt_number": 83
    },
    {
     "cell_type": "code",
     "collapsed": false,
     "input": [
      "ents[9].generic()"
     ],
     "language": "python",
     "metadata": {},
     "outputs": [
      {
       "metadata": {},
       "output_type": "pyout",
       "prompt_number": 85,
       "text": [
        "{'_features': [],\n",
        " '_raws': {},\n",
        " 'createdTime': datetime.datetime(2014, 4, 27, 7, 52, 53, 867000),\n",
        " 'creator': 'monk',\n",
        " 'lastModified': datetime.datetime(2014, 4, 27, 7, 53, 11, 208000),\n",
        " u'monkType': 'Entity',\n",
        " u'name': u'golf16',\n",
        " u'url': u'golf16.png'}"
       ]
      }
     ],
     "prompt_number": 85
    },
    {
     "cell_type": "code",
     "collapsed": false,
     "input": [
      "ents[9].name = 'golf'"
     ],
     "language": "python",
     "metadata": {},
     "outputs": [],
     "prompt_number": 86
    },
    {
     "cell_type": "code",
     "collapsed": false,
     "input": [
      "ents[9].generic()"
     ],
     "language": "python",
     "metadata": {},
     "outputs": [
      {
       "metadata": {},
       "output_type": "pyout",
       "prompt_number": 87,
       "text": [
        "{'_features': [],\n",
        " '_raws': {},\n",
        " 'createdTime': datetime.datetime(2014, 4, 27, 7, 52, 53, 867000),\n",
        " 'creator': 'monk',\n",
        " 'lastModified': datetime.datetime(2014, 4, 27, 7, 53, 36, 17000),\n",
        " u'monkType': 'Entity',\n",
        " u'name': 'golf',\n",
        " u'url': u'golf16.png'}"
       ]
      }
     ],
     "prompt_number": 87
    },
    {
     "cell_type": "code",
     "collapsed": false,
     "input": [
      "ms.monkapi.save_entities([ents[9]])"
     ],
     "language": "python",
     "metadata": {},
     "outputs": [],
     "prompt_number": 88
    },
    {
     "cell_type": "code",
     "collapsed": false,
     "input": [
      "unigramTurtleScript={\n",
      "  \"description\" : \"extract unigrams from fields\",\n",
      "  \"monkType\" : \"UniGramTurtle\",\n",
      "  \"name\" : \"unigram\"\n",
      "}"
     ],
     "language": "python",
     "metadata": {},
     "outputs": [],
     "prompt_number": 90
    },
    {
     "cell_type": "code",
     "collapsed": false,
     "input": [
      "reload(ms)"
     ],
     "language": "python",
     "metadata": {},
     "outputs": [
      {
       "metadata": {},
       "output_type": "pyout",
       "prompt_number": 103,
       "text": [
        "<module 'monk.roles.scientist' from 'monk\\roles\\scientist.py'>"
       ]
      }
     ],
     "prompt_number": 103
    },
    {
     "cell_type": "code",
     "collapsed": false,
     "input": [
      "ms.add_turtle(unigramTurtleScript)"
     ],
     "language": "python",
     "metadata": {},
     "outputs": [
      {
       "output_type": "stream",
       "stream": "stdout",
       "text": [
        "[monk.turtle ][INFO    ][320] : turtle unigram will use all features seen\n"
       ]
      },
      {
       "metadata": {},
       "output_type": "pyout",
       "prompt_number": 98,
       "text": [
        "ObjectId('535d1d3d504b2e014066b0b1')"
       ]
      }
     ],
     "prompt_number": 98
    },
    {
     "cell_type": "code",
     "collapsed": false,
     "input": [
      "unigramT = ObjectId('535d1d3d504b2e014066b0b1')"
     ],
     "language": "python",
     "metadata": {},
     "outputs": [],
     "prompt_number": 101
    },
    {
     "cell_type": "code",
     "collapsed": false,
     "input": [
      "from bson.objectid import ObjectId"
     ],
     "language": "python",
     "metadata": {},
     "outputs": [],
     "prompt_number": 100
    },
    {
     "cell_type": "code",
     "collapsed": false,
     "input": [
      "ms.userId"
     ],
     "language": "python",
     "metadata": {},
     "outputs": [
      {
       "metadata": {},
       "output_type": "pyout",
       "prompt_number": 102,
       "text": [
        "'xumiao'"
       ]
      }
     ],
     "prompt_number": 102
    },
    {
     "cell_type": "code",
     "collapsed": false,
     "input": [
      "posT = ms.add_turtle({\n",
      "  \"description\" : \"extract POS tokens from fields\",\n",
      "  \"monkType\" : \"POSTurtle\",\n",
      "  \"name\" : \"POS\"\n",
      "})"
     ],
     "language": "python",
     "metadata": {},
     "outputs": [
      {
       "output_type": "stream",
       "stream": "stdout",
       "text": [
        "[monk.turtle ][INFO    ][320] : turtle POS will use all features seen\n"
       ]
      }
     ],
     "prompt_number": 104
    },
    {
     "cell_type": "code",
     "collapsed": false,
     "input": [
      "posT"
     ],
     "language": "python",
     "metadata": {},
     "outputs": [
      {
       "metadata": {},
       "output_type": "pyout",
       "prompt_number": 105,
       "text": [
        "ObjectId('535d1dd0504b2e014066b0b3')"
       ]
      }
     ],
     "prompt_number": 105
    },
    {
     "cell_type": "code",
     "collapsed": false,
     "input": [
      "stemT = ms.add_turtle({\n",
      "  \"description\" : \"extract stemmed tokens from fields\",\n",
      "  \"monkType\" : \"StemTurtle\",\n",
      "  \"name\" : \"stem\"\n",
      "})"
     ],
     "language": "python",
     "metadata": {},
     "outputs": [
      {
       "output_type": "stream",
       "stream": "stdout",
       "text": [
        "[monk.turtle ][INFO    ][320] : turtle stem will use all features seen\n"
       ]
      }
     ],
     "prompt_number": 106
    },
    {
     "cell_type": "code",
     "collapsed": false,
     "input": [
      "stemT"
     ],
     "language": "python",
     "metadata": {},
     "outputs": [
      {
       "metadata": {},
       "output_type": "pyout",
       "prompt_number": 107,
       "text": [
        "ObjectId('535d1e19504b2e014066b0b5')"
       ]
      }
     ],
     "prompt_number": 107
    },
    {
     "cell_type": "code",
     "collapsed": false,
     "input": [
      "reload(ms)"
     ],
     "language": "python",
     "metadata": {},
     "outputs": [
      {
       "metadata": {},
       "output_type": "pyout",
       "prompt_number": 108,
       "text": [
        "<module 'monk.roles.scientist' from 'monk\\roles\\scientist.py'>"
       ]
      }
     ],
     "prompt_number": 108
    },
    {
     "cell_type": "code",
     "collapsed": false,
     "input": [
      "act = ms.monkapi.load_entities(None,collectionName='activities')"
     ],
     "language": "python",
     "metadata": {},
     "outputs": [],
     "prompt_number": 273
    },
    {
     "cell_type": "code",
     "collapsed": false,
     "input": [
      "len(act)"
     ],
     "language": "python",
     "metadata": {},
     "outputs": [
      {
       "metadata": {},
       "output_type": "pyout",
       "prompt_number": 265,
       "text": [
        "100"
       ]
      }
     ],
     "prompt_number": 265
    },
    {
     "cell_type": "code",
     "collapsed": false,
     "input": [
      "reload(ms)"
     ],
     "language": "python",
     "metadata": {},
     "outputs": [
      {
       "metadata": {},
       "output_type": "pyout",
       "prompt_number": 271,
       "text": [
        "<module 'monk.roles.scientist' from 'monk\\roles\\scientist.pyc'>"
       ]
      }
     ],
     "prompt_number": 271
    },
    {
     "cell_type": "code",
     "collapsed": false,
     "input": [
      "ms.reloads()"
     ],
     "language": "python",
     "metadata": {},
     "outputs": [
      {
       "output_type": "stream",
       "stream": "stdout",
       "text": [
        "[monk.api    ][INFO    ][320] : ------end-----------\n"
       ]
      },
      {
       "output_type": "stream",
       "stream": "stdout",
       "text": [
        "[monk.api    ][INFO    ][320] : ------start up------\n"
       ]
      },
      {
       "output_type": "stream",
       "stream": "stdout",
       "text": [
        "[monk.uid    ][INFO    ][320] : initializing uid store\n"
       ]
      },
      {
       "output_type": "stream",
       "stream": "stdout",
       "text": [
        "[monk.crane  ][INFO    ][320] : initializing EntityStore \n"
       ]
      },
      {
       "output_type": "stream",
       "stream": "stdout",
       "text": [
        "[monk.crane  ][INFO    ][320] : initializing PandaStore \n"
       ]
      },
      {
       "output_type": "stream",
       "stream": "stdout",
       "text": [
        "[monk.crane  ][INFO    ][320] : initializing MantisStore \n"
       ]
      },
      {
       "output_type": "stream",
       "stream": "stdout",
       "text": [
        "[monk.crane  ][INFO    ][320] : initializing TurtleStore \n"
       ]
      },
      {
       "output_type": "stream",
       "stream": "stdout",
       "text": [
        "[monk.crane  ][INFO    ][320] : initializing TigressStore \n"
       ]
      }
     ],
     "prompt_number": 272
    },
    {
     "cell_type": "code",
     "collapsed": false,
     "input": [
      "ms.login('xumiao')"
     ],
     "language": "python",
     "metadata": {},
     "outputs": [],
     "prompt_number": 259
    },
    {
     "cell_type": "code",
     "collapsed": false,
     "input": [
      "ents = ms.execute(stemT, [act[0]], ['title', 'reviews', 'tag','description'],'activities')"
     ],
     "language": "python",
     "metadata": {},
     "outputs": [
      {
       "output_type": "stream",
       "stream": "stdout",
       "text": [
        "[monk.turtle ][INFO    ][320] : turtle stem will use all features seen\n"
       ]
      },
      {
       "output_type": "stream",
       "stream": "stdout",
       "text": [
        "[monk.turtle ][DEBUG   ][320] : [u'Theo Chocolate.', u'Fun tour, not too long and right i... Worth the wait and price.', u'Shopping Shopping Factory Tours  Specialty Shops. ']\n"
       ]
      },
      {
       "output_type": "stream",
       "stream": "stdout",
       "text": [
        "[monk.turtle ][DEBUG   ][320] : theo shop right chocol specialti price , long factori tour fun worth wait\n"
       ]
      },
      {
       "output_type": "stream",
       "stream": "stdout",
       "text": [
        "[monk.crane  ][DEBUG   ][320] : new panda theo\n"
       ]
      },
      {
       "output_type": "stream",
       "stream": "stdout",
       "text": [
        "[monk.crane  ][DEBUG   ][320] : new panda right\n"
       ]
      },
      {
       "output_type": "stream",
       "stream": "stdout",
       "text": [
        "[monk.crane  ][DEBUG   ][320] : new panda chocol\n"
       ]
      },
      {
       "output_type": "stream",
       "stream": "stdout",
       "text": [
        "[monk.crane  ][DEBUG   ][320] : new panda specialti\n"
       ]
      },
      {
       "output_type": "stream",
       "stream": "stdout",
       "text": [
        "[monk.crane  ][DEBUG   ][320] : new panda price\n"
       ]
      },
      {
       "output_type": "stream",
       "stream": "stdout",
       "text": [
        "[monk.crane  ][DEBUG   ][320] : new panda long\n"
       ]
      },
      {
       "output_type": "stream",
       "stream": "stdout",
       "text": [
        "[monk.crane  ][DEBUG   ][320] : new panda factori\n"
       ]
      },
      {
       "output_type": "stream",
       "stream": "stdout",
       "text": [
        "[monk.crane  ][DEBUG   ][320] : new panda tour\n"
       ]
      },
      {
       "output_type": "stream",
       "stream": "stdout",
       "text": [
        "[monk.crane  ][DEBUG   ][320] : new panda fun\n"
       ]
      },
      {
       "output_type": "stream",
       "stream": "stdout",
       "text": [
        "[monk.crane  ][DEBUG   ][320] : new panda worth\n"
       ]
      },
      {
       "output_type": "stream",
       "stream": "stdout",
       "text": [
        "[monk.crane  ][DEBUG   ][320] : new panda wait\n"
       ]
      }
     ],
     "prompt_number": 275
    },
    {
     "cell_type": "code",
     "collapsed": false,
     "input": [
      "type(act[0])"
     ],
     "language": "python",
     "metadata": {},
     "outputs": [
      {
       "metadata": {},
       "output_type": "pyout",
       "prompt_number": 268,
       "text": [
        "monk.core.entity.Entity"
       ]
      }
     ],
     "prompt_number": 268
    },
    {
     "cell_type": "code",
     "collapsed": false,
     "input": [
      "act[0].generic()"
     ],
     "language": "python",
     "metadata": {},
     "outputs": [
      {
       "metadata": {},
       "output_type": "pyout",
       "prompt_number": 282,
       "text": [
        "{'_features': [(196619L, 1.0),\n",
        "  (202753L, 1.0),\n",
        "  (209921L, 1.0),\n",
        "  (209923L, 1.0),\n",
        "  (209924L, 1.0),\n",
        "  (209925L, 1.0),\n",
        "  (209926L, 1.0),\n",
        "  (209928L, 1.0),\n",
        "  (209929L, 1.0),\n",
        "  (209930L, 1.0),\n",
        "  (209931L, 1.0),\n",
        "  (209932L, 1.0),\n",
        "  (209933L, 1.0)],\n",
        " '_raws': {u',': 1,\n",
        "  u'chocol': 1,\n",
        "  u'factori': 1,\n",
        "  u'fun': 1,\n",
        "  u'long': 1,\n",
        "  u'price': 1,\n",
        "  u'right': 1,\n",
        "  u'shop': 1,\n",
        "  u'specialti': 1,\n",
        "  u'theo': 1,\n",
        "  u'tour': 1,\n",
        "  u'wait': 1,\n",
        "  u'worth': 1},\n",
        " u'addr': {u'google_geo': {u'results': [{u'address_components': [{u'long_name': u'3400',\n",
        "       u'short_name': u'3400',\n",
        "       u'types': [u'street_number']},\n",
        "      {u'long_name': u'Phinney Avenue North',\n",
        "       u'short_name': u'Phinney Ave N',\n",
        "       u'types': [u'route']},\n",
        "      {u'long_name': u'Fremont',\n",
        "       u'short_name': u'Fremont',\n",
        "       u'types': [u'neighborhood', u'political']},\n",
        "      {u'long_name': u'Seattle',\n",
        "       u'short_name': u'Seattle',\n",
        "       u'types': [u'locality', u'political']},\n",
        "      {u'long_name': u'King County',\n",
        "       u'short_name': u'King County',\n",
        "       u'types': [u'administrative_area_level_2', u'political']},\n",
        "      {u'long_name': u'Washington',\n",
        "       u'short_name': u'WA',\n",
        "       u'types': [u'administrative_area_level_1', u'political']},\n",
        "      {u'long_name': u'United States',\n",
        "       u'short_name': u'US',\n",
        "       u'types': [u'country', u'political']},\n",
        "      {u'long_name': u'98103',\n",
        "       u'short_name': u'98103',\n",
        "       u'types': [u'postal_code']}],\n",
        "     u'formatted_address': u'3400 Phinney Avenue North, Seattle, WA 98103, USA',\n",
        "     u'geometry': {u'location': {u'lat': 47.65088, u'lng': -122.354102},\n",
        "      u'location_type': u'ROOFTOP',\n",
        "      u'viewport': {u'northeast': {u'lat': 47.6522289802915,\n",
        "        u'lng': -122.3527530197085},\n",
        "       u'southwest': {u'lat': 47.6495310197085, u'lng': -122.3554509802915}}},\n",
        "     u'types': [u'street_address']}],\n",
        "   u'status': u'OK'},\n",
        "  u'locality': u'Seattle',\n",
        "  u'region': u'WA',\n",
        "  u'street': u'3400 Phinney Ave N.'},\n",
        " 'createdTime': datetime.datetime(2014, 4, 27, 12, 47, 46, 896000),\n",
        " 'creator': 'monk',\n",
        " 'lastModified': datetime.datetime(2014, 4, 27, 12, 50, 18, 570000),\n",
        " u'monkType': 'Entity',\n",
        " u'photo_url': u'http://media-cdn.tripadvisor.com/media/photo-l/01/f2/14/39/cooling-the-chocolate.jpg',\n",
        " u'rank': {u'pos': 2, u'total': 101},\n",
        " u'rate': {u'max': u'5', u'score': u'4.5'},\n",
        " u'reviewCount': u'266',\n",
        " u'reviews': [u'Fun tour, not too long and right i...',\n",
        "  u'Worth the wait and price'],\n",
        " u'source_url': u'http://www.tripadvisor.com/Attractions-g60878-activities-c26-Seattle_Washington.html',\n",
        " u'tag': [u'Shopping', u'Shopping', u'Factory Tours', u' Specialty Shops'],\n",
        " u'target_url': u'http://www.tripadvisor.com/Attraction_Review-g60878-d1066510-Reviews-Theo_Chocolate-Seattle_Washington.html',\n",
        " u'title': u'Theo Chocolate'}"
       ]
      }
     ],
     "prompt_number": 282
    },
    {
     "cell_type": "code",
     "collapsed": false,
     "input": [
      "act[0].reviews"
     ],
     "language": "python",
     "metadata": {},
     "outputs": [
      {
       "metadata": {},
       "output_type": "pyout",
       "prompt_number": 284,
       "text": [
        "[u'Fun tour, not too long and right i...', u'Worth the wait and price']"
       ]
      }
     ],
     "prompt_number": 284
    },
    {
     "cell_type": "code",
     "collapsed": false,
     "input": [],
     "language": "python",
     "metadata": {},
     "outputs": []
    }
   ],
   "metadata": {}
  }
 ]
}